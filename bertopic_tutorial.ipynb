{
 "cells": [
  {
   "cell_type": "markdown",
   "metadata": {},
   "source": [
    "## 라이브러리 불러오기"
   ]
  },
  {
   "cell_type": "code",
   "execution_count": 51,
   "metadata": {},
   "outputs": [],
   "source": [
    "import pandas as pd\n",
    "import numpy as np\n",
    "from tqdm import tqdm\n",
    "import json\n",
    "import os\n",
    "import pickle\n",
    "from sklearn.feature_extraction.text import CountVectorizer\n",
    "from kiwipiepy import Kiwi\n",
    "from bertopic import BERTopic\n",
    "from umap import UMAP\n",
    "from wordcloud import WordCloud\n",
    "import matplotlib.pyplot as plt\n",
    "plt.rcParams['font.family'] ='Malgun Gothic'\n",
    "plt.rcParams['axes.unicode_minus'] =False"
   ]
  },
  {
   "cell_type": "markdown",
   "metadata": {},
   "source": [
    "## 데이터 불러오기"
   ]
  },
  {
   "cell_type": "code",
   "execution_count": 2,
   "metadata": {},
   "outputs": [],
   "source": [
    "data_path = './data/뉴스_크롤링.xlsx'\n",
    "df = pd.read_excel(data_path, index_col=False)"
   ]
  },
  {
   "cell_type": "code",
   "execution_count": 3,
   "metadata": {},
   "outputs": [
    {
     "data": {
      "text/html": [
       "<div>\n",
       "<style scoped>\n",
       "    .dataframe tbody tr th:only-of-type {\n",
       "        vertical-align: middle;\n",
       "    }\n",
       "\n",
       "    .dataframe tbody tr th {\n",
       "        vertical-align: top;\n",
       "    }\n",
       "\n",
       "    .dataframe thead th {\n",
       "        text-align: right;\n",
       "    }\n",
       "</style>\n",
       "<table border=\"1\" class=\"dataframe\">\n",
       "  <thead>\n",
       "    <tr style=\"text-align: right;\">\n",
       "      <th></th>\n",
       "      <th>Date</th>\n",
       "      <th>Title</th>\n",
       "      <th>Content</th>\n",
       "    </tr>\n",
       "  </thead>\n",
       "  <tbody>\n",
       "    <tr>\n",
       "      <th>0</th>\n",
       "      <td>2023-11-27</td>\n",
       "      <td>[사설] 생활권 침해 없는데 봉안당 불허···님비에 법원 제동</td>\n",
       "      <td>극단적인 지역이기주의에 지역 현안들이 발목이 잡혀있는 가운데 법원이 과도한 님비현상...</td>\n",
       "    </tr>\n",
       "    <tr>\n",
       "      <th>1</th>\n",
       "      <td>2023-11-27</td>\n",
       "      <td>[전남일보]기고·김정화&gt;지방소멸 대책 신안에 있다</td>\n",
       "      <td>김정화 신안군농업기술센터소장\\n김정화 소장\\n“바보야! 문제는 경제야!”(“It’s...</td>\n",
       "    </tr>\n",
       "    <tr>\n",
       "      <th>2</th>\n",
       "      <td>2023-11-27</td>\n",
       "      <td>“학생 수 감소했다면 학교용지비용 부담 필요 없어”</td>\n",
       "      <td>[KBS 광주]\\n취학 인구가 감소했는데도 학교용지부담금을 부과한 행정처분은 부당하...</td>\n",
       "    </tr>\n",
       "    <tr>\n",
       "      <th>3</th>\n",
       "      <td>2023-11-27</td>\n",
       "      <td>서삼석 예결위원장 “올해 전 부처가 증액 요구…특활비 무조건 삭감보다 투명성 제고”...</td>\n",
       "      <td>서삼석 국회 예산결산특별위원회 위원장이 17일 오후 서울 여의도 국회에서 헤럴드경제...</td>\n",
       "    </tr>\n",
       "    <tr>\n",
       "      <th>4</th>\n",
       "      <td>2023-11-27</td>\n",
       "      <td>경단녀서 꽃가게 사장님으로… \"지방은 기회의 공간\" [지방시대 지방영웅]</td>\n",
       "      <td>&lt;4&gt; 전남 목포 '두리하나 플라워' 임효백씨 아이 때문에 결심한 '지방살이'서 꿈...</td>\n",
       "    </tr>\n",
       "    <tr>\n",
       "      <th>...</th>\n",
       "      <td>...</td>\n",
       "      <td>...</td>\n",
       "      <td>...</td>\n",
       "    </tr>\n",
       "    <tr>\n",
       "      <th>4230</th>\n",
       "      <td>2021-01-03</td>\n",
       "      <td>'포스트 코로나 원년' 올해는 꼭 보여주고 싶 '소'</td>\n",
       "      <td>■미리보는 2021 3대 비엔날레\\n광주비엔날레에 전시되는 아나 마리아 밀란 작 '...</td>\n",
       "    </tr>\n",
       "    <tr>\n",
       "      <th>4231</th>\n",
       "      <td>2021-01-03</td>\n",
       "      <td>인사 종합</td>\n",
       "      <td>[인사]광주시\\n◇3급 전보△자치행정국장 김일융 △공무원교육원장 김애리 △서구 부구...</td>\n",
       "    </tr>\n",
       "    <tr>\n",
       "      <th>4232</th>\n",
       "      <td>2021-01-03</td>\n",
       "      <td>김종식 목포시장 \"호랑이눈·소 걸음으로 뚝심있게 계획 실행\"</td>\n",
       "      <td>김종식 목포시장1\\n김종식 목포시장은 신축년 새해를 맞아 시정 목표와 관련해 \"코로...</td>\n",
       "    </tr>\n",
       "    <tr>\n",
       "      <th>4233</th>\n",
       "      <td>2021-01-02</td>\n",
       "      <td>[신년사] 김종식 목포시장</td>\n",
       "      <td>김종식 목포시장\\n존경하는 시민 여러분! 그리고 동료 공직자 여러분! 2021년 새...</td>\n",
       "    </tr>\n",
       "    <tr>\n",
       "      <th>4234</th>\n",
       "      <td>2021-01-01</td>\n",
       "      <td>[포토] 노행식 국제로타리 3640지구 총재, 2021년에도 인류의 희망이 되는 봉...</td>\n",
       "      <td>효송 노행식 국제로타리 3640 지구 총재는 온라인으로 발표한 신년사를 통해 “20...</td>\n",
       "    </tr>\n",
       "  </tbody>\n",
       "</table>\n",
       "<p>4235 rows × 3 columns</p>\n",
       "</div>"
      ],
      "text/plain": [
       "           Date                                              Title  \\\n",
       "0    2023-11-27                 [사설] 생활권 침해 없는데 봉안당 불허···님비에 법원 제동   \n",
       "1    2023-11-27                        [전남일보]기고·김정화>지방소멸 대책 신안에 있다   \n",
       "2    2023-11-27                       “학생 수 감소했다면 학교용지비용 부담 필요 없어”   \n",
       "3    2023-11-27  서삼석 예결위원장 “올해 전 부처가 증액 요구…특활비 무조건 삭감보다 투명성 제고”...   \n",
       "4    2023-11-27           경단녀서 꽃가게 사장님으로… \"지방은 기회의 공간\" [지방시대 지방영웅]   \n",
       "...         ...                                                ...   \n",
       "4230 2021-01-03                      '포스트 코로나 원년' 올해는 꼭 보여주고 싶 '소'   \n",
       "4231 2021-01-03                                              인사 종합   \n",
       "4232 2021-01-03                  김종식 목포시장 \"호랑이눈·소 걸음으로 뚝심있게 계획 실행\"   \n",
       "4233 2021-01-02                                     [신년사] 김종식 목포시장   \n",
       "4234 2021-01-01  [포토] 노행식 국제로타리 3640지구 총재, 2021년에도 인류의 희망이 되는 봉...   \n",
       "\n",
       "                                                Content  \n",
       "0     극단적인 지역이기주의에 지역 현안들이 발목이 잡혀있는 가운데 법원이 과도한 님비현상...  \n",
       "1     김정화 신안군농업기술센터소장\\n김정화 소장\\n“바보야! 문제는 경제야!”(“It’s...  \n",
       "2     [KBS 광주]\\n취학 인구가 감소했는데도 학교용지부담금을 부과한 행정처분은 부당하...  \n",
       "3     서삼석 국회 예산결산특별위원회 위원장이 17일 오후 서울 여의도 국회에서 헤럴드경제...  \n",
       "4     <4> 전남 목포 '두리하나 플라워' 임효백씨 아이 때문에 결심한 '지방살이'서 꿈...  \n",
       "...                                                 ...  \n",
       "4230  ■미리보는 2021 3대 비엔날레\\n광주비엔날레에 전시되는 아나 마리아 밀란 작 '...  \n",
       "4231  [인사]광주시\\n◇3급 전보△자치행정국장 김일융 △공무원교육원장 김애리 △서구 부구...  \n",
       "4232  김종식 목포시장1\\n김종식 목포시장은 신축년 새해를 맞아 시정 목표와 관련해 \"코로...  \n",
       "4233  김종식 목포시장\\n존경하는 시민 여러분! 그리고 동료 공직자 여러분! 2021년 새...  \n",
       "4234  효송 노행식 국제로타리 3640 지구 총재는 온라인으로 발표한 신년사를 통해 “20...  \n",
       "\n",
       "[4235 rows x 3 columns]"
      ]
     },
     "execution_count": 3,
     "metadata": {},
     "output_type": "execute_result"
    }
   ],
   "source": [
    "df"
   ]
  },
  {
   "cell_type": "markdown",
   "metadata": {},
   "source": [
    "## 사용할 토크나이저 생성\n",
    "- 한국어 형태소분석기인 kiwi 사용"
   ]
  },
  {
   "cell_type": "code",
   "execution_count": 4,
   "metadata": {},
   "outputs": [],
   "source": [
    "class MyTokenizer:\n",
    "    def __init__(self, kiwi):\n",
    "        self.kiwi = kiwi\n",
    "    def __call__(self, text):\n",
    "        result = list()\n",
    "        for token in self.kiwi.tokenize(text):\n",
    "            if token[1] in [\"NNG\", \"NNP\", \"NNB\", \"NR\", \"NP\"] and int(token[3]) > 1:\n",
    "                result.append(token[0])\n",
    "        return result\n",
    "    \n",
    "mytokenizer = MyTokenizer(Kiwi())"
   ]
  },
  {
   "cell_type": "markdown",
   "metadata": {},
   "source": [
    "## 단어 행렬 생성\n",
    "- 불용어 불러오기"
   ]
  },
  {
   "cell_type": "code",
   "execution_count": 5,
   "metadata": {},
   "outputs": [],
   "source": [
    "with open('./stopwords.txt', encoding= 'utf-8') as f:\n",
    "    stopwords = []\n",
    "    for w in f:\n",
    "        stopwords.append(w.strip())\n",
    "\n",
    "vectorizer =  CountVectorizer(tokenizer=mytokenizer, max_features=300, stop_words=stopwords)"
   ]
  },
  {
   "cell_type": "markdown",
   "metadata": {},
   "source": [
    "## Bertopic parameters\n",
    "- https://maartengr.github.io/BERTopic/api/bertopic.html#bertopic._bertopic.BERTopic"
   ]
  },
  {
   "cell_type": "code",
   "execution_count": 17,
   "metadata": {},
   "outputs": [],
   "source": [
    "umap_model = UMAP(n_neighbors=15, n_components=5,\n",
    "                  min_dist=0.0, metric='cosine', random_state=42)\n",
    "model = BERTopic(embedding_model=\"paraphrase-multilingual-MiniLM-L12-v2\",\n",
    "                 umap_model=umap_model,\n",
    "                 vectorizer_model=vectorizer,\n",
    "                 nr_topics=11,\n",
    "                 top_n_words=10,\n",
    "                 calculate_probabilities=True)"
   ]
  },
  {
   "cell_type": "markdown",
   "metadata": {},
   "source": [
    "## BERTopic 실행\n",
    "- fit: Bert, UMAP, HDBSCAN를 주어진 document에 맞추기\n",
    "- fit_transform: 모델 맞추기, 토픽 생성, 문서별 확률 및 토픽 반환을 한번에 진행"
   ]
  },
  {
   "cell_type": "code",
   "execution_count": 18,
   "metadata": {},
   "outputs": [],
   "source": [
    "topics, probs = model.fit_transform(df['Content'])"
   ]
  },
  {
   "cell_type": "markdown",
   "metadata": {},
   "source": [
    "## 토픽별 단어 확인"
   ]
  },
  {
   "cell_type": "code",
   "execution_count": 19,
   "metadata": {},
   "outputs": [
    {
     "data": {
      "text/plain": [
       "[('교육', 0.0563234087979481),\n",
       " ('학교', 0.03192209146222924),\n",
       " ('학생', 0.029959475822037694),\n",
       " ('청년', 0.028565002202385087),\n",
       " ('제공', 0.0284698881171688),\n",
       " ('시설', 0.026888763762623474),\n",
       " ('조성', 0.026417457699957212),\n",
       " ('계획', 0.02637745233564891),\n",
       " ('대상', 0.026347561801621337),\n",
       " ('운영', 0.025443800420156062)]"
      ]
     },
     "execution_count": 19,
     "metadata": {},
     "output_type": "execute_result"
    }
   ],
   "source": [
    "model.get_topic(0)"
   ]
  },
  {
   "cell_type": "markdown",
   "metadata": {},
   "source": [
    "## 전체 토픽 확인"
   ]
  },
  {
   "cell_type": "code",
   "execution_count": 20,
   "metadata": {},
   "outputs": [
    {
     "data": {
      "text/html": [
       "<div>\n",
       "<style scoped>\n",
       "    .dataframe tbody tr th:only-of-type {\n",
       "        vertical-align: middle;\n",
       "    }\n",
       "\n",
       "    .dataframe tbody tr th {\n",
       "        vertical-align: top;\n",
       "    }\n",
       "\n",
       "    .dataframe thead th {\n",
       "        text-align: right;\n",
       "    }\n",
       "</style>\n",
       "<table border=\"1\" class=\"dataframe\">\n",
       "  <thead>\n",
       "    <tr style=\"text-align: right;\">\n",
       "      <th></th>\n",
       "      <th>Topic</th>\n",
       "      <th>Count</th>\n",
       "      <th>Name</th>\n",
       "      <th>Representation</th>\n",
       "      <th>Representative_Docs</th>\n",
       "    </tr>\n",
       "  </thead>\n",
       "  <tbody>\n",
       "    <tr>\n",
       "      <th>0</th>\n",
       "      <td>-1</td>\n",
       "      <td>1552</td>\n",
       "      <td>-1_교육_주민_운영_추진</td>\n",
       "      <td>[교육, 주민, 운영, 추진, 센터, 학교, 청년, 사회, 진행, 전국]</td>\n",
       "      <td>[다자간 MOU 체결… 민·관 상호협력체계 구축\\n왼쪽부터 CJ올리브네트웍스 차인혁...</td>\n",
       "    </tr>\n",
       "    <tr>\n",
       "      <th>1</th>\n",
       "      <td>0</td>\n",
       "      <td>906</td>\n",
       "      <td>0_교육_학교_학생_청년</td>\n",
       "      <td>[교육, 학교, 학생, 청년, 제공, 시설, 조성, 계획, 대상, 운영]</td>\n",
       "      <td>[1만2600명에 기초연금 지급\\n신안군, 노인층 위한 식사배달.\\n신안군은 65세...</td>\n",
       "    </tr>\n",
       "    <tr>\n",
       "      <th>2</th>\n",
       "      <td>1</td>\n",
       "      <td>562</td>\n",
       "      <td>1_도시_시민_추진_교육</td>\n",
       "      <td>[도시, 시민, 추진, 교육, 청소년, 청년, 문학, 대학, 산업, 운영]</td>\n",
       "      <td>[18일 목포시의회 임시회 민선8기 첫 시정연설\\n박홍률 목포시장이 18일 제377...</td>\n",
       "    </tr>\n",
       "    <tr>\n",
       "      <th>3</th>\n",
       "      <td>2</td>\n",
       "      <td>338</td>\n",
       "      <td>2_후보_농협_선거_지방</td>\n",
       "      <td>[후보, 농협, 선거, 지방, 산업, 발전, 대표, 교육, 농업, 군수]</td>\n",
       "      <td>[민선 7기 3주년 인터뷰…소회와 앞으로의 계획 밝혀\\n김산 무안군수가 기자의 질문...</td>\n",
       "    </tr>\n",
       "    <tr>\n",
       "      <th>4</th>\n",
       "      <td>3</td>\n",
       "      <td>275</td>\n",
       "      <td>3_갯벌_해양_생물_환경</td>\n",
       "      <td>[갯벌, 해양, 생물, 환경, 자원, 에너지, 생태, 세계, 유산, 양식]</td>\n",
       "      <td>[한국의 갯벌 전경. 해수부 제공\\n◆‘갯벌 세계자연유산 보전본부’, 전남 신안에 ...</td>\n",
       "    </tr>\n",
       "    <tr>\n",
       "      <th>5</th>\n",
       "      <td>4</td>\n",
       "      <td>140</td>\n",
       "      <td>4_관광_세계_마을_홍어</td>\n",
       "      <td>[관광, 세계, 마을, 홍어, 축제, 갯벌, 전시, 체험, 우수, 프로그램]</td>\n",
       "      <td>[유엔세계관광기구는 2일 스페인 마드리드에서 총회를 열고 ‘유엔 세계 최우수 관광마...</td>\n",
       "    </tr>\n",
       "    <tr>\n",
       "      <th>6</th>\n",
       "      <td>5</td>\n",
       "      <td>137</td>\n",
       "      <td>5_지방_예산_소멸_인구</td>\n",
       "      <td>[지방, 예산, 소멸, 인구, 재단, 지자체, 감소, 계획, 인재, 대응]</td>\n",
       "      <td>[2년간 국비 210억 원 등 총 329억 원 확보\\n\\n\\n【파이낸셜뉴스 신안=황...</td>\n",
       "    </tr>\n",
       "    <tr>\n",
       "      <th>7</th>\n",
       "      <td>6</td>\n",
       "      <td>125</td>\n",
       "      <td>6_안전_점검_해양_학교</td>\n",
       "      <td>[안전, 점검, 해양, 학교, 발생, 조사, 오전, 현장, 병원, 시설]</td>\n",
       "      <td>[[무안=아시아경제 호남취재본부 윤자민 기자] 전남도가 이태원 참사 수습을 위한 예...</td>\n",
       "    </tr>\n",
       "    <tr>\n",
       "      <th>8</th>\n",
       "      <td>7</td>\n",
       "      <td>124</td>\n",
       "      <td>7_인구_청년_감소_코로나</td>\n",
       "      <td>[인구, 청년, 감소, 코로나, 수도, 전국, 병원, 발생, 소멸, 증가]</td>\n",
       "      <td>[목포시가 인구 감소 추세에 대응하고 인구 증가를 위해 분야별 대책 추진에 총력을 ...</td>\n",
       "    </tr>\n",
       "    <tr>\n",
       "      <th>9</th>\n",
       "      <td>8</td>\n",
       "      <td>61</td>\n",
       "      <td>8_근로자_인권_일자리_고용</td>\n",
       "      <td>[근로자, 인권, 일자리, 고용, 조사, 기간, 공공, 기관, 농가, 관련]</td>\n",
       "      <td>[무안군과 필리핀 실랑시의 외국인 계절근로자 업무협약에 따라 최근 계절근로자 프로그...</td>\n",
       "    </tr>\n",
       "    <tr>\n",
       "      <th>10</th>\n",
       "      <td>9</td>\n",
       "      <td>15</td>\n",
       "      <td>9_장애인_체험_센터_예산</td>\n",
       "      <td>[장애인, 체험, 센터, 예산, 설립, 학생, 공모, 활용, 체육, 조성]</td>\n",
       "      <td>[이상일 용인시장.\\n[헤럴드경제(용인)=박정규 기자]용인특례시(시장 이상일)가 대...</td>\n",
       "    </tr>\n",
       "  </tbody>\n",
       "</table>\n",
       "</div>"
      ],
      "text/plain": [
       "    Topic  Count             Name                              Representation  \\\n",
       "0      -1   1552   -1_교육_주민_운영_추진    [교육, 주민, 운영, 추진, 센터, 학교, 청년, 사회, 진행, 전국]   \n",
       "1       0    906    0_교육_학교_학생_청년    [교육, 학교, 학생, 청년, 제공, 시설, 조성, 계획, 대상, 운영]   \n",
       "2       1    562    1_도시_시민_추진_교육   [도시, 시민, 추진, 교육, 청소년, 청년, 문학, 대학, 산업, 운영]   \n",
       "3       2    338    2_후보_농협_선거_지방    [후보, 농협, 선거, 지방, 산업, 발전, 대표, 교육, 농업, 군수]   \n",
       "4       3    275    3_갯벌_해양_생물_환경   [갯벌, 해양, 생물, 환경, 자원, 에너지, 생태, 세계, 유산, 양식]   \n",
       "5       4    140    4_관광_세계_마을_홍어  [관광, 세계, 마을, 홍어, 축제, 갯벌, 전시, 체험, 우수, 프로그램]   \n",
       "6       5    137    5_지방_예산_소멸_인구   [지방, 예산, 소멸, 인구, 재단, 지자체, 감소, 계획, 인재, 대응]   \n",
       "7       6    125    6_안전_점검_해양_학교    [안전, 점검, 해양, 학교, 발생, 조사, 오전, 현장, 병원, 시설]   \n",
       "8       7    124   7_인구_청년_감소_코로나   [인구, 청년, 감소, 코로나, 수도, 전국, 병원, 발생, 소멸, 증가]   \n",
       "9       8     61  8_근로자_인권_일자리_고용  [근로자, 인권, 일자리, 고용, 조사, 기간, 공공, 기관, 농가, 관련]   \n",
       "10      9     15   9_장애인_체험_센터_예산   [장애인, 체험, 센터, 예산, 설립, 학생, 공모, 활용, 체육, 조성]   \n",
       "\n",
       "                                  Representative_Docs  \n",
       "0   [다자간 MOU 체결… 민·관 상호협력체계 구축\\n왼쪽부터 CJ올리브네트웍스 차인혁...  \n",
       "1   [1만2600명에 기초연금 지급\\n신안군, 노인층 위한 식사배달.\\n신안군은 65세...  \n",
       "2   [18일 목포시의회 임시회 민선8기 첫 시정연설\\n박홍률 목포시장이 18일 제377...  \n",
       "3   [민선 7기 3주년 인터뷰…소회와 앞으로의 계획 밝혀\\n김산 무안군수가 기자의 질문...  \n",
       "4   [한국의 갯벌 전경. 해수부 제공\\n◆‘갯벌 세계자연유산 보전본부’, 전남 신안에 ...  \n",
       "5   [유엔세계관광기구는 2일 스페인 마드리드에서 총회를 열고 ‘유엔 세계 최우수 관광마...  \n",
       "6   [2년간 국비 210억 원 등 총 329억 원 확보\\n\\n\\n【파이낸셜뉴스 신안=황...  \n",
       "7   [[무안=아시아경제 호남취재본부 윤자민 기자] 전남도가 이태원 참사 수습을 위한 예...  \n",
       "8   [목포시가 인구 감소 추세에 대응하고 인구 증가를 위해 분야별 대책 추진에 총력을 ...  \n",
       "9   [무안군과 필리핀 실랑시의 외국인 계절근로자 업무협약에 따라 최근 계절근로자 프로그...  \n",
       "10  [이상일 용인시장.\\n[헤럴드경제(용인)=박정규 기자]용인특례시(시장 이상일)가 대...  "
      ]
     },
     "execution_count": 20,
     "metadata": {},
     "output_type": "execute_result"
    }
   ],
   "source": [
    "model.get_topic_info()"
   ]
  },
  {
   "cell_type": "markdown",
   "metadata": {},
   "source": [
    "## 토픽 병합"
   ]
  },
  {
   "cell_type": "code",
   "execution_count": 11,
   "metadata": {},
   "outputs": [],
   "source": [
    "topics_to_merge = [3, 4]\n",
    "model.merge_topics(df['Content'], topics_to_merge)"
   ]
  },
  {
   "cell_type": "code",
   "execution_count": null,
   "metadata": {},
   "outputs": [],
   "source": [
    "model.get_topic_info()"
   ]
  },
  {
   "cell_type": "markdown",
   "metadata": {},
   "source": [
    "## 토픽 클러스터링 시각화"
   ]
  },
  {
   "cell_type": "code",
   "execution_count": 21,
   "metadata": {},
   "outputs": [
    {
     "data": {
      "application/vnd.plotly.v1+json": {
       "config": {
        "plotlyServerURL": "https://plot.ly"
       },
       "data": [
        {
         "customdata": [
          [
           0,
           "교육 | 학교 | 학생 | 청년 | 제공",
           906
          ],
          [
           1,
           "도시 | 시민 | 추진 | 교육 | 청소년",
           562
          ],
          [
           2,
           "후보 | 농협 | 선거 | 지방 | 산업",
           338
          ],
          [
           3,
           "갯벌 | 해양 | 생물 | 환경 | 자원",
           275
          ],
          [
           4,
           "관광 | 세계 | 마을 | 홍어 | 축제",
           140
          ],
          [
           5,
           "지방 | 예산 | 소멸 | 인구 | 재단",
           137
          ],
          [
           6,
           "안전 | 점검 | 해양 | 학교 | 발생",
           125
          ],
          [
           7,
           "인구 | 청년 | 감소 | 코로나 | 수도",
           124
          ],
          [
           8,
           "근로자 | 인권 | 일자리 | 고용 | 조사",
           61
          ],
          [
           9,
           "장애인 | 체험 | 센터 | 예산 | 설립",
           15
          ]
         ],
         "hovertemplate": "<b>Topic %{customdata[0]}</b><br>%{customdata[1]}<br>Size: %{customdata[2]}",
         "legendgroup": "",
         "marker": {
          "color": "#B0BEC5",
          "line": {
           "color": "DarkSlateGrey",
           "width": 2
          },
          "size": [
           906,
           562,
           338,
           275,
           140,
           137,
           125,
           124,
           61,
           15
          ],
          "sizemode": "area",
          "sizeref": 0.56625,
          "symbol": "circle"
         },
         "mode": "markers",
         "name": "",
         "orientation": "v",
         "showlegend": false,
         "type": "scatter",
         "x": [
          6.908857345581055,
          8.100494384765625,
          7.151160717010498,
          11.653335571289062,
          11.776402473449707,
          8.11236572265625,
          7.949601650238037,
          7.436101913452148,
          9.660797119140625,
          12.952080726623535
         ],
         "xaxis": "x",
         "y": [
          -5.948073387145996,
          -6.269802093505859,
          -6.440133094787598,
          -7.635378837585449,
          -7.1225080490112305,
          -7.136223316192627,
          -5.181767463684082,
          -5.363790512084961,
          -6.073357582092285,
          -5.205692291259766
         ],
         "yaxis": "y"
        }
       ],
       "layout": {
        "annotations": [
         {
          "showarrow": false,
          "text": "D1",
          "x": 5.872528743743897,
          "y": -6.592594003677368,
          "yshift": 10
         },
         {
          "showarrow": false,
          "text": "D2",
          "x": 10.383710789680482,
          "xshift": 10,
          "y": -4.40450234413147
         }
        ],
        "height": 650,
        "hoverlabel": {
         "bgcolor": "white",
         "font": {
          "family": "Rockwell",
          "size": 16
         }
        },
        "legend": {
         "itemsizing": "constant",
         "tracegroupgap": 0
        },
        "margin": {
         "t": 60
        },
        "shapes": [
         {
          "line": {
           "color": "#CFD8DC",
           "width": 2
          },
          "type": "line",
          "x0": 10.383710789680482,
          "x1": 10.383710789680482,
          "y0": -8.780685663223267,
          "y1": -4.40450234413147
         },
         {
          "line": {
           "color": "#9E9E9E",
           "width": 2
          },
          "type": "line",
          "x0": 5.872528743743897,
          "x1": 14.894892835617066,
          "y0": -6.592594003677368,
          "y1": -6.592594003677368
         }
        ],
        "sliders": [
         {
          "active": 0,
          "pad": {
           "t": 50
          },
          "steps": [
           {
            "args": [
             {
              "marker.color": [
               [
                "red",
                "#B0BEC5",
                "#B0BEC5",
                "#B0BEC5",
                "#B0BEC5",
                "#B0BEC5",
                "#B0BEC5",
                "#B0BEC5",
                "#B0BEC5",
                "#B0BEC5"
               ]
              ]
             }
            ],
            "label": "Topic 0",
            "method": "update"
           },
           {
            "args": [
             {
              "marker.color": [
               [
                "#B0BEC5",
                "red",
                "#B0BEC5",
                "#B0BEC5",
                "#B0BEC5",
                "#B0BEC5",
                "#B0BEC5",
                "#B0BEC5",
                "#B0BEC5",
                "#B0BEC5"
               ]
              ]
             }
            ],
            "label": "Topic 1",
            "method": "update"
           },
           {
            "args": [
             {
              "marker.color": [
               [
                "#B0BEC5",
                "#B0BEC5",
                "red",
                "#B0BEC5",
                "#B0BEC5",
                "#B0BEC5",
                "#B0BEC5",
                "#B0BEC5",
                "#B0BEC5",
                "#B0BEC5"
               ]
              ]
             }
            ],
            "label": "Topic 2",
            "method": "update"
           },
           {
            "args": [
             {
              "marker.color": [
               [
                "#B0BEC5",
                "#B0BEC5",
                "#B0BEC5",
                "red",
                "#B0BEC5",
                "#B0BEC5",
                "#B0BEC5",
                "#B0BEC5",
                "#B0BEC5",
                "#B0BEC5"
               ]
              ]
             }
            ],
            "label": "Topic 3",
            "method": "update"
           },
           {
            "args": [
             {
              "marker.color": [
               [
                "#B0BEC5",
                "#B0BEC5",
                "#B0BEC5",
                "#B0BEC5",
                "red",
                "#B0BEC5",
                "#B0BEC5",
                "#B0BEC5",
                "#B0BEC5",
                "#B0BEC5"
               ]
              ]
             }
            ],
            "label": "Topic 4",
            "method": "update"
           },
           {
            "args": [
             {
              "marker.color": [
               [
                "#B0BEC5",
                "#B0BEC5",
                "#B0BEC5",
                "#B0BEC5",
                "#B0BEC5",
                "red",
                "#B0BEC5",
                "#B0BEC5",
                "#B0BEC5",
                "#B0BEC5"
               ]
              ]
             }
            ],
            "label": "Topic 5",
            "method": "update"
           },
           {
            "args": [
             {
              "marker.color": [
               [
                "#B0BEC5",
                "#B0BEC5",
                "#B0BEC5",
                "#B0BEC5",
                "#B0BEC5",
                "#B0BEC5",
                "red",
                "#B0BEC5",
                "#B0BEC5",
                "#B0BEC5"
               ]
              ]
             }
            ],
            "label": "Topic 6",
            "method": "update"
           },
           {
            "args": [
             {
              "marker.color": [
               [
                "#B0BEC5",
                "#B0BEC5",
                "#B0BEC5",
                "#B0BEC5",
                "#B0BEC5",
                "#B0BEC5",
                "#B0BEC5",
                "red",
                "#B0BEC5",
                "#B0BEC5"
               ]
              ]
             }
            ],
            "label": "Topic 7",
            "method": "update"
           },
           {
            "args": [
             {
              "marker.color": [
               [
                "#B0BEC5",
                "#B0BEC5",
                "#B0BEC5",
                "#B0BEC5",
                "#B0BEC5",
                "#B0BEC5",
                "#B0BEC5",
                "#B0BEC5",
                "red",
                "#B0BEC5"
               ]
              ]
             }
            ],
            "label": "Topic 8",
            "method": "update"
           },
           {
            "args": [
             {
              "marker.color": [
               [
                "#B0BEC5",
                "#B0BEC5",
                "#B0BEC5",
                "#B0BEC5",
                "#B0BEC5",
                "#B0BEC5",
                "#B0BEC5",
                "#B0BEC5",
                "#B0BEC5",
                "red"
               ]
              ]
             }
            ],
            "label": "Topic 9",
            "method": "update"
           }
          ]
         }
        ],
        "template": {
         "data": {
          "bar": [
           {
            "error_x": {
             "color": "rgb(36,36,36)"
            },
            "error_y": {
             "color": "rgb(36,36,36)"
            },
            "marker": {
             "line": {
              "color": "white",
              "width": 0.5
             },
             "pattern": {
              "fillmode": "overlay",
              "size": 10,
              "solidity": 0.2
             }
            },
            "type": "bar"
           }
          ],
          "barpolar": [
           {
            "marker": {
             "line": {
              "color": "white",
              "width": 0.5
             },
             "pattern": {
              "fillmode": "overlay",
              "size": 10,
              "solidity": 0.2
             }
            },
            "type": "barpolar"
           }
          ],
          "carpet": [
           {
            "aaxis": {
             "endlinecolor": "rgb(36,36,36)",
             "gridcolor": "white",
             "linecolor": "white",
             "minorgridcolor": "white",
             "startlinecolor": "rgb(36,36,36)"
            },
            "baxis": {
             "endlinecolor": "rgb(36,36,36)",
             "gridcolor": "white",
             "linecolor": "white",
             "minorgridcolor": "white",
             "startlinecolor": "rgb(36,36,36)"
            },
            "type": "carpet"
           }
          ],
          "choropleth": [
           {
            "colorbar": {
             "outlinewidth": 1,
             "tickcolor": "rgb(36,36,36)",
             "ticks": "outside"
            },
            "type": "choropleth"
           }
          ],
          "contour": [
           {
            "colorbar": {
             "outlinewidth": 1,
             "tickcolor": "rgb(36,36,36)",
             "ticks": "outside"
            },
            "colorscale": [
             [
              0,
              "#440154"
             ],
             [
              0.1111111111111111,
              "#482878"
             ],
             [
              0.2222222222222222,
              "#3e4989"
             ],
             [
              0.3333333333333333,
              "#31688e"
             ],
             [
              0.4444444444444444,
              "#26828e"
             ],
             [
              0.5555555555555556,
              "#1f9e89"
             ],
             [
              0.6666666666666666,
              "#35b779"
             ],
             [
              0.7777777777777778,
              "#6ece58"
             ],
             [
              0.8888888888888888,
              "#b5de2b"
             ],
             [
              1,
              "#fde725"
             ]
            ],
            "type": "contour"
           }
          ],
          "contourcarpet": [
           {
            "colorbar": {
             "outlinewidth": 1,
             "tickcolor": "rgb(36,36,36)",
             "ticks": "outside"
            },
            "type": "contourcarpet"
           }
          ],
          "heatmap": [
           {
            "colorbar": {
             "outlinewidth": 1,
             "tickcolor": "rgb(36,36,36)",
             "ticks": "outside"
            },
            "colorscale": [
             [
              0,
              "#440154"
             ],
             [
              0.1111111111111111,
              "#482878"
             ],
             [
              0.2222222222222222,
              "#3e4989"
             ],
             [
              0.3333333333333333,
              "#31688e"
             ],
             [
              0.4444444444444444,
              "#26828e"
             ],
             [
              0.5555555555555556,
              "#1f9e89"
             ],
             [
              0.6666666666666666,
              "#35b779"
             ],
             [
              0.7777777777777778,
              "#6ece58"
             ],
             [
              0.8888888888888888,
              "#b5de2b"
             ],
             [
              1,
              "#fde725"
             ]
            ],
            "type": "heatmap"
           }
          ],
          "heatmapgl": [
           {
            "colorbar": {
             "outlinewidth": 1,
             "tickcolor": "rgb(36,36,36)",
             "ticks": "outside"
            },
            "colorscale": [
             [
              0,
              "#440154"
             ],
             [
              0.1111111111111111,
              "#482878"
             ],
             [
              0.2222222222222222,
              "#3e4989"
             ],
             [
              0.3333333333333333,
              "#31688e"
             ],
             [
              0.4444444444444444,
              "#26828e"
             ],
             [
              0.5555555555555556,
              "#1f9e89"
             ],
             [
              0.6666666666666666,
              "#35b779"
             ],
             [
              0.7777777777777778,
              "#6ece58"
             ],
             [
              0.8888888888888888,
              "#b5de2b"
             ],
             [
              1,
              "#fde725"
             ]
            ],
            "type": "heatmapgl"
           }
          ],
          "histogram": [
           {
            "marker": {
             "line": {
              "color": "white",
              "width": 0.6
             }
            },
            "type": "histogram"
           }
          ],
          "histogram2d": [
           {
            "colorbar": {
             "outlinewidth": 1,
             "tickcolor": "rgb(36,36,36)",
             "ticks": "outside"
            },
            "colorscale": [
             [
              0,
              "#440154"
             ],
             [
              0.1111111111111111,
              "#482878"
             ],
             [
              0.2222222222222222,
              "#3e4989"
             ],
             [
              0.3333333333333333,
              "#31688e"
             ],
             [
              0.4444444444444444,
              "#26828e"
             ],
             [
              0.5555555555555556,
              "#1f9e89"
             ],
             [
              0.6666666666666666,
              "#35b779"
             ],
             [
              0.7777777777777778,
              "#6ece58"
             ],
             [
              0.8888888888888888,
              "#b5de2b"
             ],
             [
              1,
              "#fde725"
             ]
            ],
            "type": "histogram2d"
           }
          ],
          "histogram2dcontour": [
           {
            "colorbar": {
             "outlinewidth": 1,
             "tickcolor": "rgb(36,36,36)",
             "ticks": "outside"
            },
            "colorscale": [
             [
              0,
              "#440154"
             ],
             [
              0.1111111111111111,
              "#482878"
             ],
             [
              0.2222222222222222,
              "#3e4989"
             ],
             [
              0.3333333333333333,
              "#31688e"
             ],
             [
              0.4444444444444444,
              "#26828e"
             ],
             [
              0.5555555555555556,
              "#1f9e89"
             ],
             [
              0.6666666666666666,
              "#35b779"
             ],
             [
              0.7777777777777778,
              "#6ece58"
             ],
             [
              0.8888888888888888,
              "#b5de2b"
             ],
             [
              1,
              "#fde725"
             ]
            ],
            "type": "histogram2dcontour"
           }
          ],
          "mesh3d": [
           {
            "colorbar": {
             "outlinewidth": 1,
             "tickcolor": "rgb(36,36,36)",
             "ticks": "outside"
            },
            "type": "mesh3d"
           }
          ],
          "parcoords": [
           {
            "line": {
             "colorbar": {
              "outlinewidth": 1,
              "tickcolor": "rgb(36,36,36)",
              "ticks": "outside"
             }
            },
            "type": "parcoords"
           }
          ],
          "pie": [
           {
            "automargin": true,
            "type": "pie"
           }
          ],
          "scatter": [
           {
            "fillpattern": {
             "fillmode": "overlay",
             "size": 10,
             "solidity": 0.2
            },
            "type": "scatter"
           }
          ],
          "scatter3d": [
           {
            "line": {
             "colorbar": {
              "outlinewidth": 1,
              "tickcolor": "rgb(36,36,36)",
              "ticks": "outside"
             }
            },
            "marker": {
             "colorbar": {
              "outlinewidth": 1,
              "tickcolor": "rgb(36,36,36)",
              "ticks": "outside"
             }
            },
            "type": "scatter3d"
           }
          ],
          "scattercarpet": [
           {
            "marker": {
             "colorbar": {
              "outlinewidth": 1,
              "tickcolor": "rgb(36,36,36)",
              "ticks": "outside"
             }
            },
            "type": "scattercarpet"
           }
          ],
          "scattergeo": [
           {
            "marker": {
             "colorbar": {
              "outlinewidth": 1,
              "tickcolor": "rgb(36,36,36)",
              "ticks": "outside"
             }
            },
            "type": "scattergeo"
           }
          ],
          "scattergl": [
           {
            "marker": {
             "colorbar": {
              "outlinewidth": 1,
              "tickcolor": "rgb(36,36,36)",
              "ticks": "outside"
             }
            },
            "type": "scattergl"
           }
          ],
          "scattermapbox": [
           {
            "marker": {
             "colorbar": {
              "outlinewidth": 1,
              "tickcolor": "rgb(36,36,36)",
              "ticks": "outside"
             }
            },
            "type": "scattermapbox"
           }
          ],
          "scatterpolar": [
           {
            "marker": {
             "colorbar": {
              "outlinewidth": 1,
              "tickcolor": "rgb(36,36,36)",
              "ticks": "outside"
             }
            },
            "type": "scatterpolar"
           }
          ],
          "scatterpolargl": [
           {
            "marker": {
             "colorbar": {
              "outlinewidth": 1,
              "tickcolor": "rgb(36,36,36)",
              "ticks": "outside"
             }
            },
            "type": "scatterpolargl"
           }
          ],
          "scatterternary": [
           {
            "marker": {
             "colorbar": {
              "outlinewidth": 1,
              "tickcolor": "rgb(36,36,36)",
              "ticks": "outside"
             }
            },
            "type": "scatterternary"
           }
          ],
          "surface": [
           {
            "colorbar": {
             "outlinewidth": 1,
             "tickcolor": "rgb(36,36,36)",
             "ticks": "outside"
            },
            "colorscale": [
             [
              0,
              "#440154"
             ],
             [
              0.1111111111111111,
              "#482878"
             ],
             [
              0.2222222222222222,
              "#3e4989"
             ],
             [
              0.3333333333333333,
              "#31688e"
             ],
             [
              0.4444444444444444,
              "#26828e"
             ],
             [
              0.5555555555555556,
              "#1f9e89"
             ],
             [
              0.6666666666666666,
              "#35b779"
             ],
             [
              0.7777777777777778,
              "#6ece58"
             ],
             [
              0.8888888888888888,
              "#b5de2b"
             ],
             [
              1,
              "#fde725"
             ]
            ],
            "type": "surface"
           }
          ],
          "table": [
           {
            "cells": {
             "fill": {
              "color": "rgb(237,237,237)"
             },
             "line": {
              "color": "white"
             }
            },
            "header": {
             "fill": {
              "color": "rgb(217,217,217)"
             },
             "line": {
              "color": "white"
             }
            },
            "type": "table"
           }
          ]
         },
         "layout": {
          "annotationdefaults": {
           "arrowhead": 0,
           "arrowwidth": 1
          },
          "autotypenumbers": "strict",
          "coloraxis": {
           "colorbar": {
            "outlinewidth": 1,
            "tickcolor": "rgb(36,36,36)",
            "ticks": "outside"
           }
          },
          "colorscale": {
           "diverging": [
            [
             0,
             "rgb(103,0,31)"
            ],
            [
             0.1,
             "rgb(178,24,43)"
            ],
            [
             0.2,
             "rgb(214,96,77)"
            ],
            [
             0.3,
             "rgb(244,165,130)"
            ],
            [
             0.4,
             "rgb(253,219,199)"
            ],
            [
             0.5,
             "rgb(247,247,247)"
            ],
            [
             0.6,
             "rgb(209,229,240)"
            ],
            [
             0.7,
             "rgb(146,197,222)"
            ],
            [
             0.8,
             "rgb(67,147,195)"
            ],
            [
             0.9,
             "rgb(33,102,172)"
            ],
            [
             1,
             "rgb(5,48,97)"
            ]
           ],
           "sequential": [
            [
             0,
             "#440154"
            ],
            [
             0.1111111111111111,
             "#482878"
            ],
            [
             0.2222222222222222,
             "#3e4989"
            ],
            [
             0.3333333333333333,
             "#31688e"
            ],
            [
             0.4444444444444444,
             "#26828e"
            ],
            [
             0.5555555555555556,
             "#1f9e89"
            ],
            [
             0.6666666666666666,
             "#35b779"
            ],
            [
             0.7777777777777778,
             "#6ece58"
            ],
            [
             0.8888888888888888,
             "#b5de2b"
            ],
            [
             1,
             "#fde725"
            ]
           ],
           "sequentialminus": [
            [
             0,
             "#440154"
            ],
            [
             0.1111111111111111,
             "#482878"
            ],
            [
             0.2222222222222222,
             "#3e4989"
            ],
            [
             0.3333333333333333,
             "#31688e"
            ],
            [
             0.4444444444444444,
             "#26828e"
            ],
            [
             0.5555555555555556,
             "#1f9e89"
            ],
            [
             0.6666666666666666,
             "#35b779"
            ],
            [
             0.7777777777777778,
             "#6ece58"
            ],
            [
             0.8888888888888888,
             "#b5de2b"
            ],
            [
             1,
             "#fde725"
            ]
           ]
          },
          "colorway": [
           "#1F77B4",
           "#FF7F0E",
           "#2CA02C",
           "#D62728",
           "#9467BD",
           "#8C564B",
           "#E377C2",
           "#7F7F7F",
           "#BCBD22",
           "#17BECF"
          ],
          "font": {
           "color": "rgb(36,36,36)"
          },
          "geo": {
           "bgcolor": "white",
           "lakecolor": "white",
           "landcolor": "white",
           "showlakes": true,
           "showland": true,
           "subunitcolor": "white"
          },
          "hoverlabel": {
           "align": "left"
          },
          "hovermode": "closest",
          "mapbox": {
           "style": "light"
          },
          "paper_bgcolor": "white",
          "plot_bgcolor": "white",
          "polar": {
           "angularaxis": {
            "gridcolor": "rgb(232,232,232)",
            "linecolor": "rgb(36,36,36)",
            "showgrid": false,
            "showline": true,
            "ticks": "outside"
           },
           "bgcolor": "white",
           "radialaxis": {
            "gridcolor": "rgb(232,232,232)",
            "linecolor": "rgb(36,36,36)",
            "showgrid": false,
            "showline": true,
            "ticks": "outside"
           }
          },
          "scene": {
           "xaxis": {
            "backgroundcolor": "white",
            "gridcolor": "rgb(232,232,232)",
            "gridwidth": 2,
            "linecolor": "rgb(36,36,36)",
            "showbackground": true,
            "showgrid": false,
            "showline": true,
            "ticks": "outside",
            "zeroline": false,
            "zerolinecolor": "rgb(36,36,36)"
           },
           "yaxis": {
            "backgroundcolor": "white",
            "gridcolor": "rgb(232,232,232)",
            "gridwidth": 2,
            "linecolor": "rgb(36,36,36)",
            "showbackground": true,
            "showgrid": false,
            "showline": true,
            "ticks": "outside",
            "zeroline": false,
            "zerolinecolor": "rgb(36,36,36)"
           },
           "zaxis": {
            "backgroundcolor": "white",
            "gridcolor": "rgb(232,232,232)",
            "gridwidth": 2,
            "linecolor": "rgb(36,36,36)",
            "showbackground": true,
            "showgrid": false,
            "showline": true,
            "ticks": "outside",
            "zeroline": false,
            "zerolinecolor": "rgb(36,36,36)"
           }
          },
          "shapedefaults": {
           "fillcolor": "black",
           "line": {
            "width": 0
           },
           "opacity": 0.3
          },
          "ternary": {
           "aaxis": {
            "gridcolor": "rgb(232,232,232)",
            "linecolor": "rgb(36,36,36)",
            "showgrid": false,
            "showline": true,
            "ticks": "outside"
           },
           "baxis": {
            "gridcolor": "rgb(232,232,232)",
            "linecolor": "rgb(36,36,36)",
            "showgrid": false,
            "showline": true,
            "ticks": "outside"
           },
           "bgcolor": "white",
           "caxis": {
            "gridcolor": "rgb(232,232,232)",
            "linecolor": "rgb(36,36,36)",
            "showgrid": false,
            "showline": true,
            "ticks": "outside"
           }
          },
          "title": {
           "x": 0.05
          },
          "xaxis": {
           "automargin": true,
           "gridcolor": "rgb(232,232,232)",
           "linecolor": "rgb(36,36,36)",
           "showgrid": false,
           "showline": true,
           "ticks": "outside",
           "title": {
            "standoff": 15
           },
           "zeroline": false,
           "zerolinecolor": "rgb(36,36,36)"
          },
          "yaxis": {
           "automargin": true,
           "gridcolor": "rgb(232,232,232)",
           "linecolor": "rgb(36,36,36)",
           "showgrid": false,
           "showline": true,
           "ticks": "outside",
           "title": {
            "standoff": 15
           },
           "zeroline": false,
           "zerolinecolor": "rgb(36,36,36)"
          }
         }
        },
        "title": {
         "font": {
          "color": "Black",
          "size": 22
         },
         "text": "<b>Intertopic Distance Map</b>",
         "x": 0.5,
         "xanchor": "center",
         "y": 0.95,
         "yanchor": "top"
        },
        "width": 650,
        "xaxis": {
         "anchor": "y",
         "domain": [
          0,
          1
         ],
         "range": [
          5.872528743743897,
          14.894892835617066
         ],
         "title": {
          "text": ""
         },
         "visible": false
        },
        "yaxis": {
         "anchor": "x",
         "domain": [
          0,
          1
         ],
         "range": [
          -8.780685663223267,
          -4.40450234413147
         ],
         "title": {
          "text": ""
         },
         "visible": false
        }
       }
      }
     },
     "metadata": {},
     "output_type": "display_data"
    }
   ],
   "source": [
    "model.visualize_topics(topics=list(range(10)))"
   ]
  },
  {
   "cell_type": "code",
   "execution_count": 30,
   "metadata": {},
   "outputs": [
    {
     "name": "stdout",
     "output_type": "stream",
     "text": [
      "0 번째 토픽 : [('교육', 0.0563234087979481), ('학교', 0.03192209146222924), ('학생', 0.029959475822037694), ('청년', 0.028565002202385087), ('제공', 0.0284698881171688), ('시설', 0.026888763762623474), ('조성', 0.026417457699957212), ('계획', 0.02637745233564891), ('대상', 0.026347561801621337), ('운영', 0.025443800420156062)]\n",
      "1 번째 토픽 : [('도시', 0.05230820930997778), ('시민', 0.04296787998655672), ('추진', 0.03628446906558567), ('교육', 0.033734213438951464), ('청소년', 0.03127557371028459), ('청년', 0.030780968386703737), ('문학', 0.030326661069215888), ('대학', 0.03003542731315398), ('산업', 0.02909337109449843), ('운영', 0.02883554234816563)]\n",
      "2 번째 토픽 : [('후보', 0.0650621869388063), ('농협', 0.0475427200000514), ('선거', 0.04559851656840974), ('지방', 0.036822504889615366), ('산업', 0.03642882546491723), ('발전', 0.03523252271290288), ('대표', 0.03236878869581346), ('교육', 0.031492157755363834), ('농업', 0.030920318349046075), ('군수', 0.02949512903297861)]\n",
      "3 번째 토픽 : [('갯벌', 0.07489838536519049), ('해양', 0.07177000675607), ('생물', 0.04969903125289971), ('환경', 0.045285712712544765), ('자원', 0.04027314905034619), ('에너지', 0.04019827853983407), ('생태', 0.04003120008594199), ('세계', 0.0378198269967035), ('유산', 0.037592856973347216), ('양식', 0.03324905867297553)]\n",
      "4 번째 토픽 : [('관광', 0.1284382762450186), ('세계', 0.08037242569424177), ('마을', 0.07501867260224429), ('홍어', 0.07256446905887508), ('축제', 0.06131804619570006), ('갯벌', 0.05754350966782274), ('전시', 0.05560087344014168), ('체험', 0.05187271831090509), ('우수', 0.051688560712154635), ('프로그램', 0.044497409454880045)]\n",
      "5 번째 토픽 : [('지방', 0.06891786000576727), ('예산', 0.06275317073454241), ('소멸', 0.054269807800500336), ('인구', 0.0514607921834835), ('재단', 0.05028273485363709), ('지자체', 0.04880783937175825), ('감소', 0.045849157616593535), ('계획', 0.04502290465047514), ('인재', 0.04453657411120698), ('대응', 0.04315777647223203)]\n",
      "6 번째 토픽 : [('안전', 0.1044125702058728), ('점검', 0.07828026668287213), ('해양', 0.0594291429766827), ('학교', 0.05407732500387641), ('발생', 0.0487974161891538), ('조사', 0.0434958300445856), ('오전', 0.0399454479514994), ('현장', 0.038482836046365966), ('병원', 0.037747836098974225), ('시설', 0.036860499906964043)]\n",
      "7 번째 토픽 : [('인구', 0.1449805591087332), ('청년', 0.07238705497114989), ('감소', 0.053755069392571624), ('코로나', 0.052975986677316955), ('수도', 0.05249227036909928), ('전국', 0.048707459747656646), ('병원', 0.046416873384926824), ('발생', 0.04468833970581698), ('소멸', 0.044459781313150024), ('증가', 0.04357675253949955)]\n",
      "8 번째 토픽 : [('근로자', 0.2478693181117415), ('인권', 0.08762433212783276), ('일자리', 0.08541102801883195), ('고용', 0.08364942196195692), ('조사', 0.05585357127060056), ('기간', 0.05388233839403715), ('공공', 0.044804076573015945), ('기관', 0.04354251589852059), ('농가', 0.04321234623061795), ('관련', 0.04262928244848162)]\n",
      "9 번째 토픽 : [('장애인', 0.3581182109761349), ('체험', 0.3185666321876711), ('센터', 0.31620269433041237), ('예산', 0.15932009336593697), ('설립', 0.0916215274804215), ('학생', 0.08912244184028974), ('공모', 0.07258706289823548), ('활용', 0.060629460383942034), ('체육', 0.05820959116100504), ('조성', 0.05444365186152568)]\n"
     ]
    }
   ],
   "source": [
    "for i in range(10):\n",
    "    print(i,'번째 토픽 :', model.get_topic(i))"
   ]
  },
  {
   "cell_type": "code",
   "execution_count": 31,
   "metadata": {},
   "outputs": [
    {
     "data": {
      "application/vnd.plotly.v1+json": {
       "config": {
        "plotlyServerURL": "https://plot.ly"
       },
       "data": [
        {
         "coloraxis": "coloraxis",
         "hovertemplate": "x: %{x}<br>y: %{y}<br>Similarity Score: %{z}<extra></extra>",
         "name": "0",
         "type": "heatmap",
         "x": [
          "0_교육_학교_학생",
          "1_도시_시민_추진",
          "2_후보_농협_선거",
          "3_갯벌_해양_생물",
          "4_관광_세계_마을",
          "5_지방_예산_소멸",
          "6_안전_점검_해양",
          "7_인구_청년_감소",
          "8_근로자_인권_일자리",
          "9_장애인_체험_센터"
         ],
         "xaxis": "x",
         "y": [
          "0_교육_학교_학생",
          "1_도시_시민_추진",
          "2_후보_농협_선거",
          "3_갯벌_해양_생물",
          "4_관광_세계_마을",
          "5_지방_예산_소멸",
          "6_안전_점검_해양",
          "7_인구_청년_감소",
          "8_근로자_인권_일자리",
          "9_장애인_체험_센터"
         ],
         "yaxis": "y",
         "z": [
          [
           0.9999999999999999,
           0.6941928546384082,
           0.701694460370871,
           0.7360909037845715,
           0.6724591792852819,
           0.7213153305738942,
           0.6444172377651493,
           0.7080520548093007,
           0.6809155531707467,
           0.4943541062055797
          ],
          [
           0.6941928546384082,
           1.0000000000000002,
           0.6865065379562713,
           0.6057022721350128,
           0.6277964487437526,
           0.524920381574392,
           0.569892138578584,
           0.49679931194290516,
           0.43051630272318253,
           0.40467907866394626
          ],
          [
           0.701694460370871,
           0.6865065379562713,
           1,
           0.6355089751031386,
           0.6284460583863803,
           0.5911482583032315,
           0.6185547623621888,
           0.49841371200713425,
           0.49277039887671314,
           0.302998795461155
          ],
          [
           0.7360909037845715,
           0.6057022721350128,
           0.6355089751031386,
           1,
           0.717646653963756,
           0.6380602039469603,
           0.6301045343992937,
           0.5759192705275449,
           0.4690103928606494,
           0.39041358364771117
          ],
          [
           0.6724591792852819,
           0.6277964487437526,
           0.6284460583863803,
           0.717646653963756,
           1.0000000000000004,
           0.4909353394705829,
           0.5031610431452571,
           0.49973909165793273,
           0.34575084675540413,
           0.4326276951388349
          ],
          [
           0.7213153305738942,
           0.524920381574392,
           0.5911482583032315,
           0.6380602039469603,
           0.4909353394705829,
           1,
           0.4933543353514292,
           0.5415160296862824,
           0.5419026814994374,
           0.3190041704709883
          ],
          [
           0.6444172377651493,
           0.569892138578584,
           0.6185547623621888,
           0.6301045343992937,
           0.5031610431452571,
           0.4933543353514292,
           0.9999999999999998,
           0.6577154561886513,
           0.5942944635750369,
           0.24058645820221294
          ],
          [
           0.7080520548093007,
           0.49679931194290516,
           0.49841371200713425,
           0.5759192705275449,
           0.49973909165793273,
           0.5415160296862824,
           0.6577154561886513,
           0.9999999999999996,
           0.5895168526451637,
           0.2018685577314988
          ],
          [
           0.6809155531707467,
           0.43051630272318253,
           0.49277039887671314,
           0.4690103928606494,
           0.34575084675540413,
           0.5419026814994374,
           0.5942944635750369,
           0.5895168526451637,
           0.9999999999999998,
           0.22628298180038786
          ],
          [
           0.4943541062055797,
           0.40467907866394626,
           0.302998795461155,
           0.39041358364771117,
           0.4326276951388349,
           0.3190041704709883,
           0.24058645820221294,
           0.2018685577314988,
           0.22628298180038786,
           1.0000000000000013
          ]
         ]
        }
       ],
       "layout": {
        "coloraxis": {
         "colorbar": {
          "title": {
           "text": "Similarity Score"
          }
         },
         "colorscale": [
          [
           0,
           "rgb(247,252,240)"
          ],
          [
           0.125,
           "rgb(224,243,219)"
          ],
          [
           0.25,
           "rgb(204,235,197)"
          ],
          [
           0.375,
           "rgb(168,221,181)"
          ],
          [
           0.5,
           "rgb(123,204,196)"
          ],
          [
           0.625,
           "rgb(78,179,211)"
          ],
          [
           0.75,
           "rgb(43,140,190)"
          ],
          [
           0.875,
           "rgb(8,104,172)"
          ],
          [
           1,
           "rgb(8,64,129)"
          ]
         ]
        },
        "height": 800,
        "hoverlabel": {
         "bgcolor": "white",
         "font": {
          "family": "Rockwell",
          "size": 16
         }
        },
        "legend": {
         "title": {
          "text": "Trend"
         }
        },
        "margin": {
         "t": 60
        },
        "showlegend": true,
        "template": {
         "data": {
          "bar": [
           {
            "error_x": {
             "color": "#2a3f5f"
            },
            "error_y": {
             "color": "#2a3f5f"
            },
            "marker": {
             "line": {
              "color": "#E5ECF6",
              "width": 0.5
             },
             "pattern": {
              "fillmode": "overlay",
              "size": 10,
              "solidity": 0.2
             }
            },
            "type": "bar"
           }
          ],
          "barpolar": [
           {
            "marker": {
             "line": {
              "color": "#E5ECF6",
              "width": 0.5
             },
             "pattern": {
              "fillmode": "overlay",
              "size": 10,
              "solidity": 0.2
             }
            },
            "type": "barpolar"
           }
          ],
          "carpet": [
           {
            "aaxis": {
             "endlinecolor": "#2a3f5f",
             "gridcolor": "white",
             "linecolor": "white",
             "minorgridcolor": "white",
             "startlinecolor": "#2a3f5f"
            },
            "baxis": {
             "endlinecolor": "#2a3f5f",
             "gridcolor": "white",
             "linecolor": "white",
             "minorgridcolor": "white",
             "startlinecolor": "#2a3f5f"
            },
            "type": "carpet"
           }
          ],
          "choropleth": [
           {
            "colorbar": {
             "outlinewidth": 0,
             "ticks": ""
            },
            "type": "choropleth"
           }
          ],
          "contour": [
           {
            "colorbar": {
             "outlinewidth": 0,
             "ticks": ""
            },
            "colorscale": [
             [
              0,
              "#0d0887"
             ],
             [
              0.1111111111111111,
              "#46039f"
             ],
             [
              0.2222222222222222,
              "#7201a8"
             ],
             [
              0.3333333333333333,
              "#9c179e"
             ],
             [
              0.4444444444444444,
              "#bd3786"
             ],
             [
              0.5555555555555556,
              "#d8576b"
             ],
             [
              0.6666666666666666,
              "#ed7953"
             ],
             [
              0.7777777777777778,
              "#fb9f3a"
             ],
             [
              0.8888888888888888,
              "#fdca26"
             ],
             [
              1,
              "#f0f921"
             ]
            ],
            "type": "contour"
           }
          ],
          "contourcarpet": [
           {
            "colorbar": {
             "outlinewidth": 0,
             "ticks": ""
            },
            "type": "contourcarpet"
           }
          ],
          "heatmap": [
           {
            "colorbar": {
             "outlinewidth": 0,
             "ticks": ""
            },
            "colorscale": [
             [
              0,
              "#0d0887"
             ],
             [
              0.1111111111111111,
              "#46039f"
             ],
             [
              0.2222222222222222,
              "#7201a8"
             ],
             [
              0.3333333333333333,
              "#9c179e"
             ],
             [
              0.4444444444444444,
              "#bd3786"
             ],
             [
              0.5555555555555556,
              "#d8576b"
             ],
             [
              0.6666666666666666,
              "#ed7953"
             ],
             [
              0.7777777777777778,
              "#fb9f3a"
             ],
             [
              0.8888888888888888,
              "#fdca26"
             ],
             [
              1,
              "#f0f921"
             ]
            ],
            "type": "heatmap"
           }
          ],
          "heatmapgl": [
           {
            "colorbar": {
             "outlinewidth": 0,
             "ticks": ""
            },
            "colorscale": [
             [
              0,
              "#0d0887"
             ],
             [
              0.1111111111111111,
              "#46039f"
             ],
             [
              0.2222222222222222,
              "#7201a8"
             ],
             [
              0.3333333333333333,
              "#9c179e"
             ],
             [
              0.4444444444444444,
              "#bd3786"
             ],
             [
              0.5555555555555556,
              "#d8576b"
             ],
             [
              0.6666666666666666,
              "#ed7953"
             ],
             [
              0.7777777777777778,
              "#fb9f3a"
             ],
             [
              0.8888888888888888,
              "#fdca26"
             ],
             [
              1,
              "#f0f921"
             ]
            ],
            "type": "heatmapgl"
           }
          ],
          "histogram": [
           {
            "marker": {
             "pattern": {
              "fillmode": "overlay",
              "size": 10,
              "solidity": 0.2
             }
            },
            "type": "histogram"
           }
          ],
          "histogram2d": [
           {
            "colorbar": {
             "outlinewidth": 0,
             "ticks": ""
            },
            "colorscale": [
             [
              0,
              "#0d0887"
             ],
             [
              0.1111111111111111,
              "#46039f"
             ],
             [
              0.2222222222222222,
              "#7201a8"
             ],
             [
              0.3333333333333333,
              "#9c179e"
             ],
             [
              0.4444444444444444,
              "#bd3786"
             ],
             [
              0.5555555555555556,
              "#d8576b"
             ],
             [
              0.6666666666666666,
              "#ed7953"
             ],
             [
              0.7777777777777778,
              "#fb9f3a"
             ],
             [
              0.8888888888888888,
              "#fdca26"
             ],
             [
              1,
              "#f0f921"
             ]
            ],
            "type": "histogram2d"
           }
          ],
          "histogram2dcontour": [
           {
            "colorbar": {
             "outlinewidth": 0,
             "ticks": ""
            },
            "colorscale": [
             [
              0,
              "#0d0887"
             ],
             [
              0.1111111111111111,
              "#46039f"
             ],
             [
              0.2222222222222222,
              "#7201a8"
             ],
             [
              0.3333333333333333,
              "#9c179e"
             ],
             [
              0.4444444444444444,
              "#bd3786"
             ],
             [
              0.5555555555555556,
              "#d8576b"
             ],
             [
              0.6666666666666666,
              "#ed7953"
             ],
             [
              0.7777777777777778,
              "#fb9f3a"
             ],
             [
              0.8888888888888888,
              "#fdca26"
             ],
             [
              1,
              "#f0f921"
             ]
            ],
            "type": "histogram2dcontour"
           }
          ],
          "mesh3d": [
           {
            "colorbar": {
             "outlinewidth": 0,
             "ticks": ""
            },
            "type": "mesh3d"
           }
          ],
          "parcoords": [
           {
            "line": {
             "colorbar": {
              "outlinewidth": 0,
              "ticks": ""
             }
            },
            "type": "parcoords"
           }
          ],
          "pie": [
           {
            "automargin": true,
            "type": "pie"
           }
          ],
          "scatter": [
           {
            "fillpattern": {
             "fillmode": "overlay",
             "size": 10,
             "solidity": 0.2
            },
            "type": "scatter"
           }
          ],
          "scatter3d": [
           {
            "line": {
             "colorbar": {
              "outlinewidth": 0,
              "ticks": ""
             }
            },
            "marker": {
             "colorbar": {
              "outlinewidth": 0,
              "ticks": ""
             }
            },
            "type": "scatter3d"
           }
          ],
          "scattercarpet": [
           {
            "marker": {
             "colorbar": {
              "outlinewidth": 0,
              "ticks": ""
             }
            },
            "type": "scattercarpet"
           }
          ],
          "scattergeo": [
           {
            "marker": {
             "colorbar": {
              "outlinewidth": 0,
              "ticks": ""
             }
            },
            "type": "scattergeo"
           }
          ],
          "scattergl": [
           {
            "marker": {
             "colorbar": {
              "outlinewidth": 0,
              "ticks": ""
             }
            },
            "type": "scattergl"
           }
          ],
          "scattermapbox": [
           {
            "marker": {
             "colorbar": {
              "outlinewidth": 0,
              "ticks": ""
             }
            },
            "type": "scattermapbox"
           }
          ],
          "scatterpolar": [
           {
            "marker": {
             "colorbar": {
              "outlinewidth": 0,
              "ticks": ""
             }
            },
            "type": "scatterpolar"
           }
          ],
          "scatterpolargl": [
           {
            "marker": {
             "colorbar": {
              "outlinewidth": 0,
              "ticks": ""
             }
            },
            "type": "scatterpolargl"
           }
          ],
          "scatterternary": [
           {
            "marker": {
             "colorbar": {
              "outlinewidth": 0,
              "ticks": ""
             }
            },
            "type": "scatterternary"
           }
          ],
          "surface": [
           {
            "colorbar": {
             "outlinewidth": 0,
             "ticks": ""
            },
            "colorscale": [
             [
              0,
              "#0d0887"
             ],
             [
              0.1111111111111111,
              "#46039f"
             ],
             [
              0.2222222222222222,
              "#7201a8"
             ],
             [
              0.3333333333333333,
              "#9c179e"
             ],
             [
              0.4444444444444444,
              "#bd3786"
             ],
             [
              0.5555555555555556,
              "#d8576b"
             ],
             [
              0.6666666666666666,
              "#ed7953"
             ],
             [
              0.7777777777777778,
              "#fb9f3a"
             ],
             [
              0.8888888888888888,
              "#fdca26"
             ],
             [
              1,
              "#f0f921"
             ]
            ],
            "type": "surface"
           }
          ],
          "table": [
           {
            "cells": {
             "fill": {
              "color": "#EBF0F8"
             },
             "line": {
              "color": "white"
             }
            },
            "header": {
             "fill": {
              "color": "#C8D4E3"
             },
             "line": {
              "color": "white"
             }
            },
            "type": "table"
           }
          ]
         },
         "layout": {
          "annotationdefaults": {
           "arrowcolor": "#2a3f5f",
           "arrowhead": 0,
           "arrowwidth": 1
          },
          "autotypenumbers": "strict",
          "coloraxis": {
           "colorbar": {
            "outlinewidth": 0,
            "ticks": ""
           }
          },
          "colorscale": {
           "diverging": [
            [
             0,
             "#8e0152"
            ],
            [
             0.1,
             "#c51b7d"
            ],
            [
             0.2,
             "#de77ae"
            ],
            [
             0.3,
             "#f1b6da"
            ],
            [
             0.4,
             "#fde0ef"
            ],
            [
             0.5,
             "#f7f7f7"
            ],
            [
             0.6,
             "#e6f5d0"
            ],
            [
             0.7,
             "#b8e186"
            ],
            [
             0.8,
             "#7fbc41"
            ],
            [
             0.9,
             "#4d9221"
            ],
            [
             1,
             "#276419"
            ]
           ],
           "sequential": [
            [
             0,
             "#0d0887"
            ],
            [
             0.1111111111111111,
             "#46039f"
            ],
            [
             0.2222222222222222,
             "#7201a8"
            ],
            [
             0.3333333333333333,
             "#9c179e"
            ],
            [
             0.4444444444444444,
             "#bd3786"
            ],
            [
             0.5555555555555556,
             "#d8576b"
            ],
            [
             0.6666666666666666,
             "#ed7953"
            ],
            [
             0.7777777777777778,
             "#fb9f3a"
            ],
            [
             0.8888888888888888,
             "#fdca26"
            ],
            [
             1,
             "#f0f921"
            ]
           ],
           "sequentialminus": [
            [
             0,
             "#0d0887"
            ],
            [
             0.1111111111111111,
             "#46039f"
            ],
            [
             0.2222222222222222,
             "#7201a8"
            ],
            [
             0.3333333333333333,
             "#9c179e"
            ],
            [
             0.4444444444444444,
             "#bd3786"
            ],
            [
             0.5555555555555556,
             "#d8576b"
            ],
            [
             0.6666666666666666,
             "#ed7953"
            ],
            [
             0.7777777777777778,
             "#fb9f3a"
            ],
            [
             0.8888888888888888,
             "#fdca26"
            ],
            [
             1,
             "#f0f921"
            ]
           ]
          },
          "colorway": [
           "#636efa",
           "#EF553B",
           "#00cc96",
           "#ab63fa",
           "#FFA15A",
           "#19d3f3",
           "#FF6692",
           "#B6E880",
           "#FF97FF",
           "#FECB52"
          ],
          "font": {
           "color": "#2a3f5f"
          },
          "geo": {
           "bgcolor": "white",
           "lakecolor": "white",
           "landcolor": "#E5ECF6",
           "showlakes": true,
           "showland": true,
           "subunitcolor": "white"
          },
          "hoverlabel": {
           "align": "left"
          },
          "hovermode": "closest",
          "mapbox": {
           "style": "light"
          },
          "paper_bgcolor": "white",
          "plot_bgcolor": "#E5ECF6",
          "polar": {
           "angularaxis": {
            "gridcolor": "white",
            "linecolor": "white",
            "ticks": ""
           },
           "bgcolor": "#E5ECF6",
           "radialaxis": {
            "gridcolor": "white",
            "linecolor": "white",
            "ticks": ""
           }
          },
          "scene": {
           "xaxis": {
            "backgroundcolor": "#E5ECF6",
            "gridcolor": "white",
            "gridwidth": 2,
            "linecolor": "white",
            "showbackground": true,
            "ticks": "",
            "zerolinecolor": "white"
           },
           "yaxis": {
            "backgroundcolor": "#E5ECF6",
            "gridcolor": "white",
            "gridwidth": 2,
            "linecolor": "white",
            "showbackground": true,
            "ticks": "",
            "zerolinecolor": "white"
           },
           "zaxis": {
            "backgroundcolor": "#E5ECF6",
            "gridcolor": "white",
            "gridwidth": 2,
            "linecolor": "white",
            "showbackground": true,
            "ticks": "",
            "zerolinecolor": "white"
           }
          },
          "shapedefaults": {
           "line": {
            "color": "#2a3f5f"
           }
          },
          "ternary": {
           "aaxis": {
            "gridcolor": "white",
            "linecolor": "white",
            "ticks": ""
           },
           "baxis": {
            "gridcolor": "white",
            "linecolor": "white",
            "ticks": ""
           },
           "bgcolor": "#E5ECF6",
           "caxis": {
            "gridcolor": "white",
            "linecolor": "white",
            "ticks": ""
           }
          },
          "title": {
           "x": 0.05
          },
          "xaxis": {
           "automargin": true,
           "gridcolor": "white",
           "linecolor": "white",
           "ticks": "",
           "title": {
            "standoff": 15
           },
           "zerolinecolor": "white",
           "zerolinewidth": 2
          },
          "yaxis": {
           "automargin": true,
           "gridcolor": "white",
           "linecolor": "white",
           "ticks": "",
           "title": {
            "standoff": 15
           },
           "zerolinecolor": "white",
           "zerolinewidth": 2
          }
         }
        },
        "title": {
         "font": {
          "color": "Black",
          "size": 22
         },
         "text": "<b>Similarity Matrix</b>",
         "x": 0.55,
         "xanchor": "center",
         "y": 0.95,
         "yanchor": "top"
        },
        "width": 800,
        "xaxis": {
         "anchor": "y",
         "constrain": "domain",
         "domain": [
          0,
          1
         ],
         "scaleanchor": "y"
        },
        "yaxis": {
         "anchor": "x",
         "autorange": "reversed",
         "constrain": "domain",
         "domain": [
          0,
          1
         ]
        }
       }
      }
     },
     "metadata": {},
     "output_type": "display_data"
    }
   ],
   "source": [
    "model.visualize_heatmap(topics=list(range(10)))"
   ]
  },
  {
   "cell_type": "code",
   "execution_count": 32,
   "metadata": {},
   "outputs": [
    {
     "name": "stderr",
     "output_type": "stream",
     "text": [
      "2023-12-26 14:41:18,835 - BERTopic - WARNING: There are more than 100 unique timestamps (i.e., 915) which significantly slows down the application. Consider setting `nr_bins` to a value lower than 100 to speed up calculation. \n"
     ]
    }
   ],
   "source": [
    "timestamps = df['Date'].to_list()\n",
    "content_text = df['Content'].to_list()\n",
    "\n",
    "topics_over_time = model.topics_over_time(content_text, timestamps)"
   ]
  },
  {
   "cell_type": "code",
   "execution_count": 33,
   "metadata": {},
   "outputs": [
    {
     "data": {
      "application/vnd.plotly.v1+json": {
       "config": {
        "plotlyServerURL": "https://plot.ly"
       },
       "data": [
        {
         "hoverinfo": "text",
         "hovertext": [
          "<b>Topic 0</b><br>Words: 청년, 생산, 스마트, 경영, 가능",
          "<b>Topic 0</b><br>Words: 체육, 대회, 전남도, 건강, 생활",
          "<b>Topic 0</b><br>Words: 센터, 교육청, 위기, 기관, 마을",
          "<b>Topic 0</b><br>Words: 상담, 청소년, 서비스, 대상, 운영",
          "<b>Topic 0</b><br>Words: 아이, 희망, 교육, 학교, 학생",
          "<b>Topic 0</b><br>Words: 기업, 고용, 창업, 청년, 우수",
          "<b>Topic 0</b><br>Words: 공간, 단지, 어린이, 생활, 예정",
          "<b>Topic 0</b><br>Words: 가구, 소득, 신청, 실시, 기간",
          "<b>Topic 0</b><br>Words: 아동, 기관, 보호, 사회, 위기",
          "<b>Topic 0</b><br>Words: 협약, 농촌, 생활, 공모, 조사",
          "<b>Topic 0</b><br>Words: 청년, 신청, 농업, 평가, 전남도",
          "<b>Topic 0</b><br>Words: 신청, 청년, 전남도, 농업, 결과",
          "<b>Topic 0</b><br>Words: 개발, 지구, 세대, 시설, 규모",
          "<b>Topic 0</b><br>Words: 농업, 교육, 기술, 주요, 농가",
          "<b>Topic 0</b><br>Words: 농업, 기술, 교육, 실시, 주요",
          "<b>Topic 0</b><br>Words: 개발, 단지, 규모, 풍력, 해상",
          "<b>Topic 0</b><br>Words: 단지, 가구, 조성, 인프라, 향상",
          "<b>Topic 0</b><br>Words: 향상, 실시, 경영, 교육, 목표",
          "<b>Topic 0</b><br>Words: 향상, 노력, 실시, 교육, 김산",
          "<b>Topic 0</b><br>Words: 시작, 정보, 학교, 과정, 동안",
          "<b>Topic 0</b><br>Words: 투자, 기업, 지급, 대상, 교육",
          "<b>Topic 0</b><br>Words: 단지, 시설, 가구, 전라남도, 농협",
          "<b>Topic 0</b><br>Words: 투자, 기업, 유치, 교육, 청년",
          "<b>Topic 0</b><br>Words: 예방, 교육, 실시, 김산, 취재",
          "<b>Topic 0</b><br>Words: 지급, 제도, 개선, 시민, 군민",
          "<b>Topic 0</b><br>Words: 청년, 활동, 모집, 김산, 최대",
          "<b>Topic 0</b><br>Words: 효과, 단지, 시설, 예정, 인프라",
          "<b>Topic 0</b><br>Words: 환경, 학교, 학생, 농가, 제공",
          "<b>Topic 0</b><br>Words: 어린이, 교육, 농업, 학교, 환경",
          "<b>Topic 0</b><br>Words: 어린이, 개발, 농가, 진행, 학교",
          "<b>Topic 0</b><br>Words: 가구, 농업, 단지, 규모, 건설",
          "<b>Topic 0</b><br>Words: 건강, 대학, 복지, 마을, 센터",
          "<b>Topic 0</b><br>Words: 단지, 시스템, 가능, 세대, 인근",
          "<b>Topic 0</b><br>Words: 농협, 농가, 본부, 규모, 확대",
          "<b>Topic 0</b><br>Words: 민간, 단지, 주택, 세대, 가능",
          "<b>Topic 0</b><br>Words: 지급, 운영, 김산, 교육, 결과",
          "<b>Topic 0</b><br>Words: 청년, 본부, 농협, 확대, 감소",
          "<b>Topic 0</b><br>Words: 효과, 단지, 교통, 가치, 조성",
          "<b>Topic 0</b><br>Words: 건설, 교육, 실시, 시간, 전문",
          "<b>Topic 0</b><br>Words: 대상, 교육, 근로자, 예방, 김산",
          "<b>Topic 0</b><br>Words: 청소년, 상담, 회의, 참여, 복지",
          "<b>Topic 0</b><br>Words: 청년, 산업, 주민, 일자리, 참여",
          "<b>Topic 0</b><br>Words: 청년, 산업, 디지털, 일자리, 전문",
          "<b>Topic 0</b><br>Words: 마을, 군수, 참석, 주요, 추진",
          "<b>Topic 0</b><br>Words: 마을, 참석, 센터, 주제, 방안",
          "<b>Topic 0</b><br>Words: 농업, 창업, 경영, 청년, 가능",
          "<b>Topic 0</b><br>Words: 생각, 사람, 청년, 민간, 아이",
          "<b>Topic 0</b><br>Words: 농가, 주택, 효과, 예정, 자원",
          "<b>Topic 0</b><br>Words: 학생, 정원, 프로그램, 김산, 환경",
          "<b>Topic 0</b><br>Words: 가구, 지구, 가능, 단지, 관심",
          "<b>Topic 0</b><br>Words: 지급, 대회, 교육, 개최, 참여",
          "<b>Topic 0</b><br>Words: 공무원, 마을, 오후, 참석, 과정",
          "<b>Topic 0</b><br>Words: 학교, 참여, 신청, 희망, 전라남도",
          "<b>Topic 0</b><br>Words: 양식, 공무원, 산업, 향상, 안정",
          "<b>Topic 0</b><br>Words: 공유, 주민, 에너지, 재생, 개발",
          "<b>Topic 0</b><br>Words: 마을, 선정, 공모, 지자체, 학교",
          "<b>Topic 0</b><br>Words: 농업, 과정, 관련, 교육, 농가",
          "<b>Topic 0</b><br>Words: 일자리, 세대, 사회, 활용, 참여",
          "<b>Topic 0</b><br>Words: 교육, 모집, 어린이, 대상, 지방",
          "<b>Topic 0</b><br>Words: 이용, 기술, 현장, 활용, 최근",
          "<b>Topic 0</b><br>Words: 농촌, 사회, 대학, 다양, 진행",
          "<b>Topic 0</b><br>Words: 정비, 주택, 건설, 가구, 규모",
          "<b>Topic 0</b><br>Words: 프로그램, 센터, 코로나, 관리, 상담",
          "<b>Topic 0</b><br>Words: 시간, 발생, 이상, 대응, 경기",
          "<b>Topic 0</b><br>Words: 정보, 농업, 제공, 기술, 필요",
          "<b>Topic 0</b><br>Words: 대통령, 학교, 학생, 코로나, 아이",
          "<b>Topic 0</b><br>Words: 농촌, 홍보, 산업, 구축, 복합",
          "<b>Topic 0</b><br>Words: 농촌, 홍보, 산업, 복합, 공모",
          "<b>Topic 0</b><br>Words: 장애인, 관심, 생활, 센터, 취업",
          "<b>Topic 0</b><br>Words: 학생, 학교, 활용, 운영, 주민",
          "<b>Topic 0</b><br>Words: 건강, 조사, 프로그램, 예방, 이상",
          "<b>Topic 0</b><br>Words: 교육청, 교육, 미래, 활동, 연계",
          "<b>Topic 0</b><br>Words: 기업, 고용, 참여, 경제, 김산",
          "<b>Topic 0</b><br>Words: 청년, 교육, 정책, 이번, 군수",
          "<b>Topic 0</b><br>Words: 양식, 소득, 박우량, 교육, 개최",
          "<b>Topic 0</b><br>Words: 소득, 박우량, 추진, 군수, 집중",
          "<b>Topic 0</b><br>Words: 건강, 모집, 소득, 실시, 관리",
          "<b>Topic 0</b><br>Words: 청소년, 상담, 복지, 추가, 센터",
          "<b>Topic 0</b><br>Words: 회장, 관리, 한국, 대표, 제공",
          "<b>Topic 0</b><br>Words: 교육, 학생, 중심, 진행, 세계",
          "<b>Topic 0</b><br>Words: 회장, 대표, 교육, 세대, 경기",
          "<b>Topic 0</b><br>Words: 안전, 교육, 체험, 시설, 정비",
          "<b>Topic 0</b><br>Words: 세계, 대표, 대회, 한국, 기술",
          "<b>Topic 0</b><br>Words: 교육, 교육청, 서비스, 보건, 복지",
          "<b>Topic 0</b><br>Words: 창업, 교육, 구축, 전문, 기관",
          "<b>Topic 0</b><br>Words: 안전, 정비, 조성, 체험, 시설",
          "<b>Topic 0</b><br>Words: 희망, 교육청, 교육, 가족, 장애인",
          "<b>Topic 0</b><br>Words: 기술, 청년, 개발, 활용, 농가",
          "<b>Topic 0</b><br>Words: 단지, 지구, 아이, 이용, 효과",
          "<b>Topic 0</b><br>Words: 체육, 시설, 회장, 생활, 설립",
          "<b>Topic 0</b><br>Words: 기대, 건강, 기술, 실시, 활용",
          "<b>Topic 0</b><br>Words: 교육, 기술, 개발, 실시, 이번",
          "<b>Topic 0</b><br>Words: 기술, 청년, 농업, 농촌, 기관",
          "<b>Topic 0</b><br>Words: 농가, 환경, 경영, 육성, 농업",
          "<b>Topic 0</b><br>Words: 조성, 소득, 경영, 과정, 농업",
          "<b>Topic 0</b><br>Words: 기술, 규모, 개발, 농가, 최선",
          "<b>Topic 0</b><br>Words: 진흥원, 한국, 자치, 발전, 공무원",
          "<b>Topic 0</b><br>Words: 창업, 교육, 구축, 기관, 전문",
          "<b>Topic 0</b><br>Words: 인구, 변화, 우수, 아시아, 청소년",
          "<b>Topic 0</b><br>Words: 대회, 체육, 학교, 기회, 우리",
          "<b>Topic 0</b><br>Words: 건강, 교육, 대상, 프로그램, 예방",
          "<b>Topic 0</b><br>Words: 장애인, 고용, 기업, 근로자, 교육",
          "<b>Topic 0</b><br>Words: 교육, 전문, 여성, 창업, 활용",
          "<b>Topic 0</b><br>Words: 아동, 건강, 보호, 버스, 서비스",
          "<b>Topic 0</b><br>Words: 장애인, 건강, 운동, 서비스, 방문",
          "<b>Topic 0</b><br>Words: 주민, 역사, 활용, 시설, 사회",
          "<b>Topic 0</b><br>Words: 청년, 군수, 농촌, 김산, 희망",
          "<b>Topic 0</b><br>Words: 장애인, 운동, 서비스, 프로그램, 방문",
          "<b>Topic 0</b><br>Words: 참여, 기술, 주민, 대상, 선정",
          "<b>Topic 0</b><br>Words: 자원, 실시, 전문, 교육, 예정",
          "<b>Topic 0</b><br>Words: 인구, 정책, 청년, 종합, 전략",
          "<b>Topic 0</b><br>Words: 교육, 학생, 프로그램, 중심, 대학",
          "<b>Topic 0</b><br>Words: 지구, 단지, 세대, 인프라, 조성",
          "<b>Topic 0</b><br>Words: 지구, 세대, 단지, 인프라, 조성",
          "<b>Topic 0</b><br>Words: 학생, 경기, 학교, 서울, 수도",
          "<b>Topic 0</b><br>Words: 지구, 가구, 이용, 단지, 개발",
          "<b>Topic 0</b><br>Words: 지구, 공무원, 아시아, 지급, 교육",
          "<b>Topic 0</b><br>Words: 어린이, 시설, 교육, 학생, 공간",
          "<b>Topic 0</b><br>Words: 체육, 공공, 종합, 회장, 선정",
          "<b>Topic 0</b><br>Words: 체육, 종합, 공공, 선정, 공모",
          "<b>Topic 0</b><br>Words: 세대, 가능, 단지, 예정, 인프라",
          "<b>Topic 0</b><br>Words: 교육청, 학교, 업무, 인력, 지정",
          "<b>Topic 0</b><br>Words: 공간, 서비스, 특화, 세대, 청소년",
          "<b>Topic 0</b><br>Words: 정보, 공간, 관리, 시스템, 공무원",
          "<b>Topic 0</b><br>Words: 단지, 가구, 예정, 조성, 규모",
          "<b>Topic 0</b><br>Words: 가구, 규모, 주택, 개발, 사회",
          "<b>Topic 0</b><br>Words: 교육, 주민, 아시아, 상황, 실시",
          "<b>Topic 0</b><br>Words: 홍어, 교육, 학교, 대상, 건강",
          "<b>Topic 0</b><br>Words: 홍어, 제도, 학교, 사람, 과정",
          "<b>Topic 0</b><br>Words: 주민, 활성, 센터, 사례, 관심",
          "<b>Topic 0</b><br>Words: 홍어, 대상, 학교, 민간, 제도",
          "<b>Topic 0</b><br>Words: 아시아, 학생, 경제, 사회, 김산",
          "<b>Topic 0</b><br>Words: 홍어, 교육, 디지털, 다양, 문제",
          "<b>Topic 0</b><br>Words: 홍어, 이날, 사람, 학교, 민간",
          "<b>Topic 0</b><br>Words: 홍어, 이상, 민간, 학교, 제도",
          "<b>Topic 0</b><br>Words: 지구, 가구, 학교, 단지, 마을",
          "<b>Topic 0</b><br>Words: 서비스, 가구, 복지, 학교, 방문",
          "<b>Topic 0</b><br>Words: 아이, 학교, 마을, 체험, 참여",
          "<b>Topic 0</b><br>Words: 가구, 단지, 서울, 주택, 지구",
          "<b>Topic 0</b><br>Words: 운동, 운영, 교육, 평가, 예방",
          "<b>Topic 0</b><br>Words: 주민, 대회, 생활, 선정, 제공",
          "<b>Topic 0</b><br>Words: 농업, 환경, 육성, 농가, 경영",
          "<b>Topic 0</b><br>Words: 재생, 도시, 주민, 추진, 역량",
          "<b>Topic 0</b><br>Words: 육성, 농가, 경영, 농업, 개선",
          "<b>Topic 0</b><br>Words: 농가, 공동, 가구, 교육, 재단",
          "<b>Topic 0</b><br>Words: 가구, 단지, 세대, 예정, 주택",
          "<b>Topic 0</b><br>Words: 가구, 주택, 단지, 시스템, 디지털",
          "<b>Topic 0</b><br>Words: 보건, 군수, 환경, 농업, 인재",
          "<b>Topic 0</b><br>Words: 홍어, 학교, 추가, 민간, 과정",
          "<b>Topic 0</b><br>Words: 농업, 교육, 기술, 실시, 사항",
          "<b>Topic 0</b><br>Words: 홍어, 학교, 마을, 갯벌, 자연",
          "<b>Topic 0</b><br>Words: 가구, 단지, 건설, 공원, 규모",
          "<b>Topic 0</b><br>Words: 가구, 단지, 주택, 건설, 규모",
          "<b>Topic 0</b><br>Words: 풍력, 해상, 이용, 센터, 공공",
          "<b>Topic 0</b><br>Words: 체육, 회장, 단체, 소통, 개최",
          "<b>Topic 0</b><br>Words: 지구, 가구, 개소, 학교, 시설",
          "<b>Topic 0</b><br>Words: 농가, 주택, 기반, 농업, 이상",
          "<b>Topic 0</b><br>Words: 복합, 공간, 센터, 주민, 계획",
          "<b>Topic 0</b><br>Words: 신청, 규모, 가능, 계획, 분야",
          "<b>Topic 0</b><br>Words: 후보, 농업, 지급, 농촌, 에너지",
          "<b>Topic 0</b><br>Words: 회의, 업무, 사항, 전환, 공유",
          "<b>Topic 0</b><br>Words: 특화, 경제, 산업, 기업, 경영",
          "<b>Topic 0</b><br>Words: 발전, 후보, 교육, 청년, 에너지",
          "<b>Topic 0</b><br>Words: 참여, 농촌, 학생, 교육청, 프로그램",
          "<b>Topic 0</b><br>Words: 교육, 예방, 실시, 대상, 이번",
          "<b>Topic 0</b><br>Words: 조사, 수립, 대상, 기준, 결과",
          "<b>Topic 0</b><br>Words: 활동, 사회, 맞춤, 서비스, 복지",
          "<b>Topic 0</b><br>Words: 활동, 사회, 복지, 서비스, 가구",
          "<b>Topic 0</b><br>Words: 활용, 공간, 주민, 전남도, 예정",
          "<b>Topic 0</b><br>Words: 대학, 아이, 학생, 아동, 개소",
          "<b>Topic 0</b><br>Words: 모집, 농촌, 기간, 신청, 교육",
          "<b>Topic 0</b><br>Words: 교육청, 올해, 학생, 지구, 인근",
          "<b>Topic 0</b><br>Words: 농업, 교육, 예방, 건설, 사용",
          "<b>Topic 0</b><br>Words: 청년, 인구, 창업, 아이, 교육",
          "<b>Topic 0</b><br>Words: 창업, 시설, 센터, 건립, 생산",
          "<b>Topic 0</b><br>Words: 건립, 시설, 센터, 투입, 식품",
          "<b>Topic 0</b><br>Words: 청년, 농업, 스마트, 창업, 경영",
          "<b>Topic 0</b><br>Words: 청년, 스마트, 창업, 경영, 농업",
          "<b>Topic 0</b><br>Words: 실시, 학생, 예방, 안전, 학교",
          "<b>Topic 0</b><br>Words: 향상, 실시, 평가, 결과, 분야",
          "<b>Topic 0</b><br>Words: 창업, 상담, 청년, 혁신, 대상",
          "<b>Topic 0</b><br>Words: 상담, 확산, 선정, 운영, 분야",
          "<b>Topic 0</b><br>Words: 확산, 혁신, 선정, 운영, 우수",
          "<b>Topic 0</b><br>Words: 학교, 학생, 환경, 생산, 농가",
          "<b>Topic 0</b><br>Words: 학교, 감소, 학생, 청소년, 교육",
          "<b>Topic 0</b><br>Words: 학교, 센터, 설치, 설립, 투자",
          "<b>Topic 0</b><br>Words: 후보, 선거, 위기, 교육, 행사",
          "<b>Topic 0</b><br>Words: 관광, 프로그램, 세계, 진행, 공원",
          "<b>Topic 0</b><br>Words: 농업, 환경, 대상, 증가, 취재",
          "<b>Topic 0</b><br>Words: 환경, 농업, 대상, 청소년, 실시",
          "<b>Topic 0</b><br>Words: 지급, 인재, 학생, 운영, 김산",
          "<b>Topic 0</b><br>Words: 지급, 학생, 인재, 운영, 설립",
          "<b>Topic 0</b><br>Words: 지구, 단지, 예정, 생활, 교육",
          "<b>Topic 0</b><br>Words: 교육, 학생, 학교, 대학, 아이",
          "<b>Topic 0</b><br>Words: 농업, 교육, 대학, 정보, 모집",
          "<b>Topic 0</b><br>Words: 한국, 학생, 아이, 복지, 센터",
          "<b>Topic 0</b><br>Words: 지구, 단지, 인프라, 인근, 예정",
          "<b>Topic 0</b><br>Words: 식품, 교육, 창업, 연계, 구성",
          "<b>Topic 0</b><br>Words: 지구, 인프라, 주택, 조성, 규모",
          "<b>Topic 0</b><br>Words: 희망, 설립, 교육청, 지구, 학교",
          "<b>Topic 0</b><br>Words: 시설, 복지, 생활, 서비스, 제공",
          "<b>Topic 0</b><br>Words: 세대, 가구, 우리, 단지, 규모",
          "<b>Topic 0</b><br>Words: 교육, 사회, 다양, 마을, 학교",
          "<b>Topic 0</b><br>Words: 마을, 학교, 아이, 체험, 다양",
          "<b>Topic 0</b><br>Words: 서비스, 센터, 운영, 이용, 가족",
          "<b>Topic 0</b><br>Words: 지구, 구성, 주택, 인근, 가능",
          "<b>Topic 0</b><br>Words: 전남도, 기간, 활용, 청소년, 조사",
          "<b>Topic 0</b><br>Words: 운영, 공동, 이용, 가능, 개소",
          "<b>Topic 0</b><br>Words: 농가, 교육, 생산, 소득, 역사",
          "<b>Topic 0</b><br>Words: 농가, 생산, 소득, 대회, 기술",
          "<b>Topic 0</b><br>Words: 농가, 건강, 프로그램, 장애인, 소득",
          "<b>Topic 0</b><br>Words: 의료, 보건, 안전, 건강, 교육",
          "<b>Topic 0</b><br>Words: 단지, 가구, 예정, 지구, 전문가",
          "<b>Topic 0</b><br>Words: 농가, 운동, 안정, 기관, 참여",
          "<b>Topic 0</b><br>Words: 농가, 농촌, 활동, 참여, 안정",
          "<b>Topic 0</b><br>Words: 교육, 국가, 복지, 사회, 활동",
          "<b>Topic 0</b><br>Words: 예방, 시설, 복지, 발생, 사회",
          "<b>Topic 0</b><br>Words: 예방, 발생, 시설, 복지, 관리",
          "<b>Topic 0</b><br>Words: 농가, 스마트, 관리, 시스템, 생산",
          "<b>Topic 0</b><br>Words: 개발, 교육, 양성, 창업, 실시",
          "<b>Topic 0</b><br>Words: 마을, 공동, 대상, 취재, 본부",
          "<b>Topic 0</b><br>Words: 생산, 마을, 공동, 대상, 제공",
          "<b>Topic 0</b><br>Words: 건강, 교육, 의료, 프로그램, 주제",
          "<b>Topic 0</b><br>Words: 조사, 건강, 관리, 가구, 정보",
          "<b>Topic 0</b><br>Words: 관광, 주민, 대상, 홍보, 추진",
          "<b>Topic 0</b><br>Words: 방문, 군수, 과정, 공유, 교육",
          "<b>Topic 0</b><br>Words: 창업, 농업, 주택, 신청, 선정",
          "<b>Topic 0</b><br>Words: 가구, 지구, 단지, 예정, 시설",
          "<b>Topic 0</b><br>Words: 개발, 청년, 기업, 일자리, 지구",
          "<b>Topic 0</b><br>Words: 건강, 어린이, 학생, 교육, 교수",
          "<b>Topic 0</b><br>Words: 농촌, 체험, 아동, 센터, 대상",
          "<b>Topic 0</b><br>Words: 복지, 재단, 청소년, 상담, 시설",
          "<b>Topic 0</b><br>Words: 서울, 아이, 단체, 활동, 학교",
          "<b>Topic 0</b><br>Words: 농업, 과정, 현장, 농가, 교육",
          "<b>Topic 0</b><br>Words: 청소년, 프로그램, 활동, 학생, 교육",
          "<b>Topic 0</b><br>Words: 인구, 전략, 농업, 도시, 추진",
          "<b>Topic 0</b><br>Words: 교육, 지구, 가구, 미래, 학교",
          "<b>Topic 0</b><br>Words: 인구, 전략, 정책, 발굴, 추진",
          "<b>Topic 0</b><br>Words: 군수, 전남도, 사회, 사항, 소통",
          "<b>Topic 0</b><br>Words: 전남도, 설치, 군수, 사회, 희망",
          "<b>Topic 0</b><br>Words: 지구, 단지, 시설, 가구, 예정",
          "<b>Topic 0</b><br>Words: 지구, 세대, 인근, 단지, 예정",
          "<b>Topic 0</b><br>Words: 농업, 교육, 전남도, 소통, 우수",
          "<b>Topic 0</b><br>Words: 청년, 농가, 기업, 향상, 소득",
          "<b>Topic 0</b><br>Words: 지구, 디지털, 단지, 가구, 교육",
          "<b>Topic 0</b><br>Words: 학교, 대학, 병원, 오전, 이후",
          "<b>Topic 0</b><br>Words: 농업, 신청, 기술, 단체, 농가",
          "<b>Topic 0</b><br>Words: 과정, 농가, 투입, 신청, 농업",
          "<b>Topic 0</b><br>Words: 단지, 지구, 조성, 예정, 세대",
          "<b>Topic 0</b><br>Words: 시설, 투자, 지구, 개발, 조성",
          "<b>Topic 0</b><br>Words: 지구, 투자, 확보, 공모, 시설",
          "<b>Topic 0</b><br>Words: 운동, 주민, 중심, 단체, 활동",
          "<b>Topic 0</b><br>Words: 사회, 활동, 디지털, 교육, 이후",
          "<b>Topic 0</b><br>Words: 주택, 공모, 개발, 지구, 투자",
          "<b>Topic 0</b><br>Words: 예술, 교육, 아이, 마을, 프로그램",
          "<b>Topic 0</b><br>Words: 군민, 계획, 모집, 수립, 참여",
          "<b>Topic 0</b><br>Words: 계획, 군민, 수립, 인구, 지자체",
          "<b>Topic 0</b><br>Words: 재생, 도시, 주민, 특화, 추진",
          "<b>Topic 0</b><br>Words: 신청, 관리, 주택, 정부, 경우",
          "<b>Topic 0</b><br>Words: 농업, 청년, 관리, 도시, 재생",
          "<b>Topic 0</b><br>Words: 홍보, 교육청, 교육, 전문, 행정",
          "<b>Topic 0</b><br>Words: 홍보, 교육청, 전남도, 교육, 전문",
          "<b>Topic 0</b><br>Words: 운동, 성과, 동안, 역사, 기초",
          "<b>Topic 0</b><br>Words: 운동, 참여, 신청, 최근, 확대",
          "<b>Topic 0</b><br>Words: 운동, 청년, 일자리, 위원회, 개발",
          "<b>Topic 0</b><br>Words: 청년, 양성, 근로자, 전문가, 일자리",
          "<b>Topic 0</b><br>Words: 우리, 교육, 확대, 실시, 진행",
          "<b>Topic 0</b><br>Words: 지방, 필요, 교육, 발전, 청년",
          "<b>Topic 0</b><br>Words: 청년, 현장, 선정, 안정, 농업",
          "<b>Topic 0</b><br>Words: 디지털, 학교, 마을, 교육, 역량",
          "<b>Topic 0</b><br>Words: 공무원, 생활, 주요, 구성, 기대",
          "<b>Topic 0</b><br>Words: 추진, 시행, 홍보, 행사, 효과",
          "<b>Topic 0</b><br>Words: 지정, 이용, 김산, 이상, 군수",
          "<b>Topic 0</b><br>Words: 아이, 교육, 진행, 이용, 우리",
          "<b>Topic 0</b><br>Words: 자치, 방문, 교육, 이번, 관광객",
          "<b>Topic 0</b><br>Words: 아동, 일자리, 서비스, 기업, 기회",
          "<b>Topic 0</b><br>Words: 디지털, 역량, 강화, 교육, 관광",
          "<b>Topic 0</b><br>Words: 교육, 일자리, 참여, 내년, 종합",
          "<b>Topic 0</b><br>Words: 교육, 학교, 미래, 학생, 전환",
          "<b>Topic 0</b><br>Words: 학생, 교육청, 확보, 시간, 예정",
          "<b>Topic 0</b><br>Words: 공무원, 향상, 교수, 참석, 군수",
          "<b>Topic 0</b><br>Words: 공무원, 역량, 강화, 진행, 향상",
          "<b>Topic 0</b><br>Words: 교육, 미래, 전환, 예방, 건강",
          "<b>Topic 0</b><br>Words: 어린이, 조사, 실시, 진행, 교육",
          "<b>Topic 0</b><br>Words: 농촌, 공간, 공모, 전남도, 정비",
          "<b>Topic 0</b><br>Words: 지구, 투입, 투자, 교육청, 규모",
          "<b>Topic 0</b><br>Words: 지구, 청년, 학교, 도시, 학생",
          "<b>Topic 0</b><br>Words: 청년, 건립, 공간, 지구, 농업",
          "<b>Topic 0</b><br>Words: 농가, 홍어, 현장, 기술, 소득",
          "<b>Topic 0</b><br>Words: 시설, 우수, 평가, 상황, 관리",
          "<b>Topic 0</b><br>Words: 공공, 공무원, 역량, 교육, 업무",
          "<b>Topic 0</b><br>Words: 대표, 농가, 사용, 소득, 농업",
          "<b>Topic 0</b><br>Words: 교육청, 안전, 점검, 병원, 마련",
          "<b>Topic 0</b><br>Words: 안전, 교육, 운영, 발생, 예방",
          "<b>Topic 0</b><br>Words: 정원, 과정, 교육, 기초, 양성",
          "<b>Topic 0</b><br>Words: 운영, 장애인, 디지털, 건강, 개발",
          "<b>Topic 0</b><br>Words: 건강, 장애인, 통합, 관리, 대상",
          "<b>Topic 0</b><br>Words: 홍어, 학교, 민간, 대상, 시스템",
          "<b>Topic 0</b><br>Words: 본부, 취재, 호남, 공무원, 아시아",
          "<b>Topic 0</b><br>Words: 체육, 회장, 선거, 전남도, 내년",
          "<b>Topic 0</b><br>Words: 교육, 실시, 공무원, 김산, 발생",
          "<b>Topic 0</b><br>Words: 시설, 생활, 가능, 지구, 청소년",
          "<b>Topic 0</b><br>Words: 시설, 생활, 가능, 주택, 지구",
          "<b>Topic 0</b><br>Words: 농업, 예방, 시간, 추진, 최근",
          "<b>Topic 0</b><br>Words: 농업, 예방, 시간, 추진, 박우량",
          "<b>Topic 0</b><br>Words: 복지, 사회, 시설, 역량, 강화",
          "<b>Topic 0</b><br>Words: 일자리, 창출, 우수, 분야, 활성",
          "<b>Topic 0</b><br>Words: 제도, 분야, 홍보, 군수, 군민",
          "<b>Topic 0</b><br>Words: 지정, 이용, 사항, 공공, 실시",
          "<b>Topic 0</b><br>Words: 지정, 이용, 사항, 전라남도, 사랑",
          "<b>Topic 0</b><br>Words: 농가, 교육, 회장, 전문, 현장",
          "<b>Topic 0</b><br>Words: 현장, 학생, 교육, 실시, 강화",
          "<b>Topic 0</b><br>Words: 학생, 교육청, 우수, 학교, 전남도",
          "<b>Topic 0</b><br>Words: 정원, 교육, 과정, 기초, 양성",
          "<b>Topic 0</b><br>Words: 정원, 과정, 교육, 기초, 양성",
          "<b>Topic 0</b><br>Words: 학생, 교육, 회장, 미래, 학교",
          "<b>Topic 0</b><br>Words: 올해, 사랑, 동안, 회장, 서울",
          "<b>Topic 0</b><br>Words: 생산, 농가, 기반, 활성, 전략",
          "<b>Topic 0</b><br>Words: 축제, 농가, 생산, 조성, 교육",
          "<b>Topic 0</b><br>Words: 체육, 회장, 생활, 대회, 교류",
          "<b>Topic 0</b><br>Words: 청년, 확대, 운영, 전남도, 경제",
          "<b>Topic 0</b><br>Words: 학교, 도시, 어린이, 아이, 희망",
          "<b>Topic 0</b><br>Words: 농협, 경제, 농촌, 센터, 활성",
          "<b>Topic 0</b><br>Words: 사랑, 군수, 교육, 시설, 선거",
          "<b>Topic 0</b><br>Words: 아이, 인근, 사람, 이상, 마을",
          "<b>Topic 0</b><br>Words: 주요, 복합, 개최, 업무, 계획",
          "<b>Topic 0</b><br>Words: 산업, 복합, 단지, 농촌, 육성",
          "<b>Topic 0</b><br>Words: 청소년, 학교, 맞춤, 발굴, 서비스",
          "<b>Topic 0</b><br>Words: 청소년, 맞춤, 발굴, 학교, 센터",
          "<b>Topic 0</b><br>Words: 경영, 청년, 농업, 희망, 전문",
          "<b>Topic 0</b><br>Words: 학교, 올해, 교육청, 지방, 관계자",
          "<b>Topic 0</b><br>Words: 신청, 농가, 가능, 기술, 교육",
          "<b>Topic 0</b><br>Words: 올해, 교육, 학교, 대학, 교육청",
          "<b>Topic 0</b><br>Words: 학교, 올해, 가운데, 군민, 포함",
          "<b>Topic 0</b><br>Words: 대회, 경기, 체전, 전라남도, 체육",
          "<b>Topic 0</b><br>Words: 청년, 마을, 수도, 성공, 지방",
          "<b>Topic 0</b><br>Words: 대학, 학생, 국립, 방안, 교육",
          "<b>Topic 0</b><br>Words: 기업, 청년, 대학, 신청, 사회",
          "<b>Topic 0</b><br>Words: 농업, 기술, 교육, 정보, 박우량",
          "<b>Topic 0</b><br>Words: 이전, 전남도, 국민, 공간, 지자체",
          "<b>Topic 0</b><br>Words: 농업, 농촌, 확인, 정보, 기술",
          "<b>Topic 0</b><br>Words: 정원, 환경, 농가, 교육, 건강",
          "<b>Topic 0</b><br>Words: 학생, 사항, 전라남도, 설명, 공유",
          "<b>Topic 0</b><br>Words: 대회, 체육, 개최, 전라남도, 경기",
          "<b>Topic 0</b><br>Words: 학교, 예방, 생활, 학생, 안전",
          "<b>Topic 0</b><br>Words: 확보, 전략, 예산, 대응, 교육",
          "<b>Topic 0</b><br>Words: 교육, 식품, 홍보, 경영, 역량",
          "<b>Topic 0</b><br>Words: 지급, 공유, 아동, 재생, 에너지",
          "<b>Topic 0</b><br>Words: 정원, 현장, 조성, 박우량, 교육",
          "<b>Topic 0</b><br>Words: 정원, 현장, 조성, 진행, 교육",
          "<b>Topic 0</b><br>Words: 사랑, 예방, 활동, 지정, 상담",
          "<b>Topic 0</b><br>Words: 군민, 교육, 정원, 실시, 박우량",
          "<b>Topic 0</b><br>Words: 홍어, 기업, 희망, 우수, 정원",
          "<b>Topic 0</b><br>Words: 정원, 교육, 과정, 양성, 박우량",
          "<b>Topic 0</b><br>Words: 농업, 과정, 대학, 교육, 환경",
          "<b>Topic 0</b><br>Words: 확보, 예산, 상담, 지구, 김산",
          "<b>Topic 0</b><br>Words: 식품, 확대, 확보, 교육, 공공",
          "<b>Topic 0</b><br>Words: 대학, 경우, 교육, 주민, 지급",
          "<b>Topic 0</b><br>Words: 기술, 청년, 농업, 상담, 실시",
          "<b>Topic 0</b><br>Words: 사랑, 홍보, 청년, 산업, 축제",
          "<b>Topic 0</b><br>Words: 주민, 센터, 역할, 중심, 공간",
          "<b>Topic 0</b><br>Words: 디지털, 스마트, 체험, 구축, 박우량",
          "<b>Topic 0</b><br>Words: 국립, 대학, 학교, 경우, 신청",
          "<b>Topic 0</b><br>Words: 대학, 국립, 청소년, 학교, 지자체",
          "<b>Topic 0</b><br>Words: 관리, 안전, 보건, 점검, 김산",
          "<b>Topic 0</b><br>Words: 관리, 안전, 보건, 점검, 업무",
          "<b>Topic 0</b><br>Words: 기술, 이전, 체험, 농업, 농촌",
          "<b>Topic 0</b><br>Words: 창업, 청년, 대통령, 기업, 국민",
          "<b>Topic 0</b><br>Words: 유산, 중요, 농업, 세계, 추진",
          "<b>Topic 0</b><br>Words: 활용, 공간, 시설, 센터, 복합",
          "<b>Topic 0</b><br>Words: 신청, 창업, 교육, 양성, 활용",
          "<b>Topic 0</b><br>Words: 교육, 대표, 사회, 농가, 제공",
          "<b>Topic 0</b><br>Words: 점검, 전남도, 체전, 국제, 서비스",
          "<b>Topic 0</b><br>Words: 대학, 점검, 사항, 이상, 소득",
          "<b>Topic 0</b><br>Words: 장애인, 프로그램, 건강, 보건, 사회",
          "<b>Topic 0</b><br>Words: 체전, 전국, 자원, 장애인, 모집",
          "<b>Topic 0</b><br>Words: 스마트, 도시, 환경, 체전, 산업",
          "<b>Topic 0</b><br>Words: 스마트, 도시, 행사, 학생, 환경",
          "<b>Topic 0</b><br>Words: 농가, 소득, 교육, 안정, 프로그램",
          "<b>Topic 0</b><br>Words: 학생, 체험, 농가, 교육, 활동",
          "<b>Topic 0</b><br>Words: 공무원, 수도, 단체, 기초, 경우",
          "<b>Topic 0</b><br>Words: 체전, 전국, 체험, 추가, 방침",
          "<b>Topic 0</b><br>Words: 농업, 농촌, 복지, 건강, 정책",
          "<b>Topic 0</b><br>Words: 양식, 박우량, 군수, 확보, 전문",
          "<b>Topic 0</b><br>Words: 도시, 체험, 시설, 복지, 사회",
          "<b>Topic 0</b><br>Words: 교육, 청년, 미래, 학생, 조성",
          "<b>Topic 0</b><br>Words: 교육, 향상, 서비스, 실시, 진행",
          "<b>Topic 0</b><br>Words: 한국, 병원, 의료, 설립, 전국",
          "<b>Topic 0</b><br>Words: 교육, 향상, 상황, 서비스, 행정",
          "<b>Topic 0</b><br>Words: 학생, 현장, 추진, 기술, 확대",
          "<b>Topic 0</b><br>Words: 예방, 김산, 교육, 군수, 대상",
          "<b>Topic 0</b><br>Words: 체육, 회장, 생활, 위원회, 대회",
          "<b>Topic 0</b><br>Words: 체험, 행사, 기술, 관련, 활용",
          "<b>Topic 0</b><br>Words: 체육, 근로자, 대회, 개최, 전국",
          "<b>Topic 0</b><br>Words: 청소년, 상담, 위기, 복지, 활동",
          "<b>Topic 0</b><br>Words: 예산, 참여, 청소년, 주민, 학교",
          "<b>Topic 0</b><br>Words: 종합, 대상, 전국, 장애인, 개최",
          "<b>Topic 0</b><br>Words: 활용, 교수, 농업, 관광, 사용",
          "<b>Topic 0</b><br>Words: 활동, 국가, 복지, 가족, 참여",
          "<b>Topic 0</b><br>Words: 농촌, 농업, 회장, 한국, 식품",
          "<b>Topic 0</b><br>Words: 농업, 기술, 개최, 전환, 인력",
          "<b>Topic 0</b><br>Words: 전남도, 체육, 체전, 회장, 전국",
          "<b>Topic 0</b><br>Words: 체전, 전국, 장애인, 이전, 전남도",
          "<b>Topic 0</b><br>Words: 대회, 체전, 전국, 장애인, 한국",
          "<b>Topic 0</b><br>Words: 대회, 한국, 동안, 양성, 인재",
          "<b>Topic 0</b><br>Words: 체전, 전국, 모집, 장애인, 참여",
          "<b>Topic 0</b><br>Words: 이전, 유치, 축제, 발표, 공공",
          "<b>Topic 0</b><br>Words: 인재, 대학, 학생, 박우량, 상황",
          "<b>Topic 0</b><br>Words: 교육, 정책, 공무원, 행정, 개발",
          "<b>Topic 0</b><br>Words: 교육, 학생, 미래, 학교, 지급",
          "<b>Topic 0</b><br>Words: 지방, 인구, 정책, 추진, 계획",
          "<b>Topic 0</b><br>Words: 대표, 올해, 생활, 창업, 기대",
          "<b>Topic 0</b><br>Words: 대회, 교육, 체육, 국제, 단체",
          "<b>Topic 0</b><br>Words: 마을, 조사, 교육, 생산, 축제",
          "<b>Topic 0</b><br>Words: 지급, 교육, 교육청, 학생, 스마트",
          "<b>Topic 0</b><br>Words: 지급, 교육, 교육청, 학생, 복지",
          "<b>Topic 0</b><br>Words: 지급, 교육, 전남도, 학생, 교육청",
          "<b>Topic 0</b><br>Words: 스마트, 인재, 청년, 교육, 운영",
          "<b>Topic 0</b><br>Words: 사회, 김산, 군수, 다양, 최선",
          "<b>Topic 0</b><br>Words: 인력, 사회, 복지, 교육, 시설",
          "<b>Topic 0</b><br>Words: 프로그램, 시설, 대상, 김산, 모집",
          "<b>Topic 0</b><br>Words: 정보, 개최, 교육, 수도, 전문가",
          "<b>Topic 0</b><br>Words: 체전, 전국, 장애인, 교육, 참여",
          "<b>Topic 0</b><br>Words: 보건, 건강, 프로그램, 주민, 특화",
          "<b>Topic 0</b><br>Words: 주택, 안정, 위기, 인구, 모집",
          "<b>Topic 0</b><br>Words: 신청, 농가, 성공, 대학, 예정",
          "<b>Topic 0</b><br>Words: 신청, 우수, 대학, 모집, 경우",
          "<b>Topic 0</b><br>Words: 일자리, 기업, 참여, 모집, 경제",
          "<b>Topic 0</b><br>Words: 일자리, 기업, 참여, 모집, 진흥원",
          "<b>Topic 0</b><br>Words: 일자리, 참여, 기업, 고용, 모집",
          "<b>Topic 0</b><br>Words: 창업, 기술, 교육, 기업, 모집",
          "<b>Topic 0</b><br>Words: 개발, 농가, 교육, 이번, 진행",
          "<b>Topic 0</b><br>Words: 농가, 개발, 교육, 진행, 활용",
          "<b>Topic 0</b><br>Words: 소득, 향상, 대표, 박우량, 생산",
          "<b>Topic 0</b><br>Words: 체전, 전국, 개최, 설치, 홍보",
          "<b>Topic 0</b><br>Words: 대표, 농협, 농가, 향상, 소득",
          "<b>Topic 0</b><br>Words: 농가, 향상, 회의, 추진, 활성",
          "<b>Topic 0</b><br>Words: 마을, 운영, 프로그램, 예방, 개선",
          "<b>Topic 0</b><br>Words: 교육, 운영, 역할, 시간, 프로그램",
          "<b>Topic 0</b><br>Words: 창업, 기술, 진흥원, 기업, 센터",
          "<b>Topic 0</b><br>Words: 청년, 일자리, 창업, 근로자, 이전",
          "<b>Topic 0</b><br>Words: 청년, 대표, 일자리, 창업, 교육",
          "<b>Topic 0</b><br>Words: 청소년, 안전, 교육, 증가, 아동",
          "<b>Topic 0</b><br>Words: 대회, 교육청, 육성, 교육, 학생",
          "<b>Topic 0</b><br>Words: 디지털, 교육, 참여, 과정, 대상",
          "<b>Topic 0</b><br>Words: 디지털, 교육, 과정, 지급, 활용",
          "<b>Topic 0</b><br>Words: 예방, 어린이, 건강, 김산, 아동",
          "<b>Topic 0</b><br>Words: 기간, 대회, 동안, 활동, 다양",
          "<b>Topic 0</b><br>Words: 대회, 기술, 연구, 설립, 교육",
          "<b>Topic 0</b><br>Words: 일자리, 기업, 참여, 진흥원, 기회",
          "<b>Topic 0</b><br>Words: 근로자, 가족, 개선, 산업, 안전",
          "<b>Topic 0</b><br>Words: 대회, 다양, 홍보, 미래, 활동",
          "<b>Topic 0</b><br>Words: 사항, 추진, 상황, 도시, 최선",
          "<b>Topic 0</b><br>Words: 스마트, 교육, 센터, 청년, 체전",
          "<b>Topic 0</b><br>Words: 종합, 올해, 목표, 대회, 전국",
          "<b>Topic 0</b><br>Words: 스마트, 디지털, 과정, 교육, 청년",
          "<b>Topic 0</b><br>Words: 전라남도, 대회, 대표, 체육, 우리",
          "<b>Topic 0</b><br>Words: 학교, 체육, 제공, 학생, 아동",
          "<b>Topic 0</b><br>Words: 학교, 제공, 학생, 주민, 일자리",
          "<b>Topic 0</b><br>Words: 경기, 운동, 한국, 전국, 체전",
          "<b>Topic 0</b><br>Words: 대회, 체육, 종합, 회장, 향상",
          "<b>Topic 0</b><br>Words: 조성, 센터, 선정, 성장, 미래",
          "<b>Topic 0</b><br>Words: 조성, 센터, 선정, 성장, 미래",
          "<b>Topic 0</b><br>Words: 세대, 학생, 가구, 학교, 제공",
          "<b>Topic 0</b><br>Words: 세대, 가구, 학생, 학교, 위기",
          "<b>Topic 0</b><br>Words: 학교, 운영, 체험, 예방, 공동",
          "<b>Topic 0</b><br>Words: 지급, 분야, 김산, 설치, 우리",
          "<b>Topic 0</b><br>Words: 안전, 발생, 지급, 교육, 분야",
          "<b>Topic 0</b><br>Words: 학생, 디지털, 교육, 활용, 과정",
          "<b>Topic 0</b><br>Words: 주민, 공간, 체험, 호남, 지자체",
          "<b>Topic 0</b><br>Words: 농가, 관심, 육성, 우수, 교육",
          "<b>Topic 0</b><br>Words: 마을, 청년, 서비스, 사회, 조성",
          "<b>Topic 0</b><br>Words: 복지, 강화, 역량, 업무, 시간",
          "<b>Topic 0</b><br>Words: 자치, 우수, 전남도, 규모, 선정",
          "<b>Topic 0</b><br>Words: 군수, 목표, 박우량, 군민, 시간",
          "<b>Topic 0</b><br>Words: 청소년, 교육, 군민, 활동, 운영",
          "<b>Topic 0</b><br>Words: 대학, 교육, 발전, 혁신, 선정",
          "<b>Topic 0</b><br>Words: 환경, 사용, 주민, 설치, 이용",
          "<b>Topic 0</b><br>Words: 장애인, 대회, 대표, 국가, 이후"
         ],
         "marker": {
          "color": "#E69F00"
         },
         "mode": "lines",
         "name": "0_교육_학교_학생_청년",
         "type": "scatter",
         "x": [
          "2021-01-03T00:00:00",
          "2021-01-07T00:00:00",
          "2021-01-11T00:00:00",
          "2021-01-12T00:00:00",
          "2021-01-13T00:00:00",
          "2021-01-14T00:00:00",
          "2021-01-15T00:00:00",
          "2021-01-21T00:00:00",
          "2021-01-22T00:00:00",
          "2021-01-26T00:00:00",
          "2021-01-31T00:00:00",
          "2021-02-01T00:00:00",
          "2021-02-03T00:00:00",
          "2021-02-04T00:00:00",
          "2021-02-08T00:00:00",
          "2021-02-10T00:00:00",
          "2021-02-16T00:00:00",
          "2021-02-17T00:00:00",
          "2021-02-18T00:00:00",
          "2021-02-25T00:00:00",
          "2021-03-04T00:00:00",
          "2021-03-05T00:00:00",
          "2021-03-07T00:00:00",
          "2021-03-11T00:00:00",
          "2021-03-15T00:00:00",
          "2021-03-18T00:00:00",
          "2021-03-19T00:00:00",
          "2021-03-20T00:00:00",
          "2021-03-22T00:00:00",
          "2021-03-23T00:00:00",
          "2021-03-24T00:00:00",
          "2021-03-25T00:00:00",
          "2021-03-26T00:00:00",
          "2021-03-28T00:00:00",
          "2021-03-29T00:00:00",
          "2021-04-01T00:00:00",
          "2021-04-04T00:00:00",
          "2021-04-05T00:00:00",
          "2021-04-06T00:00:00",
          "2021-04-07T00:00:00",
          "2021-04-08T00:00:00",
          "2021-04-11T00:00:00",
          "2021-04-12T00:00:00",
          "2021-04-13T00:00:00",
          "2021-04-14T00:00:00",
          "2021-04-15T00:00:00",
          "2021-04-16T00:00:00",
          "2021-04-19T00:00:00",
          "2021-04-21T00:00:00",
          "2021-04-23T00:00:00",
          "2021-04-26T00:00:00",
          "2021-04-28T00:00:00",
          "2021-04-29T00:00:00",
          "2021-05-02T00:00:00",
          "2021-05-03T00:00:00",
          "2021-05-06T00:00:00",
          "2021-05-10T00:00:00",
          "2021-05-11T00:00:00",
          "2021-05-18T00:00:00",
          "2021-05-25T00:00:00",
          "2021-05-26T00:00:00",
          "2021-05-27T00:00:00",
          "2021-05-28T00:00:00",
          "2021-05-29T00:00:00",
          "2021-05-30T00:00:00",
          "2021-06-07T00:00:00",
          "2021-06-09T00:00:00",
          "2021-06-11T00:00:00",
          "2021-06-21T00:00:00",
          "2021-06-23T00:00:00",
          "2021-06-24T00:00:00",
          "2021-07-02T00:00:00",
          "2021-07-05T00:00:00",
          "2021-07-06T00:00:00",
          "2021-07-07T00:00:00",
          "2021-07-08T00:00:00",
          "2021-07-22T00:00:00",
          "2021-07-25T00:00:00",
          "2021-07-26T00:00:00",
          "2021-07-27T00:00:00",
          "2021-07-28T00:00:00",
          "2021-07-29T00:00:00",
          "2021-08-01T00:00:00",
          "2021-08-02T00:00:00",
          "2021-08-03T00:00:00",
          "2021-08-05T00:00:00",
          "2021-08-06T00:00:00",
          "2021-08-08T00:00:00",
          "2021-08-11T00:00:00",
          "2021-08-22T00:00:00",
          "2021-08-25T00:00:00",
          "2021-08-26T00:00:00",
          "2021-08-27T00:00:00",
          "2021-08-31T00:00:00",
          "2021-09-01T00:00:00",
          "2021-09-02T00:00:00",
          "2021-09-05T00:00:00",
          "2021-09-08T00:00:00",
          "2021-09-10T00:00:00",
          "2021-09-12T00:00:00",
          "2021-09-13T00:00:00",
          "2021-09-14T00:00:00",
          "2021-09-22T00:00:00",
          "2021-09-30T00:00:00",
          "2021-10-01T00:00:00",
          "2021-10-04T00:00:00",
          "2021-10-06T00:00:00",
          "2021-10-07T00:00:00",
          "2021-10-21T00:00:00",
          "2021-10-22T00:00:00",
          "2021-10-25T00:00:00",
          "2021-10-26T00:00:00",
          "2021-10-27T00:00:00",
          "2021-10-28T00:00:00",
          "2021-10-31T00:00:00",
          "2021-11-01T00:00:00",
          "2021-11-04T00:00:00",
          "2021-11-08T00:00:00",
          "2021-11-09T00:00:00",
          "2021-11-10T00:00:00",
          "2021-11-14T00:00:00",
          "2021-11-15T00:00:00",
          "2021-11-17T00:00:00",
          "2021-11-18T00:00:00",
          "2021-11-20T00:00:00",
          "2021-11-21T00:00:00",
          "2021-11-23T00:00:00",
          "2021-11-24T00:00:00",
          "2021-11-26T00:00:00",
          "2021-11-28T00:00:00",
          "2021-11-29T00:00:00",
          "2021-12-01T00:00:00",
          "2021-12-02T00:00:00",
          "2021-12-03T00:00:00",
          "2021-12-06T00:00:00",
          "2021-12-08T00:00:00",
          "2021-12-09T00:00:00",
          "2021-12-10T00:00:00",
          "2021-12-14T00:00:00",
          "2021-12-15T00:00:00",
          "2021-12-17T00:00:00",
          "2021-12-20T00:00:00",
          "2021-12-21T00:00:00",
          "2021-12-22T00:00:00",
          "2021-12-23T00:00:00",
          "2021-12-28T00:00:00",
          "2021-12-29T00:00:00",
          "2021-12-30T00:00:00",
          "2022-01-02T00:00:00",
          "2022-01-05T00:00:00",
          "2022-01-06T00:00:00",
          "2022-01-08T00:00:00",
          "2022-01-09T00:00:00",
          "2022-01-13T00:00:00",
          "2022-01-17T00:00:00",
          "2022-01-18T00:00:00",
          "2022-01-19T00:00:00",
          "2022-01-20T00:00:00",
          "2022-01-24T00:00:00",
          "2022-01-25T00:00:00",
          "2022-01-27T00:00:00",
          "2022-01-28T00:00:00",
          "2022-02-03T00:00:00",
          "2022-02-07T00:00:00",
          "2022-02-08T00:00:00",
          "2022-02-09T00:00:00",
          "2022-02-11T00:00:00",
          "2022-02-13T00:00:00",
          "2022-02-14T00:00:00",
          "2022-02-17T00:00:00",
          "2022-02-20T00:00:00",
          "2022-02-21T00:00:00",
          "2022-02-22T00:00:00",
          "2022-02-23T00:00:00",
          "2022-02-24T00:00:00",
          "2022-02-27T00:00:00",
          "2022-03-01T00:00:00",
          "2022-03-03T00:00:00",
          "2022-03-06T00:00:00",
          "2022-03-14T00:00:00",
          "2022-03-17T00:00:00",
          "2022-03-18T00:00:00",
          "2022-03-20T00:00:00",
          "2022-03-21T00:00:00",
          "2022-03-22T00:00:00",
          "2022-03-23T00:00:00",
          "2022-03-29T00:00:00",
          "2022-03-31T00:00:00",
          "2022-04-01T00:00:00",
          "2022-04-03T00:00:00",
          "2022-04-05T00:00:00",
          "2022-04-06T00:00:00",
          "2022-04-13T00:00:00",
          "2022-04-15T00:00:00",
          "2022-04-17T00:00:00",
          "2022-04-18T00:00:00",
          "2022-04-19T00:00:00",
          "2022-04-20T00:00:00",
          "2022-04-21T00:00:00",
          "2022-04-22T00:00:00",
          "2022-04-25T00:00:00",
          "2022-04-27T00:00:00",
          "2022-04-28T00:00:00",
          "2022-05-01T00:00:00",
          "2022-05-02T00:00:00",
          "2022-05-03T00:00:00",
          "2022-05-10T00:00:00",
          "2022-05-12T00:00:00",
          "2022-05-13T00:00:00",
          "2022-05-15T00:00:00",
          "2022-05-16T00:00:00",
          "2022-05-17T00:00:00",
          "2022-05-20T00:00:00",
          "2022-05-22T00:00:00",
          "2022-05-23T00:00:00",
          "2022-05-25T00:00:00",
          "2022-05-27T00:00:00",
          "2022-05-29T00:00:00",
          "2022-05-30T00:00:00",
          "2022-05-31T00:00:00",
          "2022-06-03T00:00:00",
          "2022-06-06T00:00:00",
          "2022-06-07T00:00:00",
          "2022-06-08T00:00:00",
          "2022-06-09T00:00:00",
          "2022-06-15T00:00:00",
          "2022-06-19T00:00:00",
          "2022-06-20T00:00:00",
          "2022-06-21T00:00:00",
          "2022-06-22T00:00:00",
          "2022-06-23T00:00:00",
          "2022-06-24T00:00:00",
          "2022-06-26T00:00:00",
          "2022-06-28T00:00:00",
          "2022-06-29T00:00:00",
          "2022-07-03T00:00:00",
          "2022-07-05T00:00:00",
          "2022-07-07T00:00:00",
          "2022-07-08T00:00:00",
          "2022-07-10T00:00:00",
          "2022-07-12T00:00:00",
          "2022-07-13T00:00:00",
          "2022-07-18T00:00:00",
          "2022-07-21T00:00:00",
          "2022-07-22T00:00:00",
          "2022-07-25T00:00:00",
          "2022-07-26T00:00:00",
          "2022-07-27T00:00:00",
          "2022-07-28T00:00:00",
          "2022-08-01T00:00:00",
          "2022-08-02T00:00:00",
          "2022-08-04T00:00:00",
          "2022-08-07T00:00:00",
          "2022-08-08T00:00:00",
          "2022-08-09T00:00:00",
          "2022-08-16T00:00:00",
          "2022-08-17T00:00:00",
          "2022-08-19T00:00:00",
          "2022-08-21T00:00:00",
          "2022-08-22T00:00:00",
          "2022-08-23T00:00:00",
          "2022-08-24T00:00:00",
          "2022-08-28T00:00:00",
          "2022-08-30T00:00:00",
          "2022-08-31T00:00:00",
          "2022-09-01T00:00:00",
          "2022-09-07T00:00:00",
          "2022-09-13T00:00:00",
          "2022-09-15T00:00:00",
          "2022-09-16T00:00:00",
          "2022-09-20T00:00:00",
          "2022-09-21T00:00:00",
          "2022-09-25T00:00:00",
          "2022-09-26T00:00:00",
          "2022-09-27T00:00:00",
          "2022-09-29T00:00:00",
          "2022-10-05T00:00:00",
          "2022-10-11T00:00:00",
          "2022-10-13T00:00:00",
          "2022-10-17T00:00:00",
          "2022-10-18T00:00:00",
          "2022-10-19T00:00:00",
          "2022-10-20T00:00:00",
          "2022-10-23T00:00:00",
          "2022-10-25T00:00:00",
          "2022-10-29T00:00:00",
          "2022-10-30T00:00:00",
          "2022-11-01T00:00:00",
          "2022-11-02T00:00:00",
          "2022-11-06T00:00:00",
          "2022-11-07T00:00:00",
          "2022-11-08T00:00:00",
          "2022-11-09T00:00:00",
          "2022-11-13T00:00:00",
          "2022-11-15T00:00:00",
          "2022-11-17T00:00:00",
          "2022-11-20T00:00:00",
          "2022-11-21T00:00:00",
          "2022-11-23T00:00:00",
          "2022-11-28T00:00:00",
          "2022-11-29T00:00:00",
          "2022-12-01T00:00:00",
          "2022-12-02T00:00:00",
          "2022-12-09T00:00:00",
          "2022-12-11T00:00:00",
          "2022-12-12T00:00:00",
          "2022-12-13T00:00:00",
          "2022-12-14T00:00:00",
          "2022-12-15T00:00:00",
          "2022-12-18T00:00:00",
          "2022-12-19T00:00:00",
          "2022-12-20T00:00:00",
          "2022-12-21T00:00:00",
          "2022-12-23T00:00:00",
          "2022-12-26T00:00:00",
          "2022-12-28T00:00:00",
          "2022-12-30T00:00:00",
          "2023-01-01T00:00:00",
          "2023-01-02T00:00:00",
          "2023-01-03T00:00:00",
          "2023-01-05T00:00:00",
          "2023-01-07T00:00:00",
          "2023-01-08T00:00:00",
          "2023-01-10T00:00:00",
          "2023-01-11T00:00:00",
          "2023-01-12T00:00:00",
          "2023-01-16T00:00:00",
          "2023-01-17T00:00:00",
          "2023-01-18T00:00:00",
          "2023-01-22T00:00:00",
          "2023-01-24T00:00:00",
          "2023-01-25T00:00:00",
          "2023-01-26T00:00:00",
          "2023-01-29T00:00:00",
          "2023-01-30T00:00:00",
          "2023-02-01T00:00:00",
          "2023-02-03T00:00:00",
          "2023-02-07T00:00:00",
          "2023-02-12T00:00:00",
          "2023-02-14T00:00:00",
          "2023-02-19T00:00:00",
          "2023-02-22T00:00:00",
          "2023-02-23T00:00:00",
          "2023-03-02T00:00:00",
          "2023-03-07T00:00:00",
          "2023-03-08T00:00:00",
          "2023-03-13T00:00:00",
          "2023-03-14T00:00:00",
          "2023-03-15T00:00:00",
          "2023-03-16T00:00:00",
          "2023-03-20T00:00:00",
          "2023-03-21T00:00:00",
          "2023-03-22T00:00:00",
          "2023-03-23T00:00:00",
          "2023-03-26T00:00:00",
          "2023-03-28T00:00:00",
          "2023-03-29T00:00:00",
          "2023-03-31T00:00:00",
          "2023-04-02T00:00:00",
          "2023-04-03T00:00:00",
          "2023-04-04T00:00:00",
          "2023-04-06T00:00:00",
          "2023-04-09T00:00:00",
          "2023-04-10T00:00:00",
          "2023-04-11T00:00:00",
          "2023-04-12T00:00:00",
          "2023-04-13T00:00:00",
          "2023-04-17T00:00:00",
          "2023-04-19T00:00:00",
          "2023-04-20T00:00:00",
          "2023-04-25T00:00:00",
          "2023-04-27T00:00:00",
          "2023-05-01T00:00:00",
          "2023-05-02T00:00:00",
          "2023-05-04T00:00:00",
          "2023-05-07T00:00:00",
          "2023-05-08T00:00:00",
          "2023-05-09T00:00:00",
          "2023-05-10T00:00:00",
          "2023-05-11T00:00:00",
          "2023-05-12T00:00:00",
          "2023-05-15T00:00:00",
          "2023-05-18T00:00:00",
          "2023-05-19T00:00:00",
          "2023-05-23T00:00:00",
          "2023-05-24T00:00:00",
          "2023-05-25T00:00:00",
          "2023-05-26T00:00:00",
          "2023-05-29T00:00:00",
          "2023-05-30T00:00:00",
          "2023-05-31T00:00:00",
          "2023-06-01T00:00:00",
          "2023-06-02T00:00:00",
          "2023-06-04T00:00:00",
          "2023-06-05T00:00:00",
          "2023-06-06T00:00:00",
          "2023-06-07T00:00:00",
          "2023-06-08T00:00:00",
          "2023-06-11T00:00:00",
          "2023-06-12T00:00:00",
          "2023-06-15T00:00:00",
          "2023-06-18T00:00:00",
          "2023-06-20T00:00:00",
          "2023-06-21T00:00:00",
          "2023-06-22T00:00:00",
          "2023-06-25T00:00:00",
          "2023-06-26T00:00:00",
          "2023-06-27T00:00:00",
          "2023-06-30T00:00:00",
          "2023-07-04T00:00:00",
          "2023-07-06T00:00:00",
          "2023-07-08T00:00:00",
          "2023-07-11T00:00:00",
          "2023-07-17T00:00:00",
          "2023-07-19T00:00:00",
          "2023-07-20T00:00:00",
          "2023-07-21T00:00:00",
          "2023-07-23T00:00:00",
          "2023-07-25T00:00:00",
          "2023-07-26T00:00:00",
          "2023-08-01T00:00:00",
          "2023-08-02T00:00:00",
          "2023-08-03T00:00:00",
          "2023-08-07T00:00:00",
          "2023-08-09T00:00:00",
          "2023-08-13T00:00:00",
          "2023-08-14T00:00:00",
          "2023-08-16T00:00:00",
          "2023-08-17T00:00:00",
          "2023-08-20T00:00:00",
          "2023-08-21T00:00:00",
          "2023-08-22T00:00:00",
          "2023-08-23T00:00:00",
          "2023-08-25T00:00:00",
          "2023-08-26T00:00:00",
          "2023-08-27T00:00:00",
          "2023-08-28T00:00:00",
          "2023-08-29T00:00:00",
          "2023-08-31T00:00:00",
          "2023-09-03T00:00:00",
          "2023-09-04T00:00:00",
          "2023-09-05T00:00:00",
          "2023-09-07T00:00:00",
          "2023-09-10T00:00:00",
          "2023-09-12T00:00:00",
          "2023-09-13T00:00:00",
          "2023-09-18T00:00:00",
          "2023-09-19T00:00:00",
          "2023-09-21T00:00:00",
          "2023-09-24T00:00:00",
          "2023-09-26T00:00:00",
          "2023-09-28T00:00:00",
          "2023-10-04T00:00:00",
          "2023-10-05T00:00:00",
          "2023-10-06T00:00:00",
          "2023-10-08T00:00:00",
          "2023-10-14T00:00:00",
          "2023-10-16T00:00:00",
          "2023-10-17T00:00:00",
          "2023-10-18T00:00:00",
          "2023-10-20T00:00:00",
          "2023-10-25T00:00:00",
          "2023-10-26T00:00:00",
          "2023-10-30T00:00:00",
          "2023-10-31T00:00:00",
          "2023-11-02T00:00:00",
          "2023-11-03T00:00:00",
          "2023-11-05T00:00:00",
          "2023-11-06T00:00:00",
          "2023-11-07T00:00:00",
          "2023-11-08T00:00:00",
          "2023-11-09T00:00:00",
          "2023-11-10T00:00:00",
          "2023-11-16T00:00:00",
          "2023-11-20T00:00:00",
          "2023-11-21T00:00:00",
          "2023-11-22T00:00:00",
          "2023-11-23T00:00:00",
          "2023-11-27T00:00:00"
         ],
         "y": [
          1,
          2,
          1,
          1,
          1,
          1,
          3,
          1,
          1,
          3,
          2,
          2,
          4,
          1,
          1,
          2,
          2,
          2,
          1,
          1,
          2,
          2,
          1,
          1,
          1,
          1,
          2,
          1,
          6,
          4,
          2,
          1,
          1,
          1,
          2,
          3,
          1,
          1,
          1,
          1,
          1,
          2,
          1,
          2,
          1,
          1,
          3,
          2,
          2,
          1,
          2,
          1,
          2,
          1,
          2,
          1,
          2,
          1,
          1,
          1,
          1,
          1,
          1,
          1,
          1,
          3,
          1,
          1,
          2,
          1,
          1,
          1,
          1,
          3,
          2,
          1,
          1,
          1,
          4,
          5,
          3,
          3,
          5,
          4,
          4,
          2,
          1,
          1,
          2,
          1,
          1,
          1,
          1,
          2,
          2,
          1,
          1,
          3,
          1,
          1,
          3,
          3,
          1,
          3,
          1,
          1,
          1,
          2,
          2,
          2,
          2,
          2,
          1,
          1,
          2,
          1,
          3,
          2,
          1,
          1,
          1,
          1,
          3,
          1,
          1,
          2,
          2,
          6,
          2,
          1,
          1,
          1,
          2,
          2,
          1,
          4,
          4,
          1,
          2,
          2,
          3,
          2,
          1,
          1,
          6,
          1,
          5,
          1,
          1,
          1,
          2,
          1,
          1,
          1,
          1,
          2,
          1,
          1,
          3,
          1,
          1,
          1,
          3,
          1,
          1,
          1,
          1,
          1,
          2,
          1,
          1,
          2,
          1,
          2,
          1,
          1,
          2,
          1,
          1,
          1,
          3,
          3,
          2,
          4,
          3,
          3,
          1,
          1,
          2,
          3,
          1,
          2,
          1,
          3,
          5,
          2,
          1,
          1,
          5,
          1,
          8,
          4,
          5,
          2,
          1,
          2,
          4,
          1,
          3,
          3,
          2,
          2,
          1,
          1,
          3,
          3,
          1,
          1,
          1,
          1,
          1,
          4,
          2,
          3,
          3,
          3,
          1,
          3,
          2,
          2,
          1,
          2,
          1,
          2,
          3,
          2,
          2,
          1,
          1,
          1,
          3,
          1,
          2,
          2,
          5,
          1,
          2,
          2,
          1,
          12,
          1,
          1,
          5,
          1,
          2,
          2,
          2,
          1,
          2,
          3,
          8,
          1,
          1,
          1,
          3,
          2,
          1,
          3,
          1,
          1,
          1,
          1,
          1,
          1,
          2,
          1,
          1,
          3,
          2,
          1,
          1,
          1,
          3,
          3,
          2,
          1,
          3,
          2,
          3,
          2,
          1,
          1,
          1,
          1,
          1,
          3,
          1,
          1,
          1,
          2,
          1,
          5,
          1,
          1,
          1,
          1,
          1,
          1,
          1,
          1,
          1,
          4,
          1,
          1,
          1,
          2,
          1,
          1,
          2,
          2,
          1,
          1,
          2,
          1,
          1,
          1,
          1,
          1,
          1,
          1,
          2,
          5,
          4,
          2,
          1,
          1,
          1,
          2,
          1,
          1,
          1,
          5,
          1,
          1,
          1,
          3,
          1,
          1,
          1,
          1,
          2,
          1,
          3,
          1,
          1,
          1,
          3,
          2,
          3,
          2,
          1,
          1,
          3,
          3,
          1,
          1,
          1,
          3,
          2,
          2,
          1,
          2,
          2,
          3,
          1,
          3,
          2,
          2,
          2,
          4,
          1,
          2,
          1,
          1,
          3,
          4,
          1,
          1,
          1,
          2,
          1,
          3,
          1,
          2,
          1,
          1,
          1,
          2,
          1,
          1,
          1,
          1,
          4,
          4,
          1,
          1,
          3,
          1,
          2,
          1,
          1,
          1,
          2,
          3,
          2,
          6,
          1,
          1,
          1,
          2,
          1,
          1,
          7,
          1,
          1,
          2,
          1,
          6,
          2,
          1,
          2,
          2,
          1,
          1,
          1,
          1,
          2,
          1,
          1,
          1,
          6,
          4,
          2,
          1,
          2,
          2,
          1,
          1,
          5,
          1,
          2,
          1,
          1,
          3,
          1,
          1,
          1,
          5,
          6,
          2,
          1,
          10,
          1,
          7,
          8,
          1,
          2,
          2,
          3,
          1,
          1,
          4,
          1,
          1,
          1,
          3,
          2,
          1,
          1
         ]
        },
        {
         "hoverinfo": "text",
         "hovertext": [
          "<b>Topic 1</b><br>Words: 도시, 시민, 관광, 문학, 해상",
          "<b>Topic 1</b><br>Words: 도시, 개발, 해상, 산업, 풍력",
          "<b>Topic 1</b><br>Words: 구축, 공간, 조사, 발굴, 자원",
          "<b>Topic 1</b><br>Words: 구축, 도시, 관광, 공간, 조성",
          "<b>Topic 1</b><br>Words: 관광, 도시, 코로나, 스마트, 시대",
          "<b>Topic 1</b><br>Words: 창업, 전문, 기술, 구축, 추진",
          "<b>Topic 1</b><br>Words: 도시, 개발, 산업, 환경, 식품",
          "<b>Topic 1</b><br>Words: 도시, 유치, 개발, 산업, 환경",
          "<b>Topic 1</b><br>Words: 보건, 코로나, 동안, 회장, 대응",
          "<b>Topic 1</b><br>Words: 병원, 의료, 보건, 인구, 인력",
          "<b>Topic 1</b><br>Words: 체험, 현장, 협약, 도시, 역사",
          "<b>Topic 1</b><br>Words: 교육, 제공, 해양, 건립, 수산",
          "<b>Topic 1</b><br>Words: 협약, 도시, 체험, 현장, 미래",
          "<b>Topic 1</b><br>Words: 예술, 협력, 협약, 업무, 국립",
          "<b>Topic 1</b><br>Words: 풍력, 해상, 협력, 인재, 양성",
          "<b>Topic 1</b><br>Words: 재생, 도시, 공원, 규모, 시민",
          "<b>Topic 1</b><br>Words: 안전, 시민, 시스템, 대응, 통합",
          "<b>Topic 1</b><br>Words: 안전, 시민, 시스템, 대응, 통합",
          "<b>Topic 1</b><br>Words: 일자리, 서비스, 이상, 참여, 모집",
          "<b>Topic 1</b><br>Words: 일자리, 서비스, 이상, 참여, 모집",
          "<b>Topic 1</b><br>Words: 문학, 도시, 시민, 행사, 다양",
          "<b>Topic 1</b><br>Words: 어린이, 교통, 안전, 학교, 예산",
          "<b>Topic 1</b><br>Words: 창업, 식품, 수산, 교육, 추진",
          "<b>Topic 1</b><br>Words: 현장, 안전, 건설, 관리, 강화",
          "<b>Topic 1</b><br>Words: 어린이, 식품, 국립, 교수, 관리",
          "<b>Topic 1</b><br>Words: 어린이, 프로그램, 건강, 센터, 상황",
          "<b>Topic 1</b><br>Words: 주택, 예방, 최선, 효과, 증가",
          "<b>Topic 1</b><br>Words: 청년, 일자리, 산업, 경제, 전문",
          "<b>Topic 1</b><br>Words: 의료, 공공, 코로나, 기관, 건강",
          "<b>Topic 1</b><br>Words: 문학, 전문가, 한국, 도시, 개최",
          "<b>Topic 1</b><br>Words: 양성, 시민, 학교, 과정, 도시",
          "<b>Topic 1</b><br>Words: 양성, 학교, 운영, 인력, 연계",
          "<b>Topic 1</b><br>Words: 시간, 주민, 건설, 교통, 생활",
          "<b>Topic 1</b><br>Words: 학생, 취재, 호남, 본부, 학교",
          "<b>Topic 1</b><br>Words: 시설, 해양, 관광, 안전, 선정",
          "<b>Topic 1</b><br>Words: 도시, 시민, 공공, 위원회, 경영",
          "<b>Topic 1</b><br>Words: 시민, 신청, 버스, 기업, 대표",
          "<b>Topic 1</b><br>Words: 버스, 신청, 학생, 운영, 시민",
          "<b>Topic 1</b><br>Words: 공모, 취업, 여성, 인력, 정비",
          "<b>Topic 1</b><br>Words: 취업, 청년, 관리, 관계자, 프로그램",
          "<b>Topic 1</b><br>Words: 취업, 청년, 프로그램, 참여, 모집",
          "<b>Topic 1</b><br>Words: 신청, 코로나, 관광, 관광객, 모집",
          "<b>Topic 1</b><br>Words: 복지, 시민, 다양, 향상, 센터",
          "<b>Topic 1</b><br>Words: 취업, 청년, 신청, 프로그램, 참여",
          "<b>Topic 1</b><br>Words: 안전, 청소년, 활동, 확산, 개소",
          "<b>Topic 1</b><br>Words: 전라남도, 일자리, 사회, 활용, 제공",
          "<b>Topic 1</b><br>Words: 생물, 체험, 시민, 아이, 학교",
          "<b>Topic 1</b><br>Words: 사용, 대학, 단체, 시민, 대상",
          "<b>Topic 1</b><br>Words: 어린이, 센터, 프로그램, 관리, 참여",
          "<b>Topic 1</b><br>Words: 대학, 유치, 학교, 홍보, 활동",
          "<b>Topic 1</b><br>Words: 경영, 교육, 실시, 전략, 변화",
          "<b>Topic 1</b><br>Words: 의료, 대학, 설립, 경영, 인력",
          "<b>Topic 1</b><br>Words: 통합, 의료, 병원, 대학, 설립",
          "<b>Topic 1</b><br>Words: 교통, 군민, 버스, 운영, 마을",
          "<b>Topic 1</b><br>Words: 의료, 병원, 대학, 설립, 설치",
          "<b>Topic 1</b><br>Words: 의료, 병원, 대학, 설립, 설치",
          "<b>Topic 1</b><br>Words: 회의, 대학, 학교, 교수, 선정",
          "<b>Topic 1</b><br>Words: 예방, 실시, 복지, 이상, 개소",
          "<b>Topic 1</b><br>Words: 가족, 사랑, 사회, 재단, 건강",
          "<b>Topic 1</b><br>Words: 조성, 시설, 환경, 유치, 추진",
          "<b>Topic 1</b><br>Words: 조성, 과정, 정원, 추진, 관광",
          "<b>Topic 1</b><br>Words: 대학, 회의, 교수, 해양, 시민",
          "<b>Topic 1</b><br>Words: 식품, 수산, 교육, 청년, 취업",
          "<b>Topic 1</b><br>Words: 안전, 대상, 교육, 해양, 학생",
          "<b>Topic 1</b><br>Words: 안전, 대상, 해양, 교육, 학생",
          "<b>Topic 1</b><br>Words: 산업, 관광, 도시, 식품, 수산",
          "<b>Topic 1</b><br>Words: 체험, 활동, 진행, 확산, 구성",
          "<b>Topic 1</b><br>Words: 시민, 사회, 체육, 선정, 참여",
          "<b>Topic 1</b><br>Words: 청년, 일자리, 취업, 센터, 여성",
          "<b>Topic 1</b><br>Words: 일자리, 청년, 기업, 사회, 경제",
          "<b>Topic 1</b><br>Words: 일자리, 청년, 사회, 창출, 기업",
          "<b>Topic 1</b><br>Words: 일자리, 청년, 고용, 기업, 사회",
          "<b>Topic 1</b><br>Words: 문학, 의료, 공공, 건강, 주민",
          "<b>Topic 1</b><br>Words: 센터, 예정, 사항, 생각, 공모",
          "<b>Topic 1</b><br>Words: 창업, 취업, 특화, 청년, 맞춤",
          "<b>Topic 1</b><br>Words: 공간, 정비, 역사, 도시, 조성",
          "<b>Topic 1</b><br>Words: 문학, 교수, 전략, 성공, 아시아",
          "<b>Topic 1</b><br>Words: 시민, 취재, 호남, 본부, 경제",
          "<b>Topic 1</b><br>Words: 문학, 한국, 협력, 단체, 시민",
          "<b>Topic 1</b><br>Words: 인구, 대학, 감소, 문제, 시민",
          "<b>Topic 1</b><br>Words: 인구, 산업, 감소, 시민, 문제",
          "<b>Topic 1</b><br>Words: 대학, 해양, 국립, 인력, 전문",
          "<b>Topic 1</b><br>Words: 대학, 해양, 국립, 신청, 위기",
          "<b>Topic 1</b><br>Words: 대학, 해양, 신청, 방문, 시민",
          "<b>Topic 1</b><br>Words: 문학, 대학, 협약, 국립, 한국",
          "<b>Topic 1</b><br>Words: 대학, 선정, 신청, 도시, 국립",
          "<b>Topic 1</b><br>Words: 선정, 이상, 모집, 기준, 신청",
          "<b>Topic 1</b><br>Words: 경영, 교육, 이상, 전략, 도시",
          "<b>Topic 1</b><br>Words: 대학, 해양, 취업, 전국, 시민",
          "<b>Topic 1</b><br>Words: 디지털, 대학, 해양, 보호, 시민",
          "<b>Topic 1</b><br>Words: 해양, 대학, 국립, 한국, 학교",
          "<b>Topic 1</b><br>Words: 경영, 교육, 전략, 강화, 운영",
          "<b>Topic 1</b><br>Words: 창업, 취업, 해양, 청년, 대학",
          "<b>Topic 1</b><br>Words: 대학, 해양, 취업, 의료, 국립",
          "<b>Topic 1</b><br>Words: 대학, 국립, 기대, 한국, 모집",
          "<b>Topic 1</b><br>Words: 해양, 대학, 학교, 국립, 모집",
          "<b>Topic 1</b><br>Words: 문학, 주제, 한국, 대회, 전국",
          "<b>Topic 1</b><br>Words: 문학, 주제, 한국, 대회, 전국",
          "<b>Topic 1</b><br>Words: 취업, 인력, 양성, 전문, 과정",
          "<b>Topic 1</b><br>Words: 문학, 한국, 전시, 주제, 미래",
          "<b>Topic 1</b><br>Words: 정비, 산업, 분야, 경우, 발굴",
          "<b>Topic 1</b><br>Words: 문학, 한국, 행사, 다양, 주제",
          "<b>Topic 1</b><br>Words: 대학, 국립, 신청, 방침, 시민",
          "<b>Topic 1</b><br>Words: 협력, 진행, 전라남도, 인재, 프로그램",
          "<b>Topic 1</b><br>Words: 안전, 평가, 성과, 예방, 우수",
          "<b>Topic 1</b><br>Words: 학교, 교육청, 전남도, 개최, 학생",
          "<b>Topic 1</b><br>Words: 교통, 예방, 안전, 최선, 확인",
          "<b>Topic 1</b><br>Words: 관광, 관광객, 시대, 맞춤, 코로나",
          "<b>Topic 1</b><br>Words: 경영, 변화, 강화, 교육, 도시",
          "<b>Topic 1</b><br>Words: 안전, 현장, 경영, 대응, 주택",
          "<b>Topic 1</b><br>Words: 해양, 바다, 대회, 활동, 자원",
          "<b>Topic 1</b><br>Words: 체험, 전남도, 설립, 업무, 교육청",
          "<b>Topic 1</b><br>Words: 아시아, 진흥원, 주민, 도시, 생각",
          "<b>Topic 1</b><br>Words: 대학, 유치, 개발, 추진, 인근",
          "<b>Topic 1</b><br>Words: 교육, 강조, 역량, 향상, 사례",
          "<b>Topic 1</b><br>Words: 국립, 설립, 구축, 조성, 도시",
          "<b>Topic 1</b><br>Words: 국립, 설립, 구축, 산업, 역사",
          "<b>Topic 1</b><br>Words: 국립, 설립, 구축, 산업, 역사",
          "<b>Topic 1</b><br>Words: 지방, 자치, 협약, 업무, 운영",
          "<b>Topic 1</b><br>Words: 아동, 학생, 사회, 행사, 방문",
          "<b>Topic 1</b><br>Words: 버스, 운영, 내년, 개선, 추진",
          "<b>Topic 1</b><br>Words: 도시, 시민, 재생, 지정, 추진",
          "<b>Topic 1</b><br>Words: 도시, 대학, 선정, 시민, 추진",
          "<b>Topic 1</b><br>Words: 도시, 시민, 지정, 계획, 문학",
          "<b>Topic 1</b><br>Words: 청소년, 방문, 이상, 학교, 공간",
          "<b>Topic 1</b><br>Words: 청소년, 참여, 기업, 주민, 사회",
          "<b>Topic 1</b><br>Words: 자치, 회장, 주민, 최선, 향상",
          "<b>Topic 1</b><br>Words: 관광, 조성, 식품, 수산, 유치",
          "<b>Topic 1</b><br>Words: 시민, 발생, 장애인, 코로나, 실시",
          "<b>Topic 1</b><br>Words: 발생, 실시, 운영, 시설, 보건",
          "<b>Topic 1</b><br>Words: 발생, 실시, 코로나, 시민, 예방",
          "<b>Topic 1</b><br>Words: 의료, 서비스, 제공, 공공, 병원",
          "<b>Topic 1</b><br>Words: 공간, 역사, 복합, 전시, 활용",
          "<b>Topic 1</b><br>Words: 취업, 인력, 전문, 양성, 과정",
          "<b>Topic 1</b><br>Words: 문학, 도시, 시민, 관광, 예술",
          "<b>Topic 1</b><br>Words: 청년, 기업, 참여, 일자리, 취업",
          "<b>Topic 1</b><br>Words: 청소년, 성장, 사회, 소통, 센터",
          "<b>Topic 1</b><br>Words: 안전, 코로나, 센터, 학교, 스마트",
          "<b>Topic 1</b><br>Words: 진흥원, 한국, 공원, 유치, 연구",
          "<b>Topic 1</b><br>Words: 장애인, 서비스, 활동, 의료, 복지",
          "<b>Topic 1</b><br>Words: 이후, 역사, 바다, 도시, 마을",
          "<b>Topic 1</b><br>Words: 진흥원, 세계, 공원, 유치, 구축",
          "<b>Topic 1</b><br>Words: 장애인, 서비스, 취업, 청년, 활동",
          "<b>Topic 1</b><br>Words: 식품, 수산, 취업, 창업, 성공",
          "<b>Topic 1</b><br>Words: 공간, 식품, 수산, 취업, 공유",
          "<b>Topic 1</b><br>Words: 식품, 추진, 수산, 취업, 창업",
          "<b>Topic 1</b><br>Words: 추진, 개발, 시스템, 환경, 연구",
          "<b>Topic 1</b><br>Words: 취업, 청년, 프로그램, 운영, 통합",
          "<b>Topic 1</b><br>Words: 버스, 학생, 운영, 학교, 이용",
          "<b>Topic 1</b><br>Words: 공간, 역사, 관광, 복합, 시민",
          "<b>Topic 1</b><br>Words: 공간, 역사, 관광, 복합, 시민",
          "<b>Topic 1</b><br>Words: 시민, 시작, 활동, 대표, 발전",
          "<b>Topic 1</b><br>Words: 공간, 복합, 역사, 관광, 시민",
          "<b>Topic 1</b><br>Words: 도시, 시민, 취재, 호남, 본부",
          "<b>Topic 1</b><br>Words: 도시, 시민, 고용, 일자리, 활용",
          "<b>Topic 1</b><br>Words: 도시, 시민, 구축, 예술, 조성",
          "<b>Topic 1</b><br>Words: 도시, 시민, 조성, 추진, 예술",
          "<b>Topic 1</b><br>Words: 교육청, 활용, 협약, 복합, 교육",
          "<b>Topic 1</b><br>Words: 재생, 도시, 공간, 역사, 조성",
          "<b>Topic 1</b><br>Words: 통합, 행사, 대학, 협력, 진행",
          "<b>Topic 1</b><br>Words: 교육, 운영, 제공, 청소년, 도시",
          "<b>Topic 1</b><br>Words: 인구, 시민, 기업, 기관, 운동",
          "<b>Topic 1</b><br>Words: 인구, 시민, 기관, 기업, 운동",
          "<b>Topic 1</b><br>Words: 인구, 추진, 대학, 시민, 기업",
          "<b>Topic 1</b><br>Words: 홍보, 최초, 행사, 대회, 공원",
          "<b>Topic 1</b><br>Words: 홍보, 최초, 행사, 진행, 대회",
          "<b>Topic 1</b><br>Words: 시설, 운영, 건강, 코로나, 복지",
          "<b>Topic 1</b><br>Words: 학교, 예방, 청소년, 홍보, 버스",
          "<b>Topic 1</b><br>Words: 교류, 도시, 협력, 한국, 여성",
          "<b>Topic 1</b><br>Words: 취업, 교육, 맞춤, 기술, 식품",
          "<b>Topic 1</b><br>Words: 취업, 교육, 맞춤, 기술, 제공",
          "<b>Topic 1</b><br>Words: 체험, 설립, 시설, 교육청, 공간",
          "<b>Topic 1</b><br>Words: 관광, 유치, 도시, 시설, 주민",
          "<b>Topic 1</b><br>Words: 농촌, 경영, 스마트, 청년, 체험",
          "<b>Topic 1</b><br>Words: 시간, 시민, 진행, 소통, 보호",
          "<b>Topic 1</b><br>Words: 시간, 시민, 개최, 진행, 소통",
          "<b>Topic 1</b><br>Words: 안전, 보건, 관리, 체계, 추진",
          "<b>Topic 1</b><br>Words: 안전, 보건, 관리, 체계, 발생",
          "<b>Topic 1</b><br>Words: 후보, 선거, 시민, 도시, 전략",
          "<b>Topic 1</b><br>Words: 풍력, 해상, 협약, 개발, 인재",
          "<b>Topic 1</b><br>Words: 안전, 교육, 예방, 코로나, 생활",
          "<b>Topic 1</b><br>Words: 전략, 경영, 교육, 관광, 코로나",
          "<b>Topic 1</b><br>Words: 교육, 전략, 경영, 모집, 진행",
          "<b>Topic 1</b><br>Words: 도시, 시민, 조성, 추진, 교류",
          "<b>Topic 1</b><br>Words: 농업, 선거, 설치, 지방, 발전",
          "<b>Topic 1</b><br>Words: 도시, 시민, 조성, 추진, 교류",
          "<b>Topic 1</b><br>Words: 위원회, 전문가, 교수, 시민, 분야",
          "<b>Topic 1</b><br>Words: 재단, 방문, 대표, 시민, 도시",
          "<b>Topic 1</b><br>Words: 역사, 공간, 활용, 복합, 오후",
          "<b>Topic 1</b><br>Words: 건강, 운영, 역사, 공간, 생활",
          "<b>Topic 1</b><br>Words: 전략, 맞춤, 홍보, 취재, 강화",
          "<b>Topic 1</b><br>Words: 활동, 청년, 취재, 우리, 호남",
          "<b>Topic 1</b><br>Words: 시민, 소통, 도시, 선거, 관광",
          "<b>Topic 1</b><br>Words: 건강, 운영, 생활, 상담, 코로나",
          "<b>Topic 1</b><br>Words: 안전, 해양, 교육, 대상, 운영",
          "<b>Topic 1</b><br>Words: 도시, 프로그램, 목표, 청년, 소통",
          "<b>Topic 1</b><br>Words: 시민, 사회, 발굴, 체육, 위원회",
          "<b>Topic 1</b><br>Words: 시민, 사회, 발굴, 체육, 위원회",
          "<b>Topic 1</b><br>Words: 산업, 도시, 조성, 시민, 청년",
          "<b>Topic 1</b><br>Words: 청년, 정부, 복지, 기초, 소득",
          "<b>Topic 1</b><br>Words: 양성, 도시, 센터, 과정, 모집",
          "<b>Topic 1</b><br>Words: 양성, 과정, 도시, 센터, 학교",
          "<b>Topic 1</b><br>Words: 양성, 협약, 협력, 인재, 취업",
          "<b>Topic 1</b><br>Words: 교육, 역사, 공간, 프로그램, 대상",
          "<b>Topic 1</b><br>Words: 역사, 프로그램, 공간, 체험, 복합",
          "<b>Topic 1</b><br>Words: 학생, 교육, 운영, 대학, 대상",
          "<b>Topic 1</b><br>Words: 자치, 주민, 안전, 위원회, 역량",
          "<b>Topic 1</b><br>Words: 상황, 실시, 전시, 코로나, 취재",
          "<b>Topic 1</b><br>Words: 점검, 서비스, 관련, 사항, 운영",
          "<b>Topic 1</b><br>Words: 교류, 행사, 도시, 분야, 관광",
          "<b>Topic 1</b><br>Words: 체전, 준비, 개최, 건립, 대회",
          "<b>Topic 1</b><br>Words: 도시, 대표, 홍어, 관광객, 축제",
          "<b>Topic 1</b><br>Words: 버스, 청소년, 이용, 여성, 대상",
          "<b>Topic 1</b><br>Words: 선거, 기업, 취업, 대학, 청년",
          "<b>Topic 1</b><br>Words: 조성, 종합, 사항, 소통, 방침",
          "<b>Topic 1</b><br>Words: 여성, 가족, 사회, 재단, 조성",
          "<b>Topic 1</b><br>Words: 공공, 주민, 교육, 설립, 기관",
          "<b>Topic 1</b><br>Words: 대회, 발굴, 우수, 청년, 개최",
          "<b>Topic 1</b><br>Words: 대회, 발굴, 개최, 청년, 우수",
          "<b>Topic 1</b><br>Words: 버스, 확보, 시간, 투입, 시민",
          "<b>Topic 1</b><br>Words: 발굴, 대회, 청년, 우수, 개최",
          "<b>Topic 1</b><br>Words: 가족, 아이, 희망, 프로그램, 진행",
          "<b>Topic 1</b><br>Words: 재생, 도시, 사용, 장애인, 공간",
          "<b>Topic 1</b><br>Words: 도시, 수립, 스마트, 청년, 산업",
          "<b>Topic 1</b><br>Words: 연구, 환경, 산업, 인프라, 해양",
          "<b>Topic 1</b><br>Words: 연구, 환경, 개발, 시설, 인프라",
          "<b>Topic 1</b><br>Words: 연구, 환경, 인프라, 개발, 해양",
          "<b>Topic 1</b><br>Words: 연구, 환경, 시설, 구축, 규모",
          "<b>Topic 1</b><br>Words: 버스, 추가, 투입, 시민, 경영",
          "<b>Topic 1</b><br>Words: 버스, 시민, 역사, 예산, 주요",
          "<b>Topic 1</b><br>Words: 안전, 교육청, 버스, 협력, 코로나",
          "<b>Topic 1</b><br>Words: 버스, 투입, 수립, 전남도, 추가",
          "<b>Topic 1</b><br>Words: 예정, 마을, 전남도, 지구, 문제",
          "<b>Topic 1</b><br>Words: 지구, 장애인, 개선, 학교, 농가",
          "<b>Topic 1</b><br>Words: 지구, 예산, 교육, 중요, 공간",
          "<b>Topic 1</b><br>Words: 공간, 조성, 역사, 협약, 지구",
          "<b>Topic 1</b><br>Words: 산업, 식품, 강조, 수산, 회의",
          "<b>Topic 1</b><br>Words: 회장, 사회, 활동, 시민, 행사",
          "<b>Topic 1</b><br>Words: 보건, 의료, 재단, 도시, 진행",
          "<b>Topic 1</b><br>Words: 소득, 재단, 학생, 협약, 대학",
          "<b>Topic 1</b><br>Words: 버스, 시민, 도시, 행사, 성과",
          "<b>Topic 1</b><br>Words: 의료, 보건, 건강, 사항, 발굴",
          "<b>Topic 1</b><br>Words: 아동, 예방, 진행, 사회, 아이",
          "<b>Topic 1</b><br>Words: 오전, 시간, 버스, 이날, 점검",
          "<b>Topic 1</b><br>Words: 일자리, 청년, 산업, 창출, 기업",
          "<b>Topic 1</b><br>Words: 일자리, 청년, 기업, 창출, 사회",
          "<b>Topic 1</b><br>Words: 청년, 발굴, 전시, 종합, 시민",
          "<b>Topic 1</b><br>Words: 산업, 식품, 수산, 추진, 도시",
          "<b>Topic 1</b><br>Words: 유산, 역사, 공간, 대표, 국내",
          "<b>Topic 1</b><br>Words: 유산, 역사, 산업, 공간, 대표",
          "<b>Topic 1</b><br>Words: 병원, 확산, 대표, 사회, 프로그램",
          "<b>Topic 1</b><br>Words: 청년, 프로그램, 선정, 창업, 참여",
          "<b>Topic 1</b><br>Words: 참여, 운동, 시민, 건강, 운영",
          "<b>Topic 1</b><br>Words: 복지, 시행, 지급, 교육, 행정",
          "<b>Topic 1</b><br>Words: 교육, 복지, 최초, 도움, 사랑",
          "<b>Topic 1</b><br>Words: 버스, 점검, 시민, 대표, 교육청",
          "<b>Topic 1</b><br>Words: 프로그램, 운영, 예정, 청년, 어린이",
          "<b>Topic 1</b><br>Words: 프로그램, 운영, 예정, 진행, 청년",
          "<b>Topic 1</b><br>Words: 통합, 추진, 위원회, 협력, 주민",
          "<b>Topic 1</b><br>Words: 공무원, 발생, 보호, 복지, 프로그램",
          "<b>Topic 1</b><br>Words: 업무, 안전, 인권, 목표, 활동",
          "<b>Topic 1</b><br>Words: 업무, 인권, 안전, 지방, 활동",
          "<b>Topic 1</b><br>Words: 우수, 교수, 협력, 공유, 대학",
          "<b>Topic 1</b><br>Words: 도시, 과정, 바다, 어린이, 체험",
          "<b>Topic 1</b><br>Words: 통합, 추진, 위원회, 박우량, 개최",
          "<b>Topic 1</b><br>Words: 통합, 필요, 역사, 도시, 사랑",
          "<b>Topic 1</b><br>Words: 역사, 공간, 한국, 관광, 사랑",
          "<b>Topic 1</b><br>Words: 도시, 시민, 위원회, 조성, 추진",
          "<b>Topic 1</b><br>Words: 의료, 설립, 대학, 기관, 보호",
          "<b>Topic 1</b><br>Words: 환경, 산업, 개발, 연구, 추진",
          "<b>Topic 1</b><br>Words: 환경, 산업, 연구, 개발, 추진",
          "<b>Topic 1</b><br>Words: 문학, 구성, 다양, 개최, 분야",
          "<b>Topic 1</b><br>Words: 청년, 산업, 스마트, 창업, 센터",
          "<b>Topic 1</b><br>Words: 청년, 산업, 스마트, 창업, 기업",
          "<b>Topic 1</b><br>Words: 마을, 학교, 센터, 운영, 소통",
          "<b>Topic 1</b><br>Words: 이전, 교육청, 교육, 통합, 학생",
          "<b>Topic 1</b><br>Words: 통합, 발전, 추진, 협력, 관광",
          "<b>Topic 1</b><br>Words: 마을, 프로그램, 청년, 교육, 디지털",
          "<b>Topic 1</b><br>Words: 스마트, 구축, 인프라, 센터, 인력",
          "<b>Topic 1</b><br>Words: 시설, 해양, 조성, 산업, 관광",
          "<b>Topic 1</b><br>Words: 환경, 연구, 산업, 시설, 관광",
          "<b>Topic 1</b><br>Words: 진행, 기관, 보호, 사항, 참석",
          "<b>Topic 1</b><br>Words: 예정, 운영, 방침, 공유, 공모",
          "<b>Topic 1</b><br>Words: 창업, 스마트, 과정, 관광, 진행",
          "<b>Topic 1</b><br>Words: 청소년, 참여, 우수, 공원, 성장",
          "<b>Topic 1</b><br>Words: 안전, 주택, 시민, 설치, 선정",
          "<b>Topic 1</b><br>Words: 센터, 해양, 관광객, 개소, 바다",
          "<b>Topic 1</b><br>Words: 교수, 역사, 현장, 프로그램, 참여",
          "<b>Topic 1</b><br>Words: 바다, 환경, 센터, 활동, 해양",
          "<b>Topic 1</b><br>Words: 건강, 예방, 어린이, 홍보, 보건",
          "<b>Topic 1</b><br>Words: 어린이, 예술, 진행, 버스, 소통",
          "<b>Topic 1</b><br>Words: 이전, 교육청, 교육, 통합, 올해",
          "<b>Topic 1</b><br>Words: 이전, 교육청, 교육, 통합, 협약",
          "<b>Topic 1</b><br>Words: 안전, 버스, 센터, 스마트, 해양",
          "<b>Topic 1</b><br>Words: 학생, 운동, 행사, 주제, 시민",
          "<b>Topic 1</b><br>Words: 교통, 시민, 안전, 도시, 산업",
          "<b>Topic 1</b><br>Words: 교통, 시민, 산업, 도시, 안전",
          "<b>Topic 1</b><br>Words: 조성, 시민, 산업, 청년, 구축",
          "<b>Topic 1</b><br>Words: 프로그램, 어린이, 운영, 체험, 통합",
          "<b>Topic 1</b><br>Words: 교통, 안전, 사람, 홍보, 교육",
          "<b>Topic 1</b><br>Words: 경제, 청소년, 본부, 개최, 예정",
          "<b>Topic 1</b><br>Words: 아동, 아이, 우리, 구성, 보호",
          "<b>Topic 1</b><br>Words: 청소년, 버스, 상담, 위기, 건강",
          "<b>Topic 1</b><br>Words: 의료, 기관, 병원, 교육, 최초",
          "<b>Topic 1</b><br>Words: 모집, 체험, 어린이, 프로그램, 세계",
          "<b>Topic 1</b><br>Words: 대통령, 대회, 규모, 전국, 투입",
          "<b>Topic 1</b><br>Words: 병원, 어린이, 건립, 사회, 추가",
          "<b>Topic 1</b><br>Words: 시민, 발굴, 경제, 사회, 위원회",
          "<b>Topic 1</b><br>Words: 시민, 발굴, 사회, 위원회, 체육",
          "<b>Topic 1</b><br>Words: 문학, 교육, 협약, 협력, 인재",
          "<b>Topic 1</b><br>Words: 문학, 교육, 협력, 인재, 주제",
          "<b>Topic 1</b><br>Words: 신청, 시민, 인재, 서비스, 육성",
          "<b>Topic 1</b><br>Words: 청년, 활동, 활성, 성장, 통합",
          "<b>Topic 1</b><br>Words: 창업, 과정, 운영, 프로그램, 대상",
          "<b>Topic 1</b><br>Words: 통합, 위원회, 홍보, 추진, 민간",
          "<b>Topic 1</b><br>Words: 통합, 청소년, 위원회, 행사, 추진",
          "<b>Topic 1</b><br>Words: 통합, 행사, 개최, 추진, 홍보",
          "<b>Topic 1</b><br>Words: 이후, 성공, 아시아, 시민, 내년",
          "<b>Topic 1</b><br>Words: 전략, 체전, 전국, 실시, 장애인",
          "<b>Topic 1</b><br>Words: 청소년, 안전, 참여, 성장, 정책",
          "<b>Topic 1</b><br>Words: 문학, 협력, 협약, 개최, 성공",
          "<b>Topic 1</b><br>Words: 아동, 통합, 예방, 발굴, 주민",
          "<b>Topic 1</b><br>Words: 통합, 주민, 발굴, 공동, 민간",
          "<b>Topic 1</b><br>Words: 교류, 협력, 분야, 확대, 관광",
          "<b>Topic 1</b><br>Words: 활용, 홍보, 서비스, 기술, 대상",
          "<b>Topic 1</b><br>Words: 프로그램, 대상, 운영, 통합, 참여",
          "<b>Topic 1</b><br>Words: 축제, 개최, 시민, 통합, 주제",
          "<b>Topic 1</b><br>Words: 문학, 프로그램, 동안, 기간, 행사",
          "<b>Topic 1</b><br>Words: 문학, 행사, 프로그램, 동안, 기간",
          "<b>Topic 1</b><br>Words: 문학, 진행, 체전, 이후, 실시",
          "<b>Topic 1</b><br>Words: 개발, 도시, 추진, 공동, 회의",
          "<b>Topic 1</b><br>Words: 병원, 의료, 체전, 기간, 종합",
          "<b>Topic 1</b><br>Words: 의료, 병원, 체전, 체계, 전국",
          "<b>Topic 1</b><br>Words: 병원, 교수, 대학, 의료, 보건",
          "<b>Topic 1</b><br>Words: 통합, 확대, 이용, 추진, 도시",
          "<b>Topic 1</b><br>Words: 군수, 선거, 미래, 어린이, 내년",
          "<b>Topic 1</b><br>Words: 국제, 주제, 체전, 참여, 전국",
          "<b>Topic 1</b><br>Words: 학교, 운영, 안전, 교육, 학생",
          "<b>Topic 1</b><br>Words: 병원, 정원, 의료, 시간, 인력",
          "<b>Topic 1</b><br>Words: 교통, 디지털, 안전, 센터, 스마트",
          "<b>Topic 1</b><br>Words: 병원, 공공, 교수, 지방, 제도",
          "<b>Topic 1</b><br>Words: 우수, 국내, 해상, 안전, 기관",
          "<b>Topic 1</b><br>Words: 축제, 주민, 개최, 강화, 위원회",
          "<b>Topic 1</b><br>Words: 통합, 행정, 구축, 경제, 예방",
          "<b>Topic 1</b><br>Words: 조성, 공원, 선정, 시민, 공모",
          "<b>Topic 1</b><br>Words: 기업, 산업, 정보, 진흥원, 센터",
          "<b>Topic 1</b><br>Words: 농협, 대회, 성장, 농업, 시민",
          "<b>Topic 1</b><br>Words: 의료, 병원, 공공, 정부, 문제",
          "<b>Topic 1</b><br>Words: 창업, 청년, 일자리, 도시, 센터",
          "<b>Topic 1</b><br>Words: 창업, 청년, 청소년, 재단, 도시",
          "<b>Topic 1</b><br>Words: 청소년, 재단, 공간, 미래, 종합",
          "<b>Topic 1</b><br>Words: 창업, 혁신, 행사, 체험, 오후",
          "<b>Topic 1</b><br>Words: 청소년, 재단, 공간, 미래, 학교"
         ],
         "marker": {
          "color": "#56B4E9"
         },
         "mode": "lines",
         "name": "1_도시_시민_추진_교육",
         "type": "scatter",
         "x": [
          "2021-01-02T00:00:00",
          "2021-01-03T00:00:00",
          "2021-01-04T00:00:00",
          "2021-01-05T00:00:00",
          "2021-01-06T00:00:00",
          "2021-01-07T00:00:00",
          "2021-01-10T00:00:00",
          "2021-01-11T00:00:00",
          "2021-01-13T00:00:00",
          "2021-01-17T00:00:00",
          "2021-01-20T00:00:00",
          "2021-01-21T00:00:00",
          "2021-01-25T00:00:00",
          "2021-01-26T00:00:00",
          "2021-01-27T00:00:00",
          "2021-02-04T00:00:00",
          "2021-02-07T00:00:00",
          "2021-02-08T00:00:00",
          "2021-02-14T00:00:00",
          "2021-02-15T00:00:00",
          "2021-02-16T00:00:00",
          "2021-03-03T00:00:00",
          "2021-03-08T00:00:00",
          "2021-03-10T00:00:00",
          "2021-03-11T00:00:00",
          "2021-03-12T00:00:00",
          "2021-04-04T00:00:00",
          "2021-04-09T00:00:00",
          "2021-04-11T00:00:00",
          "2021-04-13T00:00:00",
          "2021-04-15T00:00:00",
          "2021-04-19T00:00:00",
          "2021-04-22T00:00:00",
          "2021-04-26T00:00:00",
          "2021-04-28T00:00:00",
          "2021-04-29T00:00:00",
          "2021-05-02T00:00:00",
          "2021-05-04T00:00:00",
          "2021-05-09T00:00:00",
          "2021-05-10T00:00:00",
          "2021-05-11T00:00:00",
          "2021-05-12T00:00:00",
          "2021-05-13T00:00:00",
          "2021-05-16T00:00:00",
          "2021-05-17T00:00:00",
          "2021-05-19T00:00:00",
          "2021-05-26T00:00:00",
          "2021-05-27T00:00:00",
          "2021-05-28T00:00:00",
          "2021-06-02T00:00:00",
          "2021-06-03T00:00:00",
          "2021-06-06T00:00:00",
          "2021-06-07T00:00:00",
          "2021-06-08T00:00:00",
          "2021-06-09T00:00:00",
          "2021-06-10T00:00:00",
          "2021-06-15T00:00:00",
          "2021-06-20T00:00:00",
          "2021-06-22T00:00:00",
          "2021-06-27T00:00:00",
          "2021-06-28T00:00:00",
          "2021-06-30T00:00:00",
          "2021-07-05T00:00:00",
          "2021-07-07T00:00:00",
          "2021-07-08T00:00:00",
          "2021-07-09T00:00:00",
          "2021-07-12T00:00:00",
          "2021-07-14T00:00:00",
          "2021-07-18T00:00:00",
          "2021-07-22T00:00:00",
          "2021-07-25T00:00:00",
          "2021-07-26T00:00:00",
          "2021-08-01T00:00:00",
          "2021-08-02T00:00:00",
          "2021-08-04T00:00:00",
          "2021-08-09T00:00:00",
          "2021-08-10T00:00:00",
          "2021-08-20T00:00:00",
          "2021-08-22T00:00:00",
          "2021-08-23T00:00:00",
          "2021-08-24T00:00:00",
          "2021-08-25T00:00:00",
          "2021-08-26T00:00:00",
          "2021-08-27T00:00:00",
          "2021-08-31T00:00:00",
          "2021-09-06T00:00:00",
          "2021-09-07T00:00:00",
          "2021-09-08T00:00:00",
          "2021-09-09T00:00:00",
          "2021-09-10T00:00:00",
          "2021-09-12T00:00:00",
          "2021-09-13T00:00:00",
          "2021-09-15T00:00:00",
          "2021-09-16T00:00:00",
          "2021-09-20T00:00:00",
          "2021-09-21T00:00:00",
          "2021-09-23T00:00:00",
          "2021-09-26T00:00:00",
          "2021-09-29T00:00:00",
          "2021-09-30T00:00:00",
          "2021-10-01T00:00:00",
          "2021-10-06T00:00:00",
          "2021-10-11T00:00:00",
          "2021-10-18T00:00:00",
          "2021-10-21T00:00:00",
          "2021-10-24T00:00:00",
          "2021-10-28T00:00:00",
          "2021-11-01T00:00:00",
          "2021-11-03T00:00:00",
          "2021-11-07T00:00:00",
          "2021-11-10T00:00:00",
          "2021-11-14T00:00:00",
          "2021-11-15T00:00:00",
          "2021-11-17T00:00:00",
          "2021-11-24T00:00:00",
          "2021-11-25T00:00:00",
          "2021-11-28T00:00:00",
          "2021-11-30T00:00:00",
          "2021-12-14T00:00:00",
          "2021-12-15T00:00:00",
          "2021-12-22T00:00:00",
          "2021-12-23T00:00:00",
          "2021-12-24T00:00:00",
          "2021-12-27T00:00:00",
          "2021-12-28T00:00:00",
          "2021-12-30T00:00:00",
          "2022-01-02T00:00:00",
          "2022-01-03T00:00:00",
          "2022-01-05T00:00:00",
          "2022-01-06T00:00:00",
          "2022-01-07T00:00:00",
          "2022-01-09T00:00:00",
          "2022-02-03T00:00:00",
          "2022-02-07T00:00:00",
          "2022-02-09T00:00:00",
          "2022-02-11T00:00:00",
          "2022-02-14T00:00:00",
          "2022-02-17T00:00:00",
          "2022-02-22T00:00:00",
          "2022-02-23T00:00:00",
          "2022-02-24T00:00:00",
          "2022-02-25T00:00:00",
          "2022-02-27T00:00:00",
          "2022-02-28T00:00:00",
          "2022-03-01T00:00:00",
          "2022-03-02T00:00:00",
          "2022-03-03T00:00:00",
          "2022-03-14T00:00:00",
          "2022-03-15T00:00:00",
          "2022-03-16T00:00:00",
          "2022-03-17T00:00:00",
          "2022-03-19T00:00:00",
          "2022-03-20T00:00:00",
          "2022-03-22T00:00:00",
          "2022-03-23T00:00:00",
          "2022-03-24T00:00:00",
          "2022-03-25T00:00:00",
          "2022-03-30T00:00:00",
          "2022-04-03T00:00:00",
          "2022-04-06T00:00:00",
          "2022-04-07T00:00:00",
          "2022-04-13T00:00:00",
          "2022-04-14T00:00:00",
          "2022-04-17T00:00:00",
          "2022-04-18T00:00:00",
          "2022-04-19T00:00:00",
          "2022-04-24T00:00:00",
          "2022-04-25T00:00:00",
          "2022-04-29T00:00:00",
          "2022-05-01T00:00:00",
          "2022-05-02T00:00:00",
          "2022-05-03T00:00:00",
          "2022-05-04T00:00:00",
          "2022-05-08T00:00:00",
          "2022-05-09T00:00:00",
          "2022-05-10T00:00:00",
          "2022-05-11T00:00:00",
          "2022-05-12T00:00:00",
          "2022-05-19T00:00:00",
          "2022-05-20T00:00:00",
          "2022-05-23T00:00:00",
          "2022-05-25T00:00:00",
          "2022-05-26T00:00:00",
          "2022-06-03T00:00:00",
          "2022-06-06T00:00:00",
          "2022-06-07T00:00:00",
          "2022-06-08T00:00:00",
          "2022-06-09T00:00:00",
          "2022-06-14T00:00:00",
          "2022-06-15T00:00:00",
          "2022-06-16T00:00:00",
          "2022-06-17T00:00:00",
          "2022-06-19T00:00:00",
          "2022-06-21T00:00:00",
          "2022-07-01T00:00:00",
          "2022-07-07T00:00:00",
          "2022-07-13T00:00:00",
          "2022-07-14T00:00:00",
          "2022-07-19T00:00:00",
          "2022-07-27T00:00:00",
          "2022-08-04T00:00:00",
          "2022-08-07T00:00:00",
          "2022-08-08T00:00:00",
          "2022-08-11T00:00:00",
          "2022-08-12T00:00:00",
          "2022-08-17T00:00:00",
          "2022-08-18T00:00:00",
          "2022-08-19T00:00:00",
          "2022-08-29T00:00:00",
          "2022-09-04T00:00:00",
          "2022-09-12T00:00:00",
          "2022-09-25T00:00:00",
          "2022-09-26T00:00:00",
          "2022-09-29T00:00:00",
          "2022-10-04T00:00:00",
          "2022-10-05T00:00:00",
          "2022-10-11T00:00:00",
          "2022-10-14T00:00:00",
          "2022-10-15T00:00:00",
          "2022-10-17T00:00:00",
          "2022-10-18T00:00:00",
          "2022-10-21T00:00:00",
          "2022-10-24T00:00:00",
          "2022-10-26T00:00:00",
          "2022-10-27T00:00:00",
          "2022-10-28T00:00:00",
          "2022-10-31T00:00:00",
          "2022-11-01T00:00:00",
          "2022-11-07T00:00:00",
          "2022-11-08T00:00:00",
          "2022-11-09T00:00:00",
          "2022-11-11T00:00:00",
          "2022-11-14T00:00:00",
          "2022-11-15T00:00:00",
          "2022-11-28T00:00:00",
          "2022-11-29T00:00:00",
          "2022-12-05T00:00:00",
          "2022-12-07T00:00:00",
          "2022-12-09T00:00:00",
          "2022-12-11T00:00:00",
          "2022-12-12T00:00:00",
          "2022-12-13T00:00:00",
          "2022-12-14T00:00:00",
          "2022-12-19T00:00:00",
          "2022-12-21T00:00:00",
          "2022-12-26T00:00:00",
          "2023-01-01T00:00:00",
          "2023-01-03T00:00:00",
          "2023-01-09T00:00:00",
          "2023-01-10T00:00:00",
          "2023-01-24T00:00:00",
          "2023-02-02T00:00:00",
          "2023-02-08T00:00:00",
          "2023-02-10T00:00:00",
          "2023-02-12T00:00:00",
          "2023-02-13T00:00:00",
          "2023-02-20T00:00:00",
          "2023-02-21T00:00:00",
          "2023-02-22T00:00:00",
          "2023-02-26T00:00:00",
          "2023-03-05T00:00:00",
          "2023-03-06T00:00:00",
          "2023-03-07T00:00:00",
          "2023-03-08T00:00:00",
          "2023-03-12T00:00:00",
          "2023-03-13T00:00:00",
          "2023-03-14T00:00:00",
          "2023-03-21T00:00:00",
          "2023-03-24T00:00:00",
          "2023-03-27T00:00:00",
          "2023-03-28T00:00:00",
          "2023-04-02T00:00:00",
          "2023-04-03T00:00:00",
          "2023-04-04T00:00:00",
          "2023-04-05T00:00:00",
          "2023-04-12T00:00:00",
          "2023-04-13T00:00:00",
          "2023-04-16T00:00:00",
          "2023-04-17T00:00:00",
          "2023-04-24T00:00:00",
          "2023-04-25T00:00:00",
          "2023-04-26T00:00:00",
          "2023-05-07T00:00:00",
          "2023-05-11T00:00:00",
          "2023-05-22T00:00:00",
          "2023-05-23T00:00:00",
          "2023-05-28T00:00:00",
          "2023-05-31T00:00:00",
          "2023-06-01T00:00:00",
          "2023-06-06T00:00:00",
          "2023-06-07T00:00:00",
          "2023-06-19T00:00:00",
          "2023-06-20T00:00:00",
          "2023-06-22T00:00:00",
          "2023-06-26T00:00:00",
          "2023-06-27T00:00:00",
          "2023-06-28T00:00:00",
          "2023-07-03T00:00:00",
          "2023-07-04T00:00:00",
          "2023-07-06T00:00:00",
          "2023-07-09T00:00:00",
          "2023-07-10T00:00:00",
          "2023-07-13T00:00:00",
          "2023-07-16T00:00:00",
          "2023-07-17T00:00:00",
          "2023-07-18T00:00:00",
          "2023-07-19T00:00:00",
          "2023-07-21T00:00:00",
          "2023-07-23T00:00:00",
          "2023-07-25T00:00:00",
          "2023-07-26T00:00:00",
          "2023-08-01T00:00:00",
          "2023-08-02T00:00:00",
          "2023-08-09T00:00:00",
          "2023-08-11T00:00:00",
          "2023-08-13T00:00:00",
          "2023-08-15T00:00:00",
          "2023-08-17T00:00:00",
          "2023-08-18T00:00:00",
          "2023-08-22T00:00:00",
          "2023-08-23T00:00:00",
          "2023-08-24T00:00:00",
          "2023-08-27T00:00:00",
          "2023-08-31T00:00:00",
          "2023-09-04T00:00:00",
          "2023-09-06T00:00:00",
          "2023-09-13T00:00:00",
          "2023-09-14T00:00:00",
          "2023-09-17T00:00:00",
          "2023-09-18T00:00:00",
          "2023-09-21T00:00:00",
          "2023-09-25T00:00:00",
          "2023-09-26T00:00:00",
          "2023-10-03T00:00:00",
          "2023-10-04T00:00:00",
          "2023-10-12T00:00:00",
          "2023-10-15T00:00:00",
          "2023-10-16T00:00:00",
          "2023-10-23T00:00:00",
          "2023-10-26T00:00:00",
          "2023-10-27T00:00:00",
          "2023-10-30T00:00:00",
          "2023-10-31T00:00:00",
          "2023-11-07T00:00:00",
          "2023-11-08T00:00:00",
          "2023-11-14T00:00:00",
          "2023-11-15T00:00:00",
          "2023-11-17T00:00:00",
          "2023-11-21T00:00:00",
          "2023-11-22T00:00:00",
          "2023-11-23T00:00:00",
          "2023-11-24T00:00:00",
          "2023-11-27T00:00:00"
         ],
         "y": [
          1,
          1,
          1,
          2,
          1,
          1,
          1,
          1,
          1,
          2,
          4,
          1,
          2,
          2,
          1,
          4,
          3,
          1,
          1,
          1,
          2,
          1,
          1,
          1,
          1,
          1,
          1,
          1,
          1,
          2,
          1,
          1,
          1,
          1,
          1,
          2,
          1,
          1,
          1,
          4,
          2,
          1,
          1,
          2,
          1,
          1,
          3,
          2,
          1,
          1,
          1,
          2,
          3,
          1,
          3,
          1,
          1,
          1,
          1,
          2,
          1,
          1,
          1,
          1,
          1,
          1,
          1,
          1,
          1,
          1,
          2,
          1,
          2,
          1,
          1,
          2,
          2,
          1,
          2,
          3,
          1,
          4,
          1,
          1,
          2,
          4,
          1,
          2,
          1,
          2,
          1,
          1,
          3,
          5,
          1,
          1,
          1,
          1,
          1,
          1,
          1,
          1,
          1,
          2,
          2,
          1,
          1,
          2,
          2,
          3,
          1,
          1,
          1,
          1,
          1,
          1,
          2,
          1,
          2,
          2,
          1,
          4,
          3,
          1,
          1,
          1,
          1,
          2,
          2,
          1,
          1,
          1,
          1,
          3,
          1,
          1,
          1,
          3,
          3,
          1,
          1,
          1,
          2,
          2,
          2,
          2,
          3,
          2,
          2,
          4,
          2,
          1,
          1,
          1,
          5,
          2,
          1,
          2,
          1,
          1,
          1,
          2,
          3,
          2,
          3,
          2,
          1,
          1,
          2,
          1,
          1,
          1,
          1,
          1,
          1,
          1,
          3,
          1,
          1,
          2,
          1,
          2,
          2,
          1,
          1,
          1,
          2,
          2,
          1,
          3,
          1,
          1,
          1,
          2,
          1,
          2,
          1,
          2,
          1,
          1,
          1,
          1,
          1,
          2,
          1,
          1,
          1,
          1,
          1,
          1,
          1,
          2,
          3,
          2,
          1,
          1,
          1,
          2,
          1,
          4,
          1,
          1,
          1,
          6,
          4,
          3,
          2,
          1,
          1,
          3,
          2,
          1,
          1,
          1,
          3,
          2,
          1,
          1,
          3,
          1,
          2,
          1,
          1,
          1,
          3,
          2,
          1,
          1,
          2,
          2,
          1,
          2,
          1,
          2,
          1,
          2,
          1,
          2,
          1,
          3,
          3,
          1,
          1,
          2,
          1,
          2,
          1,
          4,
          2,
          1,
          1,
          1,
          1,
          1,
          1,
          1,
          2,
          2,
          1,
          3,
          2,
          1,
          1,
          1,
          1,
          2,
          1,
          1,
          2,
          2,
          1,
          1,
          1,
          3,
          2,
          3,
          2,
          4,
          1,
          1,
          1,
          1,
          11,
          1,
          1,
          1,
          1,
          1,
          2,
          1,
          1,
          1,
          1,
          1,
          2,
          3,
          2,
          1,
          1,
          5,
          1,
          2,
          1,
          1,
          2,
          1,
          1,
          1,
          1,
          1,
          1,
          1,
          1,
          1,
          1,
          1,
          4,
          2,
          1,
          2,
          1,
          1,
          1,
          2,
          1,
          2,
          1,
          1,
          2,
          3,
          1,
          2,
          2
         ]
        },
        {
         "hoverinfo": "text",
         "hovertext": [
          "<b>Topic 2</b><br>Words: 지방, 복지, 행정, 건설, 경제",
          "<b>Topic 2</b><br>Words: 인구, 감소, 시작, 아이, 지급",
          "<b>Topic 2</b><br>Words: 산업, 도시, 복지, 인구, 단지",
          "<b>Topic 2</b><br>Words: 교육, 농업, 인재, 전문, 코로나",
          "<b>Topic 2</b><br>Words: 교육, 농업, 인재, 전문, 정책",
          "<b>Topic 2</b><br>Words: 전문, 관리, 보건, 공원, 체육",
          "<b>Topic 2</b><br>Words: 주요, 협약, 기대, 노력, 전문",
          "<b>Topic 2</b><br>Words: 활용, 자원, 협력, 기술, 사회",
          "<b>Topic 2</b><br>Words: 인구, 협력, 활용, 자원, 혁신",
          "<b>Topic 2</b><br>Words: 협력, 활용, 자원, 구축, 디지털",
          "<b>Topic 2</b><br>Words: 풍력, 해상, 단지, 대통령, 발전",
          "<b>Topic 2</b><br>Words: 풍력, 해상, 대통령, 단지, 최대",
          "<b>Topic 2</b><br>Words: 정비, 협약, 점검, 업무, 인력",
          "<b>Topic 2</b><br>Words: 에너지, 한국, 혁신, 기업, 수도",
          "<b>Topic 2</b><br>Words: 미래, 공모, 호남, 국민, 수립",
          "<b>Topic 2</b><br>Words: 투자, 단지, 기업, 협약, 대표",
          "<b>Topic 2</b><br>Words: 산업, 전남도, 지방, 정부, 에너지",
          "<b>Topic 2</b><br>Words: 협약, 농촌, 교육, 추진, 공동",
          "<b>Topic 2</b><br>Words: 대통령, 경제, 국민, 풍력, 코로나",
          "<b>Topic 2</b><br>Words: 대통령, 경제, 풍력, 국민, 코로나",
          "<b>Topic 2</b><br>Words: 국민, 대회, 호남, 대표, 후보",
          "<b>Topic 2</b><br>Words: 국민, 대회, 호남, 대표, 후보",
          "<b>Topic 2</b><br>Words: 후보, 선거, 여성, 공무원, 기초",
          "<b>Topic 2</b><br>Words: 선거, 지방, 군수, 내년, 전남도",
          "<b>Topic 2</b><br>Words: 군수, 이전, 유치, 지방, 전환",
          "<b>Topic 2</b><br>Words: 후보, 선거, 평가, 국민, 경기",
          "<b>Topic 2</b><br>Words: 농업, 수산, 전문, 자원, 교통",
          "<b>Topic 2</b><br>Words: 소득, 창출, 추진, 군수, 성과",
          "<b>Topic 2</b><br>Words: 대학, 학교, 발생, 조사, 관계자",
          "<b>Topic 2</b><br>Words: 농업, 정책, 산업, 본부, 수산",
          "<b>Topic 2</b><br>Words: 정책, 자원, 활용, 결과, 공유",
          "<b>Topic 2</b><br>Words: 아이, 센터, 회의, 협약, 김산",
          "<b>Topic 2</b><br>Words: 위원회, 지방, 선거, 자치, 변화",
          "<b>Topic 2</b><br>Words: 청년, 발굴, 육성, 협약, 선거",
          "<b>Topic 2</b><br>Words: 행정, 관리, 여성, 가족, 에너지",
          "<b>Topic 2</b><br>Words: 의료, 센터, 협약, 재단, 업무",
          "<b>Topic 2</b><br>Words: 경우, 필요, 사례, 수도, 우리",
          "<b>Topic 2</b><br>Words: 사회, 지속, 코로나, 활동, 소통",
          "<b>Topic 2</b><br>Words: 홍어, 유산, 대회, 전국, 중요",
          "<b>Topic 2</b><br>Words: 이전, 교육, 협약, 업무, 박우량",
          "<b>Topic 2</b><br>Words: 예방, 사랑, 건강, 협약, 아시아",
          "<b>Topic 2</b><br>Words: 대통령, 전남도, 행사, 발전, 국민",
          "<b>Topic 2</b><br>Words: 후보, 국민, 발전, 대통령, 호남",
          "<b>Topic 2</b><br>Words: 후보, 국민, 청년, 문제, 사진",
          "<b>Topic 2</b><br>Words: 군수, 추진, 박우량, 군민, 에너지",
          "<b>Topic 2</b><br>Words: 대통령, 마을, 주민, 박우량, 운동",
          "<b>Topic 2</b><br>Words: 환경, 대상, 발전, 산업, 군수",
          "<b>Topic 2</b><br>Words: 경제, 개최, 교류, 아시아, 협력",
          "<b>Topic 2</b><br>Words: 센터, 자치, 경영, 안전, 공공",
          "<b>Topic 2</b><br>Words: 조사, 보건, 환경, 인재, 군수",
          "<b>Topic 2</b><br>Words: 보건, 군수, 환경, 농업, 인재",
          "<b>Topic 2</b><br>Words: 선거, 대표, 교육, 지방, 자치",
          "<b>Topic 2</b><br>Words: 전략, 마을, 한국, 교류, 수립",
          "<b>Topic 2</b><br>Words: 서비스, 주민, 가구, 복지, 센터",
          "<b>Topic 2</b><br>Words: 풍력, 해상, 단지, 업무, 산업",
          "<b>Topic 2</b><br>Words: 시대, 산업, 군수, 구축, 선거",
          "<b>Topic 2</b><br>Words: 산업, 해양, 인재, 농업, 정책",
          "<b>Topic 2</b><br>Words: 산업, 해양, 인재, 농업, 정책",
          "<b>Topic 2</b><br>Words: 관리, 환경, 시설, 수도, 정보",
          "<b>Topic 2</b><br>Words: 회장, 생각, 활동, 건강, 시작",
          "<b>Topic 2</b><br>Words: 후보, 선거, 대표, 교육, 평가",
          "<b>Topic 2</b><br>Words: 농업, 호남, 농협, 발전, 주민",
          "<b>Topic 2</b><br>Words: 농협, 농업, 경영, 발전, 수도",
          "<b>Topic 2</b><br>Words: 복합, 대표, 국민, 강조, 유치",
          "<b>Topic 2</b><br>Words: 후보, 에너지, 대통령, 발전, 산업",
          "<b>Topic 2</b><br>Words: 후보, 생각, 경우, 우리, 선거",
          "<b>Topic 2</b><br>Words: 공유, 교류, 협약, 군수, 발전",
          "<b>Topic 2</b><br>Words: 선거, 후보, 대통령, 학생, 미래",
          "<b>Topic 2</b><br>Words: 행사, 생각, 대통령, 후보, 가족",
          "<b>Topic 2</b><br>Words: 후보, 생각, 선거, 국민, 통합",
          "<b>Topic 2</b><br>Words: 선거, 국민, 이날, 오후, 오전",
          "<b>Topic 2</b><br>Words: 군수, 선거, 행정, 지방, 후보",
          "<b>Topic 2</b><br>Words: 수산, 교육, 갯벌, 해양, 관련",
          "<b>Topic 2</b><br>Words: 후보, 미래, 선거, 군민, 활동",
          "<b>Topic 2</b><br>Words: 후보, 선거, 미래, 군민, 행사",
          "<b>Topic 2</b><br>Words: 군수, 산업, 복합, 지방, 단지",
          "<b>Topic 2</b><br>Words: 협약, 취재, 본부, 호남, 대표",
          "<b>Topic 2</b><br>Words: 협약, 세계, 교류, 최근, 공원",
          "<b>Topic 2</b><br>Words: 후보, 박우량, 복지, 환경, 교통",
          "<b>Topic 2</b><br>Words: 안전, 전시, 시민, 사회, 공간",
          "<b>Topic 2</b><br>Words: 공간, 시민, 아이, 오후, 가족",
          "<b>Topic 2</b><br>Words: 일자리, 발전, 정부, 풍력, 해상",
          "<b>Topic 2</b><br>Words: 대표, 사람, 우리, 다양, 서울",
          "<b>Topic 2</b><br>Words: 후보, 선거, 농업, 지방, 오전",
          "<b>Topic 2</b><br>Words: 풍력, 해상, 에너지, 재생, 단지",
          "<b>Topic 2</b><br>Words: 후보, 선거, 국민, 전남도, 교육청",
          "<b>Topic 2</b><br>Words: 후보, 선거, 필요, 지방, 참여",
          "<b>Topic 2</b><br>Words: 농업, 대표, 후보, 국민, 건설",
          "<b>Topic 2</b><br>Words: 후보, 사회, 선거, 경제, 서울",
          "<b>Topic 2</b><br>Words: 후보, 선거, 기초, 운동, 대표",
          "<b>Topic 2</b><br>Words: 예술, 대표, 선정, 청년, 수도",
          "<b>Topic 2</b><br>Words: 후보, 선거, 전남도, 조사, 교육",
          "<b>Topic 2</b><br>Words: 후보, 선거, 청소년, 청년, 지방",
          "<b>Topic 2</b><br>Words: 선거, 후보, 농업, 대표, 교육",
          "<b>Topic 2</b><br>Words: 선거, 대표, 후보, 농업, 지방",
          "<b>Topic 2</b><br>Words: 위원회, 교수, 선거, 대표, 전문가",
          "<b>Topic 2</b><br>Words: 포함, 교육, 소통, 양식, 취업",
          "<b>Topic 2</b><br>Words: 위원회, 구성, 교육, 세계, 단체",
          "<b>Topic 2</b><br>Words: 건설, 대표, 대통령, 국민, 선거",
          "<b>Topic 2</b><br>Words: 생각, 대표, 사람, 오후, 오전",
          "<b>Topic 2</b><br>Words: 행정, 정원, 수산, 체육, 교육",
          "<b>Topic 2</b><br>Words: 협력, 본부, 대학, 전남도, 정보",
          "<b>Topic 2</b><br>Words: 농업, 수도, 선정, 소득, 기술",
          "<b>Topic 2</b><br>Words: 선거, 농협, 관리, 내년, 본부",
          "<b>Topic 2</b><br>Words: 군민, 도시, 방침, 발전, 김산",
          "<b>Topic 2</b><br>Words: 선거, 군민, 조성, 도시, 분야",
          "<b>Topic 2</b><br>Words: 제도, 학교, 교육청, 군수, 규모",
          "<b>Topic 2</b><br>Words: 육성, 협약, 스마트, 박우량, 군수",
          "<b>Topic 2</b><br>Words: 교통, 주민, 한국, 진흥원, 발전",
          "<b>Topic 2</b><br>Words: 후보, 생각, 대표, 농촌, 소득",
          "<b>Topic 2</b><br>Words: 복합, 관련, 취재, 추진, 발전",
          "<b>Topic 2</b><br>Words: 복합, 관련, 취재, 추진, 발전",
          "<b>Topic 2</b><br>Words: 관리, 전문, 농촌, 공원, 복지",
          "<b>Topic 2</b><br>Words: 최대, 가구, 수도, 전국, 오전",
          "<b>Topic 2</b><br>Words: 지방, 일자리, 지자체, 산업, 수도",
          "<b>Topic 2</b><br>Words: 공원, 정원, 조성, 마을, 주민",
          "<b>Topic 2</b><br>Words: 선정, 진흥원, 한국, 마을, 강화",
          "<b>Topic 2</b><br>Words: 협약, 가운데, 전국, 지방, 선거",
          "<b>Topic 2</b><br>Words: 진흥원, 협력, 협약, 업무, 정책",
          "<b>Topic 2</b><br>Words: 산업, 방문, 유치, 단지, 정비",
          "<b>Topic 2</b><br>Words: 정비, 유치, 단지, 방문, 산업",
          "<b>Topic 2</b><br>Words: 소통, 건립, 주민, 계획, 개발",
          "<b>Topic 2</b><br>Words: 갯벌, 유산, 협력, 세계, 국제",
          "<b>Topic 2</b><br>Words: 정비, 시설, 방문, 김산, 대표",
          "<b>Topic 2</b><br>Words: 정비, 시설, 방문, 대표, 건설",
          "<b>Topic 2</b><br>Words: 한국, 취업, 대학, 학생, 현장",
          "<b>Topic 2</b><br>Words: 세계, 군민, 박우량, 선정, 군수",
          "<b>Topic 2</b><br>Words: 군수, 설명, 세계, 조성, 박우량",
          "<b>Topic 2</b><br>Words: 오후, 행정, 운동, 대표, 건설",
          "<b>Topic 2</b><br>Words: 군수, 중요, 발굴, 행사, 관련",
          "<b>Topic 2</b><br>Words: 오후, 행정, 운동, 대표, 건설",
          "<b>Topic 2</b><br>Words: 마을, 교수, 국가, 농촌, 유치",
          "<b>Topic 2</b><br>Words: 오후, 공유, 박우량, 예술, 대표",
          "<b>Topic 2</b><br>Words: 대표, 사용, 농협, 생산, 우리",
          "<b>Topic 2</b><br>Words: 전시, 건립, 예술, 도시, 수도",
          "<b>Topic 2</b><br>Words: 환경, 대상, 사용, 활용, 보호",
          "<b>Topic 2</b><br>Words: 버스, 구축, 공동, 박우량, 군수",
          "<b>Topic 2</b><br>Words: 확산, 협약, 식품, 업무, 김산",
          "<b>Topic 2</b><br>Words: 오전, 오후, 회의, 결과, 산업",
          "<b>Topic 2</b><br>Words: 대표, 대통령, 국민, 조사, 평가",
          "<b>Topic 2</b><br>Words: 내년, 사랑, 관광, 투자, 농업",
          "<b>Topic 2</b><br>Words: 보건, 복지, 군수, 경제, 산업",
          "<b>Topic 2</b><br>Words: 산업, 발전, 군수, 축제, 계획",
          "<b>Topic 2</b><br>Words: 군수, 군민, 대응, 변화, 세계",
          "<b>Topic 2</b><br>Words: 현장, 협약, 관광, 최선, 취업",
          "<b>Topic 2</b><br>Words: 수산, 해양, 농업, 위원회, 본부",
          "<b>Topic 2</b><br>Words: 수산, 본부, 해양, 산업, 농업",
          "<b>Topic 2</b><br>Words: 기반, 전남도, 환경, 선정, 농업",
          "<b>Topic 2</b><br>Words: 사랑, 사회, 회장, 최선, 도움",
          "<b>Topic 2</b><br>Words: 재생, 활성, 도시, 시설, 분야",
          "<b>Topic 2</b><br>Words: 종합, 노력, 결과, 단체, 전남도",
          "<b>Topic 2</b><br>Words: 희망, 안전, 센터, 준비, 사회",
          "<b>Topic 2</b><br>Words: 바다, 우리, 정부, 해양, 사람",
          "<b>Topic 2</b><br>Words: 생각, 이날, 대응, 평가, 시간",
          "<b>Topic 2</b><br>Words: 대통령, 정부, 회의, 경제, 업무",
          "<b>Topic 2</b><br>Words: 대통령, 회의, 정부, 이날, 혁신",
          "<b>Topic 2</b><br>Words: 평가, 기관, 행정, 서비스, 우수",
          "<b>Topic 2</b><br>Words: 농협, 회장, 선거, 후보, 농업",
          "<b>Topic 2</b><br>Words: 세계, 산업, 풍력, 단지, 특화",
          "<b>Topic 2</b><br>Words: 후보, 선거, 조성, 강조, 단지",
          "<b>Topic 2</b><br>Words: 협약, 업무, 박우량, 인재, 육성",
          "<b>Topic 2</b><br>Words: 이전, 대회, 단체, 유치, 군민",
          "<b>Topic 2</b><br>Words: 인력, 전문, 협약, 양성, 혁신",
          "<b>Topic 2</b><br>Words: 성공, 자치, 수도, 변화, 혁신",
          "<b>Topic 2</b><br>Words: 증가, 기초, 전남도, 군수, 올해",
          "<b>Topic 2</b><br>Words: 정원, 민간, 국가, 지방, 축제",
          "<b>Topic 2</b><br>Words: 발전, 기관, 기업, 성장, 단체",
          "<b>Topic 2</b><br>Words: 교류, 공유, 축제, 군수, 협약",
          "<b>Topic 2</b><br>Words: 운동, 우리, 사회, 사람, 활동",
          "<b>Topic 2</b><br>Words: 풍력, 해상, 발전, 정보, 단지",
          "<b>Topic 2</b><br>Words: 풍력, 해상, 발전, 정보, 단지",
          "<b>Topic 2</b><br>Words: 이전, 협력, 민간, 발표, 군민",
          "<b>Topic 2</b><br>Words: 청소년, 예방, 교통, 해상, 설치",
          "<b>Topic 2</b><br>Words: 스마트, 건강, 서비스, 구축, 아이",
          "<b>Topic 2</b><br>Words: 투자, 정보, 기술, 협약, 개발",
          "<b>Topic 2</b><br>Words: 이전, 중요, 주민, 변화, 기대",
          "<b>Topic 2</b><br>Words: 유치, 이전, 발표, 민간, 방안",
          "<b>Topic 2</b><br>Words: 가구, 전국, 학교, 학생, 운영",
          "<b>Topic 2</b><br>Words: 이전, 스마트, 산업, 농업, 군민",
          "<b>Topic 2</b><br>Words: 수산, 농업, 정책, 산업, 개발",
          "<b>Topic 2</b><br>Words: 위기, 지방, 대응, 활동, 근로자",
          "<b>Topic 2</b><br>Words: 스마트, 농업, 군민, 산업, 미래",
          "<b>Topic 2</b><br>Words: 대통령, 오후, 이날, 오전, 전국",
          "<b>Topic 2</b><br>Words: 홍어, 관광, 관리, 기술, 프로그램",
          "<b>Topic 2</b><br>Words: 축제, 농업, 조성, 군민, 군수",
          "<b>Topic 2</b><br>Words: 유치, 이전, 군민, 감소, 생태",
          "<b>Topic 2</b><br>Words: 선거, 청년, 국민, 활동, 시간",
          "<b>Topic 2</b><br>Words: 한국, 교육청, 전남도, 협약, 전라남도",
          "<b>Topic 2</b><br>Words: 오후, 주제, 문학, 국제, 국내",
          "<b>Topic 2</b><br>Words: 예산, 이전, 국민, 지방, 국가",
          "<b>Topic 2</b><br>Words: 해양, 안전, 투자, 우리, 국내",
          "<b>Topic 2</b><br>Words: 이전, 유치, 전남도, 발전, 군수",
          "<b>Topic 2</b><br>Words: 군민, 이전, 전남도, 이날, 대회",
          "<b>Topic 2</b><br>Words: 발전, 전라남도, 협약, 교류, 도시",
          "<b>Topic 2</b><br>Words: 후보, 발전, 협력, 전남도, 기관",
          "<b>Topic 2</b><br>Words: 생각, 변화, 단지, 특화, 시민",
          "<b>Topic 2</b><br>Words: 정부, 정원, 의료, 확대, 국민",
          "<b>Topic 2</b><br>Words: 협약, 시설, 업무, 기반, 조성",
          "<b>Topic 2</b><br>Words: 개발, 투자, 발전, 규모, 건설",
          "<b>Topic 2</b><br>Words: 발전, 호남, 기관, 해양, 업무",
          "<b>Topic 2</b><br>Words: 지자체, 예산, 감소, 내년, 올해",
          "<b>Topic 2</b><br>Words: 행정, 국민, 서비스, 의료, 발생",
          "<b>Topic 2</b><br>Words: 인구, 국가, 개선, 주민, 이상",
          "<b>Topic 2</b><br>Words: 군수, 공동, 발전, 협약, 교류",
          "<b>Topic 2</b><br>Words: 오후, 오전, 재단, 교육, 인권",
          "<b>Topic 2</b><br>Words: 이전, 교류, 협약, 조사, 군민",
          "<b>Topic 2</b><br>Words: 서비스, 구축, 산업, 도시, 교통",
          "<b>Topic 2</b><br>Words: 산업, 군수, 육성, 서비스, 교통",
          "<b>Topic 2</b><br>Words: 발전, 이전, 교육, 민간, 지정",
          "<b>Topic 2</b><br>Words: 시대, 지방, 교수, 발전, 공유",
          "<b>Topic 2</b><br>Words: 시대, 지방, 위원회, 발전, 전략",
          "<b>Topic 2</b><br>Words: 서울, 아이, 창업, 청년, 지방"
         ],
         "marker": {
          "color": "#009E73"
         },
         "mode": "lines",
         "name": "2_후보_농협_선거_지방",
         "type": "scatter",
         "x": [
          "2021-01-03T00:00:00",
          "2021-01-06T00:00:00",
          "2021-01-11T00:00:00",
          "2021-01-12T00:00:00",
          "2021-01-13T00:00:00",
          "2021-01-14T00:00:00",
          "2021-01-25T00:00:00",
          "2021-01-26T00:00:00",
          "2021-01-27T00:00:00",
          "2021-02-01T00:00:00",
          "2021-02-05T00:00:00",
          "2021-02-07T00:00:00",
          "2021-02-08T00:00:00",
          "2021-02-17T00:00:00",
          "2021-02-18T00:00:00",
          "2021-04-27T00:00:00",
          "2021-04-29T00:00:00",
          "2021-05-03T00:00:00",
          "2021-05-10T00:00:00",
          "2021-05-11T00:00:00",
          "2021-05-24T00:00:00",
          "2021-05-25T00:00:00",
          "2021-06-07T00:00:00",
          "2021-06-08T00:00:00",
          "2021-06-28T00:00:00",
          "2021-06-29T00:00:00",
          "2021-07-01T00:00:00",
          "2021-07-08T00:00:00",
          "2021-07-14T00:00:00",
          "2021-07-16T00:00:00",
          "2021-07-20T00:00:00",
          "2021-07-22T00:00:00",
          "2021-07-27T00:00:00",
          "2021-07-28T00:00:00",
          "2021-08-05T00:00:00",
          "2021-08-06T00:00:00",
          "2021-08-09T00:00:00",
          "2021-08-23T00:00:00",
          "2021-09-09T00:00:00",
          "2021-09-29T00:00:00",
          "2021-10-12T00:00:00",
          "2021-10-15T00:00:00",
          "2021-11-15T00:00:00",
          "2021-11-17T00:00:00",
          "2021-11-23T00:00:00",
          "2021-12-07T00:00:00",
          "2021-12-15T00:00:00",
          "2021-12-16T00:00:00",
          "2021-12-28T00:00:00",
          "2021-12-30T00:00:00",
          "2021-12-31T00:00:00",
          "2022-01-02T00:00:00",
          "2022-01-03T00:00:00",
          "2022-01-11T00:00:00",
          "2022-01-12T00:00:00",
          "2022-01-13T00:00:00",
          "2022-01-14T00:00:00",
          "2022-01-16T00:00:00",
          "2022-01-20T00:00:00",
          "2022-01-25T00:00:00",
          "2022-02-02T00:00:00",
          "2022-02-03T00:00:00",
          "2022-02-04T00:00:00",
          "2022-02-22T00:00:00",
          "2022-02-23T00:00:00",
          "2022-02-24T00:00:00",
          "2022-03-01T00:00:00",
          "2022-03-07T00:00:00",
          "2022-03-09T00:00:00",
          "2022-03-10T00:00:00",
          "2022-03-16T00:00:00",
          "2022-03-22T00:00:00",
          "2022-03-29T00:00:00",
          "2022-04-05T00:00:00",
          "2022-04-06T00:00:00",
          "2022-04-07T00:00:00",
          "2022-04-08T00:00:00",
          "2022-04-11T00:00:00",
          "2022-04-12T00:00:00",
          "2022-04-13T00:00:00",
          "2022-04-16T00:00:00",
          "2022-04-19T00:00:00",
          "2022-04-28T00:00:00",
          "2022-04-29T00:00:00",
          "2022-05-01T00:00:00",
          "2022-05-09T00:00:00",
          "2022-05-12T00:00:00",
          "2022-05-15T00:00:00",
          "2022-05-18T00:00:00",
          "2022-05-19T00:00:00",
          "2022-05-23T00:00:00",
          "2022-05-26T00:00:00",
          "2022-05-30T00:00:00",
          "2022-06-02T00:00:00",
          "2022-06-03T00:00:00",
          "2022-06-08T00:00:00",
          "2022-06-09T00:00:00",
          "2022-06-13T00:00:00",
          "2022-06-15T00:00:00",
          "2022-06-20T00:00:00",
          "2022-06-26T00:00:00",
          "2022-07-04T00:00:00",
          "2022-07-10T00:00:00",
          "2022-07-11T00:00:00",
          "2022-08-02T00:00:00",
          "2022-08-03T00:00:00",
          "2022-08-10T00:00:00",
          "2022-08-11T00:00:00",
          "2022-08-16T00:00:00",
          "2022-08-17T00:00:00",
          "2022-08-25T00:00:00",
          "2022-08-26T00:00:00",
          "2022-09-02T00:00:00",
          "2022-09-06T00:00:00",
          "2022-09-07T00:00:00",
          "2022-09-23T00:00:00",
          "2022-09-28T00:00:00",
          "2022-10-04T00:00:00",
          "2022-10-26T00:00:00",
          "2022-11-07T00:00:00",
          "2022-11-08T00:00:00",
          "2022-11-09T00:00:00",
          "2022-11-10T00:00:00",
          "2022-11-13T00:00:00",
          "2022-11-14T00:00:00",
          "2022-11-18T00:00:00",
          "2022-11-21T00:00:00",
          "2022-11-22T00:00:00",
          "2022-11-27T00:00:00",
          "2022-11-28T00:00:00",
          "2022-11-29T00:00:00",
          "2022-12-01T00:00:00",
          "2022-12-02T00:00:00",
          "2022-12-05T00:00:00",
          "2022-12-07T00:00:00",
          "2022-12-14T00:00:00",
          "2022-12-21T00:00:00",
          "2022-12-22T00:00:00",
          "2022-12-25T00:00:00",
          "2022-12-27T00:00:00",
          "2022-12-28T00:00:00",
          "2022-12-29T00:00:00",
          "2023-01-04T00:00:00",
          "2023-01-05T00:00:00",
          "2023-01-12T00:00:00",
          "2023-01-13T00:00:00",
          "2023-01-15T00:00:00",
          "2023-01-16T00:00:00",
          "2023-01-18T00:00:00",
          "2023-01-19T00:00:00",
          "2023-01-26T00:00:00",
          "2023-02-02T00:00:00",
          "2023-02-03T00:00:00",
          "2023-02-06T00:00:00",
          "2023-02-07T00:00:00",
          "2023-02-08T00:00:00",
          "2023-02-12T00:00:00",
          "2023-02-21T00:00:00",
          "2023-03-02T00:00:00",
          "2023-03-03T00:00:00",
          "2023-03-12T00:00:00",
          "2023-03-14T00:00:00",
          "2023-03-25T00:00:00",
          "2023-03-26T00:00:00",
          "2023-03-29T00:00:00",
          "2023-04-10T00:00:00",
          "2023-04-19T00:00:00",
          "2023-04-20T00:00:00",
          "2023-04-26T00:00:00",
          "2023-05-03T00:00:00",
          "2023-05-07T00:00:00",
          "2023-05-16T00:00:00",
          "2023-05-18T00:00:00",
          "2023-05-31T00:00:00",
          "2023-06-08T00:00:00",
          "2023-06-20T00:00:00",
          "2023-06-26T00:00:00",
          "2023-06-28T00:00:00",
          "2023-06-29T00:00:00",
          "2023-06-30T00:00:00",
          "2023-07-06T00:00:00",
          "2023-07-09T00:00:00",
          "2023-07-12T00:00:00",
          "2023-07-13T00:00:00",
          "2023-07-16T00:00:00",
          "2023-07-31T00:00:00",
          "2023-08-02T00:00:00",
          "2023-08-21T00:00:00",
          "2023-08-27T00:00:00",
          "2023-08-28T00:00:00",
          "2023-09-01T00:00:00",
          "2023-09-06T00:00:00",
          "2023-09-11T00:00:00",
          "2023-09-19T00:00:00",
          "2023-09-20T00:00:00",
          "2023-10-07T00:00:00",
          "2023-10-16T00:00:00",
          "2023-10-19T00:00:00",
          "2023-10-23T00:00:00",
          "2023-10-29T00:00:00",
          "2023-10-30T00:00:00",
          "2023-11-07T00:00:00",
          "2023-11-08T00:00:00",
          "2023-11-09T00:00:00",
          "2023-11-12T00:00:00",
          "2023-11-14T00:00:00",
          "2023-11-20T00:00:00",
          "2023-11-21T00:00:00",
          "2023-11-22T00:00:00",
          "2023-11-25T00:00:00",
          "2023-11-26T00:00:00",
          "2023-11-27T00:00:00"
         ],
         "y": [
          1,
          1,
          3,
          5,
          1,
          3,
          1,
          13,
          2,
          1,
          3,
          1,
          1,
          1,
          1,
          1,
          2,
          1,
          1,
          1,
          1,
          1,
          1,
          3,
          1,
          1,
          2,
          1,
          2,
          4,
          1,
          1,
          1,
          1,
          1,
          1,
          1,
          1,
          2,
          3,
          1,
          1,
          1,
          1,
          1,
          1,
          2,
          1,
          3,
          2,
          1,
          1,
          1,
          3,
          4,
          3,
          2,
          2,
          3,
          1,
          1,
          3,
          1,
          1,
          2,
          2,
          1,
          2,
          1,
          2,
          1,
          1,
          1,
          2,
          1,
          1,
          1,
          1,
          1,
          1,
          2,
          1,
          1,
          1,
          1,
          2,
          1,
          2,
          2,
          2,
          1,
          4,
          2,
          5,
          5,
          1,
          1,
          3,
          1,
          1,
          1,
          2,
          1,
          3,
          2,
          2,
          1,
          2,
          1,
          1,
          1,
          1,
          1,
          1,
          2,
          1,
          2,
          1,
          1,
          3,
          1,
          2,
          1,
          1,
          1,
          1,
          1,
          2,
          1,
          1,
          1,
          2,
          2,
          1,
          1,
          1,
          2,
          1,
          1,
          1,
          1,
          2,
          1,
          1,
          1,
          1,
          3,
          1,
          1,
          1,
          1,
          3,
          1,
          1,
          2,
          1,
          1,
          1,
          3,
          1,
          1,
          1,
          1,
          1,
          1,
          1,
          1,
          1,
          1,
          4,
          1,
          1,
          1,
          1,
          1,
          1,
          1,
          5,
          2,
          1,
          3,
          1,
          1,
          6,
          1,
          1,
          1,
          1,
          1,
          1,
          1,
          1,
          1,
          1,
          3,
          1,
          1,
          1,
          1,
          2,
          1,
          1,
          1,
          4,
          1,
          3,
          2,
          2,
          2,
          1,
          3,
          1
         ]
        },
        {
         "hoverinfo": "text",
         "hovertext": [
          "<b>Topic 3</b><br>Words: 재단, 한국, 주민, 연구, 전국",
          "<b>Topic 3</b><br>Words: 정비, 재생, 전국, 예방, 프로그램",
          "<b>Topic 3</b><br>Words: 마을, 세계, 공원, 바다, 사람",
          "<b>Topic 3</b><br>Words: 해상, 풍력, 대통령, 단지, 최대",
          "<b>Topic 3</b><br>Words: 주민, 풍력, 해상, 발전, 참여",
          "<b>Topic 3</b><br>Words: 대통령, 보호, 민간, 에너지, 우리",
          "<b>Topic 3</b><br>Words: 생물, 위기, 생태, 사항, 연구",
          "<b>Topic 3</b><br>Words: 생물, 위기, 생태, 협약, 연구",
          "<b>Topic 3</b><br>Words: 생물, 위기, 생태, 연구, 공동",
          "<b>Topic 3</b><br>Words: 청소년, 예정, 생물, 시민, 모집",
          "<b>Topic 3</b><br>Words: 갯벌, 해양, 보호, 설치, 관광",
          "<b>Topic 3</b><br>Words: 공원, 조성, 보호, 추진, 군민",
          "<b>Topic 3</b><br>Words: 공원, 조성, 보호, 규모, 추진",
          "<b>Topic 3</b><br>Words: 공원, 조성, 추진, 보호, 군민",
          "<b>Topic 3</b><br>Words: 양식, 생산, 갯벌, 산업, 시설",
          "<b>Topic 3</b><br>Words: 양식, 생산, 환경, 시설, 에너지",
          "<b>Topic 3</b><br>Words: 양식, 생산, 시설, 공모, 환경",
          "<b>Topic 3</b><br>Words: 주민, 관광객, 우리, 국내, 교통",
          "<b>Topic 3</b><br>Words: 진흥원, 한국, 구성, 개발, 연구",
          "<b>Topic 3</b><br>Words: 국제, 정비, 환경, 해양, 시설",
          "<b>Topic 3</b><br>Words: 국제, 환경, 해양, 활동, 공간",
          "<b>Topic 3</b><br>Words: 주민, 시설, 정비, 시간, 개소",
          "<b>Topic 3</b><br>Words: 갯벌, 생태, 체험, 생물, 보호",
          "<b>Topic 3</b><br>Words: 생물, 자원, 생태, 시설, 국립",
          "<b>Topic 3</b><br>Words: 기반, 정비, 공모, 자원, 역량",
          "<b>Topic 3</b><br>Words: 기반, 정비, 공모, 개발, 시설",
          "<b>Topic 3</b><br>Words: 홍어, 생산, 갯벌, 환경, 군수",
          "<b>Topic 3</b><br>Words: 자원, 생물, 연구, 구축, 발굴",
          "<b>Topic 3</b><br>Words: 환경, 발생, 생활, 개선, 관리",
          "<b>Topic 3</b><br>Words: 교육, 운영, 문제, 자연, 방안",
          "<b>Topic 3</b><br>Words: 생물, 위기, 생태, 변화, 환경",
          "<b>Topic 3</b><br>Words: 에너지, 국내, 설치, 규모, 시스템",
          "<b>Topic 3</b><br>Words: 사람, 역사, 우리, 자연, 마을",
          "<b>Topic 3</b><br>Words: 갯벌, 유산, 세계, 자연, 가치",
          "<b>Topic 3</b><br>Words: 갯벌, 생태, 세계, 유산, 자연",
          "<b>Topic 3</b><br>Words: 인재, 아시아, 경제, 김산, 취재",
          "<b>Topic 3</b><br>Words: 국제, 생태, 환경, 정비, 공원",
          "<b>Topic 3</b><br>Words: 발전, 국제, 에너지, 공공, 재생",
          "<b>Topic 3</b><br>Words: 갯벌, 해양, 자원, 세계, 생태",
          "<b>Topic 3</b><br>Words: 갯벌, 유산, 세계, 생태, 가치",
          "<b>Topic 3</b><br>Words: 홍어, 유산, 해양, 중요, 국가",
          "<b>Topic 3</b><br>Words: 갯벌, 마을, 주민, 개선, 효과",
          "<b>Topic 3</b><br>Words: 갯벌, 효과, 개선, 유산, 생태",
          "<b>Topic 3</b><br>Words: 진흥원, 한국, 연구, 정책, 기관",
          "<b>Topic 3</b><br>Words: 진흥원, 한국, 연구, 정책, 발전",
          "<b>Topic 3</b><br>Words: 진흥원, 한국, 정책, 연구, 주민",
          "<b>Topic 3</b><br>Words: 진흥원, 연구, 정책, 최초, 전시",
          "<b>Topic 3</b><br>Words: 풍력, 해상, 우리, 산업, 에너지",
          "<b>Topic 3</b><br>Words: 행사, 자원, 방문, 공동, 주택",
          "<b>Topic 3</b><br>Words: 자원, 행사, 활용, 방문, 공동",
          "<b>Topic 3</b><br>Words: 정보, 해양, 확인, 시설, 이번",
          "<b>Topic 3</b><br>Words: 인권, 세계, 보호, 주민, 동안",
          "<b>Topic 3</b><br>Words: 연구, 주민, 미래, 진흥원, 가치",
          "<b>Topic 3</b><br>Words: 공원, 바다, 인근, 축제, 버스",
          "<b>Topic 3</b><br>Words: 해양, 환경, 바다, 활동, 홍보",
          "<b>Topic 3</b><br>Words: 역사, 마을, 연구, 진흥원, 시대",
          "<b>Topic 3</b><br>Words: 진흥원, 양식, 정책, 연구, 구축",
          "<b>Topic 3</b><br>Words: 주민, 행사, 아시아, 참여, 자원",
          "<b>Topic 3</b><br>Words: 주민, 참여, 자원, 행사, 가능",
          "<b>Topic 3</b><br>Words: 어린이, 가운데, 전라남도, 마을, 체험",
          "<b>Topic 3</b><br>Words: 에너지, 발전, 재생, 기술, 사회",
          "<b>Topic 3</b><br>Words: 환경, 대상, 단체, 생활, 자연",
          "<b>Topic 3</b><br>Words: 환경, 대상, 지속, 단체, 가능",
          "<b>Topic 3</b><br>Words: 에너지, 산업, 구축, 국가, 전환",
          "<b>Topic 3</b><br>Words: 강조, 인권, 개선, 지자체, 규모",
          "<b>Topic 3</b><br>Words: 국내, 해양, 시대, 연구, 해상",
          "<b>Topic 3</b><br>Words: 국내, 해양, 시대, 연구, 해상",
          "<b>Topic 3</b><br>Words: 세대, 주택, 공동, 실시, 시행",
          "<b>Topic 3</b><br>Words: 세대, 실시, 주택, 공동, 대상",
          "<b>Topic 3</b><br>Words: 생물, 자원, 연구, 국립, 전시",
          "<b>Topic 3</b><br>Words: 생물, 자원, 연구, 협약, 조사",
          "<b>Topic 3</b><br>Words: 생물, 자원, 협약, 연구, 갯벌",
          "<b>Topic 3</b><br>Words: 해양, 교육, 환경, 자원, 보호",
          "<b>Topic 3</b><br>Words: 해양, 실시, 환경, 바다, 발생",
          "<b>Topic 3</b><br>Words: 갯벌, 관리, 관광, 세계, 생태",
          "<b>Topic 3</b><br>Words: 안전, 에너지, 센터, 공모, 국가",
          "<b>Topic 3</b><br>Words: 현장, 정책, 한국, 진흥원, 소통",
          "<b>Topic 3</b><br>Words: 갯벌, 프로그램, 전시, 유산, 다양",
          "<b>Topic 3</b><br>Words: 해양, 안전, 관리, 안정, 실시",
          "<b>Topic 3</b><br>Words: 전환, 에너지, 추진, 지자체, 풍력",
          "<b>Topic 3</b><br>Words: 양식, 시설, 환경, 선정, 육성",
          "<b>Topic 3</b><br>Words: 양식, 시설, 전환, 생산, 공동",
          "<b>Topic 3</b><br>Words: 양식, 생산, 확보, 환경, 해양",
          "<b>Topic 3</b><br>Words: 양식, 생산, 갯벌, 환경, 해양",
          "<b>Topic 3</b><br>Words: 양식, 생산, 지구, 자연, 환경",
          "<b>Topic 3</b><br>Words: 양식, 해양, 환경, 생산, 사용",
          "<b>Topic 3</b><br>Words: 마을, 국립, 주민, 공원, 지정",
          "<b>Topic 3</b><br>Words: 예술, 환경, 협약, 기술, 대회",
          "<b>Topic 3</b><br>Words: 마을, 환경, 농업, 선정, 프로그램",
          "<b>Topic 3</b><br>Words: 수산, 자원, 기간, 소득, 확보",
          "<b>Topic 3</b><br>Words: 수산, 자원, 계획, 기간, 해양",
          "<b>Topic 3</b><br>Words: 양식, 갯벌, 유산, 지정, 중요",
          "<b>Topic 3</b><br>Words: 경영, 산업, 국제, 확산, 공모",
          "<b>Topic 3</b><br>Words: 풍력, 해상, 산업, 구축, 스마트",
          "<b>Topic 3</b><br>Words: 생물, 자원, 연구, 국립, 호남",
          "<b>Topic 3</b><br>Words: 해상, 풍력, 발전, 설치, 에너지",
          "<b>Topic 3</b><br>Words: 해상, 풍력, 건설, 발전, 설치",
          "<b>Topic 3</b><br>Words: 생물, 자원, 연구, 기관, 호남",
          "<b>Topic 3</b><br>Words: 해양, 대응, 사용, 발생, 안전",
          "<b>Topic 3</b><br>Words: 에너지, 정부, 재생, 정책, 예산",
          "<b>Topic 3</b><br>Words: 도시, 조성, 전국, 역할, 인근",
          "<b>Topic 3</b><br>Words: 생물, 자원, 확인, 조사, 호남",
          "<b>Topic 3</b><br>Words: 생물, 자원, 국립, 조사, 스마트",
          "<b>Topic 3</b><br>Words: 생물, 위기, 생태, 인근, 주민",
          "<b>Topic 3</b><br>Words: 축제, 생물, 위기, 홍보, 이번",
          "<b>Topic 3</b><br>Words: 위기, 생물, 계획, 이번, 인근",
          "<b>Topic 3</b><br>Words: 점검, 공동, 해양, 지정, 강조",
          "<b>Topic 3</b><br>Words: 활용, 주민, 역량, 강화, 참여",
          "<b>Topic 3</b><br>Words: 소멸, 지자체, 대응, 지방, 감소",
          "<b>Topic 3</b><br>Words: 양식, 소득, 생활, 수산, 바다",
          "<b>Topic 3</b><br>Words: 연구, 관리, 환경, 진흥원, 전남도",
          "<b>Topic 3</b><br>Words: 갯벌, 유산, 본부, 세계, 유치",
          "<b>Topic 3</b><br>Words: 활용, 환경, 사용, 발생, 농촌",
          "<b>Topic 3</b><br>Words: 확인, 갯벌, 주요, 바다, 연구",
          "<b>Topic 3</b><br>Words: 전시, 국내, 주제, 중요, 주민",
          "<b>Topic 3</b><br>Words: 해양, 수산, 건립, 국립, 선정",
          "<b>Topic 3</b><br>Words: 해양, 수산, 건립, 국립, 자원",
          "<b>Topic 3</b><br>Words: 갯벌, 유산, 세계, 본부, 해양",
          "<b>Topic 3</b><br>Words: 해양, 갯벌, 유산, 본부, 자연",
          "<b>Topic 3</b><br>Words: 갯벌, 유산, 세계, 협력, 국제",
          "<b>Topic 3</b><br>Words: 갯벌, 유산, 세계, 자연, 본부",
          "<b>Topic 3</b><br>Words: 안전, 국민, 해양, 정부, 운영",
          "<b>Topic 3</b><br>Words: 지정, 바다, 해양, 생물, 사례",
          "<b>Topic 3</b><br>Words: 지급, 학생, 교육, 축제, 개발",
          "<b>Topic 3</b><br>Words: 국제, 생태, 프로그램, 교육, 자원",
          "<b>Topic 3</b><br>Words: 환경, 대상, 변화, 정원, 대응",
          "<b>Topic 3</b><br>Words: 국제, 프로그램, 교육, 생태, 자연",
          "<b>Topic 3</b><br>Words: 교육, 생활, 양성, 환경, 활동",
          "<b>Topic 3</b><br>Words: 에너지, 재생, 산업, 풍력, 연구",
          "<b>Topic 3</b><br>Words: 갯벌, 공원, 해양, 생물, 생태",
          "<b>Topic 3</b><br>Words: 갯벌, 공원, 해양, 생태, 생물",
          "<b>Topic 3</b><br>Words: 식품, 확산, 협약, 업무, 확대",
          "<b>Topic 3</b><br>Words: 세계, 교수, 유치, 위원회, 재단",
          "<b>Topic 3</b><br>Words: 안전, 센터, 공원, 행사, 사용",
          "<b>Topic 3</b><br>Words: 풍력, 해상, 인력, 양성, 대학",
          "<b>Topic 3</b><br>Words: 생물, 위기, 자원, 호남, 조사",
          "<b>Topic 3</b><br>Words: 생물, 자원, 국립, 호남, 조사",
          "<b>Topic 3</b><br>Words: 시설, 우수, 개소, 평가, 선정",
          "<b>Topic 3</b><br>Words: 해양, 민간, 안전, 기관, 정비",
          "<b>Topic 3</b><br>Words: 관리, 해양, 정비, 기관, 안전",
          "<b>Topic 3</b><br>Words: 개소, 공모, 선정, 시설, 전남도",
          "<b>Topic 3</b><br>Words: 조성, 개소, 계획, 생활, 확보",
          "<b>Topic 3</b><br>Words: 해양, 세계, 자원, 소득, 갯벌",
          "<b>Topic 3</b><br>Words: 해양, 세계, 자원, 바다, 갯벌",
          "<b>Topic 3</b><br>Words: 회장, 생활, 군민, 개선, 사용",
          "<b>Topic 3</b><br>Words: 생태, 가족, 학생, 환경, 활동",
          "<b>Topic 3</b><br>Words: 기업, 활용, 환경, 생태, 산업",
          "<b>Topic 3</b><br>Words: 갯벌, 체험, 생태, 운영, 기회",
          "<b>Topic 3</b><br>Words: 이용, 교육, 시설, 대상, 실시",
          "<b>Topic 3</b><br>Words: 행사, 회의, 지자체, 군수, 세계",
          "<b>Topic 3</b><br>Words: 지자체, 행사, 회의, 발전, 방안",
          "<b>Topic 3</b><br>Words: 어린이, 바다, 갯벌, 중요, 활동",
          "<b>Topic 3</b><br>Words: 풍력, 해상, 생태, 산업, 마련",
          "<b>Topic 3</b><br>Words: 갯벌, 생태, 생물, 교육, 가치",
          "<b>Topic 3</b><br>Words: 풍력, 해상, 기업, 에너지, 발전",
          "<b>Topic 3</b><br>Words: 대응, 지자체, 정부, 마련, 안전",
          "<b>Topic 3</b><br>Words: 변화, 주민, 군민, 대응, 필요",
          "<b>Topic 3</b><br>Words: 해양, 점검, 안전, 예방, 대상",
          "<b>Topic 3</b><br>Words: 생태, 협약, 활성, 자연, 업무",
          "<b>Topic 3</b><br>Words: 갯벌, 유산, 세계, 자연, 관리",
          "<b>Topic 3</b><br>Words: 갯벌, 유산, 세계, 자연, 관리",
          "<b>Topic 3</b><br>Words: 갯벌, 유산, 자연, 세계, 관리",
          "<b>Topic 3</b><br>Words: 갯벌, 세계, 유산, 자연, 관리",
          "<b>Topic 3</b><br>Words: 사람, 한국, 서울, 역할, 결과",
          "<b>Topic 3</b><br>Words: 에너지, 재생, 국내, 진흥원, 기업",
          "<b>Topic 3</b><br>Words: 유산, 농업, 중요, 세계, 자연",
          "<b>Topic 3</b><br>Words: 해양, 환경, 수산, 보호, 생태",
          "<b>Topic 3</b><br>Words: 환경, 국제, 재단, 관리, 안전",
          "<b>Topic 3</b><br>Words: 조성, 방문, 현장, 확보, 예산",
          "<b>Topic 3</b><br>Words: 국민, 대표, 정부, 수산, 회의",
          "<b>Topic 3</b><br>Words: 시설, 운영, 향상, 평가, 관리",
          "<b>Topic 3</b><br>Words: 생물, 위기, 자연, 자원, 중요",
          "<b>Topic 3</b><br>Words: 선정, 공모, 유치, 전국, 해양",
          "<b>Topic 3</b><br>Words: 유산, 세계, 국립, 지정, 자원",
          "<b>Topic 3</b><br>Words: 해양, 기술, 연구, 공동, 설립",
          "<b>Topic 3</b><br>Words: 마을, 해양, 주민, 조성, 환경",
          "<b>Topic 3</b><br>Words: 마을, 조성, 주민, 에너지, 주요",
          "<b>Topic 3</b><br>Words: 에너지, 구축, 환경, 사용, 장애인",
          "<b>Topic 3</b><br>Words: 어린이, 공원, 이용, 환경, 공간",
          "<b>Topic 3</b><br>Words: 어린이, 공원, 이용, 환경, 시설",
          "<b>Topic 3</b><br>Words: 변화, 전시, 자연, 사람, 예술",
          "<b>Topic 3</b><br>Words: 한국, 진흥원, 정책, 이전, 우리",
          "<b>Topic 3</b><br>Words: 갯벌, 생태, 체험, 유산, 가치",
          "<b>Topic 3</b><br>Words: 갯벌, 생태, 체험, 유산, 프로그램",
          "<b>Topic 3</b><br>Words: 에너지, 재생, 공유, 주민, 발전",
          "<b>Topic 3</b><br>Words: 에너지, 재생, 공유, 주민, 발전",
          "<b>Topic 3</b><br>Words: 에너지, 전환, 혁신, 센터, 군민",
          "<b>Topic 3</b><br>Words: 에너지, 전환, 센터, 혁신, 정책"
         ],
         "marker": {
          "color": "#F0E442"
         },
         "mode": "lines",
         "name": "3_갯벌_해양_생물_환경",
         "type": "scatter",
         "x": [
          "2021-01-05T00:00:00",
          "2021-01-07T00:00:00",
          "2021-01-18T00:00:00",
          "2021-02-05T00:00:00",
          "2021-02-07T00:00:00",
          "2021-02-21T00:00:00",
          "2021-03-05T00:00:00",
          "2021-03-07T00:00:00",
          "2021-03-08T00:00:00",
          "2021-03-09T00:00:00",
          "2021-03-16T00:00:00",
          "2021-03-25T00:00:00",
          "2021-03-29T00:00:00",
          "2021-03-30T00:00:00",
          "2021-04-01T00:00:00",
          "2021-04-02T00:00:00",
          "2021-04-08T00:00:00",
          "2021-04-13T00:00:00",
          "2021-04-14T00:00:00",
          "2021-04-19T00:00:00",
          "2021-04-21T00:00:00",
          "2021-04-22T00:00:00",
          "2021-05-18T00:00:00",
          "2021-05-24T00:00:00",
          "2021-05-25T00:00:00",
          "2021-05-27T00:00:00",
          "2021-05-31T00:00:00",
          "2021-06-11T00:00:00",
          "2021-06-14T00:00:00",
          "2021-06-29T00:00:00",
          "2021-06-30T00:00:00",
          "2021-07-01T00:00:00",
          "2021-07-08T00:00:00",
          "2021-07-28T00:00:00",
          "2021-08-02T00:00:00",
          "2021-08-04T00:00:00",
          "2021-08-06T00:00:00",
          "2021-08-10T00:00:00",
          "2021-08-13T00:00:00",
          "2021-08-22T00:00:00",
          "2021-09-09T00:00:00",
          "2021-09-13T00:00:00",
          "2021-09-14T00:00:00",
          "2021-10-06T00:00:00",
          "2021-10-07T00:00:00",
          "2021-10-08T00:00:00",
          "2021-10-11T00:00:00",
          "2021-10-14T00:00:00",
          "2021-10-19T00:00:00",
          "2021-10-20T00:00:00",
          "2021-10-29T00:00:00",
          "2021-11-04T00:00:00",
          "2021-11-05T00:00:00",
          "2021-11-06T00:00:00",
          "2021-11-10T00:00:00",
          "2021-11-16T00:00:00",
          "2021-11-23T00:00:00",
          "2021-11-26T00:00:00",
          "2021-11-29T00:00:00",
          "2021-12-02T00:00:00",
          "2021-12-07T00:00:00",
          "2021-12-09T00:00:00",
          "2021-12-14T00:00:00",
          "2021-12-22T00:00:00",
          "2021-12-27T00:00:00",
          "2022-01-02T00:00:00",
          "2022-01-03T00:00:00",
          "2022-01-09T00:00:00",
          "2022-01-10T00:00:00",
          "2022-01-12T00:00:00",
          "2022-01-13T00:00:00",
          "2022-01-14T00:00:00",
          "2022-01-24T00:00:00",
          "2022-01-25T00:00:00",
          "2022-02-03T00:00:00",
          "2022-02-04T00:00:00",
          "2022-02-06T00:00:00",
          "2022-02-14T00:00:00",
          "2022-02-22T00:00:00",
          "2022-02-25T00:00:00",
          "2022-03-16T00:00:00",
          "2022-03-17T00:00:00",
          "2022-03-18T00:00:00",
          "2022-03-20T00:00:00",
          "2022-03-21T00:00:00",
          "2022-03-22T00:00:00",
          "2022-03-26T00:00:00",
          "2022-03-29T00:00:00",
          "2022-04-06T00:00:00",
          "2022-04-14T00:00:00",
          "2022-04-17T00:00:00",
          "2022-04-25T00:00:00",
          "2022-04-26T00:00:00",
          "2022-04-27T00:00:00",
          "2022-05-08T00:00:00",
          "2022-05-10T00:00:00",
          "2022-05-11T00:00:00",
          "2022-05-23T00:00:00",
          "2022-05-27T00:00:00",
          "2022-06-02T00:00:00",
          "2022-06-04T00:00:00",
          "2022-06-21T00:00:00",
          "2022-06-22T00:00:00",
          "2022-07-08T00:00:00",
          "2022-07-11T00:00:00",
          "2022-07-12T00:00:00",
          "2022-07-13T00:00:00",
          "2022-08-10T00:00:00",
          "2022-08-16T00:00:00",
          "2022-08-30T00:00:00",
          "2022-09-14T00:00:00",
          "2022-09-18T00:00:00",
          "2022-10-03T00:00:00",
          "2022-10-10T00:00:00",
          "2022-10-16T00:00:00",
          "2022-10-17T00:00:00",
          "2022-10-18T00:00:00",
          "2022-10-23T00:00:00",
          "2022-10-27T00:00:00",
          "2022-11-09T00:00:00",
          "2022-11-15T00:00:00",
          "2022-11-21T00:00:00",
          "2022-11-28T00:00:00",
          "2022-12-07T00:00:00",
          "2022-12-08T00:00:00",
          "2022-12-09T00:00:00",
          "2022-12-11T00:00:00",
          "2022-12-13T00:00:00",
          "2022-12-14T00:00:00",
          "2022-12-19T00:00:00",
          "2022-12-20T00:00:00",
          "2022-12-21T00:00:00",
          "2022-12-22T00:00:00",
          "2022-12-27T00:00:00",
          "2022-12-28T00:00:00",
          "2022-12-29T00:00:00",
          "2023-01-01T00:00:00",
          "2023-01-03T00:00:00",
          "2023-01-12T00:00:00",
          "2023-01-16T00:00:00",
          "2023-01-20T00:00:00",
          "2023-01-25T00:00:00",
          "2023-02-27T00:00:00",
          "2023-03-05T00:00:00",
          "2023-03-21T00:00:00",
          "2023-03-26T00:00:00",
          "2023-03-27T00:00:00",
          "2023-04-03T00:00:00",
          "2023-04-07T00:00:00",
          "2023-04-15T00:00:00",
          "2023-04-16T00:00:00",
          "2023-04-17T00:00:00",
          "2023-04-18T00:00:00",
          "2023-04-24T00:00:00",
          "2023-04-25T00:00:00",
          "2023-04-26T00:00:00",
          "2023-05-02T00:00:00",
          "2023-05-04T00:00:00",
          "2023-05-17T00:00:00",
          "2023-06-29T00:00:00",
          "2023-06-30T00:00:00",
          "2023-07-02T00:00:00",
          "2023-07-03T00:00:00",
          "2023-07-08T00:00:00",
          "2023-07-12T00:00:00",
          "2023-07-14T00:00:00",
          "2023-07-20T00:00:00",
          "2023-08-08T00:00:00",
          "2023-08-10T00:00:00",
          "2023-08-30T00:00:00",
          "2023-08-31T00:00:00",
          "2023-09-04T00:00:00",
          "2023-09-05T00:00:00",
          "2023-09-10T00:00:00",
          "2023-09-14T00:00:00",
          "2023-09-18T00:00:00",
          "2023-09-19T00:00:00",
          "2023-09-21T00:00:00",
          "2023-09-22T00:00:00",
          "2023-09-24T00:00:00",
          "2023-09-30T00:00:00",
          "2023-10-17T00:00:00",
          "2023-10-30T00:00:00",
          "2023-10-31T00:00:00",
          "2023-11-04T00:00:00",
          "2023-11-05T00:00:00",
          "2023-11-12T00:00:00",
          "2023-11-15T00:00:00"
         ],
         "y": [
          1,
          1,
          1,
          1,
          1,
          1,
          1,
          2,
          2,
          1,
          1,
          1,
          1,
          1,
          3,
          1,
          1,
          1,
          1,
          6,
          1,
          1,
          1,
          2,
          3,
          1,
          1,
          1,
          1,
          1,
          1,
          1,
          1,
          1,
          1,
          1,
          1,
          2,
          2,
          1,
          4,
          1,
          1,
          1,
          4,
          2,
          1,
          2,
          2,
          1,
          1,
          1,
          1,
          1,
          1,
          1,
          2,
          1,
          1,
          1,
          2,
          1,
          1,
          1,
          1,
          1,
          1,
          1,
          1,
          1,
          2,
          1,
          2,
          1,
          1,
          1,
          1,
          1,
          1,
          1,
          2,
          1,
          3,
          3,
          2,
          1,
          1,
          1,
          1,
          1,
          1,
          1,
          1,
          1,
          1,
          3,
          2,
          1,
          2,
          1,
          1,
          2,
          3,
          4,
          1,
          1,
          1,
          1,
          1,
          1,
          1,
          1,
          1,
          1,
          1,
          11,
          2,
          1,
          2,
          1,
          1,
          1,
          1,
          1,
          4,
          1,
          1,
          1,
          1,
          3,
          1,
          1,
          1,
          1,
          1,
          2,
          1,
          1,
          2,
          1,
          1,
          2,
          1,
          1,
          1,
          1,
          2,
          1,
          1,
          1,
          1,
          2,
          1,
          1,
          1,
          1,
          2,
          1,
          1,
          3,
          2,
          1,
          2,
          1,
          2,
          3,
          1,
          3,
          1,
          1,
          1,
          2,
          7,
          1,
          1,
          3,
          1,
          1,
          2,
          2,
          1,
          1,
          1,
          2,
          1,
          1,
          1,
          1
         ]
        },
        {
         "hoverinfo": "text",
         "hovertext": [
          "<b>Topic 4</b><br>Words: 마을, 중심, 관광, 공간, 추진",
          "<b>Topic 4</b><br>Words: 대통령, 풍력, 해상, 단지, 행사",
          "<b>Topic 4</b><br>Words: 생태, 자연, 바다, 공원, 조성",
          "<b>Topic 4</b><br>Words: 공원, 관광, 생태, 가능, 서울",
          "<b>Topic 4</b><br>Words: 전시, 바다, 한국, 세계, 사람",
          "<b>Topic 4</b><br>Words: 전시, 우리, 이번, 세계, 주제",
          "<b>Topic 4</b><br>Words: 전시, 사진, 구성, 세계, 세대",
          "<b>Topic 4</b><br>Words: 관광, 홍보, 축제, 모집, 행사",
          "<b>Topic 4</b><br>Words: 바다, 생물, 정책, 가치, 시대",
          "<b>Topic 4</b><br>Words: 문학, 축제, 도시, 세계, 관광",
          "<b>Topic 4</b><br>Words: 관광, 체험, 설치, 안전, 축제",
          "<b>Topic 4</b><br>Words: 생산, 축제, 홍보, 우수, 홍어",
          "<b>Topic 4</b><br>Words: 축제, 생산, 홍보, 관리, 홍어",
          "<b>Topic 4</b><br>Words: 관광, 마을, 세계, 우수, 선정",
          "<b>Topic 4</b><br>Words: 관광, 마을, 세계, 우수, 선정",
          "<b>Topic 4</b><br>Words: 관광, 세계, 마을, 우수, 선정",
          "<b>Topic 4</b><br>Words: 관광, 마을, 세계, 우수, 선정",
          "<b>Topic 4</b><br>Words: 주요, 홍보, 관광객, 아시아, 김산",
          "<b>Topic 4</b><br>Words: 우리, 전시, 자연, 진행, 환경",
          "<b>Topic 4</b><br>Words: 제도, 관광, 건설, 시간, 평가",
          "<b>Topic 4</b><br>Words: 청소년, 도시, 서울, 진행, 대학",
          "<b>Topic 4</b><br>Words: 농업, 홍보, 대회, 우수, 식품",
          "<b>Topic 4</b><br>Words: 예방, 아시아, 사랑, 설치, 군민",
          "<b>Topic 4</b><br>Words: 축제, 행사, 공원, 개최, 아시아",
          "<b>Topic 4</b><br>Words: 관광, 프로그램, 교육, 개발, 발굴",
          "<b>Topic 4</b><br>Words: 전시, 이번, 디지털, 시대, 프로그램",
          "<b>Topic 4</b><br>Words: 관광, 개발, 발굴, 진행, 프로그램",
          "<b>Topic 4</b><br>Words: 관광, 세계, 마을, 우수, 선정",
          "<b>Topic 4</b><br>Words: 관광, 세계, 마을, 우수, 선정",
          "<b>Topic 4</b><br>Words: 관광, 마을, 세계, 우수, 선정",
          "<b>Topic 4</b><br>Words: 관광, 세계, 마을, 우수, 선정",
          "<b>Topic 4</b><br>Words: 관광, 세계, 마을, 우수, 선정",
          "<b>Topic 4</b><br>Words: 축제, 공원, 내년, 주요, 행사",
          "<b>Topic 4</b><br>Words: 기간, 진행, 다양, 우수, 제공",
          "<b>Topic 4</b><br>Words: 전시, 서울, 공간, 인근, 관광",
          "<b>Topic 4</b><br>Words: 전시, 시간, 활동, 희망, 역사",
          "<b>Topic 4</b><br>Words: 행사, 관광, 지정, 프로그램, 사랑",
          "<b>Topic 4</b><br>Words: 국제, 지급, 농촌, 아동, 시작",
          "<b>Topic 4</b><br>Words: 체험, 마을, 전시, 진행, 건립",
          "<b>Topic 4</b><br>Words: 전시, 예술, 적극, 공간, 다양",
          "<b>Topic 4</b><br>Words: 바다, 마을, 공원, 사랑, 생태",
          "<b>Topic 4</b><br>Words: 방문, 관광, 과정, 진행, 공유",
          "<b>Topic 4</b><br>Words: 관광, 공무원, 지자체, 축제, 군수",
          "<b>Topic 4</b><br>Words: 바다, 시간, 관광, 동안, 설치",
          "<b>Topic 4</b><br>Words: 축제, 홍보, 소득, 도움, 우수",
          "<b>Topic 4</b><br>Words: 프로그램, 공원, 전시, 자연, 축제",
          "<b>Topic 4</b><br>Words: 관광, 교육, 활성, 자연, 역할",
          "<b>Topic 4</b><br>Words: 관광, 개발, 조성, 선정, 세계",
          "<b>Topic 4</b><br>Words: 행사, 여성, 김산, 참석, 군수",
          "<b>Topic 4</b><br>Words: 바다, 마을, 생태, 설치, 지정",
          "<b>Topic 4</b><br>Words: 프로그램, 오후, 운영, 진행, 참여",
          "<b>Topic 4</b><br>Words: 바다, 사진, 전시, 도시, 공원",
          "<b>Topic 4</b><br>Words: 관광, 관광객, 전라남도, 세계, 홍보",
          "<b>Topic 4</b><br>Words: 프로그램, 예술, 가족, 전시, 진행",
          "<b>Topic 4</b><br>Words: 주민, 공원, 행사, 체험, 참여",
          "<b>Topic 4</b><br>Words: 예술, 다양, 단체, 활동, 관광",
          "<b>Topic 4</b><br>Words: 전시, 마을, 관광, 가능, 프로그램",
          "<b>Topic 4</b><br>Words: 홍어, 주민, 공원, 마을, 관광",
          "<b>Topic 4</b><br>Words: 버스, 관광, 준비, 축제, 체험",
          "<b>Topic 4</b><br>Words: 인구, 관광, 다양, 가능, 세계",
          "<b>Topic 4</b><br>Words: 한국, 전시, 세계, 바다, 예술",
          "<b>Topic 4</b><br>Words: 갯벌, 바다, 공원, 수도, 관광",
          "<b>Topic 4</b><br>Words: 예술, 자연, 현장, 활동, 사랑",
          "<b>Topic 4</b><br>Words: 관광객, 관광, 축제, 증가, 방문",
          "<b>Topic 4</b><br>Words: 관광, 관광객, 축제, 증가, 방문",
          "<b>Topic 4</b><br>Words: 관광객, 관광, 축제, 증가, 방문",
          "<b>Topic 4</b><br>Words: 관광, 축제, 관광객, 박우량, 스마트",
          "<b>Topic 4</b><br>Words: 관광, 혁신, 스마트, 기업, 프로그램",
          "<b>Topic 4</b><br>Words: 사진, 바다, 전시, 사람, 서울",
          "<b>Topic 4</b><br>Words: 관광, 조성, 축제, 센터, 복합",
          "<b>Topic 4</b><br>Words: 프로그램, 체험, 자연, 다양, 운영",
          "<b>Topic 4</b><br>Words: 홍어, 축제, 관광, 운영, 유산",
          "<b>Topic 4</b><br>Words: 홍어, 축제, 관광객, 관광, 운영",
          "<b>Topic 4</b><br>Words: 홍어, 축제, 생산, 관광, 이번",
          "<b>Topic 4</b><br>Words: 홍어, 사랑, 지자체, 소멸, 관광",
          "<b>Topic 4</b><br>Words: 홍어, 축제, 관광, 생산, 운영",
          "<b>Topic 4</b><br>Words: 홍어, 축제, 관광객, 관광, 운영",
          "<b>Topic 4</b><br>Words: 전시, 한국, 생각, 공간, 사람",
          "<b>Topic 4</b><br>Words: 갯벌, 축제, 체험, 생태, 가치",
          "<b>Topic 4</b><br>Words: 갯벌, 축제, 체험, 생태, 가치",
          "<b>Topic 4</b><br>Words: 갯벌, 축제, 가치, 체험, 관광",
          "<b>Topic 4</b><br>Words: 갯벌, 체험, 축제, 공원, 조성",
          "<b>Topic 4</b><br>Words: 갯벌, 축제, 체험, 가치, 관광",
          "<b>Topic 4</b><br>Words: 활용, 교육청, 관광객, 감소, 마을",
          "<b>Topic 4</b><br>Words: 발굴, 국립, 건립, 전시, 센터",
          "<b>Topic 4</b><br>Words: 공원, 바다, 정원, 마을, 축제",
          "<b>Topic 4</b><br>Words: 관광객, 관광, 다양, 축제, 사람",
          "<b>Topic 4</b><br>Words: 바다, 전시, 생물, 건립, 인권",
          "<b>Topic 4</b><br>Words: 프로그램, 관광, 이번, 체험, 시간",
          "<b>Topic 4</b><br>Words: 축제, 준비, 행사, 기관, 운동",
          "<b>Topic 4</b><br>Words: 전시, 이번, 다양, 농가, 소득",
          "<b>Topic 4</b><br>Words: 전시, 참석, 관계자, 다양, 축제",
          "<b>Topic 4</b><br>Words: 양식, 세계, 식품, 국제, 자연",
          "<b>Topic 4</b><br>Words: 양식, 세계, 국제, 식품, 자연",
          "<b>Topic 4</b><br>Words: 세계, 양식, 식품, 자연, 국제",
          "<b>Topic 4</b><br>Words: 전시, 체험, 국내, 방문, 가능",
          "<b>Topic 4</b><br>Words: 전시, 체험, 어린이, 국내, 방문",
          "<b>Topic 4</b><br>Words: 관광, 산업, 체험, 디지털, 관광객",
          "<b>Topic 4</b><br>Words: 식품, 점검, 운영, 서울, 준비",
          "<b>Topic 4</b><br>Words: 마을, 사람, 주민, 아이, 발전",
          "<b>Topic 4</b><br>Words: 프로그램, 시간, 운영, 국내, 관광",
          "<b>Topic 4</b><br>Words: 갯벌, 체험, 생태, 자연, 생물",
          "<b>Topic 4</b><br>Words: 마을, 센터, 주민, 역량, 프로그램",
          "<b>Topic 4</b><br>Words: 정원, 전시, 한국, 이번, 박우량",
          "<b>Topic 4</b><br>Words: 세계, 전시, 주제, 이번, 개최",
          "<b>Topic 4</b><br>Words: 세계, 전시, 주제, 체험, 내년",
          "<b>Topic 4</b><br>Words: 우수, 관광, 자치, 전남도, 선정"
         ],
         "marker": {
          "color": "#D55E00"
         },
         "mode": "lines",
         "name": "4_관광_세계_마을_홍어",
         "type": "scatter",
         "x": [
          "2021-01-17T00:00:00",
          "2021-02-07T00:00:00",
          "2021-02-09T00:00:00",
          "2021-02-15T00:00:00",
          "2021-03-06T00:00:00",
          "2021-03-07T00:00:00",
          "2021-03-08T00:00:00",
          "2021-03-31T00:00:00",
          "2021-04-02T00:00:00",
          "2021-04-13T00:00:00",
          "2021-05-18T00:00:00",
          "2021-06-28T00:00:00",
          "2021-06-29T00:00:00",
          "2021-06-30T00:00:00",
          "2021-07-01T00:00:00",
          "2021-07-02T00:00:00",
          "2021-07-03T00:00:00",
          "2021-07-17T00:00:00",
          "2021-07-27T00:00:00",
          "2021-09-07T00:00:00",
          "2021-09-24T00:00:00",
          "2021-10-14T00:00:00",
          "2021-10-21T00:00:00",
          "2021-11-03T00:00:00",
          "2021-11-23T00:00:00",
          "2021-11-26T00:00:00",
          "2021-11-28T00:00:00",
          "2021-12-03T00:00:00",
          "2021-12-04T00:00:00",
          "2021-12-05T00:00:00",
          "2021-12-06T00:00:00",
          "2021-12-07T00:00:00",
          "2021-12-15T00:00:00",
          "2021-12-16T00:00:00",
          "2022-02-08T00:00:00",
          "2022-02-20T00:00:00",
          "2022-03-28T00:00:00",
          "2022-04-05T00:00:00",
          "2022-04-29T00:00:00",
          "2022-05-10T00:00:00",
          "2022-06-10T00:00:00",
          "2022-06-15T00:00:00",
          "2022-06-16T00:00:00",
          "2022-06-19T00:00:00",
          "2022-07-21T00:00:00",
          "2022-07-25T00:00:00",
          "2022-07-31T00:00:00",
          "2022-08-01T00:00:00",
          "2022-08-11T00:00:00",
          "2022-08-12T00:00:00",
          "2022-08-26T00:00:00",
          "2022-09-12T00:00:00",
          "2022-10-03T00:00:00",
          "2022-10-19T00:00:00",
          "2022-10-26T00:00:00",
          "2022-11-13T00:00:00",
          "2022-11-15T00:00:00",
          "2022-11-18T00:00:00",
          "2022-12-08T00:00:00",
          "2022-12-11T00:00:00",
          "2022-12-14T00:00:00",
          "2022-12-26T00:00:00",
          "2023-01-19T00:00:00",
          "2023-01-26T00:00:00",
          "2023-01-29T00:00:00",
          "2023-01-31T00:00:00",
          "2023-02-08T00:00:00",
          "2023-02-09T00:00:00",
          "2023-03-13T00:00:00",
          "2023-03-26T00:00:00",
          "2023-03-29T00:00:00",
          "2023-04-27T00:00:00",
          "2023-04-28T00:00:00",
          "2023-04-30T00:00:00",
          "2023-05-01T00:00:00",
          "2023-05-02T00:00:00",
          "2023-05-03T00:00:00",
          "2023-05-18T00:00:00",
          "2023-05-30T00:00:00",
          "2023-05-31T00:00:00",
          "2023-06-07T00:00:00",
          "2023-06-08T00:00:00",
          "2023-06-09T00:00:00",
          "2023-06-12T00:00:00",
          "2023-06-15T00:00:00",
          "2023-06-17T00:00:00",
          "2023-06-28T00:00:00",
          "2023-07-01T00:00:00",
          "2023-08-01T00:00:00",
          "2023-08-02T00:00:00",
          "2023-08-07T00:00:00",
          "2023-08-08T00:00:00",
          "2023-08-14T00:00:00",
          "2023-08-15T00:00:00",
          "2023-08-16T00:00:00",
          "2023-08-17T00:00:00",
          "2023-08-18T00:00:00",
          "2023-09-03T00:00:00",
          "2023-09-12T00:00:00",
          "2023-09-22T00:00:00",
          "2023-09-26T00:00:00",
          "2023-11-04T00:00:00",
          "2023-11-07T00:00:00",
          "2023-11-14T00:00:00",
          "2023-11-15T00:00:00",
          "2023-11-16T00:00:00",
          "2023-11-20T00:00:00"
         ],
         "y": [
          1,
          1,
          1,
          1,
          2,
          1,
          1,
          1,
          1,
          1,
          1,
          3,
          1,
          4,
          1,
          1,
          1,
          1,
          1,
          1,
          1,
          1,
          1,
          1,
          1,
          1,
          1,
          3,
          1,
          1,
          2,
          1,
          1,
          2,
          2,
          1,
          1,
          1,
          1,
          1,
          1,
          1,
          1,
          1,
          3,
          2,
          1,
          2,
          1,
          1,
          1,
          1,
          1,
          1,
          1,
          1,
          2,
          1,
          1,
          1,
          1,
          2,
          1,
          2,
          1,
          1,
          1,
          1,
          1,
          1,
          1,
          2,
          2,
          1,
          2,
          2,
          1,
          1,
          3,
          1,
          1,
          2,
          1,
          1,
          1,
          1,
          2,
          1,
          3,
          1,
          2,
          2,
          2,
          2,
          2,
          1,
          1,
          1,
          1,
          1,
          1,
          1,
          1,
          1,
          1,
          1,
          1
         ]
        },
        {
         "hoverinfo": "text",
         "hovertext": [
          "<b>Topic 5</b><br>Words: 대표, 수산, 김산, 우리, 군수",
          "<b>Topic 5</b><br>Words: 대표, 수산, 동안, 우리, 자원",
          "<b>Topic 5</b><br>Words: 주택, 창업, 농촌, 농업, 이상",
          "<b>Topic 5</b><br>Words: 인재, 병원, 재단, 육성, 최선",
          "<b>Topic 5</b><br>Words: 학생, 지급, 김산, 올해, 군수",
          "<b>Topic 5</b><br>Words: 학생, 지급, 김산, 올해, 군수",
          "<b>Topic 5</b><br>Words: 인재, 재단, 육성, 사용, 박우량",
          "<b>Topic 5</b><br>Words: 농촌, 재단, 사용, 회장, 인재",
          "<b>Topic 5</b><br>Words: 아이, 대표, 사회, 아시아, 취재",
          "<b>Topic 5</b><br>Words: 신청, 김산, 최근, 이상, 군수",
          "<b>Topic 5</b><br>Words: 운동, 지급, 확산, 공무원, 시민",
          "<b>Topic 5</b><br>Words: 사회, 시설, 복지, 코로나, 사랑",
          "<b>Topic 5</b><br>Words: 인재, 재단, 사용, 육성, 코로나",
          "<b>Topic 5</b><br>Words: 인재, 재단, 사용, 우리, 대표",
          "<b>Topic 5</b><br>Words: 인재, 재단, 박우량, 사용, 대표",
          "<b>Topic 5</b><br>Words: 육성, 인재, 재단, 청년, 대표",
          "<b>Topic 5</b><br>Words: 주택, 서울, 군수, 전남도, 수도",
          "<b>Topic 5</b><br>Words: 회장, 육성, 농업, 발전, 단체",
          "<b>Topic 5</b><br>Words: 서비스, 확인, 정부, 공공, 행정",
          "<b>Topic 5</b><br>Words: 소득, 신청, 가구, 코로나, 대상",
          "<b>Topic 5</b><br>Words: 신청, 소득, 가구, 군민, 복지",
          "<b>Topic 5</b><br>Words: 인재, 재단, 양성, 박우량, 발전",
          "<b>Topic 5</b><br>Words: 본부, 소득, 국민, 재생, 학교",
          "<b>Topic 5</b><br>Words: 사용, 회장, 재단, 학생, 박우량",
          "<b>Topic 5</b><br>Words: 인재, 박우량, 양성, 사회, 재단",
          "<b>Topic 5</b><br>Words: 선정, 전라남도, 정원, 조성, 올해",
          "<b>Topic 5</b><br>Words: 재생, 에너지, 관련, 정책, 지급",
          "<b>Topic 5</b><br>Words: 에너지, 재생, 개발, 주민, 공유",
          "<b>Topic 5</b><br>Words: 희망, 아동, 사랑, 복지, 박우량",
          "<b>Topic 5</b><br>Words: 지급, 신청, 기초, 생활, 가족",
          "<b>Topic 5</b><br>Words: 지급, 기초, 코로나, 경제, 아시아",
          "<b>Topic 5</b><br>Words: 박우량, 복지, 협력, 군수, 소득",
          "<b>Topic 5</b><br>Words: 군민, 도시, 위원회, 예정, 구성",
          "<b>Topic 5</b><br>Words: 경영, 자치, 지방, 아시아, 행정",
          "<b>Topic 5</b><br>Words: 경영, 자치, 지방, 지자체, 노력",
          "<b>Topic 5</b><br>Words: 재단, 학생, 인재, 도움, 희망",
          "<b>Topic 5</b><br>Words: 사회, 재단, 경제, 아동, 대상",
          "<b>Topic 5</b><br>Words: 증가, 도시, 주요, 올해, 미래",
          "<b>Topic 5</b><br>Words: 신청, 주택, 창업, 박우량, 이후",
          "<b>Topic 5</b><br>Words: 신청, 주택, 창업, 내년, 이후",
          "<b>Topic 5</b><br>Words: 인재, 대표, 육성, 호남, 아시아",
          "<b>Topic 5</b><br>Words: 재단, 학생, 박우량, 우리, 운영",
          "<b>Topic 5</b><br>Words: 재단, 코로나, 학생, 인재, 육성",
          "<b>Topic 5</b><br>Words: 주택, 창업, 농촌, 농업, 이상",
          "<b>Topic 5</b><br>Words: 주택, 창업, 농업, 농촌, 이상",
          "<b>Topic 5</b><br>Words: 주택, 창업, 농촌, 이상, 농업",
          "<b>Topic 5</b><br>Words: 청년, 전남도, 신청, 기준, 소득",
          "<b>Topic 5</b><br>Words: 교류, 활성, 지급, 시설, 업무",
          "<b>Topic 5</b><br>Words: 인재, 사용, 재단, 희망, 육성",
          "<b>Topic 5</b><br>Words: 가구, 경제, 예정, 예산, 계획",
          "<b>Topic 5</b><br>Words: 취업, 여성, 신청, 기준, 국민",
          "<b>Topic 5</b><br>Words: 희망, 소득, 복지, 가구, 최대",
          "<b>Topic 5</b><br>Words: 인재, 관광, 육성, 재단, 관심",
          "<b>Topic 5</b><br>Words: 생각, 운동, 시작, 버스, 방문",
          "<b>Topic 5</b><br>Words: 지급, 가구, 생활, 소득, 신청",
          "<b>Topic 5</b><br>Words: 지급, 신청, 가구, 창업, 생활",
          "<b>Topic 5</b><br>Words: 지급, 소득, 생활, 가구, 방문",
          "<b>Topic 5</b><br>Words: 시스템, 예산, 지방, 지자체, 관리",
          "<b>Topic 5</b><br>Words: 인재, 양성, 학생, 지급, 도움",
          "<b>Topic 5</b><br>Words: 소멸, 인구, 지방, 감소, 대응",
          "<b>Topic 5</b><br>Words: 인구, 소멸, 지방, 감소, 대응",
          "<b>Topic 5</b><br>Words: 소멸, 인구, 계획, 지방, 대응",
          "<b>Topic 5</b><br>Words: 소멸, 인구, 지방, 단체, 대응",
          "<b>Topic 5</b><br>Words: 사랑, 아시아, 취재, 가운데, 본부",
          "<b>Topic 5</b><br>Words: 대표, 학생, 재단, 박우량, 생각",
          "<b>Topic 5</b><br>Words: 경영, 사회, 성장, 평가, 가치",
          "<b>Topic 5</b><br>Words: 예산, 일자리, 정비, 도시, 개선",
          "<b>Topic 5</b><br>Words: 예산, 일자리, 정비, 도시, 개선",
          "<b>Topic 5</b><br>Words: 예산, 일자리, 증가, 정비, 도시",
          "<b>Topic 5</b><br>Words: 예산, 일자리, 정비, 도시, 개선",
          "<b>Topic 5</b><br>Words: 교육청, 자원, 이번, 전국, 올해",
          "<b>Topic 5</b><br>Words: 재단, 사랑, 신청, 인재, 이용",
          "<b>Topic 5</b><br>Words: 지자체, 사랑, 가족, 신청, 분야",
          "<b>Topic 5</b><br>Words: 재단, 지자체, 사랑, 이후, 지방",
          "<b>Topic 5</b><br>Words: 상담, 복지, 센터, 재단, 필요",
          "<b>Topic 5</b><br>Words: 인재, 회장, 육성, 재단, 최초",
          "<b>Topic 5</b><br>Words: 재단, 인재, 육성, 박우량, 회장",
          "<b>Topic 5</b><br>Words: 농협, 인재, 박우량, 육성, 취재",
          "<b>Topic 5</b><br>Words: 신청, 청년, 지급, 사용, 전라남도",
          "<b>Topic 5</b><br>Words: 재단, 지자체, 경제, 도움, 전남도",
          "<b>Topic 5</b><br>Words: 에너지, 박우량, 세대, 군수, 신청",
          "<b>Topic 5</b><br>Words: 신청, 복지, 청년, 추가, 김산",
          "<b>Topic 5</b><br>Words: 사랑, 안전, 시행, 관심, 주민",
          "<b>Topic 5</b><br>Words: 일자리, 고용, 자치, 단체, 지방",
          "<b>Topic 5</b><br>Words: 예산, 정부, 확보, 산업, 구축",
          "<b>Topic 5</b><br>Words: 재단, 대표, 박우량, 인재, 육성",
          "<b>Topic 5</b><br>Words: 지방, 정부, 이전, 지자체, 교육",
          "<b>Topic 5</b><br>Words: 활동, 농가, 사회, 다양, 김산",
          "<b>Topic 5</b><br>Words: 인재, 재단, 학생, 육성, 군민",
          "<b>Topic 5</b><br>Words: 예산, 증가, 감소, 성장, 예방",
          "<b>Topic 5</b><br>Words: 예산, 필요, 정부, 지방, 문제",
          "<b>Topic 5</b><br>Words: 예산, 필요, 정부, 지방, 문제"
         ],
         "marker": {
          "color": "#0072B2"
         },
         "mode": "lines",
         "name": "5_지방_예산_소멸_인구",
         "type": "scatter",
         "x": [
          "2021-01-06T00:00:00",
          "2021-01-10T00:00:00",
          "2021-01-12T00:00:00",
          "2021-01-19T00:00:00",
          "2021-01-20T00:00:00",
          "2021-01-21T00:00:00",
          "2021-01-25T00:00:00",
          "2021-01-28T00:00:00",
          "2021-02-01T00:00:00",
          "2021-02-08T00:00:00",
          "2021-02-09T00:00:00",
          "2021-02-14T00:00:00",
          "2021-02-21T00:00:00",
          "2021-03-02T00:00:00",
          "2021-03-03T00:00:00",
          "2021-03-14T00:00:00",
          "2021-03-25T00:00:00",
          "2021-04-05T00:00:00",
          "2021-05-02T00:00:00",
          "2021-05-03T00:00:00",
          "2021-05-06T00:00:00",
          "2021-05-11T00:00:00",
          "2021-05-27T00:00:00",
          "2021-05-31T00:00:00",
          "2021-06-06T00:00:00",
          "2021-06-14T00:00:00",
          "2021-06-16T00:00:00",
          "2021-06-22T00:00:00",
          "2021-07-16T00:00:00",
          "2021-08-09T00:00:00",
          "2021-08-12T00:00:00",
          "2021-08-18T00:00:00",
          "2021-10-05T00:00:00",
          "2021-11-04T00:00:00",
          "2021-11-07T00:00:00",
          "2021-11-12T00:00:00",
          "2021-11-30T00:00:00",
          "2021-12-05T00:00:00",
          "2021-12-26T00:00:00",
          "2021-12-29T00:00:00",
          "2021-12-31T00:00:00",
          "2022-01-13T00:00:00",
          "2022-01-19T00:00:00",
          "2022-01-20T00:00:00",
          "2022-01-21T00:00:00",
          "2022-01-24T00:00:00",
          "2022-02-06T00:00:00",
          "2022-02-17T00:00:00",
          "2022-02-23T00:00:00",
          "2022-03-01T00:00:00",
          "2022-03-22T00:00:00",
          "2022-04-10T00:00:00",
          "2022-04-24T00:00:00",
          "2022-05-31T00:00:00",
          "2022-06-16T00:00:00",
          "2022-06-19T00:00:00",
          "2022-06-20T00:00:00",
          "2022-07-31T00:00:00",
          "2022-08-02T00:00:00",
          "2022-08-16T00:00:00",
          "2022-08-17T00:00:00",
          "2022-08-18T00:00:00",
          "2022-08-21T00:00:00",
          "2022-08-23T00:00:00",
          "2022-09-18T00:00:00",
          "2022-09-21T00:00:00",
          "2022-11-18T00:00:00",
          "2022-11-20T00:00:00",
          "2022-11-21T00:00:00",
          "2022-11-24T00:00:00",
          "2022-12-05T00:00:00",
          "2023-01-03T00:00:00",
          "2023-01-04T00:00:00",
          "2023-01-05T00:00:00",
          "2023-01-18T00:00:00",
          "2023-01-27T00:00:00",
          "2023-01-30T00:00:00",
          "2023-01-31T00:00:00",
          "2023-02-02T00:00:00",
          "2023-02-07T00:00:00",
          "2023-02-21T00:00:00",
          "2023-04-04T00:00:00",
          "2023-06-30T00:00:00",
          "2023-08-02T00:00:00",
          "2023-08-29T00:00:00",
          "2023-08-30T00:00:00",
          "2023-10-05T00:00:00",
          "2023-11-06T00:00:00",
          "2023-11-16T00:00:00",
          "2023-11-22T00:00:00",
          "2023-11-25T00:00:00",
          "2023-11-27T00:00:00"
         ],
         "y": [
          1,
          1,
          3,
          2,
          2,
          1,
          3,
          1,
          1,
          1,
          1,
          1,
          1,
          1,
          1,
          2,
          1,
          1,
          1,
          2,
          1,
          5,
          1,
          1,
          1,
          1,
          1,
          1,
          1,
          1,
          2,
          1,
          1,
          1,
          1,
          1,
          1,
          1,
          1,
          1,
          1,
          1,
          1,
          3,
          1,
          1,
          2,
          1,
          1,
          2,
          1,
          1,
          1,
          1,
          2,
          2,
          1,
          2,
          1,
          10,
          5,
          4,
          1,
          1,
          1,
          1,
          2,
          1,
          2,
          1,
          1,
          3,
          2,
          4,
          1,
          1,
          1,
          1,
          1,
          1,
          1,
          1,
          1,
          1,
          1,
          2,
          1,
          1,
          1,
          1,
          1,
          1
         ]
        },
        {
         "hoverinfo": "text",
         "hovertext": [
          "<b>Topic 6</b><br>Words: 점검, 안전, 실시, 병원, 코로나",
          "<b>Topic 6</b><br>Words: 어린이, 예방, 교통, 안전, 보호",
          "<b>Topic 6</b><br>Words: 어린이, 보호, 조성, 안전, 효과",
          "<b>Topic 6</b><br>Words: 투입, 교통, 집중, 안전, 확대",
          "<b>Topic 6</b><br>Words: 사람, 주민, 기대, 여성, 시간",
          "<b>Topic 6</b><br>Words: 사람, 주민, 기대, 여성, 시간",
          "<b>Topic 6</b><br>Words: 확보, 국립, 정부, 추진, 안전",
          "<b>Topic 6</b><br>Words: 지구, 개선, 확보, 점검, 조사",
          "<b>Topic 6</b><br>Words: 학교, 학생, 조사, 교육청, 위원회",
          "<b>Topic 6</b><br>Words: 학교, 학생, 아이, 발생, 교육청",
          "<b>Topic 6</b><br>Words: 안전, 시설, 건립, 해양, 국민",
          "<b>Topic 6</b><br>Words: 계획, 개발, 도시, 취재, 확보",
          "<b>Topic 6</b><br>Words: 안전, 인근, 본부, 발생, 현장",
          "<b>Topic 6</b><br>Words: 점검, 안전, 대상, 교육, 정보",
          "<b>Topic 6</b><br>Words: 예방, 안전, 산업, 현장, 발생",
          "<b>Topic 6</b><br>Words: 조사, 여성, 기간, 오후, 이후",
          "<b>Topic 6</b><br>Words: 집중, 아시아, 사용, 사항, 경제",
          "<b>Topic 6</b><br>Words: 집중, 사항, 사용, 점검, 계획",
          "<b>Topic 6</b><br>Words: 점검, 환경, 시설, 집중, 방침",
          "<b>Topic 6</b><br>Words: 병원, 의료, 수도, 공공, 서울",
          "<b>Topic 6</b><br>Words: 근로자, 관련, 조사, 장애인, 단체",
          "<b>Topic 6</b><br>Words: 인권, 점검, 조사, 근로자, 아시아",
          "<b>Topic 6</b><br>Words: 오전, 교통, 도움, 이날, 안전",
          "<b>Topic 6</b><br>Words: 후보, 국민, 가족, 문제, 이날",
          "<b>Topic 6</b><br>Words: 해양, 경영, 안전, 협약, 점검",
          "<b>Topic 6</b><br>Words: 생각, 여성, 해양, 시간, 학교",
          "<b>Topic 6</b><br>Words: 점검, 대응, 코로나, 확산, 상황",
          "<b>Topic 6</b><br>Words: 안전, 해양, 점검, 현장, 수산",
          "<b>Topic 6</b><br>Words: 점검, 근로자, 단체, 확인, 기관",
          "<b>Topic 6</b><br>Words: 관련, 인권, 시설, 위원회, 진행",
          "<b>Topic 6</b><br>Words: 해양, 참석, 국가, 마련, 공간",
          "<b>Topic 6</b><br>Words: 축제, 조사, 건립, 관광, 학교",
          "<b>Topic 6</b><br>Words: 설치, 교통, 시설, 발생, 예방",
          "<b>Topic 6</b><br>Words: 점검, 현장, 추진, 건립, 실시",
          "<b>Topic 6</b><br>Words: 교육, 교통, 안전, 자치, 홍보",
          "<b>Topic 6</b><br>Words: 점검, 전남도, 병원, 집중, 교류",
          "<b>Topic 6</b><br>Words: 오전, 이날, 안전, 발생, 시간",
          "<b>Topic 6</b><br>Words: 아동, 본부, 설치, 안전, 교통",
          "<b>Topic 6</b><br>Words: 정비, 올해, 해상, 규모, 설치",
          "<b>Topic 6</b><br>Words: 여성, 연구, 이번, 해양, 수산",
          "<b>Topic 6</b><br>Words: 안전, 시설, 관리, 점검, 발생",
          "<b>Topic 6</b><br>Words: 건설, 현장, 점검, 종합, 주택",
          "<b>Topic 6</b><br>Words: 안전, 전남도, 추가, 점검, 제도",
          "<b>Topic 6</b><br>Words: 오후, 현장, 안전, 투입, 마을",
          "<b>Topic 6</b><br>Words: 안전, 추가, 행사, 점검, 제도",
          "<b>Topic 6</b><br>Words: 안전, 교육청, 코로나, 병원, 협력",
          "<b>Topic 6</b><br>Words: 해양, 상황, 현장, 국민, 취재",
          "<b>Topic 6</b><br>Words: 현장, 병원, 발생, 이날, 사람",
          "<b>Topic 6</b><br>Words: 생태, 교육, 대상, 오후, 신청",
          "<b>Topic 6</b><br>Words: 규모, 발생, 오전, 이상, 이후",
          "<b>Topic 6</b><br>Words: 여성, 국가, 관련, 보호, 사회",
          "<b>Topic 6</b><br>Words: 보호, 해양, 상황, 해상, 시간",
          "<b>Topic 6</b><br>Words: 교수, 안전, 발생, 확인, 보호",
          "<b>Topic 6</b><br>Words: 점검, 안전, 발생, 해양, 바다",
          "<b>Topic 6</b><br>Words: 점검, 발생, 안전, 해양, 현장",
          "<b>Topic 6</b><br>Words: 공동, 학교, 확인, 추가, 동안",
          "<b>Topic 6</b><br>Words: 안전, 해양, 점검, 협약, 기관",
          "<b>Topic 6</b><br>Words: 학교, 예방, 안전, 어린이, 홍보",
          "<b>Topic 6</b><br>Words: 보호, 정부, 발생, 기관, 사람",
          "<b>Topic 6</b><br>Words: 해양, 점검, 안전, 현장, 대응",
          "<b>Topic 6</b><br>Words: 설명, 학교, 최근, 결과, 가구",
          "<b>Topic 6</b><br>Words: 관계자, 점검, 발생, 전문, 예방",
          "<b>Topic 6</b><br>Words: 체육, 점검, 관련, 관광, 실시",
          "<b>Topic 6</b><br>Words: 점검, 의료, 개소, 안전, 사항",
          "<b>Topic 6</b><br>Words: 조사, 이후, 확인, 방침, 학교",
          "<b>Topic 6</b><br>Words: 교통, 안전, 업무, 예방, 최근",
          "<b>Topic 6</b><br>Words: 해양, 조사, 안전, 관계자, 사진",
          "<b>Topic 6</b><br>Words: 조사, 방침, 신청, 이용, 오전",
          "<b>Topic 6</b><br>Words: 조사, 안전, 해양, 서울, 서비스",
          "<b>Topic 6</b><br>Words: 교통, 기관, 보호, 예방, 안전",
          "<b>Topic 6</b><br>Words: 대통령, 확인, 조사, 경우, 행정",
          "<b>Topic 6</b><br>Words: 오전, 이날, 시간, 안전, 주택",
          "<b>Topic 6</b><br>Words: 교통, 안전, 기관, 보호, 예방",
          "<b>Topic 6</b><br>Words: 오후, 이날, 본부, 안전, 인근",
          "<b>Topic 6</b><br>Words: 예방, 안전, 홍보, 이상, 활동",
          "<b>Topic 6</b><br>Words: 예방, 군민, 안전, 최근, 참석",
          "<b>Topic 6</b><br>Words: 점검, 환경, 시설, 관리, 집중",
          "<b>Topic 6</b><br>Words: 해양, 이후, 최근, 증가, 국민",
          "<b>Topic 6</b><br>Words: 대응, 체계, 호남, 보건, 관계자",
          "<b>Topic 6</b><br>Words: 조사, 오전, 민간, 시행, 기관",
          "<b>Topic 6</b><br>Words: 이상, 예방, 시행, 중요, 감소",
          "<b>Topic 6</b><br>Words: 안전, 학생, 어린이, 학교, 상황",
          "<b>Topic 6</b><br>Words: 학교, 학생, 주택, 협약, 감소",
          "<b>Topic 6</b><br>Words: 시설, 문제, 자연, 주민, 사회"
         ],
         "marker": {
          "color": "#CC79A7"
         },
         "mode": "lines",
         "name": "6_안전_점검_해양_학교",
         "type": "scatter",
         "x": [
          "2021-01-20T00:00:00",
          "2021-01-21T00:00:00",
          "2021-03-03T00:00:00",
          "2021-03-09T00:00:00",
          "2021-03-19T00:00:00",
          "2021-03-21T00:00:00",
          "2021-04-11T00:00:00",
          "2021-04-12T00:00:00",
          "2021-04-14T00:00:00",
          "2021-04-15T00:00:00",
          "2021-04-16T00:00:00",
          "2021-04-23T00:00:00",
          "2021-06-10T00:00:00",
          "2021-07-04T00:00:00",
          "2021-08-10T00:00:00",
          "2021-09-02T00:00:00",
          "2021-09-03T00:00:00",
          "2021-09-06T00:00:00",
          "2021-09-28T00:00:00",
          "2021-10-14T00:00:00",
          "2021-11-09T00:00:00",
          "2021-11-16T00:00:00",
          "2021-11-18T00:00:00",
          "2021-11-27T00:00:00",
          "2021-12-10T00:00:00",
          "2021-12-22T00:00:00",
          "2022-01-10T00:00:00",
          "2022-01-12T00:00:00",
          "2022-01-27T00:00:00",
          "2022-02-24T00:00:00",
          "2022-03-14T00:00:00",
          "2022-04-18T00:00:00",
          "2022-05-18T00:00:00",
          "2022-05-24T00:00:00",
          "2022-05-25T00:00:00",
          "2022-09-01T00:00:00",
          "2022-09-06T00:00:00",
          "2022-09-07T00:00:00",
          "2022-09-20T00:00:00",
          "2022-09-28T00:00:00",
          "2022-10-19T00:00:00",
          "2022-10-27T00:00:00",
          "2022-11-04T00:00:00",
          "2022-11-06T00:00:00",
          "2022-11-07T00:00:00",
          "2022-11-09T00:00:00",
          "2022-11-17T00:00:00",
          "2022-11-30T00:00:00",
          "2023-01-06T00:00:00",
          "2023-01-09T00:00:00",
          "2023-01-20T00:00:00",
          "2023-02-05T00:00:00",
          "2023-02-06T00:00:00",
          "2023-03-06T00:00:00",
          "2023-03-07T00:00:00",
          "2023-03-17T00:00:00",
          "2023-03-21T00:00:00",
          "2023-03-22T00:00:00",
          "2023-03-27T00:00:00",
          "2023-03-29T00:00:00",
          "2023-04-20T00:00:00",
          "2023-05-02T00:00:00",
          "2023-05-03T00:00:00",
          "2023-05-04T00:00:00",
          "2023-05-11T00:00:00",
          "2023-05-27T00:00:00",
          "2023-06-08T00:00:00",
          "2023-06-09T00:00:00",
          "2023-06-23T00:00:00",
          "2023-07-06T00:00:00",
          "2023-07-17T00:00:00",
          "2023-07-24T00:00:00",
          "2023-08-08T00:00:00",
          "2023-08-10T00:00:00",
          "2023-09-01T00:00:00",
          "2023-09-06T00:00:00",
          "2023-09-08T00:00:00",
          "2023-09-21T00:00:00",
          "2023-10-17T00:00:00",
          "2023-10-25T00:00:00",
          "2023-11-20T00:00:00",
          "2023-11-22T00:00:00",
          "2023-11-26T00:00:00",
          "2023-11-27T00:00:00"
         ],
         "y": [
          1,
          1,
          1,
          1,
          1,
          1,
          2,
          2,
          1,
          4,
          1,
          1,
          1,
          1,
          1,
          1,
          1,
          1,
          1,
          2,
          1,
          1,
          1,
          1,
          1,
          1,
          1,
          2,
          1,
          1,
          1,
          1,
          1,
          1,
          1,
          1,
          4,
          1,
          1,
          1,
          1,
          1,
          4,
          6,
          1,
          2,
          1,
          1,
          1,
          1,
          1,
          2,
          1,
          2,
          1,
          1,
          2,
          1,
          1,
          1,
          1,
          1,
          8,
          1,
          3,
          1,
          2,
          3,
          1,
          1,
          1,
          4,
          2,
          1,
          1,
          1,
          1,
          1,
          1,
          4,
          1,
          1,
          1,
          1
         ]
        },
        {
         "hoverinfo": "text",
         "hovertext": [
          "<b>Topic 7</b><br>Words: 인구, 증가, 이상, 청년, 여성",
          "<b>Topic 7</b><br>Words: 발생, 국제, 확인, 가구, 학교",
          "<b>Topic 7</b><br>Words: 시설, 교육, 확인, 코로나, 학생",
          "<b>Topic 7</b><br>Words: 코로나, 학생, 시설, 확인, 학교",
          "<b>Topic 7</b><br>Words: 학생, 가족, 교육청, 서울, 학교",
          "<b>Topic 7</b><br>Words: 인구, 경기, 전국, 서울, 결과",
          "<b>Topic 7</b><br>Words: 병원, 관련, 서울, 코로나, 확산",
          "<b>Topic 7</b><br>Words: 인구, 도시, 수도, 증가, 산업",
          "<b>Topic 7</b><br>Words: 코로나, 확산, 관련, 추가, 양성",
          "<b>Topic 7</b><br>Words: 예방, 시행, 시설, 인구, 기관",
          "<b>Topic 7</b><br>Words: 예방, 시행, 시설, 기관, 이상",
          "<b>Topic 7</b><br>Words: 코로나, 병원, 인력, 예방, 시설",
          "<b>Topic 7</b><br>Words: 인구, 수도, 소멸, 지방, 감소",
          "<b>Topic 7</b><br>Words: 청년, 인구, 전국, 정책, 창업",
          "<b>Topic 7</b><br>Words: 인구, 수도, 호남, 증가, 경기",
          "<b>Topic 7</b><br>Words: 국가, 발전, 대상, 공유, 에너지",
          "<b>Topic 7</b><br>Words: 예방, 코로나, 이상, 시설, 인구",
          "<b>Topic 7</b><br>Words: 예방, 이상, 시설, 코로나, 실시",
          "<b>Topic 7</b><br>Words: 마을, 인구, 강화, 예술, 경기",
          "<b>Topic 7</b><br>Words: 코로나, 인근, 마을, 공무원, 오후",
          "<b>Topic 7</b><br>Words: 농촌, 인구, 재생, 아이, 이상",
          "<b>Topic 7</b><br>Words: 인구, 예방, 지자체, 감소, 아이",
          "<b>Topic 7</b><br>Words: 인구, 예방, 소멸, 감소, 지자체",
          "<b>Topic 7</b><br>Words: 업무, 개최, 성공, 국민, 국제",
          "<b>Topic 7</b><br>Words: 전라남도, 안정, 방침, 오전, 코로나",
          "<b>Topic 7</b><br>Words: 재생, 에너지, 전국, 청년, 개발",
          "<b>Topic 7</b><br>Words: 농가, 공동, 확산, 올해, 전라남도",
          "<b>Topic 7</b><br>Words: 수도, 관련, 추가, 발생, 경기",
          "<b>Topic 7</b><br>Words: 식품, 예방, 발생, 병원, 주민",
          "<b>Topic 7</b><br>Words: 기관, 공공, 지정, 사용, 인구",
          "<b>Topic 7</b><br>Words: 공무원, 경우, 관련, 학생, 발생",
          "<b>Topic 7</b><br>Words: 사례, 오후, 수도, 코로나, 서울",
          "<b>Topic 7</b><br>Words: 관련, 사례, 이후, 추가, 경기",
          "<b>Topic 7</b><br>Words: 평가, 자치, 종합, 지방, 행정",
          "<b>Topic 7</b><br>Words: 인구, 감소, 수도, 증가, 청년",
          "<b>Topic 7</b><br>Words: 인구, 마을, 주택, 청년, 주민",
          "<b>Topic 7</b><br>Words: 사례, 발생, 코로나, 예방, 기관",
          "<b>Topic 7</b><br>Words: 관광, 주민, 선정, 성장, 전국",
          "<b>Topic 7</b><br>Words: 축제, 학교, 사랑, 사용, 실시",
          "<b>Topic 7</b><br>Words: 발생, 아시아, 증가, 경제, 최근",
          "<b>Topic 7</b><br>Words: 추가, 코로나, 관련, 확산, 발생",
          "<b>Topic 7</b><br>Words: 코로나, 학생, 가족, 양성, 실시",
          "<b>Topic 7</b><br>Words: 청소년, 코로나, 예방, 발생, 의료",
          "<b>Topic 7</b><br>Words: 인구, 자치, 도시, 기업, 평가",
          "<b>Topic 7</b><br>Words: 코로나, 발생, 양성, 관련, 확인",
          "<b>Topic 7</b><br>Words: 학생, 학교, 전환, 전라남도, 버스",
          "<b>Topic 7</b><br>Words: 관련, 추가, 병원, 조사, 확인",
          "<b>Topic 7</b><br>Words: 인구, 평가, 우수, 도시, 정책",
          "<b>Topic 7</b><br>Words: 발생, 코로나, 병원, 확산, 추가",
          "<b>Topic 7</b><br>Words: 발생, 추가, 코로나, 시설, 관련",
          "<b>Topic 7</b><br>Words: 확산, 가족, 추가, 코로나, 시설",
          "<b>Topic 7</b><br>Words: 전남도, 확산, 코로나, 대응, 생활",
          "<b>Topic 7</b><br>Words: 추가, 코로나, 병원, 관련, 발생",
          "<b>Topic 7</b><br>Words: 인구, 시간, 주민, 개소, 시설",
          "<b>Topic 7</b><br>Words: 확산, 병원, 인구, 오후, 코로나",
          "<b>Topic 7</b><br>Words: 병원, 기간, 시설, 체계, 확산",
          "<b>Topic 7</b><br>Words: 학교, 상황, 교육청, 전환, 인구",
          "<b>Topic 7</b><br>Words: 병원, 시설, 코로나, 상황, 발생",
          "<b>Topic 7</b><br>Words: 경우, 코로나, 병원, 확산, 아이",
          "<b>Topic 7</b><br>Words: 경우, 코로나, 병원, 확산, 아이",
          "<b>Topic 7</b><br>Words: 인구, 감소, 마련, 소멸, 방안",
          "<b>Topic 7</b><br>Words: 인구, 청년, 증가, 수도, 감소",
          "<b>Topic 7</b><br>Words: 인구, 청년, 위기, 감소, 소멸",
          "<b>Topic 7</b><br>Words: 인구, 소멸, 청년, 산업, 전국",
          "<b>Topic 7</b><br>Words: 인구, 자치, 소멸, 지방, 단체",
          "<b>Topic 7</b><br>Words: 감소, 인구, 여성, 설치, 가족",
          "<b>Topic 7</b><br>Words: 소멸, 인구, 수도, 청년, 지방",
          "<b>Topic 7</b><br>Words: 개소, 전국, 지정, 사용, 전남도",
          "<b>Topic 7</b><br>Words: 인구, 예산, 코로나, 우수, 생물",
          "<b>Topic 7</b><br>Words: 발생, 병원, 농가, 확산, 예방",
          "<b>Topic 7</b><br>Words: 인구, 수도, 소멸, 지방, 감소",
          "<b>Topic 7</b><br>Words: 청년, 정책, 인구, 투입, 감소",
          "<b>Topic 7</b><br>Words: 청년, 인구, 소멸, 일자리, 투입",
          "<b>Topic 7</b><br>Words: 학교, 지방, 소멸, 인구, 기준",
          "<b>Topic 7</b><br>Words: 평가, 노력, 종합, 인구, 전국",
          "<b>Topic 7</b><br>Words: 수도, 지방, 인구, 학교, 위기",
          "<b>Topic 7</b><br>Words: 수도, 지방, 인구, 학교, 위기",
          "<b>Topic 7</b><br>Words: 인구, 마을, 가구, 수도, 시설",
          "<b>Topic 7</b><br>Words: 인구, 청년, 기준, 전남도, 지자체",
          "<b>Topic 7</b><br>Words: 일자리, 인구, 증가, 고용, 청년",
          "<b>Topic 7</b><br>Words: 청년, 분야, 인구, 전남도, 전국",
          "<b>Topic 7</b><br>Words: 인구, 감소, 전남도, 청년, 대응",
          "<b>Topic 7</b><br>Words: 인구, 감소, 수도, 아동, 가구",
          "<b>Topic 7</b><br>Words: 예방, 홍보, 시행, 박우량, 군수",
          "<b>Topic 7</b><br>Words: 인구, 증가, 감소, 청년, 수도",
          "<b>Topic 7</b><br>Words: 가구, 전국, 인구, 청년, 감소",
          "<b>Topic 7</b><br>Words: 가구, 전국, 인구, 개소, 청년",
          "<b>Topic 7</b><br>Words: 예방, 활동, 최선, 증가, 발생",
          "<b>Topic 7</b><br>Words: 버스, 인구, 지자체, 병원, 전국",
          "<b>Topic 7</b><br>Words: 지자체, 인구, 학교, 이상, 제공",
          "<b>Topic 7</b><br>Words: 농가, 전남도, 체전, 인구, 증가",
          "<b>Topic 7</b><br>Words: 농가, 발생, 확산, 확인, 본부",
          "<b>Topic 7</b><br>Words: 농가, 발생, 포함, 강화, 전남도",
          "<b>Topic 7</b><br>Words: 시스템, 식품, 기간, 방안, 이용",
          "<b>Topic 7</b><br>Words: 인구, 청년, 감소, 증가, 건립",
          "<b>Topic 7</b><br>Words: 감소, 인구, 생산, 건설, 경제",
          "<b>Topic 7</b><br>Words: 가구, 상담, 체험, 인구, 센터"
         ],
         "marker": {
          "color": "#E69F00"
         },
         "mode": "lines",
         "name": "7_인구_청년_감소_코로나",
         "type": "scatter",
         "x": [
          "2021-01-05T00:00:00",
          "2021-01-26T00:00:00",
          "2021-01-27T00:00:00",
          "2021-01-28T00:00:00",
          "2021-01-30T00:00:00",
          "2021-02-04T00:00:00",
          "2021-02-06T00:00:00",
          "2021-02-09T00:00:00",
          "2021-02-17T00:00:00",
          "2021-02-23T00:00:00",
          "2021-02-24T00:00:00",
          "2021-02-26T00:00:00",
          "2021-03-09T00:00:00",
          "2021-03-10T00:00:00",
          "2021-03-22T00:00:00",
          "2021-03-23T00:00:00",
          "2021-03-24T00:00:00",
          "2021-03-25T00:00:00",
          "2021-03-30T00:00:00",
          "2021-04-28T00:00:00",
          "2021-04-29T00:00:00",
          "2021-05-05T00:00:00",
          "2021-05-06T00:00:00",
          "2021-05-24T00:00:00",
          "2021-06-08T00:00:00",
          "2021-06-16T00:00:00",
          "2021-06-23T00:00:00",
          "2021-06-25T00:00:00",
          "2021-07-05T00:00:00",
          "2021-07-07T00:00:00",
          "2021-07-13T00:00:00",
          "2021-08-10T00:00:00",
          "2021-08-14T00:00:00",
          "2021-08-20T00:00:00",
          "2021-08-24T00:00:00",
          "2021-09-07T00:00:00",
          "2021-09-27T00:00:00",
          "2021-10-05T00:00:00",
          "2021-10-06T00:00:00",
          "2021-10-18T00:00:00",
          "2021-10-27T00:00:00",
          "2021-11-17T00:00:00",
          "2021-11-28T00:00:00",
          "2021-11-29T00:00:00",
          "2021-12-12T00:00:00",
          "2021-12-16T00:00:00",
          "2021-12-18T00:00:00",
          "2021-12-22T00:00:00",
          "2022-01-05T00:00:00",
          "2022-01-07T00:00:00",
          "2022-01-09T00:00:00",
          "2022-01-11T00:00:00",
          "2022-01-12T00:00:00",
          "2022-01-23T00:00:00",
          "2022-02-02T00:00:00",
          "2022-02-04T00:00:00",
          "2022-02-21T00:00:00",
          "2022-02-22T00:00:00",
          "2022-03-23T00:00:00",
          "2022-03-24T00:00:00",
          "2022-08-11T00:00:00",
          "2022-08-16T00:00:00",
          "2022-08-17T00:00:00",
          "2022-08-25T00:00:00",
          "2022-09-16T00:00:00",
          "2022-11-10T00:00:00",
          "2022-11-13T00:00:00",
          "2022-12-11T00:00:00",
          "2022-12-25T00:00:00",
          "2022-12-30T00:00:00",
          "2023-01-01T00:00:00",
          "2023-01-16T00:00:00",
          "2023-01-18T00:00:00",
          "2023-01-20T00:00:00",
          "2023-01-26T00:00:00",
          "2023-02-05T00:00:00",
          "2023-02-07T00:00:00",
          "2023-02-08T00:00:00",
          "2023-02-12T00:00:00",
          "2023-04-20T00:00:00",
          "2023-05-09T00:00:00",
          "2023-05-11T00:00:00",
          "2023-06-08T00:00:00",
          "2023-06-14T00:00:00",
          "2023-06-15T00:00:00",
          "2023-06-28T00:00:00",
          "2023-06-29T00:00:00",
          "2023-08-16T00:00:00",
          "2023-09-20T00:00:00",
          "2023-10-17T00:00:00",
          "2023-10-24T00:00:00",
          "2023-10-30T00:00:00",
          "2023-10-31T00:00:00",
          "2023-11-01T00:00:00",
          "2023-11-08T00:00:00",
          "2023-11-20T00:00:00",
          "2023-11-27T00:00:00"
         ],
         "y": [
          2,
          2,
          2,
          1,
          1,
          1,
          1,
          1,
          1,
          1,
          1,
          6,
          1,
          1,
          1,
          1,
          1,
          1,
          1,
          1,
          1,
          2,
          2,
          1,
          1,
          1,
          1,
          1,
          1,
          1,
          1,
          1,
          1,
          1,
          1,
          1,
          3,
          1,
          1,
          1,
          1,
          1,
          1,
          1,
          1,
          1,
          1,
          1,
          1,
          2,
          1,
          1,
          1,
          1,
          2,
          1,
          1,
          1,
          2,
          1,
          1,
          5,
          1,
          1,
          1,
          1,
          2,
          4,
          1,
          1,
          1,
          1,
          1,
          1,
          1,
          1,
          1,
          1,
          1,
          1,
          1,
          1,
          1,
          1,
          2,
          3,
          1,
          1,
          2,
          1,
          1,
          1,
          1,
          1,
          1,
          1,
          1
         ]
        },
        {
         "hoverinfo": "text",
         "hovertext": [
          "<b>Topic 8</b><br>Words: 고용, 감소, 청년, 근로자, 증가",
          "<b>Topic 8</b><br>Words: 산업, 증가, 근로자, 성장, 운영",
          "<b>Topic 8</b><br>Words: 고용, 사람, 일자리, 취업, 근로자",
          "<b>Topic 8</b><br>Words: 대회, 근로자, 코로나, 공공, 방침",
          "<b>Topic 8</b><br>Words: 근로자, 관련, 장애인, 조사, 시행",
          "<b>Topic 8</b><br>Words: 근로자, 인권, 고용, 공무원, 지정",
          "<b>Topic 8</b><br>Words: 인권, 근로자, 공무원, 고용, 지정",
          "<b>Topic 8</b><br>Words: 조사, 인권, 단체, 추가, 필요",
          "<b>Topic 8</b><br>Words: 근로자, 문제, 인권, 사용, 발생",
          "<b>Topic 8</b><br>Words: 기간, 근로자, 인력, 희망, 사례",
          "<b>Topic 8</b><br>Words: 근로자, 기간, 인력, 문제, 사례",
          "<b>Topic 8</b><br>Words: 근로자, 기간, 문제, 인권, 발생",
          "<b>Topic 8</b><br>Words: 기간, 근로자, 인력, 사례, 희망",
          "<b>Topic 8</b><br>Words: 근로자, 농업, 협약, 교류, 인권",
          "<b>Topic 8</b><br>Words: 근로자, 농업, 협약, 교류, 인권",
          "<b>Topic 8</b><br>Words: 일자리, 고용, 근로자, 투입, 창업",
          "<b>Topic 8</b><br>Words: 일자리, 근로자, 고용, 창업, 청년",
          "<b>Topic 8</b><br>Words: 근로자, 농가, 프로그램, 인권, 보호",
          "<b>Topic 8</b><br>Words: 일자리, 고용, 근로자, 전남도, 기관",
          "<b>Topic 8</b><br>Words: 일자리, 공공, 모집, 근로자, 고용",
          "<b>Topic 8</b><br>Words: 고용, 경우, 조사, 근로자, 전국",
          "<b>Topic 8</b><br>Words: 근로자, 농가, 도움, 기준, 인권",
          "<b>Topic 8</b><br>Words: 근로자, 농가, 프로그램, 도움, 협약",
          "<b>Topic 8</b><br>Words: 복지, 사회, 시설, 조사, 근로자",
          "<b>Topic 8</b><br>Words: 장애인, 조사, 확인, 시간, 근로자",
          "<b>Topic 8</b><br>Words: 근로자, 경우, 인력, 시간, 한국",
          "<b>Topic 8</b><br>Words: 일자리, 근로자, 전남도, 취업, 상담",
          "<b>Topic 8</b><br>Words: 근로자, 농가, 인권, 프로그램, 제도",
          "<b>Topic 8</b><br>Words: 근로자, 농가, 프로그램, 인권, 보호",
          "<b>Topic 8</b><br>Words: 고용, 근로자, 제도, 대학, 관계자",
          "<b>Topic 8</b><br>Words: 지자체, 기초, 조사, 근로자, 기관",
          "<b>Topic 8</b><br>Words: 기초, 조사, 기관, 근로자, 공무원",
          "<b>Topic 8</b><br>Words: 지자체, 근로자, 기초, 보호, 조사",
          "<b>Topic 8</b><br>Words: 근로자, 협약, 업무, 인력, 문제",
          "<b>Topic 8</b><br>Words: 일자리, 공공, 근로자, 실시, 예정",
          "<b>Topic 8</b><br>Words: 일자리, 공공, 근로자, 예정, 참여",
          "<b>Topic 8</b><br>Words: 지자체, 기초, 근로자, 기관, 조사",
          "<b>Topic 8</b><br>Words: 근로자, 농가, 농촌, 인권, 제도",
          "<b>Topic 8</b><br>Words: 근로자, 농가, 제도, 농촌, 인권",
          "<b>Topic 8</b><br>Words: 근로자, 농촌, 방문, 인력, 고용"
         ],
         "marker": {
          "color": "#56B4E9"
         },
         "mode": "lines",
         "name": "8_근로자_인권_일자리_고용",
         "type": "scatter",
         "x": [
          "2021-02-23T00:00:00",
          "2021-04-05T00:00:00",
          "2021-10-18T00:00:00",
          "2021-10-19T00:00:00",
          "2021-11-09T00:00:00",
          "2021-11-17T00:00:00",
          "2021-11-18T00:00:00",
          "2022-01-24T00:00:00",
          "2022-02-03T00:00:00",
          "2022-02-04T00:00:00",
          "2022-02-06T00:00:00",
          "2022-02-07T00:00:00",
          "2022-02-08T00:00:00",
          "2022-02-13T00:00:00",
          "2022-02-15T00:00:00",
          "2022-04-10T00:00:00",
          "2022-04-21T00:00:00",
          "2022-06-27T00:00:00",
          "2022-07-21T00:00:00",
          "2022-08-02T00:00:00",
          "2022-08-24T00:00:00",
          "2022-09-18T00:00:00",
          "2022-09-19T00:00:00",
          "2022-12-01T00:00:00",
          "2023-01-25T00:00:00",
          "2023-03-15T00:00:00",
          "2023-03-29T00:00:00",
          "2023-04-06T00:00:00",
          "2023-04-09T00:00:00",
          "2023-06-22T00:00:00",
          "2023-07-02T00:00:00",
          "2023-07-03T00:00:00",
          "2023-07-04T00:00:00",
          "2023-07-06T00:00:00",
          "2023-07-28T00:00:00",
          "2023-07-31T00:00:00",
          "2023-08-21T00:00:00",
          "2023-08-23T00:00:00",
          "2023-08-24T00:00:00",
          "2023-09-11T00:00:00"
         ],
         "y": [
          1,
          1,
          1,
          1,
          1,
          2,
          2,
          1,
          8,
          2,
          3,
          2,
          1,
          1,
          3,
          1,
          1,
          1,
          1,
          1,
          1,
          1,
          1,
          1,
          1,
          1,
          1,
          2,
          1,
          1,
          4,
          2,
          1,
          1,
          1,
          1,
          1,
          1,
          2,
          1
         ]
        },
        {
         "hoverinfo": "text",
         "hovertext": [
          "<b>Topic 9</b><br>Words: 체험, 센터, 장애인, 예산, 공모",
          "<b>Topic 9</b><br>Words: 장애인, 센터, 체험, 예산, 설립",
          "<b>Topic 9</b><br>Words: 장애인, 체험, 센터, 예산, 설립"
         ],
         "marker": {
          "color": "#009E73"
         },
         "mode": "lines",
         "name": "9_장애인_체험_센터_예산",
         "type": "scatter",
         "x": [
          "2023-08-01T00:00:00",
          "2023-09-26T00:00:00",
          "2023-09-27T00:00:00"
         ],
         "y": [
          8,
          6,
          1
         ]
        }
       ],
       "layout": {
        "height": 450,
        "hoverlabel": {
         "bgcolor": "white",
         "font": {
          "family": "Rockwell",
          "size": 16
         }
        },
        "legend": {
         "title": {
          "text": "<b>Global Topic Representation"
         }
        },
        "template": {
         "data": {
          "bar": [
           {
            "error_x": {
             "color": "rgb(36,36,36)"
            },
            "error_y": {
             "color": "rgb(36,36,36)"
            },
            "marker": {
             "line": {
              "color": "white",
              "width": 0.5
             },
             "pattern": {
              "fillmode": "overlay",
              "size": 10,
              "solidity": 0.2
             }
            },
            "type": "bar"
           }
          ],
          "barpolar": [
           {
            "marker": {
             "line": {
              "color": "white",
              "width": 0.5
             },
             "pattern": {
              "fillmode": "overlay",
              "size": 10,
              "solidity": 0.2
             }
            },
            "type": "barpolar"
           }
          ],
          "carpet": [
           {
            "aaxis": {
             "endlinecolor": "rgb(36,36,36)",
             "gridcolor": "white",
             "linecolor": "white",
             "minorgridcolor": "white",
             "startlinecolor": "rgb(36,36,36)"
            },
            "baxis": {
             "endlinecolor": "rgb(36,36,36)",
             "gridcolor": "white",
             "linecolor": "white",
             "minorgridcolor": "white",
             "startlinecolor": "rgb(36,36,36)"
            },
            "type": "carpet"
           }
          ],
          "choropleth": [
           {
            "colorbar": {
             "outlinewidth": 1,
             "tickcolor": "rgb(36,36,36)",
             "ticks": "outside"
            },
            "type": "choropleth"
           }
          ],
          "contour": [
           {
            "colorbar": {
             "outlinewidth": 1,
             "tickcolor": "rgb(36,36,36)",
             "ticks": "outside"
            },
            "colorscale": [
             [
              0,
              "#440154"
             ],
             [
              0.1111111111111111,
              "#482878"
             ],
             [
              0.2222222222222222,
              "#3e4989"
             ],
             [
              0.3333333333333333,
              "#31688e"
             ],
             [
              0.4444444444444444,
              "#26828e"
             ],
             [
              0.5555555555555556,
              "#1f9e89"
             ],
             [
              0.6666666666666666,
              "#35b779"
             ],
             [
              0.7777777777777778,
              "#6ece58"
             ],
             [
              0.8888888888888888,
              "#b5de2b"
             ],
             [
              1,
              "#fde725"
             ]
            ],
            "type": "contour"
           }
          ],
          "contourcarpet": [
           {
            "colorbar": {
             "outlinewidth": 1,
             "tickcolor": "rgb(36,36,36)",
             "ticks": "outside"
            },
            "type": "contourcarpet"
           }
          ],
          "heatmap": [
           {
            "colorbar": {
             "outlinewidth": 1,
             "tickcolor": "rgb(36,36,36)",
             "ticks": "outside"
            },
            "colorscale": [
             [
              0,
              "#440154"
             ],
             [
              0.1111111111111111,
              "#482878"
             ],
             [
              0.2222222222222222,
              "#3e4989"
             ],
             [
              0.3333333333333333,
              "#31688e"
             ],
             [
              0.4444444444444444,
              "#26828e"
             ],
             [
              0.5555555555555556,
              "#1f9e89"
             ],
             [
              0.6666666666666666,
              "#35b779"
             ],
             [
              0.7777777777777778,
              "#6ece58"
             ],
             [
              0.8888888888888888,
              "#b5de2b"
             ],
             [
              1,
              "#fde725"
             ]
            ],
            "type": "heatmap"
           }
          ],
          "heatmapgl": [
           {
            "colorbar": {
             "outlinewidth": 1,
             "tickcolor": "rgb(36,36,36)",
             "ticks": "outside"
            },
            "colorscale": [
             [
              0,
              "#440154"
             ],
             [
              0.1111111111111111,
              "#482878"
             ],
             [
              0.2222222222222222,
              "#3e4989"
             ],
             [
              0.3333333333333333,
              "#31688e"
             ],
             [
              0.4444444444444444,
              "#26828e"
             ],
             [
              0.5555555555555556,
              "#1f9e89"
             ],
             [
              0.6666666666666666,
              "#35b779"
             ],
             [
              0.7777777777777778,
              "#6ece58"
             ],
             [
              0.8888888888888888,
              "#b5de2b"
             ],
             [
              1,
              "#fde725"
             ]
            ],
            "type": "heatmapgl"
           }
          ],
          "histogram": [
           {
            "marker": {
             "line": {
              "color": "white",
              "width": 0.6
             }
            },
            "type": "histogram"
           }
          ],
          "histogram2d": [
           {
            "colorbar": {
             "outlinewidth": 1,
             "tickcolor": "rgb(36,36,36)",
             "ticks": "outside"
            },
            "colorscale": [
             [
              0,
              "#440154"
             ],
             [
              0.1111111111111111,
              "#482878"
             ],
             [
              0.2222222222222222,
              "#3e4989"
             ],
             [
              0.3333333333333333,
              "#31688e"
             ],
             [
              0.4444444444444444,
              "#26828e"
             ],
             [
              0.5555555555555556,
              "#1f9e89"
             ],
             [
              0.6666666666666666,
              "#35b779"
             ],
             [
              0.7777777777777778,
              "#6ece58"
             ],
             [
              0.8888888888888888,
              "#b5de2b"
             ],
             [
              1,
              "#fde725"
             ]
            ],
            "type": "histogram2d"
           }
          ],
          "histogram2dcontour": [
           {
            "colorbar": {
             "outlinewidth": 1,
             "tickcolor": "rgb(36,36,36)",
             "ticks": "outside"
            },
            "colorscale": [
             [
              0,
              "#440154"
             ],
             [
              0.1111111111111111,
              "#482878"
             ],
             [
              0.2222222222222222,
              "#3e4989"
             ],
             [
              0.3333333333333333,
              "#31688e"
             ],
             [
              0.4444444444444444,
              "#26828e"
             ],
             [
              0.5555555555555556,
              "#1f9e89"
             ],
             [
              0.6666666666666666,
              "#35b779"
             ],
             [
              0.7777777777777778,
              "#6ece58"
             ],
             [
              0.8888888888888888,
              "#b5de2b"
             ],
             [
              1,
              "#fde725"
             ]
            ],
            "type": "histogram2dcontour"
           }
          ],
          "mesh3d": [
           {
            "colorbar": {
             "outlinewidth": 1,
             "tickcolor": "rgb(36,36,36)",
             "ticks": "outside"
            },
            "type": "mesh3d"
           }
          ],
          "parcoords": [
           {
            "line": {
             "colorbar": {
              "outlinewidth": 1,
              "tickcolor": "rgb(36,36,36)",
              "ticks": "outside"
             }
            },
            "type": "parcoords"
           }
          ],
          "pie": [
           {
            "automargin": true,
            "type": "pie"
           }
          ],
          "scatter": [
           {
            "fillpattern": {
             "fillmode": "overlay",
             "size": 10,
             "solidity": 0.2
            },
            "type": "scatter"
           }
          ],
          "scatter3d": [
           {
            "line": {
             "colorbar": {
              "outlinewidth": 1,
              "tickcolor": "rgb(36,36,36)",
              "ticks": "outside"
             }
            },
            "marker": {
             "colorbar": {
              "outlinewidth": 1,
              "tickcolor": "rgb(36,36,36)",
              "ticks": "outside"
             }
            },
            "type": "scatter3d"
           }
          ],
          "scattercarpet": [
           {
            "marker": {
             "colorbar": {
              "outlinewidth": 1,
              "tickcolor": "rgb(36,36,36)",
              "ticks": "outside"
             }
            },
            "type": "scattercarpet"
           }
          ],
          "scattergeo": [
           {
            "marker": {
             "colorbar": {
              "outlinewidth": 1,
              "tickcolor": "rgb(36,36,36)",
              "ticks": "outside"
             }
            },
            "type": "scattergeo"
           }
          ],
          "scattergl": [
           {
            "marker": {
             "colorbar": {
              "outlinewidth": 1,
              "tickcolor": "rgb(36,36,36)",
              "ticks": "outside"
             }
            },
            "type": "scattergl"
           }
          ],
          "scattermapbox": [
           {
            "marker": {
             "colorbar": {
              "outlinewidth": 1,
              "tickcolor": "rgb(36,36,36)",
              "ticks": "outside"
             }
            },
            "type": "scattermapbox"
           }
          ],
          "scatterpolar": [
           {
            "marker": {
             "colorbar": {
              "outlinewidth": 1,
              "tickcolor": "rgb(36,36,36)",
              "ticks": "outside"
             }
            },
            "type": "scatterpolar"
           }
          ],
          "scatterpolargl": [
           {
            "marker": {
             "colorbar": {
              "outlinewidth": 1,
              "tickcolor": "rgb(36,36,36)",
              "ticks": "outside"
             }
            },
            "type": "scatterpolargl"
           }
          ],
          "scatterternary": [
           {
            "marker": {
             "colorbar": {
              "outlinewidth": 1,
              "tickcolor": "rgb(36,36,36)",
              "ticks": "outside"
             }
            },
            "type": "scatterternary"
           }
          ],
          "surface": [
           {
            "colorbar": {
             "outlinewidth": 1,
             "tickcolor": "rgb(36,36,36)",
             "ticks": "outside"
            },
            "colorscale": [
             [
              0,
              "#440154"
             ],
             [
              0.1111111111111111,
              "#482878"
             ],
             [
              0.2222222222222222,
              "#3e4989"
             ],
             [
              0.3333333333333333,
              "#31688e"
             ],
             [
              0.4444444444444444,
              "#26828e"
             ],
             [
              0.5555555555555556,
              "#1f9e89"
             ],
             [
              0.6666666666666666,
              "#35b779"
             ],
             [
              0.7777777777777778,
              "#6ece58"
             ],
             [
              0.8888888888888888,
              "#b5de2b"
             ],
             [
              1,
              "#fde725"
             ]
            ],
            "type": "surface"
           }
          ],
          "table": [
           {
            "cells": {
             "fill": {
              "color": "rgb(237,237,237)"
             },
             "line": {
              "color": "white"
             }
            },
            "header": {
             "fill": {
              "color": "rgb(217,217,217)"
             },
             "line": {
              "color": "white"
             }
            },
            "type": "table"
           }
          ]
         },
         "layout": {
          "annotationdefaults": {
           "arrowhead": 0,
           "arrowwidth": 1
          },
          "autotypenumbers": "strict",
          "coloraxis": {
           "colorbar": {
            "outlinewidth": 1,
            "tickcolor": "rgb(36,36,36)",
            "ticks": "outside"
           }
          },
          "colorscale": {
           "diverging": [
            [
             0,
             "rgb(103,0,31)"
            ],
            [
             0.1,
             "rgb(178,24,43)"
            ],
            [
             0.2,
             "rgb(214,96,77)"
            ],
            [
             0.3,
             "rgb(244,165,130)"
            ],
            [
             0.4,
             "rgb(253,219,199)"
            ],
            [
             0.5,
             "rgb(247,247,247)"
            ],
            [
             0.6,
             "rgb(209,229,240)"
            ],
            [
             0.7,
             "rgb(146,197,222)"
            ],
            [
             0.8,
             "rgb(67,147,195)"
            ],
            [
             0.9,
             "rgb(33,102,172)"
            ],
            [
             1,
             "rgb(5,48,97)"
            ]
           ],
           "sequential": [
            [
             0,
             "#440154"
            ],
            [
             0.1111111111111111,
             "#482878"
            ],
            [
             0.2222222222222222,
             "#3e4989"
            ],
            [
             0.3333333333333333,
             "#31688e"
            ],
            [
             0.4444444444444444,
             "#26828e"
            ],
            [
             0.5555555555555556,
             "#1f9e89"
            ],
            [
             0.6666666666666666,
             "#35b779"
            ],
            [
             0.7777777777777778,
             "#6ece58"
            ],
            [
             0.8888888888888888,
             "#b5de2b"
            ],
            [
             1,
             "#fde725"
            ]
           ],
           "sequentialminus": [
            [
             0,
             "#440154"
            ],
            [
             0.1111111111111111,
             "#482878"
            ],
            [
             0.2222222222222222,
             "#3e4989"
            ],
            [
             0.3333333333333333,
             "#31688e"
            ],
            [
             0.4444444444444444,
             "#26828e"
            ],
            [
             0.5555555555555556,
             "#1f9e89"
            ],
            [
             0.6666666666666666,
             "#35b779"
            ],
            [
             0.7777777777777778,
             "#6ece58"
            ],
            [
             0.8888888888888888,
             "#b5de2b"
            ],
            [
             1,
             "#fde725"
            ]
           ]
          },
          "colorway": [
           "#1F77B4",
           "#FF7F0E",
           "#2CA02C",
           "#D62728",
           "#9467BD",
           "#8C564B",
           "#E377C2",
           "#7F7F7F",
           "#BCBD22",
           "#17BECF"
          ],
          "font": {
           "color": "rgb(36,36,36)"
          },
          "geo": {
           "bgcolor": "white",
           "lakecolor": "white",
           "landcolor": "white",
           "showlakes": true,
           "showland": true,
           "subunitcolor": "white"
          },
          "hoverlabel": {
           "align": "left"
          },
          "hovermode": "closest",
          "mapbox": {
           "style": "light"
          },
          "paper_bgcolor": "white",
          "plot_bgcolor": "white",
          "polar": {
           "angularaxis": {
            "gridcolor": "rgb(232,232,232)",
            "linecolor": "rgb(36,36,36)",
            "showgrid": false,
            "showline": true,
            "ticks": "outside"
           },
           "bgcolor": "white",
           "radialaxis": {
            "gridcolor": "rgb(232,232,232)",
            "linecolor": "rgb(36,36,36)",
            "showgrid": false,
            "showline": true,
            "ticks": "outside"
           }
          },
          "scene": {
           "xaxis": {
            "backgroundcolor": "white",
            "gridcolor": "rgb(232,232,232)",
            "gridwidth": 2,
            "linecolor": "rgb(36,36,36)",
            "showbackground": true,
            "showgrid": false,
            "showline": true,
            "ticks": "outside",
            "zeroline": false,
            "zerolinecolor": "rgb(36,36,36)"
           },
           "yaxis": {
            "backgroundcolor": "white",
            "gridcolor": "rgb(232,232,232)",
            "gridwidth": 2,
            "linecolor": "rgb(36,36,36)",
            "showbackground": true,
            "showgrid": false,
            "showline": true,
            "ticks": "outside",
            "zeroline": false,
            "zerolinecolor": "rgb(36,36,36)"
           },
           "zaxis": {
            "backgroundcolor": "white",
            "gridcolor": "rgb(232,232,232)",
            "gridwidth": 2,
            "linecolor": "rgb(36,36,36)",
            "showbackground": true,
            "showgrid": false,
            "showline": true,
            "ticks": "outside",
            "zeroline": false,
            "zerolinecolor": "rgb(36,36,36)"
           }
          },
          "shapedefaults": {
           "fillcolor": "black",
           "line": {
            "width": 0
           },
           "opacity": 0.3
          },
          "ternary": {
           "aaxis": {
            "gridcolor": "rgb(232,232,232)",
            "linecolor": "rgb(36,36,36)",
            "showgrid": false,
            "showline": true,
            "ticks": "outside"
           },
           "baxis": {
            "gridcolor": "rgb(232,232,232)",
            "linecolor": "rgb(36,36,36)",
            "showgrid": false,
            "showline": true,
            "ticks": "outside"
           },
           "bgcolor": "white",
           "caxis": {
            "gridcolor": "rgb(232,232,232)",
            "linecolor": "rgb(36,36,36)",
            "showgrid": false,
            "showline": true,
            "ticks": "outside"
           }
          },
          "title": {
           "x": 0.05
          },
          "xaxis": {
           "automargin": true,
           "gridcolor": "rgb(232,232,232)",
           "linecolor": "rgb(36,36,36)",
           "showgrid": false,
           "showline": true,
           "ticks": "outside",
           "title": {
            "standoff": 15
           },
           "zeroline": false,
           "zerolinecolor": "rgb(36,36,36)"
          },
          "yaxis": {
           "automargin": true,
           "gridcolor": "rgb(232,232,232)",
           "linecolor": "rgb(36,36,36)",
           "showgrid": false,
           "showline": true,
           "ticks": "outside",
           "title": {
            "standoff": 15
           },
           "zeroline": false,
           "zerolinecolor": "rgb(36,36,36)"
          }
         }
        },
        "title": {
         "font": {
          "color": "Black",
          "size": 22
         },
         "text": "<b>Topics over Time</b>",
         "x": 0.4,
         "xanchor": "center",
         "y": 0.95,
         "yanchor": "top"
        },
        "width": 1250,
        "xaxis": {
         "showgrid": true
        },
        "yaxis": {
         "showgrid": true,
         "title": {
          "text": "Frequency"
         }
        }
       }
      }
     },
     "metadata": {},
     "output_type": "display_data"
    }
   ],
   "source": [
    "model.visualize_topics_over_time(topics_over_time, topics=list(range(10)))"
   ]
  },
  {
   "cell_type": "code",
   "execution_count": 34,
   "metadata": {},
   "outputs": [
    {
     "data": {
      "application/vnd.plotly.v1+json": {
       "config": {
        "plotlyServerURL": "https://plot.ly"
       },
       "data": [
        {
         "hoverinfo": "text",
         "hovertext": [
          "<b>Topic 0</b><br>Words: 청년, 생산, 스마트, 경영, 가능",
          "<b>Topic 0</b><br>Words: 체육, 대회, 전남도, 건강, 생활",
          "<b>Topic 0</b><br>Words: 센터, 교육청, 위기, 기관, 마을",
          "<b>Topic 0</b><br>Words: 상담, 청소년, 서비스, 대상, 운영",
          "<b>Topic 0</b><br>Words: 아이, 희망, 교육, 학교, 학생",
          "<b>Topic 0</b><br>Words: 기업, 고용, 창업, 청년, 우수",
          "<b>Topic 0</b><br>Words: 공간, 단지, 어린이, 생활, 예정",
          "<b>Topic 0</b><br>Words: 가구, 소득, 신청, 실시, 기간",
          "<b>Topic 0</b><br>Words: 아동, 기관, 보호, 사회, 위기",
          "<b>Topic 0</b><br>Words: 협약, 농촌, 생활, 공모, 조사",
          "<b>Topic 0</b><br>Words: 청년, 신청, 농업, 평가, 전남도",
          "<b>Topic 0</b><br>Words: 신청, 청년, 전남도, 농업, 결과",
          "<b>Topic 0</b><br>Words: 개발, 지구, 세대, 시설, 규모",
          "<b>Topic 0</b><br>Words: 농업, 교육, 기술, 주요, 농가",
          "<b>Topic 0</b><br>Words: 농업, 기술, 교육, 실시, 주요",
          "<b>Topic 0</b><br>Words: 개발, 단지, 규모, 풍력, 해상",
          "<b>Topic 0</b><br>Words: 단지, 가구, 조성, 인프라, 향상",
          "<b>Topic 0</b><br>Words: 향상, 실시, 경영, 교육, 목표",
          "<b>Topic 0</b><br>Words: 향상, 노력, 실시, 교육, 김산",
          "<b>Topic 0</b><br>Words: 시작, 정보, 학교, 과정, 동안",
          "<b>Topic 0</b><br>Words: 투자, 기업, 지급, 대상, 교육",
          "<b>Topic 0</b><br>Words: 단지, 시설, 가구, 전라남도, 농협",
          "<b>Topic 0</b><br>Words: 투자, 기업, 유치, 교육, 청년",
          "<b>Topic 0</b><br>Words: 예방, 교육, 실시, 김산, 취재",
          "<b>Topic 0</b><br>Words: 지급, 제도, 개선, 시민, 군민",
          "<b>Topic 0</b><br>Words: 청년, 활동, 모집, 김산, 최대",
          "<b>Topic 0</b><br>Words: 효과, 단지, 시설, 예정, 인프라",
          "<b>Topic 0</b><br>Words: 환경, 학교, 학생, 농가, 제공",
          "<b>Topic 0</b><br>Words: 어린이, 교육, 농업, 학교, 환경",
          "<b>Topic 0</b><br>Words: 어린이, 개발, 농가, 진행, 학교",
          "<b>Topic 0</b><br>Words: 가구, 농업, 단지, 규모, 건설",
          "<b>Topic 0</b><br>Words: 건강, 대학, 복지, 마을, 센터",
          "<b>Topic 0</b><br>Words: 단지, 시스템, 가능, 세대, 인근",
          "<b>Topic 0</b><br>Words: 농협, 농가, 본부, 규모, 확대",
          "<b>Topic 0</b><br>Words: 민간, 단지, 주택, 세대, 가능",
          "<b>Topic 0</b><br>Words: 지급, 운영, 김산, 교육, 결과",
          "<b>Topic 0</b><br>Words: 청년, 본부, 농협, 확대, 감소",
          "<b>Topic 0</b><br>Words: 효과, 단지, 교통, 가치, 조성",
          "<b>Topic 0</b><br>Words: 건설, 교육, 실시, 시간, 전문",
          "<b>Topic 0</b><br>Words: 대상, 교육, 근로자, 예방, 김산",
          "<b>Topic 0</b><br>Words: 청소년, 상담, 회의, 참여, 복지",
          "<b>Topic 0</b><br>Words: 청년, 산업, 주민, 일자리, 참여",
          "<b>Topic 0</b><br>Words: 청년, 산업, 디지털, 일자리, 전문",
          "<b>Topic 0</b><br>Words: 마을, 군수, 참석, 주요, 추진",
          "<b>Topic 0</b><br>Words: 마을, 참석, 센터, 주제, 방안",
          "<b>Topic 0</b><br>Words: 농업, 창업, 경영, 청년, 가능",
          "<b>Topic 0</b><br>Words: 생각, 사람, 청년, 민간, 아이",
          "<b>Topic 0</b><br>Words: 농가, 주택, 효과, 예정, 자원",
          "<b>Topic 0</b><br>Words: 학생, 정원, 프로그램, 김산, 환경",
          "<b>Topic 0</b><br>Words: 가구, 지구, 가능, 단지, 관심",
          "<b>Topic 0</b><br>Words: 지급, 대회, 교육, 개최, 참여",
          "<b>Topic 0</b><br>Words: 공무원, 마을, 오후, 참석, 과정",
          "<b>Topic 0</b><br>Words: 학교, 참여, 신청, 희망, 전라남도",
          "<b>Topic 0</b><br>Words: 양식, 공무원, 산업, 향상, 안정",
          "<b>Topic 0</b><br>Words: 공유, 주민, 에너지, 재생, 개발",
          "<b>Topic 0</b><br>Words: 마을, 선정, 공모, 지자체, 학교",
          "<b>Topic 0</b><br>Words: 농업, 과정, 관련, 교육, 농가",
          "<b>Topic 0</b><br>Words: 일자리, 세대, 사회, 활용, 참여",
          "<b>Topic 0</b><br>Words: 교육, 모집, 어린이, 대상, 지방",
          "<b>Topic 0</b><br>Words: 이용, 기술, 현장, 활용, 최근",
          "<b>Topic 0</b><br>Words: 농촌, 사회, 대학, 다양, 진행",
          "<b>Topic 0</b><br>Words: 정비, 주택, 건설, 가구, 규모",
          "<b>Topic 0</b><br>Words: 프로그램, 센터, 코로나, 관리, 상담",
          "<b>Topic 0</b><br>Words: 시간, 발생, 이상, 대응, 경기",
          "<b>Topic 0</b><br>Words: 정보, 농업, 제공, 기술, 필요",
          "<b>Topic 0</b><br>Words: 대통령, 학교, 학생, 코로나, 아이",
          "<b>Topic 0</b><br>Words: 농촌, 홍보, 산업, 구축, 복합",
          "<b>Topic 0</b><br>Words: 농촌, 홍보, 산업, 복합, 공모",
          "<b>Topic 0</b><br>Words: 장애인, 관심, 생활, 센터, 취업",
          "<b>Topic 0</b><br>Words: 학생, 학교, 활용, 운영, 주민",
          "<b>Topic 0</b><br>Words: 건강, 조사, 프로그램, 예방, 이상",
          "<b>Topic 0</b><br>Words: 교육청, 교육, 미래, 활동, 연계",
          "<b>Topic 0</b><br>Words: 기업, 고용, 참여, 경제, 김산",
          "<b>Topic 0</b><br>Words: 청년, 교육, 정책, 이번, 군수",
          "<b>Topic 0</b><br>Words: 양식, 소득, 박우량, 교육, 개최",
          "<b>Topic 0</b><br>Words: 소득, 박우량, 추진, 군수, 집중",
          "<b>Topic 0</b><br>Words: 건강, 모집, 소득, 실시, 관리",
          "<b>Topic 0</b><br>Words: 청소년, 상담, 복지, 추가, 센터",
          "<b>Topic 0</b><br>Words: 회장, 관리, 한국, 대표, 제공",
          "<b>Topic 0</b><br>Words: 교육, 학생, 중심, 진행, 세계",
          "<b>Topic 0</b><br>Words: 회장, 대표, 교육, 세대, 경기",
          "<b>Topic 0</b><br>Words: 안전, 교육, 체험, 시설, 정비",
          "<b>Topic 0</b><br>Words: 세계, 대표, 대회, 한국, 기술",
          "<b>Topic 0</b><br>Words: 교육, 교육청, 서비스, 보건, 복지",
          "<b>Topic 0</b><br>Words: 창업, 교육, 구축, 전문, 기관",
          "<b>Topic 0</b><br>Words: 안전, 정비, 조성, 체험, 시설",
          "<b>Topic 0</b><br>Words: 희망, 교육청, 교육, 가족, 장애인",
          "<b>Topic 0</b><br>Words: 기술, 청년, 개발, 활용, 농가",
          "<b>Topic 0</b><br>Words: 단지, 지구, 아이, 이용, 효과",
          "<b>Topic 0</b><br>Words: 체육, 시설, 회장, 생활, 설립",
          "<b>Topic 0</b><br>Words: 기대, 건강, 기술, 실시, 활용",
          "<b>Topic 0</b><br>Words: 교육, 기술, 개발, 실시, 이번",
          "<b>Topic 0</b><br>Words: 기술, 청년, 농업, 농촌, 기관",
          "<b>Topic 0</b><br>Words: 농가, 환경, 경영, 육성, 농업",
          "<b>Topic 0</b><br>Words: 조성, 소득, 경영, 과정, 농업",
          "<b>Topic 0</b><br>Words: 기술, 규모, 개발, 농가, 최선",
          "<b>Topic 0</b><br>Words: 진흥원, 한국, 자치, 발전, 공무원",
          "<b>Topic 0</b><br>Words: 창업, 교육, 구축, 기관, 전문",
          "<b>Topic 0</b><br>Words: 인구, 변화, 우수, 아시아, 청소년",
          "<b>Topic 0</b><br>Words: 대회, 체육, 학교, 기회, 우리",
          "<b>Topic 0</b><br>Words: 건강, 교육, 대상, 프로그램, 예방",
          "<b>Topic 0</b><br>Words: 장애인, 고용, 기업, 근로자, 교육",
          "<b>Topic 0</b><br>Words: 교육, 전문, 여성, 창업, 활용",
          "<b>Topic 0</b><br>Words: 아동, 건강, 보호, 버스, 서비스",
          "<b>Topic 0</b><br>Words: 장애인, 건강, 운동, 서비스, 방문",
          "<b>Topic 0</b><br>Words: 주민, 역사, 활용, 시설, 사회",
          "<b>Topic 0</b><br>Words: 청년, 군수, 농촌, 김산, 희망",
          "<b>Topic 0</b><br>Words: 장애인, 운동, 서비스, 프로그램, 방문",
          "<b>Topic 0</b><br>Words: 참여, 기술, 주민, 대상, 선정",
          "<b>Topic 0</b><br>Words: 자원, 실시, 전문, 교육, 예정",
          "<b>Topic 0</b><br>Words: 인구, 정책, 청년, 종합, 전략",
          "<b>Topic 0</b><br>Words: 교육, 학생, 프로그램, 중심, 대학",
          "<b>Topic 0</b><br>Words: 지구, 단지, 세대, 인프라, 조성",
          "<b>Topic 0</b><br>Words: 지구, 세대, 단지, 인프라, 조성",
          "<b>Topic 0</b><br>Words: 학생, 경기, 학교, 서울, 수도",
          "<b>Topic 0</b><br>Words: 지구, 가구, 이용, 단지, 개발",
          "<b>Topic 0</b><br>Words: 지구, 공무원, 아시아, 지급, 교육",
          "<b>Topic 0</b><br>Words: 어린이, 시설, 교육, 학생, 공간",
          "<b>Topic 0</b><br>Words: 체육, 공공, 종합, 회장, 선정",
          "<b>Topic 0</b><br>Words: 체육, 종합, 공공, 선정, 공모",
          "<b>Topic 0</b><br>Words: 세대, 가능, 단지, 예정, 인프라",
          "<b>Topic 0</b><br>Words: 교육청, 학교, 업무, 인력, 지정",
          "<b>Topic 0</b><br>Words: 공간, 서비스, 특화, 세대, 청소년",
          "<b>Topic 0</b><br>Words: 정보, 공간, 관리, 시스템, 공무원",
          "<b>Topic 0</b><br>Words: 단지, 가구, 예정, 조성, 규모",
          "<b>Topic 0</b><br>Words: 가구, 규모, 주택, 개발, 사회",
          "<b>Topic 0</b><br>Words: 교육, 주민, 아시아, 상황, 실시",
          "<b>Topic 0</b><br>Words: 홍어, 교육, 학교, 대상, 건강",
          "<b>Topic 0</b><br>Words: 홍어, 제도, 학교, 사람, 과정",
          "<b>Topic 0</b><br>Words: 주민, 활성, 센터, 사례, 관심",
          "<b>Topic 0</b><br>Words: 홍어, 대상, 학교, 민간, 제도",
          "<b>Topic 0</b><br>Words: 아시아, 학생, 경제, 사회, 김산",
          "<b>Topic 0</b><br>Words: 홍어, 교육, 디지털, 다양, 문제",
          "<b>Topic 0</b><br>Words: 홍어, 이날, 사람, 학교, 민간",
          "<b>Topic 0</b><br>Words: 홍어, 이상, 민간, 학교, 제도",
          "<b>Topic 0</b><br>Words: 지구, 가구, 학교, 단지, 마을",
          "<b>Topic 0</b><br>Words: 서비스, 가구, 복지, 학교, 방문",
          "<b>Topic 0</b><br>Words: 아이, 학교, 마을, 체험, 참여",
          "<b>Topic 0</b><br>Words: 가구, 단지, 서울, 주택, 지구",
          "<b>Topic 0</b><br>Words: 운동, 운영, 교육, 평가, 예방",
          "<b>Topic 0</b><br>Words: 주민, 대회, 생활, 선정, 제공",
          "<b>Topic 0</b><br>Words: 농업, 환경, 육성, 농가, 경영",
          "<b>Topic 0</b><br>Words: 재생, 도시, 주민, 추진, 역량",
          "<b>Topic 0</b><br>Words: 육성, 농가, 경영, 농업, 개선",
          "<b>Topic 0</b><br>Words: 농가, 공동, 가구, 교육, 재단",
          "<b>Topic 0</b><br>Words: 가구, 단지, 세대, 예정, 주택",
          "<b>Topic 0</b><br>Words: 가구, 주택, 단지, 시스템, 디지털",
          "<b>Topic 0</b><br>Words: 보건, 군수, 환경, 농업, 인재",
          "<b>Topic 0</b><br>Words: 홍어, 학교, 추가, 민간, 과정",
          "<b>Topic 0</b><br>Words: 농업, 교육, 기술, 실시, 사항",
          "<b>Topic 0</b><br>Words: 홍어, 학교, 마을, 갯벌, 자연",
          "<b>Topic 0</b><br>Words: 가구, 단지, 건설, 공원, 규모",
          "<b>Topic 0</b><br>Words: 가구, 단지, 주택, 건설, 규모",
          "<b>Topic 0</b><br>Words: 풍력, 해상, 이용, 센터, 공공",
          "<b>Topic 0</b><br>Words: 체육, 회장, 단체, 소통, 개최",
          "<b>Topic 0</b><br>Words: 지구, 가구, 개소, 학교, 시설",
          "<b>Topic 0</b><br>Words: 농가, 주택, 기반, 농업, 이상",
          "<b>Topic 0</b><br>Words: 복합, 공간, 센터, 주민, 계획",
          "<b>Topic 0</b><br>Words: 신청, 규모, 가능, 계획, 분야",
          "<b>Topic 0</b><br>Words: 후보, 농업, 지급, 농촌, 에너지",
          "<b>Topic 0</b><br>Words: 회의, 업무, 사항, 전환, 공유",
          "<b>Topic 0</b><br>Words: 특화, 경제, 산업, 기업, 경영",
          "<b>Topic 0</b><br>Words: 발전, 후보, 교육, 청년, 에너지",
          "<b>Topic 0</b><br>Words: 참여, 농촌, 학생, 교육청, 프로그램",
          "<b>Topic 0</b><br>Words: 교육, 예방, 실시, 대상, 이번",
          "<b>Topic 0</b><br>Words: 조사, 수립, 대상, 기준, 결과",
          "<b>Topic 0</b><br>Words: 활동, 사회, 맞춤, 서비스, 복지",
          "<b>Topic 0</b><br>Words: 활동, 사회, 복지, 서비스, 가구",
          "<b>Topic 0</b><br>Words: 활용, 공간, 주민, 전남도, 예정",
          "<b>Topic 0</b><br>Words: 대학, 아이, 학생, 아동, 개소",
          "<b>Topic 0</b><br>Words: 모집, 농촌, 기간, 신청, 교육",
          "<b>Topic 0</b><br>Words: 교육청, 올해, 학생, 지구, 인근",
          "<b>Topic 0</b><br>Words: 농업, 교육, 예방, 건설, 사용",
          "<b>Topic 0</b><br>Words: 청년, 인구, 창업, 아이, 교육",
          "<b>Topic 0</b><br>Words: 창업, 시설, 센터, 건립, 생산",
          "<b>Topic 0</b><br>Words: 건립, 시설, 센터, 투입, 식품",
          "<b>Topic 0</b><br>Words: 청년, 농업, 스마트, 창업, 경영",
          "<b>Topic 0</b><br>Words: 청년, 스마트, 창업, 경영, 농업",
          "<b>Topic 0</b><br>Words: 실시, 학생, 예방, 안전, 학교",
          "<b>Topic 0</b><br>Words: 향상, 실시, 평가, 결과, 분야",
          "<b>Topic 0</b><br>Words: 창업, 상담, 청년, 혁신, 대상",
          "<b>Topic 0</b><br>Words: 상담, 확산, 선정, 운영, 분야",
          "<b>Topic 0</b><br>Words: 확산, 혁신, 선정, 운영, 우수",
          "<b>Topic 0</b><br>Words: 학교, 학생, 환경, 생산, 농가",
          "<b>Topic 0</b><br>Words: 학교, 감소, 학생, 청소년, 교육",
          "<b>Topic 0</b><br>Words: 학교, 센터, 설치, 설립, 투자",
          "<b>Topic 0</b><br>Words: 후보, 선거, 위기, 교육, 행사",
          "<b>Topic 0</b><br>Words: 관광, 프로그램, 세계, 진행, 공원",
          "<b>Topic 0</b><br>Words: 농업, 환경, 대상, 증가, 취재",
          "<b>Topic 0</b><br>Words: 환경, 농업, 대상, 청소년, 실시",
          "<b>Topic 0</b><br>Words: 지급, 인재, 학생, 운영, 김산",
          "<b>Topic 0</b><br>Words: 지급, 학생, 인재, 운영, 설립",
          "<b>Topic 0</b><br>Words: 지구, 단지, 예정, 생활, 교육",
          "<b>Topic 0</b><br>Words: 교육, 학생, 학교, 대학, 아이",
          "<b>Topic 0</b><br>Words: 농업, 교육, 대학, 정보, 모집",
          "<b>Topic 0</b><br>Words: 한국, 학생, 아이, 복지, 센터",
          "<b>Topic 0</b><br>Words: 지구, 단지, 인프라, 인근, 예정",
          "<b>Topic 0</b><br>Words: 식품, 교육, 창업, 연계, 구성",
          "<b>Topic 0</b><br>Words: 지구, 인프라, 주택, 조성, 규모",
          "<b>Topic 0</b><br>Words: 희망, 설립, 교육청, 지구, 학교",
          "<b>Topic 0</b><br>Words: 시설, 복지, 생활, 서비스, 제공",
          "<b>Topic 0</b><br>Words: 세대, 가구, 우리, 단지, 규모",
          "<b>Topic 0</b><br>Words: 교육, 사회, 다양, 마을, 학교",
          "<b>Topic 0</b><br>Words: 마을, 학교, 아이, 체험, 다양",
          "<b>Topic 0</b><br>Words: 서비스, 센터, 운영, 이용, 가족",
          "<b>Topic 0</b><br>Words: 지구, 구성, 주택, 인근, 가능",
          "<b>Topic 0</b><br>Words: 전남도, 기간, 활용, 청소년, 조사",
          "<b>Topic 0</b><br>Words: 운영, 공동, 이용, 가능, 개소",
          "<b>Topic 0</b><br>Words: 농가, 교육, 생산, 소득, 역사",
          "<b>Topic 0</b><br>Words: 농가, 생산, 소득, 대회, 기술",
          "<b>Topic 0</b><br>Words: 농가, 건강, 프로그램, 장애인, 소득",
          "<b>Topic 0</b><br>Words: 의료, 보건, 안전, 건강, 교육",
          "<b>Topic 0</b><br>Words: 단지, 가구, 예정, 지구, 전문가",
          "<b>Topic 0</b><br>Words: 농가, 운동, 안정, 기관, 참여",
          "<b>Topic 0</b><br>Words: 농가, 농촌, 활동, 참여, 안정",
          "<b>Topic 0</b><br>Words: 교육, 국가, 복지, 사회, 활동",
          "<b>Topic 0</b><br>Words: 예방, 시설, 복지, 발생, 사회",
          "<b>Topic 0</b><br>Words: 예방, 발생, 시설, 복지, 관리",
          "<b>Topic 0</b><br>Words: 농가, 스마트, 관리, 시스템, 생산",
          "<b>Topic 0</b><br>Words: 개발, 교육, 양성, 창업, 실시",
          "<b>Topic 0</b><br>Words: 마을, 공동, 대상, 취재, 본부",
          "<b>Topic 0</b><br>Words: 생산, 마을, 공동, 대상, 제공",
          "<b>Topic 0</b><br>Words: 건강, 교육, 의료, 프로그램, 주제",
          "<b>Topic 0</b><br>Words: 조사, 건강, 관리, 가구, 정보",
          "<b>Topic 0</b><br>Words: 관광, 주민, 대상, 홍보, 추진",
          "<b>Topic 0</b><br>Words: 방문, 군수, 과정, 공유, 교육",
          "<b>Topic 0</b><br>Words: 창업, 농업, 주택, 신청, 선정",
          "<b>Topic 0</b><br>Words: 가구, 지구, 단지, 예정, 시설",
          "<b>Topic 0</b><br>Words: 개발, 청년, 기업, 일자리, 지구",
          "<b>Topic 0</b><br>Words: 건강, 어린이, 학생, 교육, 교수",
          "<b>Topic 0</b><br>Words: 농촌, 체험, 아동, 센터, 대상",
          "<b>Topic 0</b><br>Words: 복지, 재단, 청소년, 상담, 시설",
          "<b>Topic 0</b><br>Words: 서울, 아이, 단체, 활동, 학교",
          "<b>Topic 0</b><br>Words: 농업, 과정, 현장, 농가, 교육",
          "<b>Topic 0</b><br>Words: 청소년, 프로그램, 활동, 학생, 교육",
          "<b>Topic 0</b><br>Words: 인구, 전략, 농업, 도시, 추진",
          "<b>Topic 0</b><br>Words: 교육, 지구, 가구, 미래, 학교",
          "<b>Topic 0</b><br>Words: 인구, 전략, 정책, 발굴, 추진",
          "<b>Topic 0</b><br>Words: 군수, 전남도, 사회, 사항, 소통",
          "<b>Topic 0</b><br>Words: 전남도, 설치, 군수, 사회, 희망",
          "<b>Topic 0</b><br>Words: 지구, 단지, 시설, 가구, 예정",
          "<b>Topic 0</b><br>Words: 지구, 세대, 인근, 단지, 예정",
          "<b>Topic 0</b><br>Words: 농업, 교육, 전남도, 소통, 우수",
          "<b>Topic 0</b><br>Words: 청년, 농가, 기업, 향상, 소득",
          "<b>Topic 0</b><br>Words: 지구, 디지털, 단지, 가구, 교육",
          "<b>Topic 0</b><br>Words: 학교, 대학, 병원, 오전, 이후",
          "<b>Topic 0</b><br>Words: 농업, 신청, 기술, 단체, 농가",
          "<b>Topic 0</b><br>Words: 과정, 농가, 투입, 신청, 농업",
          "<b>Topic 0</b><br>Words: 단지, 지구, 조성, 예정, 세대",
          "<b>Topic 0</b><br>Words: 시설, 투자, 지구, 개발, 조성",
          "<b>Topic 0</b><br>Words: 지구, 투자, 확보, 공모, 시설",
          "<b>Topic 0</b><br>Words: 운동, 주민, 중심, 단체, 활동",
          "<b>Topic 0</b><br>Words: 사회, 활동, 디지털, 교육, 이후",
          "<b>Topic 0</b><br>Words: 주택, 공모, 개발, 지구, 투자",
          "<b>Topic 0</b><br>Words: 예술, 교육, 아이, 마을, 프로그램",
          "<b>Topic 0</b><br>Words: 군민, 계획, 모집, 수립, 참여",
          "<b>Topic 0</b><br>Words: 계획, 군민, 수립, 인구, 지자체",
          "<b>Topic 0</b><br>Words: 재생, 도시, 주민, 특화, 추진",
          "<b>Topic 0</b><br>Words: 신청, 관리, 주택, 정부, 경우",
          "<b>Topic 0</b><br>Words: 농업, 청년, 관리, 도시, 재생",
          "<b>Topic 0</b><br>Words: 홍보, 교육청, 교육, 전문, 행정",
          "<b>Topic 0</b><br>Words: 홍보, 교육청, 전남도, 교육, 전문",
          "<b>Topic 0</b><br>Words: 운동, 성과, 동안, 역사, 기초",
          "<b>Topic 0</b><br>Words: 운동, 참여, 신청, 최근, 확대",
          "<b>Topic 0</b><br>Words: 운동, 청년, 일자리, 위원회, 개발",
          "<b>Topic 0</b><br>Words: 청년, 양성, 근로자, 전문가, 일자리",
          "<b>Topic 0</b><br>Words: 우리, 교육, 확대, 실시, 진행",
          "<b>Topic 0</b><br>Words: 지방, 필요, 교육, 발전, 청년",
          "<b>Topic 0</b><br>Words: 청년, 현장, 선정, 안정, 농업",
          "<b>Topic 0</b><br>Words: 디지털, 학교, 마을, 교육, 역량",
          "<b>Topic 0</b><br>Words: 공무원, 생활, 주요, 구성, 기대",
          "<b>Topic 0</b><br>Words: 추진, 시행, 홍보, 행사, 효과",
          "<b>Topic 0</b><br>Words: 지정, 이용, 김산, 이상, 군수",
          "<b>Topic 0</b><br>Words: 아이, 교육, 진행, 이용, 우리",
          "<b>Topic 0</b><br>Words: 자치, 방문, 교육, 이번, 관광객",
          "<b>Topic 0</b><br>Words: 아동, 일자리, 서비스, 기업, 기회",
          "<b>Topic 0</b><br>Words: 디지털, 역량, 강화, 교육, 관광",
          "<b>Topic 0</b><br>Words: 교육, 일자리, 참여, 내년, 종합",
          "<b>Topic 0</b><br>Words: 교육, 학교, 미래, 학생, 전환",
          "<b>Topic 0</b><br>Words: 학생, 교육청, 확보, 시간, 예정",
          "<b>Topic 0</b><br>Words: 공무원, 향상, 교수, 참석, 군수",
          "<b>Topic 0</b><br>Words: 공무원, 역량, 강화, 진행, 향상",
          "<b>Topic 0</b><br>Words: 교육, 미래, 전환, 예방, 건강",
          "<b>Topic 0</b><br>Words: 어린이, 조사, 실시, 진행, 교육",
          "<b>Topic 0</b><br>Words: 농촌, 공간, 공모, 전남도, 정비",
          "<b>Topic 0</b><br>Words: 지구, 투입, 투자, 교육청, 규모",
          "<b>Topic 0</b><br>Words: 지구, 청년, 학교, 도시, 학생",
          "<b>Topic 0</b><br>Words: 청년, 건립, 공간, 지구, 농업",
          "<b>Topic 0</b><br>Words: 농가, 홍어, 현장, 기술, 소득",
          "<b>Topic 0</b><br>Words: 시설, 우수, 평가, 상황, 관리",
          "<b>Topic 0</b><br>Words: 공공, 공무원, 역량, 교육, 업무",
          "<b>Topic 0</b><br>Words: 대표, 농가, 사용, 소득, 농업",
          "<b>Topic 0</b><br>Words: 교육청, 안전, 점검, 병원, 마련",
          "<b>Topic 0</b><br>Words: 안전, 교육, 운영, 발생, 예방",
          "<b>Topic 0</b><br>Words: 정원, 과정, 교육, 기초, 양성",
          "<b>Topic 0</b><br>Words: 운영, 장애인, 디지털, 건강, 개발",
          "<b>Topic 0</b><br>Words: 건강, 장애인, 통합, 관리, 대상",
          "<b>Topic 0</b><br>Words: 홍어, 학교, 민간, 대상, 시스템",
          "<b>Topic 0</b><br>Words: 본부, 취재, 호남, 공무원, 아시아",
          "<b>Topic 0</b><br>Words: 체육, 회장, 선거, 전남도, 내년",
          "<b>Topic 0</b><br>Words: 교육, 실시, 공무원, 김산, 발생",
          "<b>Topic 0</b><br>Words: 시설, 생활, 가능, 지구, 청소년",
          "<b>Topic 0</b><br>Words: 시설, 생활, 가능, 주택, 지구",
          "<b>Topic 0</b><br>Words: 농업, 예방, 시간, 추진, 최근",
          "<b>Topic 0</b><br>Words: 농업, 예방, 시간, 추진, 박우량",
          "<b>Topic 0</b><br>Words: 복지, 사회, 시설, 역량, 강화",
          "<b>Topic 0</b><br>Words: 일자리, 창출, 우수, 분야, 활성",
          "<b>Topic 0</b><br>Words: 제도, 분야, 홍보, 군수, 군민",
          "<b>Topic 0</b><br>Words: 지정, 이용, 사항, 공공, 실시",
          "<b>Topic 0</b><br>Words: 지정, 이용, 사항, 전라남도, 사랑",
          "<b>Topic 0</b><br>Words: 농가, 교육, 회장, 전문, 현장",
          "<b>Topic 0</b><br>Words: 현장, 학생, 교육, 실시, 강화",
          "<b>Topic 0</b><br>Words: 학생, 교육청, 우수, 학교, 전남도",
          "<b>Topic 0</b><br>Words: 정원, 교육, 과정, 기초, 양성",
          "<b>Topic 0</b><br>Words: 정원, 과정, 교육, 기초, 양성",
          "<b>Topic 0</b><br>Words: 학생, 교육, 회장, 미래, 학교",
          "<b>Topic 0</b><br>Words: 올해, 사랑, 동안, 회장, 서울",
          "<b>Topic 0</b><br>Words: 생산, 농가, 기반, 활성, 전략",
          "<b>Topic 0</b><br>Words: 축제, 농가, 생산, 조성, 교육",
          "<b>Topic 0</b><br>Words: 체육, 회장, 생활, 대회, 교류",
          "<b>Topic 0</b><br>Words: 청년, 확대, 운영, 전남도, 경제",
          "<b>Topic 0</b><br>Words: 학교, 도시, 어린이, 아이, 희망",
          "<b>Topic 0</b><br>Words: 농협, 경제, 농촌, 센터, 활성",
          "<b>Topic 0</b><br>Words: 사랑, 군수, 교육, 시설, 선거",
          "<b>Topic 0</b><br>Words: 아이, 인근, 사람, 이상, 마을",
          "<b>Topic 0</b><br>Words: 주요, 복합, 개최, 업무, 계획",
          "<b>Topic 0</b><br>Words: 산업, 복합, 단지, 농촌, 육성",
          "<b>Topic 0</b><br>Words: 청소년, 학교, 맞춤, 발굴, 서비스",
          "<b>Topic 0</b><br>Words: 청소년, 맞춤, 발굴, 학교, 센터",
          "<b>Topic 0</b><br>Words: 경영, 청년, 농업, 희망, 전문",
          "<b>Topic 0</b><br>Words: 학교, 올해, 교육청, 지방, 관계자",
          "<b>Topic 0</b><br>Words: 신청, 농가, 가능, 기술, 교육",
          "<b>Topic 0</b><br>Words: 올해, 교육, 학교, 대학, 교육청",
          "<b>Topic 0</b><br>Words: 학교, 올해, 가운데, 군민, 포함",
          "<b>Topic 0</b><br>Words: 대회, 경기, 체전, 전라남도, 체육",
          "<b>Topic 0</b><br>Words: 청년, 마을, 수도, 성공, 지방",
          "<b>Topic 0</b><br>Words: 대학, 학생, 국립, 방안, 교육",
          "<b>Topic 0</b><br>Words: 기업, 청년, 대학, 신청, 사회",
          "<b>Topic 0</b><br>Words: 농업, 기술, 교육, 정보, 박우량",
          "<b>Topic 0</b><br>Words: 이전, 전남도, 국민, 공간, 지자체",
          "<b>Topic 0</b><br>Words: 농업, 농촌, 확인, 정보, 기술",
          "<b>Topic 0</b><br>Words: 정원, 환경, 농가, 교육, 건강",
          "<b>Topic 0</b><br>Words: 학생, 사항, 전라남도, 설명, 공유",
          "<b>Topic 0</b><br>Words: 대회, 체육, 개최, 전라남도, 경기",
          "<b>Topic 0</b><br>Words: 학교, 예방, 생활, 학생, 안전",
          "<b>Topic 0</b><br>Words: 확보, 전략, 예산, 대응, 교육",
          "<b>Topic 0</b><br>Words: 교육, 식품, 홍보, 경영, 역량",
          "<b>Topic 0</b><br>Words: 지급, 공유, 아동, 재생, 에너지",
          "<b>Topic 0</b><br>Words: 정원, 현장, 조성, 박우량, 교육",
          "<b>Topic 0</b><br>Words: 정원, 현장, 조성, 진행, 교육",
          "<b>Topic 0</b><br>Words: 사랑, 예방, 활동, 지정, 상담",
          "<b>Topic 0</b><br>Words: 군민, 교육, 정원, 실시, 박우량",
          "<b>Topic 0</b><br>Words: 홍어, 기업, 희망, 우수, 정원",
          "<b>Topic 0</b><br>Words: 정원, 교육, 과정, 양성, 박우량",
          "<b>Topic 0</b><br>Words: 농업, 과정, 대학, 교육, 환경",
          "<b>Topic 0</b><br>Words: 확보, 예산, 상담, 지구, 김산",
          "<b>Topic 0</b><br>Words: 식품, 확대, 확보, 교육, 공공",
          "<b>Topic 0</b><br>Words: 대학, 경우, 교육, 주민, 지급",
          "<b>Topic 0</b><br>Words: 기술, 청년, 농업, 상담, 실시",
          "<b>Topic 0</b><br>Words: 사랑, 홍보, 청년, 산업, 축제",
          "<b>Topic 0</b><br>Words: 주민, 센터, 역할, 중심, 공간",
          "<b>Topic 0</b><br>Words: 디지털, 스마트, 체험, 구축, 박우량",
          "<b>Topic 0</b><br>Words: 국립, 대학, 학교, 경우, 신청",
          "<b>Topic 0</b><br>Words: 대학, 국립, 청소년, 학교, 지자체",
          "<b>Topic 0</b><br>Words: 관리, 안전, 보건, 점검, 김산",
          "<b>Topic 0</b><br>Words: 관리, 안전, 보건, 점검, 업무",
          "<b>Topic 0</b><br>Words: 기술, 이전, 체험, 농업, 농촌",
          "<b>Topic 0</b><br>Words: 창업, 청년, 대통령, 기업, 국민",
          "<b>Topic 0</b><br>Words: 유산, 중요, 농업, 세계, 추진",
          "<b>Topic 0</b><br>Words: 활용, 공간, 시설, 센터, 복합",
          "<b>Topic 0</b><br>Words: 신청, 창업, 교육, 양성, 활용",
          "<b>Topic 0</b><br>Words: 교육, 대표, 사회, 농가, 제공",
          "<b>Topic 0</b><br>Words: 점검, 전남도, 체전, 국제, 서비스",
          "<b>Topic 0</b><br>Words: 대학, 점검, 사항, 이상, 소득",
          "<b>Topic 0</b><br>Words: 장애인, 프로그램, 건강, 보건, 사회",
          "<b>Topic 0</b><br>Words: 체전, 전국, 자원, 장애인, 모집",
          "<b>Topic 0</b><br>Words: 스마트, 도시, 환경, 체전, 산업",
          "<b>Topic 0</b><br>Words: 스마트, 도시, 행사, 학생, 환경",
          "<b>Topic 0</b><br>Words: 농가, 소득, 교육, 안정, 프로그램",
          "<b>Topic 0</b><br>Words: 학생, 체험, 농가, 교육, 활동",
          "<b>Topic 0</b><br>Words: 공무원, 수도, 단체, 기초, 경우",
          "<b>Topic 0</b><br>Words: 체전, 전국, 체험, 추가, 방침",
          "<b>Topic 0</b><br>Words: 농업, 농촌, 복지, 건강, 정책",
          "<b>Topic 0</b><br>Words: 양식, 박우량, 군수, 확보, 전문",
          "<b>Topic 0</b><br>Words: 도시, 체험, 시설, 복지, 사회",
          "<b>Topic 0</b><br>Words: 교육, 청년, 미래, 학생, 조성",
          "<b>Topic 0</b><br>Words: 교육, 향상, 서비스, 실시, 진행",
          "<b>Topic 0</b><br>Words: 한국, 병원, 의료, 설립, 전국",
          "<b>Topic 0</b><br>Words: 교육, 향상, 상황, 서비스, 행정",
          "<b>Topic 0</b><br>Words: 학생, 현장, 추진, 기술, 확대",
          "<b>Topic 0</b><br>Words: 예방, 김산, 교육, 군수, 대상",
          "<b>Topic 0</b><br>Words: 체육, 회장, 생활, 위원회, 대회",
          "<b>Topic 0</b><br>Words: 체험, 행사, 기술, 관련, 활용",
          "<b>Topic 0</b><br>Words: 체육, 근로자, 대회, 개최, 전국",
          "<b>Topic 0</b><br>Words: 청소년, 상담, 위기, 복지, 활동",
          "<b>Topic 0</b><br>Words: 예산, 참여, 청소년, 주민, 학교",
          "<b>Topic 0</b><br>Words: 종합, 대상, 전국, 장애인, 개최",
          "<b>Topic 0</b><br>Words: 활용, 교수, 농업, 관광, 사용",
          "<b>Topic 0</b><br>Words: 활동, 국가, 복지, 가족, 참여",
          "<b>Topic 0</b><br>Words: 농촌, 농업, 회장, 한국, 식품",
          "<b>Topic 0</b><br>Words: 농업, 기술, 개최, 전환, 인력",
          "<b>Topic 0</b><br>Words: 전남도, 체육, 체전, 회장, 전국",
          "<b>Topic 0</b><br>Words: 체전, 전국, 장애인, 이전, 전남도",
          "<b>Topic 0</b><br>Words: 대회, 체전, 전국, 장애인, 한국",
          "<b>Topic 0</b><br>Words: 대회, 한국, 동안, 양성, 인재",
          "<b>Topic 0</b><br>Words: 체전, 전국, 모집, 장애인, 참여",
          "<b>Topic 0</b><br>Words: 이전, 유치, 축제, 발표, 공공",
          "<b>Topic 0</b><br>Words: 인재, 대학, 학생, 박우량, 상황",
          "<b>Topic 0</b><br>Words: 교육, 정책, 공무원, 행정, 개발",
          "<b>Topic 0</b><br>Words: 교육, 학생, 미래, 학교, 지급",
          "<b>Topic 0</b><br>Words: 지방, 인구, 정책, 추진, 계획",
          "<b>Topic 0</b><br>Words: 대표, 올해, 생활, 창업, 기대",
          "<b>Topic 0</b><br>Words: 대회, 교육, 체육, 국제, 단체",
          "<b>Topic 0</b><br>Words: 마을, 조사, 교육, 생산, 축제",
          "<b>Topic 0</b><br>Words: 지급, 교육, 교육청, 학생, 스마트",
          "<b>Topic 0</b><br>Words: 지급, 교육, 교육청, 학생, 복지",
          "<b>Topic 0</b><br>Words: 지급, 교육, 전남도, 학생, 교육청",
          "<b>Topic 0</b><br>Words: 스마트, 인재, 청년, 교육, 운영",
          "<b>Topic 0</b><br>Words: 사회, 김산, 군수, 다양, 최선",
          "<b>Topic 0</b><br>Words: 인력, 사회, 복지, 교육, 시설",
          "<b>Topic 0</b><br>Words: 프로그램, 시설, 대상, 김산, 모집",
          "<b>Topic 0</b><br>Words: 정보, 개최, 교육, 수도, 전문가",
          "<b>Topic 0</b><br>Words: 체전, 전국, 장애인, 교육, 참여",
          "<b>Topic 0</b><br>Words: 보건, 건강, 프로그램, 주민, 특화",
          "<b>Topic 0</b><br>Words: 주택, 안정, 위기, 인구, 모집",
          "<b>Topic 0</b><br>Words: 신청, 농가, 성공, 대학, 예정",
          "<b>Topic 0</b><br>Words: 신청, 우수, 대학, 모집, 경우",
          "<b>Topic 0</b><br>Words: 일자리, 기업, 참여, 모집, 경제",
          "<b>Topic 0</b><br>Words: 일자리, 기업, 참여, 모집, 진흥원",
          "<b>Topic 0</b><br>Words: 일자리, 참여, 기업, 고용, 모집",
          "<b>Topic 0</b><br>Words: 창업, 기술, 교육, 기업, 모집",
          "<b>Topic 0</b><br>Words: 개발, 농가, 교육, 이번, 진행",
          "<b>Topic 0</b><br>Words: 농가, 개발, 교육, 진행, 활용",
          "<b>Topic 0</b><br>Words: 소득, 향상, 대표, 박우량, 생산",
          "<b>Topic 0</b><br>Words: 체전, 전국, 개최, 설치, 홍보",
          "<b>Topic 0</b><br>Words: 대표, 농협, 농가, 향상, 소득",
          "<b>Topic 0</b><br>Words: 농가, 향상, 회의, 추진, 활성",
          "<b>Topic 0</b><br>Words: 마을, 운영, 프로그램, 예방, 개선",
          "<b>Topic 0</b><br>Words: 교육, 운영, 역할, 시간, 프로그램",
          "<b>Topic 0</b><br>Words: 창업, 기술, 진흥원, 기업, 센터",
          "<b>Topic 0</b><br>Words: 청년, 일자리, 창업, 근로자, 이전",
          "<b>Topic 0</b><br>Words: 청년, 대표, 일자리, 창업, 교육",
          "<b>Topic 0</b><br>Words: 청소년, 안전, 교육, 증가, 아동",
          "<b>Topic 0</b><br>Words: 대회, 교육청, 육성, 교육, 학생",
          "<b>Topic 0</b><br>Words: 디지털, 교육, 참여, 과정, 대상",
          "<b>Topic 0</b><br>Words: 디지털, 교육, 과정, 지급, 활용",
          "<b>Topic 0</b><br>Words: 예방, 어린이, 건강, 김산, 아동",
          "<b>Topic 0</b><br>Words: 기간, 대회, 동안, 활동, 다양",
          "<b>Topic 0</b><br>Words: 대회, 기술, 연구, 설립, 교육",
          "<b>Topic 0</b><br>Words: 일자리, 기업, 참여, 진흥원, 기회",
          "<b>Topic 0</b><br>Words: 근로자, 가족, 개선, 산업, 안전",
          "<b>Topic 0</b><br>Words: 대회, 다양, 홍보, 미래, 활동",
          "<b>Topic 0</b><br>Words: 사항, 추진, 상황, 도시, 최선",
          "<b>Topic 0</b><br>Words: 스마트, 교육, 센터, 청년, 체전",
          "<b>Topic 0</b><br>Words: 종합, 올해, 목표, 대회, 전국",
          "<b>Topic 0</b><br>Words: 스마트, 디지털, 과정, 교육, 청년",
          "<b>Topic 0</b><br>Words: 전라남도, 대회, 대표, 체육, 우리",
          "<b>Topic 0</b><br>Words: 학교, 체육, 제공, 학생, 아동",
          "<b>Topic 0</b><br>Words: 학교, 제공, 학생, 주민, 일자리",
          "<b>Topic 0</b><br>Words: 경기, 운동, 한국, 전국, 체전",
          "<b>Topic 0</b><br>Words: 대회, 체육, 종합, 회장, 향상",
          "<b>Topic 0</b><br>Words: 조성, 센터, 선정, 성장, 미래",
          "<b>Topic 0</b><br>Words: 조성, 센터, 선정, 성장, 미래",
          "<b>Topic 0</b><br>Words: 세대, 학생, 가구, 학교, 제공",
          "<b>Topic 0</b><br>Words: 세대, 가구, 학생, 학교, 위기",
          "<b>Topic 0</b><br>Words: 학교, 운영, 체험, 예방, 공동",
          "<b>Topic 0</b><br>Words: 지급, 분야, 김산, 설치, 우리",
          "<b>Topic 0</b><br>Words: 안전, 발생, 지급, 교육, 분야",
          "<b>Topic 0</b><br>Words: 학생, 디지털, 교육, 활용, 과정",
          "<b>Topic 0</b><br>Words: 주민, 공간, 체험, 호남, 지자체",
          "<b>Topic 0</b><br>Words: 농가, 관심, 육성, 우수, 교육",
          "<b>Topic 0</b><br>Words: 마을, 청년, 서비스, 사회, 조성",
          "<b>Topic 0</b><br>Words: 복지, 강화, 역량, 업무, 시간",
          "<b>Topic 0</b><br>Words: 자치, 우수, 전남도, 규모, 선정",
          "<b>Topic 0</b><br>Words: 군수, 목표, 박우량, 군민, 시간",
          "<b>Topic 0</b><br>Words: 청소년, 교육, 군민, 활동, 운영",
          "<b>Topic 0</b><br>Words: 대학, 교육, 발전, 혁신, 선정",
          "<b>Topic 0</b><br>Words: 환경, 사용, 주민, 설치, 이용",
          "<b>Topic 0</b><br>Words: 장애인, 대회, 대표, 국가, 이후"
         ],
         "marker": {
          "color": "#E69F00"
         },
         "mode": "lines",
         "name": "0_교육_학교_학생_청년",
         "type": "scatter",
         "x": [
          "2021-01-03T00:00:00",
          "2021-01-07T00:00:00",
          "2021-01-11T00:00:00",
          "2021-01-12T00:00:00",
          "2021-01-13T00:00:00",
          "2021-01-14T00:00:00",
          "2021-01-15T00:00:00",
          "2021-01-21T00:00:00",
          "2021-01-22T00:00:00",
          "2021-01-26T00:00:00",
          "2021-01-31T00:00:00",
          "2021-02-01T00:00:00",
          "2021-02-03T00:00:00",
          "2021-02-04T00:00:00",
          "2021-02-08T00:00:00",
          "2021-02-10T00:00:00",
          "2021-02-16T00:00:00",
          "2021-02-17T00:00:00",
          "2021-02-18T00:00:00",
          "2021-02-25T00:00:00",
          "2021-03-04T00:00:00",
          "2021-03-05T00:00:00",
          "2021-03-07T00:00:00",
          "2021-03-11T00:00:00",
          "2021-03-15T00:00:00",
          "2021-03-18T00:00:00",
          "2021-03-19T00:00:00",
          "2021-03-20T00:00:00",
          "2021-03-22T00:00:00",
          "2021-03-23T00:00:00",
          "2021-03-24T00:00:00",
          "2021-03-25T00:00:00",
          "2021-03-26T00:00:00",
          "2021-03-28T00:00:00",
          "2021-03-29T00:00:00",
          "2021-04-01T00:00:00",
          "2021-04-04T00:00:00",
          "2021-04-05T00:00:00",
          "2021-04-06T00:00:00",
          "2021-04-07T00:00:00",
          "2021-04-08T00:00:00",
          "2021-04-11T00:00:00",
          "2021-04-12T00:00:00",
          "2021-04-13T00:00:00",
          "2021-04-14T00:00:00",
          "2021-04-15T00:00:00",
          "2021-04-16T00:00:00",
          "2021-04-19T00:00:00",
          "2021-04-21T00:00:00",
          "2021-04-23T00:00:00",
          "2021-04-26T00:00:00",
          "2021-04-28T00:00:00",
          "2021-04-29T00:00:00",
          "2021-05-02T00:00:00",
          "2021-05-03T00:00:00",
          "2021-05-06T00:00:00",
          "2021-05-10T00:00:00",
          "2021-05-11T00:00:00",
          "2021-05-18T00:00:00",
          "2021-05-25T00:00:00",
          "2021-05-26T00:00:00",
          "2021-05-27T00:00:00",
          "2021-05-28T00:00:00",
          "2021-05-29T00:00:00",
          "2021-05-30T00:00:00",
          "2021-06-07T00:00:00",
          "2021-06-09T00:00:00",
          "2021-06-11T00:00:00",
          "2021-06-21T00:00:00",
          "2021-06-23T00:00:00",
          "2021-06-24T00:00:00",
          "2021-07-02T00:00:00",
          "2021-07-05T00:00:00",
          "2021-07-06T00:00:00",
          "2021-07-07T00:00:00",
          "2021-07-08T00:00:00",
          "2021-07-22T00:00:00",
          "2021-07-25T00:00:00",
          "2021-07-26T00:00:00",
          "2021-07-27T00:00:00",
          "2021-07-28T00:00:00",
          "2021-07-29T00:00:00",
          "2021-08-01T00:00:00",
          "2021-08-02T00:00:00",
          "2021-08-03T00:00:00",
          "2021-08-05T00:00:00",
          "2021-08-06T00:00:00",
          "2021-08-08T00:00:00",
          "2021-08-11T00:00:00",
          "2021-08-22T00:00:00",
          "2021-08-25T00:00:00",
          "2021-08-26T00:00:00",
          "2021-08-27T00:00:00",
          "2021-08-31T00:00:00",
          "2021-09-01T00:00:00",
          "2021-09-02T00:00:00",
          "2021-09-05T00:00:00",
          "2021-09-08T00:00:00",
          "2021-09-10T00:00:00",
          "2021-09-12T00:00:00",
          "2021-09-13T00:00:00",
          "2021-09-14T00:00:00",
          "2021-09-22T00:00:00",
          "2021-09-30T00:00:00",
          "2021-10-01T00:00:00",
          "2021-10-04T00:00:00",
          "2021-10-06T00:00:00",
          "2021-10-07T00:00:00",
          "2021-10-21T00:00:00",
          "2021-10-22T00:00:00",
          "2021-10-25T00:00:00",
          "2021-10-26T00:00:00",
          "2021-10-27T00:00:00",
          "2021-10-28T00:00:00",
          "2021-10-31T00:00:00",
          "2021-11-01T00:00:00",
          "2021-11-04T00:00:00",
          "2021-11-08T00:00:00",
          "2021-11-09T00:00:00",
          "2021-11-10T00:00:00",
          "2021-11-14T00:00:00",
          "2021-11-15T00:00:00",
          "2021-11-17T00:00:00",
          "2021-11-18T00:00:00",
          "2021-11-20T00:00:00",
          "2021-11-21T00:00:00",
          "2021-11-23T00:00:00",
          "2021-11-24T00:00:00",
          "2021-11-26T00:00:00",
          "2021-11-28T00:00:00",
          "2021-11-29T00:00:00",
          "2021-12-01T00:00:00",
          "2021-12-02T00:00:00",
          "2021-12-03T00:00:00",
          "2021-12-06T00:00:00",
          "2021-12-08T00:00:00",
          "2021-12-09T00:00:00",
          "2021-12-10T00:00:00",
          "2021-12-14T00:00:00",
          "2021-12-15T00:00:00",
          "2021-12-17T00:00:00",
          "2021-12-20T00:00:00",
          "2021-12-21T00:00:00",
          "2021-12-22T00:00:00",
          "2021-12-23T00:00:00",
          "2021-12-28T00:00:00",
          "2021-12-29T00:00:00",
          "2021-12-30T00:00:00",
          "2022-01-02T00:00:00",
          "2022-01-05T00:00:00",
          "2022-01-06T00:00:00",
          "2022-01-08T00:00:00",
          "2022-01-09T00:00:00",
          "2022-01-13T00:00:00",
          "2022-01-17T00:00:00",
          "2022-01-18T00:00:00",
          "2022-01-19T00:00:00",
          "2022-01-20T00:00:00",
          "2022-01-24T00:00:00",
          "2022-01-25T00:00:00",
          "2022-01-27T00:00:00",
          "2022-01-28T00:00:00",
          "2022-02-03T00:00:00",
          "2022-02-07T00:00:00",
          "2022-02-08T00:00:00",
          "2022-02-09T00:00:00",
          "2022-02-11T00:00:00",
          "2022-02-13T00:00:00",
          "2022-02-14T00:00:00",
          "2022-02-17T00:00:00",
          "2022-02-20T00:00:00",
          "2022-02-21T00:00:00",
          "2022-02-22T00:00:00",
          "2022-02-23T00:00:00",
          "2022-02-24T00:00:00",
          "2022-02-27T00:00:00",
          "2022-03-01T00:00:00",
          "2022-03-03T00:00:00",
          "2022-03-06T00:00:00",
          "2022-03-14T00:00:00",
          "2022-03-17T00:00:00",
          "2022-03-18T00:00:00",
          "2022-03-20T00:00:00",
          "2022-03-21T00:00:00",
          "2022-03-22T00:00:00",
          "2022-03-23T00:00:00",
          "2022-03-29T00:00:00",
          "2022-03-31T00:00:00",
          "2022-04-01T00:00:00",
          "2022-04-03T00:00:00",
          "2022-04-05T00:00:00",
          "2022-04-06T00:00:00",
          "2022-04-13T00:00:00",
          "2022-04-15T00:00:00",
          "2022-04-17T00:00:00",
          "2022-04-18T00:00:00",
          "2022-04-19T00:00:00",
          "2022-04-20T00:00:00",
          "2022-04-21T00:00:00",
          "2022-04-22T00:00:00",
          "2022-04-25T00:00:00",
          "2022-04-27T00:00:00",
          "2022-04-28T00:00:00",
          "2022-05-01T00:00:00",
          "2022-05-02T00:00:00",
          "2022-05-03T00:00:00",
          "2022-05-10T00:00:00",
          "2022-05-12T00:00:00",
          "2022-05-13T00:00:00",
          "2022-05-15T00:00:00",
          "2022-05-16T00:00:00",
          "2022-05-17T00:00:00",
          "2022-05-20T00:00:00",
          "2022-05-22T00:00:00",
          "2022-05-23T00:00:00",
          "2022-05-25T00:00:00",
          "2022-05-27T00:00:00",
          "2022-05-29T00:00:00",
          "2022-05-30T00:00:00",
          "2022-05-31T00:00:00",
          "2022-06-03T00:00:00",
          "2022-06-06T00:00:00",
          "2022-06-07T00:00:00",
          "2022-06-08T00:00:00",
          "2022-06-09T00:00:00",
          "2022-06-15T00:00:00",
          "2022-06-19T00:00:00",
          "2022-06-20T00:00:00",
          "2022-06-21T00:00:00",
          "2022-06-22T00:00:00",
          "2022-06-23T00:00:00",
          "2022-06-24T00:00:00",
          "2022-06-26T00:00:00",
          "2022-06-28T00:00:00",
          "2022-06-29T00:00:00",
          "2022-07-03T00:00:00",
          "2022-07-05T00:00:00",
          "2022-07-07T00:00:00",
          "2022-07-08T00:00:00",
          "2022-07-10T00:00:00",
          "2022-07-12T00:00:00",
          "2022-07-13T00:00:00",
          "2022-07-18T00:00:00",
          "2022-07-21T00:00:00",
          "2022-07-22T00:00:00",
          "2022-07-25T00:00:00",
          "2022-07-26T00:00:00",
          "2022-07-27T00:00:00",
          "2022-07-28T00:00:00",
          "2022-08-01T00:00:00",
          "2022-08-02T00:00:00",
          "2022-08-04T00:00:00",
          "2022-08-07T00:00:00",
          "2022-08-08T00:00:00",
          "2022-08-09T00:00:00",
          "2022-08-16T00:00:00",
          "2022-08-17T00:00:00",
          "2022-08-19T00:00:00",
          "2022-08-21T00:00:00",
          "2022-08-22T00:00:00",
          "2022-08-23T00:00:00",
          "2022-08-24T00:00:00",
          "2022-08-28T00:00:00",
          "2022-08-30T00:00:00",
          "2022-08-31T00:00:00",
          "2022-09-01T00:00:00",
          "2022-09-07T00:00:00",
          "2022-09-13T00:00:00",
          "2022-09-15T00:00:00",
          "2022-09-16T00:00:00",
          "2022-09-20T00:00:00",
          "2022-09-21T00:00:00",
          "2022-09-25T00:00:00",
          "2022-09-26T00:00:00",
          "2022-09-27T00:00:00",
          "2022-09-29T00:00:00",
          "2022-10-05T00:00:00",
          "2022-10-11T00:00:00",
          "2022-10-13T00:00:00",
          "2022-10-17T00:00:00",
          "2022-10-18T00:00:00",
          "2022-10-19T00:00:00",
          "2022-10-20T00:00:00",
          "2022-10-23T00:00:00",
          "2022-10-25T00:00:00",
          "2022-10-29T00:00:00",
          "2022-10-30T00:00:00",
          "2022-11-01T00:00:00",
          "2022-11-02T00:00:00",
          "2022-11-06T00:00:00",
          "2022-11-07T00:00:00",
          "2022-11-08T00:00:00",
          "2022-11-09T00:00:00",
          "2022-11-13T00:00:00",
          "2022-11-15T00:00:00",
          "2022-11-17T00:00:00",
          "2022-11-20T00:00:00",
          "2022-11-21T00:00:00",
          "2022-11-23T00:00:00",
          "2022-11-28T00:00:00",
          "2022-11-29T00:00:00",
          "2022-12-01T00:00:00",
          "2022-12-02T00:00:00",
          "2022-12-09T00:00:00",
          "2022-12-11T00:00:00",
          "2022-12-12T00:00:00",
          "2022-12-13T00:00:00",
          "2022-12-14T00:00:00",
          "2022-12-15T00:00:00",
          "2022-12-18T00:00:00",
          "2022-12-19T00:00:00",
          "2022-12-20T00:00:00",
          "2022-12-21T00:00:00",
          "2022-12-23T00:00:00",
          "2022-12-26T00:00:00",
          "2022-12-28T00:00:00",
          "2022-12-30T00:00:00",
          "2023-01-01T00:00:00",
          "2023-01-02T00:00:00",
          "2023-01-03T00:00:00",
          "2023-01-05T00:00:00",
          "2023-01-07T00:00:00",
          "2023-01-08T00:00:00",
          "2023-01-10T00:00:00",
          "2023-01-11T00:00:00",
          "2023-01-12T00:00:00",
          "2023-01-16T00:00:00",
          "2023-01-17T00:00:00",
          "2023-01-18T00:00:00",
          "2023-01-22T00:00:00",
          "2023-01-24T00:00:00",
          "2023-01-25T00:00:00",
          "2023-01-26T00:00:00",
          "2023-01-29T00:00:00",
          "2023-01-30T00:00:00",
          "2023-02-01T00:00:00",
          "2023-02-03T00:00:00",
          "2023-02-07T00:00:00",
          "2023-02-12T00:00:00",
          "2023-02-14T00:00:00",
          "2023-02-19T00:00:00",
          "2023-02-22T00:00:00",
          "2023-02-23T00:00:00",
          "2023-03-02T00:00:00",
          "2023-03-07T00:00:00",
          "2023-03-08T00:00:00",
          "2023-03-13T00:00:00",
          "2023-03-14T00:00:00",
          "2023-03-15T00:00:00",
          "2023-03-16T00:00:00",
          "2023-03-20T00:00:00",
          "2023-03-21T00:00:00",
          "2023-03-22T00:00:00",
          "2023-03-23T00:00:00",
          "2023-03-26T00:00:00",
          "2023-03-28T00:00:00",
          "2023-03-29T00:00:00",
          "2023-03-31T00:00:00",
          "2023-04-02T00:00:00",
          "2023-04-03T00:00:00",
          "2023-04-04T00:00:00",
          "2023-04-06T00:00:00",
          "2023-04-09T00:00:00",
          "2023-04-10T00:00:00",
          "2023-04-11T00:00:00",
          "2023-04-12T00:00:00",
          "2023-04-13T00:00:00",
          "2023-04-17T00:00:00",
          "2023-04-19T00:00:00",
          "2023-04-20T00:00:00",
          "2023-04-25T00:00:00",
          "2023-04-27T00:00:00",
          "2023-05-01T00:00:00",
          "2023-05-02T00:00:00",
          "2023-05-04T00:00:00",
          "2023-05-07T00:00:00",
          "2023-05-08T00:00:00",
          "2023-05-09T00:00:00",
          "2023-05-10T00:00:00",
          "2023-05-11T00:00:00",
          "2023-05-12T00:00:00",
          "2023-05-15T00:00:00",
          "2023-05-18T00:00:00",
          "2023-05-19T00:00:00",
          "2023-05-23T00:00:00",
          "2023-05-24T00:00:00",
          "2023-05-25T00:00:00",
          "2023-05-26T00:00:00",
          "2023-05-29T00:00:00",
          "2023-05-30T00:00:00",
          "2023-05-31T00:00:00",
          "2023-06-01T00:00:00",
          "2023-06-02T00:00:00",
          "2023-06-04T00:00:00",
          "2023-06-05T00:00:00",
          "2023-06-06T00:00:00",
          "2023-06-07T00:00:00",
          "2023-06-08T00:00:00",
          "2023-06-11T00:00:00",
          "2023-06-12T00:00:00",
          "2023-06-15T00:00:00",
          "2023-06-18T00:00:00",
          "2023-06-20T00:00:00",
          "2023-06-21T00:00:00",
          "2023-06-22T00:00:00",
          "2023-06-25T00:00:00",
          "2023-06-26T00:00:00",
          "2023-06-27T00:00:00",
          "2023-06-30T00:00:00",
          "2023-07-04T00:00:00",
          "2023-07-06T00:00:00",
          "2023-07-08T00:00:00",
          "2023-07-11T00:00:00",
          "2023-07-17T00:00:00",
          "2023-07-19T00:00:00",
          "2023-07-20T00:00:00",
          "2023-07-21T00:00:00",
          "2023-07-23T00:00:00",
          "2023-07-25T00:00:00",
          "2023-07-26T00:00:00",
          "2023-08-01T00:00:00",
          "2023-08-02T00:00:00",
          "2023-08-03T00:00:00",
          "2023-08-07T00:00:00",
          "2023-08-09T00:00:00",
          "2023-08-13T00:00:00",
          "2023-08-14T00:00:00",
          "2023-08-16T00:00:00",
          "2023-08-17T00:00:00",
          "2023-08-20T00:00:00",
          "2023-08-21T00:00:00",
          "2023-08-22T00:00:00",
          "2023-08-23T00:00:00",
          "2023-08-25T00:00:00",
          "2023-08-26T00:00:00",
          "2023-08-27T00:00:00",
          "2023-08-28T00:00:00",
          "2023-08-29T00:00:00",
          "2023-08-31T00:00:00",
          "2023-09-03T00:00:00",
          "2023-09-04T00:00:00",
          "2023-09-05T00:00:00",
          "2023-09-07T00:00:00",
          "2023-09-10T00:00:00",
          "2023-09-12T00:00:00",
          "2023-09-13T00:00:00",
          "2023-09-18T00:00:00",
          "2023-09-19T00:00:00",
          "2023-09-21T00:00:00",
          "2023-09-24T00:00:00",
          "2023-09-26T00:00:00",
          "2023-09-28T00:00:00",
          "2023-10-04T00:00:00",
          "2023-10-05T00:00:00",
          "2023-10-06T00:00:00",
          "2023-10-08T00:00:00",
          "2023-10-14T00:00:00",
          "2023-10-16T00:00:00",
          "2023-10-17T00:00:00",
          "2023-10-18T00:00:00",
          "2023-10-20T00:00:00",
          "2023-10-25T00:00:00",
          "2023-10-26T00:00:00",
          "2023-10-30T00:00:00",
          "2023-10-31T00:00:00",
          "2023-11-02T00:00:00",
          "2023-11-03T00:00:00",
          "2023-11-05T00:00:00",
          "2023-11-06T00:00:00",
          "2023-11-07T00:00:00",
          "2023-11-08T00:00:00",
          "2023-11-09T00:00:00",
          "2023-11-10T00:00:00",
          "2023-11-16T00:00:00",
          "2023-11-20T00:00:00",
          "2023-11-21T00:00:00",
          "2023-11-22T00:00:00",
          "2023-11-23T00:00:00",
          "2023-11-27T00:00:00"
         ],
         "y": [
          1,
          2,
          1,
          1,
          1,
          1,
          3,
          1,
          1,
          3,
          2,
          2,
          4,
          1,
          1,
          2,
          2,
          2,
          1,
          1,
          2,
          2,
          1,
          1,
          1,
          1,
          2,
          1,
          6,
          4,
          2,
          1,
          1,
          1,
          2,
          3,
          1,
          1,
          1,
          1,
          1,
          2,
          1,
          2,
          1,
          1,
          3,
          2,
          2,
          1,
          2,
          1,
          2,
          1,
          2,
          1,
          2,
          1,
          1,
          1,
          1,
          1,
          1,
          1,
          1,
          3,
          1,
          1,
          2,
          1,
          1,
          1,
          1,
          3,
          2,
          1,
          1,
          1,
          4,
          5,
          3,
          3,
          5,
          4,
          4,
          2,
          1,
          1,
          2,
          1,
          1,
          1,
          1,
          2,
          2,
          1,
          1,
          3,
          1,
          1,
          3,
          3,
          1,
          3,
          1,
          1,
          1,
          2,
          2,
          2,
          2,
          2,
          1,
          1,
          2,
          1,
          3,
          2,
          1,
          1,
          1,
          1,
          3,
          1,
          1,
          2,
          2,
          6,
          2,
          1,
          1,
          1,
          2,
          2,
          1,
          4,
          4,
          1,
          2,
          2,
          3,
          2,
          1,
          1,
          6,
          1,
          5,
          1,
          1,
          1,
          2,
          1,
          1,
          1,
          1,
          2,
          1,
          1,
          3,
          1,
          1,
          1,
          3,
          1,
          1,
          1,
          1,
          1,
          2,
          1,
          1,
          2,
          1,
          2,
          1,
          1,
          2,
          1,
          1,
          1,
          3,
          3,
          2,
          4,
          3,
          3,
          1,
          1,
          2,
          3,
          1,
          2,
          1,
          3,
          5,
          2,
          1,
          1,
          5,
          1,
          8,
          4,
          5,
          2,
          1,
          2,
          4,
          1,
          3,
          3,
          2,
          2,
          1,
          1,
          3,
          3,
          1,
          1,
          1,
          1,
          1,
          4,
          2,
          3,
          3,
          3,
          1,
          3,
          2,
          2,
          1,
          2,
          1,
          2,
          3,
          2,
          2,
          1,
          1,
          1,
          3,
          1,
          2,
          2,
          5,
          1,
          2,
          2,
          1,
          12,
          1,
          1,
          5,
          1,
          2,
          2,
          2,
          1,
          2,
          3,
          8,
          1,
          1,
          1,
          3,
          2,
          1,
          3,
          1,
          1,
          1,
          1,
          1,
          1,
          2,
          1,
          1,
          3,
          2,
          1,
          1,
          1,
          3,
          3,
          2,
          1,
          3,
          2,
          3,
          2,
          1,
          1,
          1,
          1,
          1,
          3,
          1,
          1,
          1,
          2,
          1,
          5,
          1,
          1,
          1,
          1,
          1,
          1,
          1,
          1,
          1,
          4,
          1,
          1,
          1,
          2,
          1,
          1,
          2,
          2,
          1,
          1,
          2,
          1,
          1,
          1,
          1,
          1,
          1,
          1,
          2,
          5,
          4,
          2,
          1,
          1,
          1,
          2,
          1,
          1,
          1,
          5,
          1,
          1,
          1,
          3,
          1,
          1,
          1,
          1,
          2,
          1,
          3,
          1,
          1,
          1,
          3,
          2,
          3,
          2,
          1,
          1,
          3,
          3,
          1,
          1,
          1,
          3,
          2,
          2,
          1,
          2,
          2,
          3,
          1,
          3,
          2,
          2,
          2,
          4,
          1,
          2,
          1,
          1,
          3,
          4,
          1,
          1,
          1,
          2,
          1,
          3,
          1,
          2,
          1,
          1,
          1,
          2,
          1,
          1,
          1,
          1,
          4,
          4,
          1,
          1,
          3,
          1,
          2,
          1,
          1,
          1,
          2,
          3,
          2,
          6,
          1,
          1,
          1,
          2,
          1,
          1,
          7,
          1,
          1,
          2,
          1,
          6,
          2,
          1,
          2,
          2,
          1,
          1,
          1,
          1,
          2,
          1,
          1,
          1,
          6,
          4,
          2,
          1,
          2,
          2,
          1,
          1,
          5,
          1,
          2,
          1,
          1,
          3,
          1,
          1,
          1,
          5,
          6,
          2,
          1,
          10,
          1,
          7,
          8,
          1,
          2,
          2,
          3,
          1,
          1,
          4,
          1,
          1,
          1,
          3,
          2,
          1,
          1
         ]
        }
       ],
       "layout": {
        "height": 450,
        "hoverlabel": {
         "bgcolor": "white",
         "font": {
          "family": "Rockwell",
          "size": 16
         }
        },
        "legend": {
         "title": {
          "text": "<b>Global Topic Representation"
         }
        },
        "template": {
         "data": {
          "bar": [
           {
            "error_x": {
             "color": "rgb(36,36,36)"
            },
            "error_y": {
             "color": "rgb(36,36,36)"
            },
            "marker": {
             "line": {
              "color": "white",
              "width": 0.5
             },
             "pattern": {
              "fillmode": "overlay",
              "size": 10,
              "solidity": 0.2
             }
            },
            "type": "bar"
           }
          ],
          "barpolar": [
           {
            "marker": {
             "line": {
              "color": "white",
              "width": 0.5
             },
             "pattern": {
              "fillmode": "overlay",
              "size": 10,
              "solidity": 0.2
             }
            },
            "type": "barpolar"
           }
          ],
          "carpet": [
           {
            "aaxis": {
             "endlinecolor": "rgb(36,36,36)",
             "gridcolor": "white",
             "linecolor": "white",
             "minorgridcolor": "white",
             "startlinecolor": "rgb(36,36,36)"
            },
            "baxis": {
             "endlinecolor": "rgb(36,36,36)",
             "gridcolor": "white",
             "linecolor": "white",
             "minorgridcolor": "white",
             "startlinecolor": "rgb(36,36,36)"
            },
            "type": "carpet"
           }
          ],
          "choropleth": [
           {
            "colorbar": {
             "outlinewidth": 1,
             "tickcolor": "rgb(36,36,36)",
             "ticks": "outside"
            },
            "type": "choropleth"
           }
          ],
          "contour": [
           {
            "colorbar": {
             "outlinewidth": 1,
             "tickcolor": "rgb(36,36,36)",
             "ticks": "outside"
            },
            "colorscale": [
             [
              0,
              "#440154"
             ],
             [
              0.1111111111111111,
              "#482878"
             ],
             [
              0.2222222222222222,
              "#3e4989"
             ],
             [
              0.3333333333333333,
              "#31688e"
             ],
             [
              0.4444444444444444,
              "#26828e"
             ],
             [
              0.5555555555555556,
              "#1f9e89"
             ],
             [
              0.6666666666666666,
              "#35b779"
             ],
             [
              0.7777777777777778,
              "#6ece58"
             ],
             [
              0.8888888888888888,
              "#b5de2b"
             ],
             [
              1,
              "#fde725"
             ]
            ],
            "type": "contour"
           }
          ],
          "contourcarpet": [
           {
            "colorbar": {
             "outlinewidth": 1,
             "tickcolor": "rgb(36,36,36)",
             "ticks": "outside"
            },
            "type": "contourcarpet"
           }
          ],
          "heatmap": [
           {
            "colorbar": {
             "outlinewidth": 1,
             "tickcolor": "rgb(36,36,36)",
             "ticks": "outside"
            },
            "colorscale": [
             [
              0,
              "#440154"
             ],
             [
              0.1111111111111111,
              "#482878"
             ],
             [
              0.2222222222222222,
              "#3e4989"
             ],
             [
              0.3333333333333333,
              "#31688e"
             ],
             [
              0.4444444444444444,
              "#26828e"
             ],
             [
              0.5555555555555556,
              "#1f9e89"
             ],
             [
              0.6666666666666666,
              "#35b779"
             ],
             [
              0.7777777777777778,
              "#6ece58"
             ],
             [
              0.8888888888888888,
              "#b5de2b"
             ],
             [
              1,
              "#fde725"
             ]
            ],
            "type": "heatmap"
           }
          ],
          "heatmapgl": [
           {
            "colorbar": {
             "outlinewidth": 1,
             "tickcolor": "rgb(36,36,36)",
             "ticks": "outside"
            },
            "colorscale": [
             [
              0,
              "#440154"
             ],
             [
              0.1111111111111111,
              "#482878"
             ],
             [
              0.2222222222222222,
              "#3e4989"
             ],
             [
              0.3333333333333333,
              "#31688e"
             ],
             [
              0.4444444444444444,
              "#26828e"
             ],
             [
              0.5555555555555556,
              "#1f9e89"
             ],
             [
              0.6666666666666666,
              "#35b779"
             ],
             [
              0.7777777777777778,
              "#6ece58"
             ],
             [
              0.8888888888888888,
              "#b5de2b"
             ],
             [
              1,
              "#fde725"
             ]
            ],
            "type": "heatmapgl"
           }
          ],
          "histogram": [
           {
            "marker": {
             "line": {
              "color": "white",
              "width": 0.6
             }
            },
            "type": "histogram"
           }
          ],
          "histogram2d": [
           {
            "colorbar": {
             "outlinewidth": 1,
             "tickcolor": "rgb(36,36,36)",
             "ticks": "outside"
            },
            "colorscale": [
             [
              0,
              "#440154"
             ],
             [
              0.1111111111111111,
              "#482878"
             ],
             [
              0.2222222222222222,
              "#3e4989"
             ],
             [
              0.3333333333333333,
              "#31688e"
             ],
             [
              0.4444444444444444,
              "#26828e"
             ],
             [
              0.5555555555555556,
              "#1f9e89"
             ],
             [
              0.6666666666666666,
              "#35b779"
             ],
             [
              0.7777777777777778,
              "#6ece58"
             ],
             [
              0.8888888888888888,
              "#b5de2b"
             ],
             [
              1,
              "#fde725"
             ]
            ],
            "type": "histogram2d"
           }
          ],
          "histogram2dcontour": [
           {
            "colorbar": {
             "outlinewidth": 1,
             "tickcolor": "rgb(36,36,36)",
             "ticks": "outside"
            },
            "colorscale": [
             [
              0,
              "#440154"
             ],
             [
              0.1111111111111111,
              "#482878"
             ],
             [
              0.2222222222222222,
              "#3e4989"
             ],
             [
              0.3333333333333333,
              "#31688e"
             ],
             [
              0.4444444444444444,
              "#26828e"
             ],
             [
              0.5555555555555556,
              "#1f9e89"
             ],
             [
              0.6666666666666666,
              "#35b779"
             ],
             [
              0.7777777777777778,
              "#6ece58"
             ],
             [
              0.8888888888888888,
              "#b5de2b"
             ],
             [
              1,
              "#fde725"
             ]
            ],
            "type": "histogram2dcontour"
           }
          ],
          "mesh3d": [
           {
            "colorbar": {
             "outlinewidth": 1,
             "tickcolor": "rgb(36,36,36)",
             "ticks": "outside"
            },
            "type": "mesh3d"
           }
          ],
          "parcoords": [
           {
            "line": {
             "colorbar": {
              "outlinewidth": 1,
              "tickcolor": "rgb(36,36,36)",
              "ticks": "outside"
             }
            },
            "type": "parcoords"
           }
          ],
          "pie": [
           {
            "automargin": true,
            "type": "pie"
           }
          ],
          "scatter": [
           {
            "fillpattern": {
             "fillmode": "overlay",
             "size": 10,
             "solidity": 0.2
            },
            "type": "scatter"
           }
          ],
          "scatter3d": [
           {
            "line": {
             "colorbar": {
              "outlinewidth": 1,
              "tickcolor": "rgb(36,36,36)",
              "ticks": "outside"
             }
            },
            "marker": {
             "colorbar": {
              "outlinewidth": 1,
              "tickcolor": "rgb(36,36,36)",
              "ticks": "outside"
             }
            },
            "type": "scatter3d"
           }
          ],
          "scattercarpet": [
           {
            "marker": {
             "colorbar": {
              "outlinewidth": 1,
              "tickcolor": "rgb(36,36,36)",
              "ticks": "outside"
             }
            },
            "type": "scattercarpet"
           }
          ],
          "scattergeo": [
           {
            "marker": {
             "colorbar": {
              "outlinewidth": 1,
              "tickcolor": "rgb(36,36,36)",
              "ticks": "outside"
             }
            },
            "type": "scattergeo"
           }
          ],
          "scattergl": [
           {
            "marker": {
             "colorbar": {
              "outlinewidth": 1,
              "tickcolor": "rgb(36,36,36)",
              "ticks": "outside"
             }
            },
            "type": "scattergl"
           }
          ],
          "scattermapbox": [
           {
            "marker": {
             "colorbar": {
              "outlinewidth": 1,
              "tickcolor": "rgb(36,36,36)",
              "ticks": "outside"
             }
            },
            "type": "scattermapbox"
           }
          ],
          "scatterpolar": [
           {
            "marker": {
             "colorbar": {
              "outlinewidth": 1,
              "tickcolor": "rgb(36,36,36)",
              "ticks": "outside"
             }
            },
            "type": "scatterpolar"
           }
          ],
          "scatterpolargl": [
           {
            "marker": {
             "colorbar": {
              "outlinewidth": 1,
              "tickcolor": "rgb(36,36,36)",
              "ticks": "outside"
             }
            },
            "type": "scatterpolargl"
           }
          ],
          "scatterternary": [
           {
            "marker": {
             "colorbar": {
              "outlinewidth": 1,
              "tickcolor": "rgb(36,36,36)",
              "ticks": "outside"
             }
            },
            "type": "scatterternary"
           }
          ],
          "surface": [
           {
            "colorbar": {
             "outlinewidth": 1,
             "tickcolor": "rgb(36,36,36)",
             "ticks": "outside"
            },
            "colorscale": [
             [
              0,
              "#440154"
             ],
             [
              0.1111111111111111,
              "#482878"
             ],
             [
              0.2222222222222222,
              "#3e4989"
             ],
             [
              0.3333333333333333,
              "#31688e"
             ],
             [
              0.4444444444444444,
              "#26828e"
             ],
             [
              0.5555555555555556,
              "#1f9e89"
             ],
             [
              0.6666666666666666,
              "#35b779"
             ],
             [
              0.7777777777777778,
              "#6ece58"
             ],
             [
              0.8888888888888888,
              "#b5de2b"
             ],
             [
              1,
              "#fde725"
             ]
            ],
            "type": "surface"
           }
          ],
          "table": [
           {
            "cells": {
             "fill": {
              "color": "rgb(237,237,237)"
             },
             "line": {
              "color": "white"
             }
            },
            "header": {
             "fill": {
              "color": "rgb(217,217,217)"
             },
             "line": {
              "color": "white"
             }
            },
            "type": "table"
           }
          ]
         },
         "layout": {
          "annotationdefaults": {
           "arrowhead": 0,
           "arrowwidth": 1
          },
          "autotypenumbers": "strict",
          "coloraxis": {
           "colorbar": {
            "outlinewidth": 1,
            "tickcolor": "rgb(36,36,36)",
            "ticks": "outside"
           }
          },
          "colorscale": {
           "diverging": [
            [
             0,
             "rgb(103,0,31)"
            ],
            [
             0.1,
             "rgb(178,24,43)"
            ],
            [
             0.2,
             "rgb(214,96,77)"
            ],
            [
             0.3,
             "rgb(244,165,130)"
            ],
            [
             0.4,
             "rgb(253,219,199)"
            ],
            [
             0.5,
             "rgb(247,247,247)"
            ],
            [
             0.6,
             "rgb(209,229,240)"
            ],
            [
             0.7,
             "rgb(146,197,222)"
            ],
            [
             0.8,
             "rgb(67,147,195)"
            ],
            [
             0.9,
             "rgb(33,102,172)"
            ],
            [
             1,
             "rgb(5,48,97)"
            ]
           ],
           "sequential": [
            [
             0,
             "#440154"
            ],
            [
             0.1111111111111111,
             "#482878"
            ],
            [
             0.2222222222222222,
             "#3e4989"
            ],
            [
             0.3333333333333333,
             "#31688e"
            ],
            [
             0.4444444444444444,
             "#26828e"
            ],
            [
             0.5555555555555556,
             "#1f9e89"
            ],
            [
             0.6666666666666666,
             "#35b779"
            ],
            [
             0.7777777777777778,
             "#6ece58"
            ],
            [
             0.8888888888888888,
             "#b5de2b"
            ],
            [
             1,
             "#fde725"
            ]
           ],
           "sequentialminus": [
            [
             0,
             "#440154"
            ],
            [
             0.1111111111111111,
             "#482878"
            ],
            [
             0.2222222222222222,
             "#3e4989"
            ],
            [
             0.3333333333333333,
             "#31688e"
            ],
            [
             0.4444444444444444,
             "#26828e"
            ],
            [
             0.5555555555555556,
             "#1f9e89"
            ],
            [
             0.6666666666666666,
             "#35b779"
            ],
            [
             0.7777777777777778,
             "#6ece58"
            ],
            [
             0.8888888888888888,
             "#b5de2b"
            ],
            [
             1,
             "#fde725"
            ]
           ]
          },
          "colorway": [
           "#1F77B4",
           "#FF7F0E",
           "#2CA02C",
           "#D62728",
           "#9467BD",
           "#8C564B",
           "#E377C2",
           "#7F7F7F",
           "#BCBD22",
           "#17BECF"
          ],
          "font": {
           "color": "rgb(36,36,36)"
          },
          "geo": {
           "bgcolor": "white",
           "lakecolor": "white",
           "landcolor": "white",
           "showlakes": true,
           "showland": true,
           "subunitcolor": "white"
          },
          "hoverlabel": {
           "align": "left"
          },
          "hovermode": "closest",
          "mapbox": {
           "style": "light"
          },
          "paper_bgcolor": "white",
          "plot_bgcolor": "white",
          "polar": {
           "angularaxis": {
            "gridcolor": "rgb(232,232,232)",
            "linecolor": "rgb(36,36,36)",
            "showgrid": false,
            "showline": true,
            "ticks": "outside"
           },
           "bgcolor": "white",
           "radialaxis": {
            "gridcolor": "rgb(232,232,232)",
            "linecolor": "rgb(36,36,36)",
            "showgrid": false,
            "showline": true,
            "ticks": "outside"
           }
          },
          "scene": {
           "xaxis": {
            "backgroundcolor": "white",
            "gridcolor": "rgb(232,232,232)",
            "gridwidth": 2,
            "linecolor": "rgb(36,36,36)",
            "showbackground": true,
            "showgrid": false,
            "showline": true,
            "ticks": "outside",
            "zeroline": false,
            "zerolinecolor": "rgb(36,36,36)"
           },
           "yaxis": {
            "backgroundcolor": "white",
            "gridcolor": "rgb(232,232,232)",
            "gridwidth": 2,
            "linecolor": "rgb(36,36,36)",
            "showbackground": true,
            "showgrid": false,
            "showline": true,
            "ticks": "outside",
            "zeroline": false,
            "zerolinecolor": "rgb(36,36,36)"
           },
           "zaxis": {
            "backgroundcolor": "white",
            "gridcolor": "rgb(232,232,232)",
            "gridwidth": 2,
            "linecolor": "rgb(36,36,36)",
            "showbackground": true,
            "showgrid": false,
            "showline": true,
            "ticks": "outside",
            "zeroline": false,
            "zerolinecolor": "rgb(36,36,36)"
           }
          },
          "shapedefaults": {
           "fillcolor": "black",
           "line": {
            "width": 0
           },
           "opacity": 0.3
          },
          "ternary": {
           "aaxis": {
            "gridcolor": "rgb(232,232,232)",
            "linecolor": "rgb(36,36,36)",
            "showgrid": false,
            "showline": true,
            "ticks": "outside"
           },
           "baxis": {
            "gridcolor": "rgb(232,232,232)",
            "linecolor": "rgb(36,36,36)",
            "showgrid": false,
            "showline": true,
            "ticks": "outside"
           },
           "bgcolor": "white",
           "caxis": {
            "gridcolor": "rgb(232,232,232)",
            "linecolor": "rgb(36,36,36)",
            "showgrid": false,
            "showline": true,
            "ticks": "outside"
           }
          },
          "title": {
           "x": 0.05
          },
          "xaxis": {
           "automargin": true,
           "gridcolor": "rgb(232,232,232)",
           "linecolor": "rgb(36,36,36)",
           "showgrid": false,
           "showline": true,
           "ticks": "outside",
           "title": {
            "standoff": 15
           },
           "zeroline": false,
           "zerolinecolor": "rgb(36,36,36)"
          },
          "yaxis": {
           "automargin": true,
           "gridcolor": "rgb(232,232,232)",
           "linecolor": "rgb(36,36,36)",
           "showgrid": false,
           "showline": true,
           "ticks": "outside",
           "title": {
            "standoff": 15
           },
           "zeroline": false,
           "zerolinecolor": "rgb(36,36,36)"
          }
         }
        },
        "title": {
         "font": {
          "color": "Black",
          "size": 22
         },
         "text": "<b>Topics over Time</b>",
         "x": 0.4,
         "xanchor": "center",
         "y": 0.95,
         "yanchor": "top"
        },
        "width": 1250,
        "xaxis": {
         "showgrid": true
        },
        "yaxis": {
         "showgrid": true,
         "title": {
          "text": "Frequency"
         }
        }
       }
      }
     },
     "metadata": {},
     "output_type": "display_data"
    }
   ],
   "source": [
    "model.visualize_topics_over_time(topics_over_time, topics=[0])"
   ]
  },
  {
   "cell_type": "markdown",
   "metadata": {},
   "source": [
    "## 워드클라우드 생성"
   ]
  },
  {
   "cell_type": "code",
   "execution_count": 49,
   "metadata": {},
   "outputs": [
    {
     "data": {
      "image/png": "[encoded data removed]",
      "text/plain": [
       "<Figure size 640x480 with 1 Axes>"
      ]
     },
     "metadata": {},
     "output_type": "display_data"
    }
   ],
   "source": [
    "def create_wordcloud(model, topic):\n",
    "    text = {word: value for word, value in model.get_topic(topic)}\n",
    "    wc = WordCloud(background_color=\"white\", max_words=1000, font_path=\"C:/Windows/Fonts/malgun.ttf\")\n",
    "    wc.generate_from_frequencies(text)\n",
    "    plt.imshow(wc, interpolation=\"bilinear\")\n",
    "    plt.axis(\"off\")\n",
    "    plt.show()\n",
    "\n",
    "create_wordcloud(model, topic=5)"
   ]
  },
  {
   "cell_type": "markdown",
   "metadata": {},
   "source": [
    "## 문서 예측"
   ]
  },
  {
   "cell_type": "code",
   "execution_count": 47,
   "metadata": {},
   "outputs": [
    {
     "name": "stdout",
     "output_type": "stream",
     "text": [
      "['전라남도는 연말연시를 맞아 저소득 취약계층 5000여명에 수산물 꾸러미를 전달한다고 26일 밝혔다.', '재원은 해양수산부 수산물 꾸러미 지원사업 공모 선정으로 확보한 국비 1억 3000만원 등을 사용한다.', '수산물 꾸러미는 가정에서 요리하기 편한 대중적 수산물로, 건강까지 챙길 수 있는 굴비와 자숙 전복, 김, 미역, 자반 등 5만원 상당으로 구성됐다.', '지원 대상은 전남에 주민등록 주소를 둔 자활 참여자, 장애인 복지관 이용자, 장애인 주간 보호시설 이용자, 장애인 직업 재활시설 이용자 등 5306명이다. 27일부터 공급할 계획이다.', '김영록 전남지사는 \"수산물 꾸러미 사업은 취약계층의 건강도 챙기고 수산물의 판로 확대로 어가 소득도 향상되는 일석이조 사업\"이라며 \"향후 사업을 확대해 다양한 계층에게 공급되도록 노력하겠다\"고 말했다.']\n"
     ]
    }
   ],
   "source": [
    "with open('./data/new_docs.txt', encoding= 'utf-8') as f:\n",
    "    test_doc = []\n",
    "    for w in f:\n",
    "        test_doc.append(w.strip())\n",
    "\n",
    "print(test_doc)"
   ]
  },
  {
   "cell_type": "code",
   "execution_count": 48,
   "metadata": {},
   "outputs": [
    {
     "name": "stdout",
     "output_type": "stream",
     "text": [
      "예측한 토픽 번호 : [5]\n"
     ]
    }
   ],
   "source": [
    "topics, probs = model.transform([test_doc])\n",
    "print('예측한 토픽 번호 :', topics)"
   ]
  },
  {
   "cell_type": "markdown",
   "metadata": {},
   "source": [
    "## 모델 저장"
   ]
  },
  {
   "cell_type": "code",
   "execution_count": 58,
   "metadata": {},
   "outputs": [],
   "source": [
    "model.save('bertopic_results', serialization='safetensors')"
   ]
  },
  {
   "cell_type": "markdown",
   "metadata": {},
   "source": [
    "## 불러오기"
   ]
  },
  {
   "cell_type": "code",
   "execution_count": 59,
   "metadata": {},
   "outputs": [],
   "source": [
    "BerTopic_model = BERTopic.load(\"bertopic_results\")"
   ]
  }
 ],
 "metadata": {
  "kernelspec": {
   "display_name": "bertopic",
   "language": "python",
   "name": "python3"
  },
  "language_info": {
   "codemirror_mode": {
    "name": "ipython",
    "version": 3
   },
   "file_extension": ".py",
   "mimetype": "text/x-python",
   "name": "python",
   "nbconvert_exporter": "python",
   "pygments_lexer": "ipython3",
   "version": "3.11.7"
  }
 },
 "nbformat": 4,
 "nbformat_minor": 2
}
